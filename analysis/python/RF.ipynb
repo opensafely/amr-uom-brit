{
 "cells": [
  {
   "attachments": {},
   "cell_type": "markdown",
   "metadata": {},
   "source": [
    "# Random Forest Modelling for COVID hospitalisation\n",
    "\n",
    "case= covid hospitalisation; control= covid infection"
   ]
  },
  {
   "cell_type": "code",
   "execution_count": null,
   "metadata": {},
   "outputs": [
    {
     "ename": "",
     "evalue": "",
     "output_type": "error",
     "traceback": [
      "\u001b[1;31mRunning cells with '/Users/yayang/.pyenv/versions/3.9.1/bin/python' requires the ipykernel package.\n",
      "\u001b[1;31mRun the following command to install 'ipykernel' into the Python environment. \n",
      "\u001b[1;31mCommand: '/Users/yayang/.pyenv/versions/3.9.1/bin/python -m pip install ipykernel -U --force-reinstall'"
     ]
    }
   ],
   "source": [
    "import pandas as pd\n",
    "import numpy as np\n",
    "import seaborn as sns\n",
    "import math\n",
    "import matplotlib.pyplot as plt\n",
    "import matplotlib\n",
    "from matplotlib import pyplot\n",
    "from sklearn.ensemble import RandomForestClassifier\n",
    "from sklearn.model_selection import train_test_split\n",
    "from sklearn.datasets import make_classification\n",
    "from sklearn.metrics import roc_curve, roc_auc_score\n",
    "from sklearn.metrics import brier_score_loss\n",
    "from sklearn.metrics import accuracy_score\n",
    "from sklearn.model_selection import GridSearchCV\n",
    "# from sklearn.ensemble import RandomForestRegressor\n",
    "# from sklearn.datasets import make_regression\n",
    "import pickle\n",
    "#import shap"
   ]
  },
  {
   "cell_type": "markdown",
   "metadata": {},
   "source": [
    "## 1- data preparation"
   ]
  },
  {
   "cell_type": "code",
   "execution_count": null,
   "metadata": {},
   "outputs": [
    {
     "ename": "",
     "evalue": "",
     "output_type": "error",
     "traceback": [
      "\u001b[1;31mRunning cells with '/Users/yayang/.pyenv/versions/3.9.1/bin/python' requires the ipykernel package.\n",
      "\u001b[1;31mRun the following command to install 'ipykernel' into the Python environment. \n",
      "\u001b[1;31mCommand: '/Users/yayang/.pyenv/versions/3.9.1/bin/python -m pip install ipykernel -U --force-reinstall'"
     ]
    }
   ],
   "source": [
    "data = pd.read_csv(f'../../output/train_cat.csv')\n",
    "\n",
    "data.shape\n",
    "data.info()\n",
    "print(list(data.columns))"
   ]
  },
  {
   "cell_type": "code",
   "execution_count": null,
   "metadata": {},
   "outputs": [
    {
     "ename": "",
     "evalue": "",
     "output_type": "error",
     "traceback": [
      "\u001b[1;31mRunning cells with '/Users/yayang/.pyenv/versions/3.9.1/bin/python' requires the ipykernel package.\n",
      "\u001b[1;31mRun the following command to install 'ipykernel' into the Python environment. \n",
      "\u001b[1;31mCommand: '/Users/yayang/.pyenv/versions/3.9.1/bin/python -m pip install ipykernel -U --force-reinstall'"
     ]
    }
   ],
   "source": [
    "y_data = data['case']\n",
    "\n",
    "x_data = data[[\"total_ab_group\",\"ab_types_group\",\n",
    "      \"exposure_period_group\",\"recent_ab_days_group\",\n",
    "      \"broad_ab_prescriptions_group\",\n",
    "    \"interval_mean_group\",\"interval_sd_group\"]]\n",
    "\n",
    "#print(f'x_data: {x_data.shape}')\n",
    "#print(f'y_data: {y_data.shape}')"
   ]
  },
  {
   "attachments": {},
   "cell_type": "markdown",
   "metadata": {},
   "source": [
    "### 2-simple RF"
   ]
  },
  {
   "cell_type": "code",
   "execution_count": null,
   "metadata": {},
   "outputs": [
    {
     "ename": "",
     "evalue": "",
     "output_type": "error",
     "traceback": [
      "\u001b[1;31mRunning cells with '/Users/yayang/.pyenv/versions/3.9.1/bin/python' requires the ipykernel package.\n",
      "\u001b[1;31mRun the following command to install 'ipykernel' into the Python environment. \n",
      "\u001b[1;31mCommand: '/Users/yayang/.pyenv/versions/3.9.1/bin/python -m pip install ipykernel -U --force-reinstall'"
     ]
    }
   ],
   "source": [
    "rf_model = RandomForestClassifier(n_estimators=500, max_leaf_nodes=50, max_depth=25)\n",
    "rf_model.fit(x_data, y_data)\n",
    "\n",
    "print(f'RF accuracy: {rf_model.score(x_data, y_data):.2f}')\n",
    "\n",
    "data['pred_rf'] = rf_model.predict_proba(x_data)[:,1]\n",
    "#data['pred_rf'].shape\n",
    "data['pred_rf'].mean()\n",
    "##print(f'data shape: {data.shape}')\n",
    "\n",
    "predplot = sns.load_dataset(\"data\")\n",
    "sns.displot(predplot, x=\"pred_rf\")"
   ]
  },
  {
   "cell_type": "code",
   "execution_count": null,
   "metadata": {},
   "outputs": [],
   "source": []
  }
 ],
 "metadata": {
  "kernelspec": {
   "display_name": "Python 3",
   "language": "python",
   "name": "python3"
  },
  "language_info": {
   "codemirror_mode": {
    "name": "ipython",
    "version": 3
   },
   "file_extension": ".py",
   "mimetype": "text/x-python",
   "name": "python",
   "nbconvert_exporter": "python",
   "pygments_lexer": "ipython3",
   "version": "3.9.1"
  },
  "orig_nbformat": 4,
  "vscode": {
   "interpreter": {
    "hash": "af8d3b3fda811f727a211bf408970ce12c11be846d6045dc0d7a20406af4775b"
   }
  }
 },
 "nbformat": 4,
 "nbformat_minor": 2
}
