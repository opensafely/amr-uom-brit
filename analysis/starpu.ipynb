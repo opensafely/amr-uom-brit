{
 "cells": [
  {
   "cell_type": "markdown",
   "source": [
    "# Analysis of STAR-PU Data"
   ],
   "metadata": {}
  },
  {
   "cell_type": "code",
   "execution_count": 12,
   "source": [
    "import pandas as pd\r\n",
    "import matplotlib.pyplot as plt\r\n",
    "import seaborn as sns\r\n",
    "import math\r\n",
    "import numpy as np\r\n",
    "%matplotlib inline"
   ],
   "outputs": [],
   "metadata": {}
  },
  {
   "cell_type": "code",
   "execution_count": 5,
   "source": [
    "data = pd.read_csv(\"C:/Users/m84300af/OneDrive - The University of Manchester/Documents/GitHub/amr-uom-brit/output/measures/measure_STARPU_antibiotics.csv\") #error: this file doe not exist!\r\n",
    "data"
   ],
   "outputs": [
    {
     "output_type": "execute_result",
     "data": {
      "text/html": [
       "<div>\n",
       "<style scoped>\n",
       "    .dataframe tbody tr th:only-of-type {\n",
       "        vertical-align: middle;\n",
       "    }\n",
       "\n",
       "    .dataframe tbody tr th {\n",
       "        vertical-align: top;\n",
       "    }\n",
       "\n",
       "    .dataframe thead th {\n",
       "        text-align: right;\n",
       "    }\n",
       "</style>\n",
       "<table border=\"1\" class=\"dataframe\">\n",
       "  <thead>\n",
       "    <tr style=\"text-align: right;\">\n",
       "      <th></th>\n",
       "      <th>practice</th>\n",
       "      <th>sex</th>\n",
       "      <th>age_cat</th>\n",
       "      <th>antibacterial_prescriptions</th>\n",
       "      <th>population</th>\n",
       "      <th>value</th>\n",
       "      <th>date</th>\n",
       "    </tr>\n",
       "  </thead>\n",
       "  <tbody>\n",
       "    <tr>\n",
       "      <th>0</th>\n",
       "      <td>10</td>\n",
       "      <td>F</td>\n",
       "      <td>0-4</td>\n",
       "      <td>NaN</td>\n",
       "      <td>NaN</td>\n",
       "      <td>NaN</td>\n",
       "      <td>2019-01-01</td>\n",
       "    </tr>\n",
       "    <tr>\n",
       "      <th>1</th>\n",
       "      <td>10</td>\n",
       "      <td>F</td>\n",
       "      <td>15-24</td>\n",
       "      <td>NaN</td>\n",
       "      <td>NaN</td>\n",
       "      <td>NaN</td>\n",
       "      <td>2019-01-01</td>\n",
       "    </tr>\n",
       "    <tr>\n",
       "      <th>2</th>\n",
       "      <td>10</td>\n",
       "      <td>F</td>\n",
       "      <td>25-34</td>\n",
       "      <td>NaN</td>\n",
       "      <td>NaN</td>\n",
       "      <td>NaN</td>\n",
       "      <td>2019-01-01</td>\n",
       "    </tr>\n",
       "    <tr>\n",
       "      <th>3</th>\n",
       "      <td>10</td>\n",
       "      <td>F</td>\n",
       "      <td>35-44</td>\n",
       "      <td>NaN</td>\n",
       "      <td>NaN</td>\n",
       "      <td>NaN</td>\n",
       "      <td>2019-01-01</td>\n",
       "    </tr>\n",
       "    <tr>\n",
       "      <th>4</th>\n",
       "      <td>10</td>\n",
       "      <td>F</td>\n",
       "      <td>45-54</td>\n",
       "      <td>NaN</td>\n",
       "      <td>NaN</td>\n",
       "      <td>NaN</td>\n",
       "      <td>2019-01-01</td>\n",
       "    </tr>\n",
       "    <tr>\n",
       "      <th>...</th>\n",
       "      <td>...</td>\n",
       "      <td>...</td>\n",
       "      <td>...</td>\n",
       "      <td>...</td>\n",
       "      <td>...</td>\n",
       "      <td>...</td>\n",
       "      <td>...</td>\n",
       "    </tr>\n",
       "    <tr>\n",
       "      <th>18211</th>\n",
       "      <td>8</td>\n",
       "      <td>M</td>\n",
       "      <td>45-54</td>\n",
       "      <td>NaN</td>\n",
       "      <td>NaN</td>\n",
       "      <td>NaN</td>\n",
       "      <td>2021-09-01</td>\n",
       "    </tr>\n",
       "    <tr>\n",
       "      <th>18212</th>\n",
       "      <td>8</td>\n",
       "      <td>M</td>\n",
       "      <td>5-14</td>\n",
       "      <td>NaN</td>\n",
       "      <td>NaN</td>\n",
       "      <td>NaN</td>\n",
       "      <td>2021-09-01</td>\n",
       "    </tr>\n",
       "    <tr>\n",
       "      <th>18213</th>\n",
       "      <td>8</td>\n",
       "      <td>M</td>\n",
       "      <td>55-64</td>\n",
       "      <td>NaN</td>\n",
       "      <td>NaN</td>\n",
       "      <td>NaN</td>\n",
       "      <td>2021-09-01</td>\n",
       "    </tr>\n",
       "    <tr>\n",
       "      <th>18214</th>\n",
       "      <td>8</td>\n",
       "      <td>M</td>\n",
       "      <td>65-74</td>\n",
       "      <td>NaN</td>\n",
       "      <td>NaN</td>\n",
       "      <td>NaN</td>\n",
       "      <td>2021-09-01</td>\n",
       "    </tr>\n",
       "    <tr>\n",
       "      <th>18215</th>\n",
       "      <td>8</td>\n",
       "      <td>M</td>\n",
       "      <td>75+</td>\n",
       "      <td>NaN</td>\n",
       "      <td>NaN</td>\n",
       "      <td>NaN</td>\n",
       "      <td>2021-09-01</td>\n",
       "    </tr>\n",
       "  </tbody>\n",
       "</table>\n",
       "<p>18216 rows × 7 columns</p>\n",
       "</div>"
      ],
      "text/plain": [
       "       practice sex age_cat  antibacterial_prescriptions  population  value  \\\n",
       "0            10   F     0-4                          NaN         NaN    NaN   \n",
       "1            10   F   15-24                          NaN         NaN    NaN   \n",
       "2            10   F   25-34                          NaN         NaN    NaN   \n",
       "3            10   F   35-44                          NaN         NaN    NaN   \n",
       "4            10   F   45-54                          NaN         NaN    NaN   \n",
       "...         ...  ..     ...                          ...         ...    ...   \n",
       "18211         8   M   45-54                          NaN         NaN    NaN   \n",
       "18212         8   M    5-14                          NaN         NaN    NaN   \n",
       "18213         8   M   55-64                          NaN         NaN    NaN   \n",
       "18214         8   M   65-74                          NaN         NaN    NaN   \n",
       "18215         8   M     75+                          NaN         NaN    NaN   \n",
       "\n",
       "             date  \n",
       "0      2019-01-01  \n",
       "1      2019-01-01  \n",
       "2      2019-01-01  \n",
       "3      2019-01-01  \n",
       "4      2019-01-01  \n",
       "...           ...  \n",
       "18211  2021-09-01  \n",
       "18212  2021-09-01  \n",
       "18213  2021-09-01  \n",
       "18214  2021-09-01  \n",
       "18215  2021-09-01  \n",
       "\n",
       "[18216 rows x 7 columns]"
      ]
     },
     "metadata": {},
     "execution_count": 5
    }
   ],
   "metadata": {}
  },
  {
   "cell_type": "code",
   "execution_count": 10,
   "source": [
    "data.info()"
   ],
   "outputs": [
    {
     "output_type": "stream",
     "name": "stdout",
     "text": [
      "<class 'pandas.core.frame.DataFrame'>\n",
      "RangeIndex: 18216 entries, 0 to 18215\n",
      "Data columns (total 7 columns):\n",
      " #   Column                       Non-Null Count  Dtype  \n",
      "---  ------                       --------------  -----  \n",
      " 0   practice                     18216 non-null  int64  \n",
      " 1   sex                          18216 non-null  object \n",
      " 2   age_cat                      18216 non-null  object \n",
      " 3   antibacterial_prescriptions  11465 non-null  float64\n",
      " 4   population                   11465 non-null  float64\n",
      " 5   value                        11465 non-null  float64\n",
      " 6   date                         18216 non-null  object \n",
      "dtypes: float64(3), int64(1), object(3)\n",
      "memory usage: 996.3+ KB\n"
     ]
    }
   ],
   "metadata": {}
  },
  {
   "cell_type": "code",
   "execution_count": 6,
   "source": [
    "data.describe()"
   ],
   "outputs": [
    {
     "output_type": "execute_result",
     "data": {
      "text/html": [
       "<div>\n",
       "<style scoped>\n",
       "    .dataframe tbody tr th:only-of-type {\n",
       "        vertical-align: middle;\n",
       "    }\n",
       "\n",
       "    .dataframe tbody tr th {\n",
       "        vertical-align: top;\n",
       "    }\n",
       "\n",
       "    .dataframe thead th {\n",
       "        text-align: right;\n",
       "    }\n",
       "</style>\n",
       "<table border=\"1\" class=\"dataframe\">\n",
       "  <thead>\n",
       "    <tr style=\"text-align: right;\">\n",
       "      <th></th>\n",
       "      <th>practice</th>\n",
       "      <th>antibacterial_prescriptions</th>\n",
       "      <th>population</th>\n",
       "      <th>value</th>\n",
       "    </tr>\n",
       "  </thead>\n",
       "  <tbody>\n",
       "    <tr>\n",
       "      <th>count</th>\n",
       "      <td>18216.000000</td>\n",
       "      <td>11465.000000</td>\n",
       "      <td>11465.000000</td>\n",
       "      <td>11465.000000</td>\n",
       "    </tr>\n",
       "    <tr>\n",
       "      <th>mean</th>\n",
       "      <td>24.485178</td>\n",
       "      <td>3.628696</td>\n",
       "      <td>2.878325</td>\n",
       "      <td>1.260282</td>\n",
       "    </tr>\n",
       "    <tr>\n",
       "      <th>std</th>\n",
       "      <td>9.073119</td>\n",
       "      <td>3.434010</td>\n",
       "      <td>1.896283</td>\n",
       "      <td>1.062110</td>\n",
       "    </tr>\n",
       "    <tr>\n",
       "      <th>min</th>\n",
       "      <td>4.000000</td>\n",
       "      <td>-1.000000</td>\n",
       "      <td>1.000000</td>\n",
       "      <td>-0.500000</td>\n",
       "    </tr>\n",
       "    <tr>\n",
       "      <th>25%</th>\n",
       "      <td>17.000000</td>\n",
       "      <td>1.000000</td>\n",
       "      <td>1.000000</td>\n",
       "      <td>0.250000</td>\n",
       "    </tr>\n",
       "    <tr>\n",
       "      <th>50%</th>\n",
       "      <td>24.000000</td>\n",
       "      <td>3.000000</td>\n",
       "      <td>2.000000</td>\n",
       "      <td>1.000000</td>\n",
       "    </tr>\n",
       "    <tr>\n",
       "      <th>75%</th>\n",
       "      <td>32.000000</td>\n",
       "      <td>5.000000</td>\n",
       "      <td>4.000000</td>\n",
       "      <td>2.000000</td>\n",
       "    </tr>\n",
       "    <tr>\n",
       "      <th>max</th>\n",
       "      <td>46.000000</td>\n",
       "      <td>25.000000</td>\n",
       "      <td>13.000000</td>\n",
       "      <td>6.000000</td>\n",
       "    </tr>\n",
       "  </tbody>\n",
       "</table>\n",
       "</div>"
      ],
      "text/plain": [
       "           practice  antibacterial_prescriptions    population         value\n",
       "count  18216.000000                 11465.000000  11465.000000  11465.000000\n",
       "mean      24.485178                     3.628696      2.878325      1.260282\n",
       "std        9.073119                     3.434010      1.896283      1.062110\n",
       "min        4.000000                    -1.000000      1.000000     -0.500000\n",
       "25%       17.000000                     1.000000      1.000000      0.250000\n",
       "50%       24.000000                     3.000000      2.000000      1.000000\n",
       "75%       32.000000                     5.000000      4.000000      2.000000\n",
       "max       46.000000                    25.000000     13.000000      6.000000"
      ]
     },
     "metadata": {},
     "execution_count": 6
    }
   ],
   "metadata": {}
  },
  {
   "cell_type": "code",
   "execution_count": 11,
   "source": [
    "data['practice'].value_counts().sort_index()"
   ],
   "outputs": [
    {
     "output_type": "execute_result",
     "data": {
      "text/plain": [
       "4      18\n",
       "6      36\n",
       "7      90\n",
       "8     144\n",
       "9     216\n",
       "10    450\n",
       "11    450\n",
       "12    594\n",
       "13    594\n",
       "14    594\n",
       "15    594\n",
       "16    594\n",
       "17    594\n",
       "18    594\n",
       "19    594\n",
       "20    594\n",
       "21    594\n",
       "22    594\n",
       "23    594\n",
       "24    594\n",
       "25    594\n",
       "26    594\n",
       "27    594\n",
       "28    594\n",
       "29    594\n",
       "30    594\n",
       "31    594\n",
       "32    594\n",
       "33    594\n",
       "34    594\n",
       "35    594\n",
       "36    594\n",
       "37    540\n",
       "38    504\n",
       "39    324\n",
       "40    288\n",
       "41    126\n",
       "42    108\n",
       "43     36\n",
       "44     18\n",
       "46     18\n",
       "Name: practice, dtype: int64"
      ]
     },
     "metadata": {},
     "execution_count": 11
    }
   ],
   "metadata": {}
  },
  {
   "cell_type": "code",
   "execution_count": 16,
   "source": [
    "data['sex'].value_counts().sort_index()"
   ],
   "outputs": [
    {
     "output_type": "execute_result",
     "data": {
      "text/plain": [
       "F    9108\n",
       "M    9108\n",
       "Name: sex, dtype: int64"
      ]
     },
     "metadata": {},
     "execution_count": 16
    }
   ],
   "metadata": {}
  },
  {
   "cell_type": "code",
   "execution_count": 15,
   "source": [
    "data['age_cat'].value_counts().sort_index()"
   ],
   "outputs": [
    {
     "output_type": "execute_result",
     "data": {
      "text/plain": [
       "0-4      2024\n",
       "15-24    2024\n",
       "25-34    2024\n",
       "35-44    2024\n",
       "45-54    2024\n",
       "5-14     2024\n",
       "55-64    2024\n",
       "65-74    2024\n",
       "75+      2024\n",
       "Name: age_cat, dtype: int64"
      ]
     },
     "metadata": {},
     "execution_count": 15
    }
   ],
   "metadata": {}
  },
  {
   "cell_type": "code",
   "execution_count": 18,
   "source": [
    "sns.distplot(data['antibacterial_prescriptions'], hist=True, kde=True, \r\n",
    "             bins=15, color = 'blue', \r\n",
    "             hist_kws={'edgecolor':'black'},\r\n",
    "             kde_kws={'linewidth': 2})\r\n",
    "\r\n",
    "plt.xlabel('Number of prescriptions')\r\n",
    "#plt.ylabel('Frequency')\r\n",
    "plt.title('Antibacterial prescriptions')\r\n",
    "#plt.xlim(0, 100)\r\n",
    "#plt.ylim(0, 1100)\r\n",
    "plt.grid(True)\r\n",
    "plt.show()"
   ],
   "outputs": [
    {
     "output_type": "stream",
     "name": "stderr",
     "text": [
      "C:\\Users\\m84300af\\AppData\\Local\\Programs\\Python\\Python39\\lib\\site-packages\\seaborn\\distributions.py:2619: FutureWarning: `distplot` is a deprecated function and will be removed in a future version. Please adapt your code to use either `displot` (a figure-level function with similar flexibility) or `histplot` (an axes-level function for histograms).\n",
      "  warnings.warn(msg, FutureWarning)\n"
     ]
    },
    {
     "output_type": "display_data",
     "data": {
      "image/png": "[encoded data removed]",
      "text/plain": [
       "<Figure size 432x288 with 1 Axes>"
      ]
     },
     "metadata": {
      "needs_background": "light"
     }
    }
   ],
   "metadata": {}
  },
  {
   "cell_type": "code",
   "execution_count": 20,
   "source": [
    "sns.distplot(data['population'], hist=True, kde=True, \r\n",
    "             bins=15, color = 'blue', \r\n",
    "             hist_kws={'edgecolor':'black'},\r\n",
    "             kde_kws={'linewidth': 2})\r\n",
    "\r\n",
    "plt.xlabel('Population')\r\n",
    "#plt.ylabel('Frequency')\r\n",
    "plt.title('Population in each practice')\r\n",
    "#plt.xlim(0, 100)\r\n",
    "#plt.ylim(0, 1100)\r\n",
    "plt.grid(True)\r\n",
    "plt.show()"
   ],
   "outputs": [
    {
     "output_type": "stream",
     "name": "stderr",
     "text": [
      "C:\\Users\\m84300af\\AppData\\Local\\Programs\\Python\\Python39\\lib\\site-packages\\seaborn\\distributions.py:2619: FutureWarning: `distplot` is a deprecated function and will be removed in a future version. Please adapt your code to use either `displot` (a figure-level function with similar flexibility) or `histplot` (an axes-level function for histograms).\n",
      "  warnings.warn(msg, FutureWarning)\n"
     ]
    },
    {
     "output_type": "display_data",
     "data": {
      "image/png": "[encoded data removed]",
      "text/plain": [
       "<Figure size 432x288 with 1 Axes>"
      ]
     },
     "metadata": {
      "needs_background": "light"
     }
    }
   ],
   "metadata": {}
  },
  {
   "cell_type": "code",
   "execution_count": 31,
   "source": [
    "data['date'].value_counts().sort_index().plot(kind='bar', figsize=(10, 5))\r\n",
    "plt.ylim(0, 1000)\r\n",
    "plt.xticks(rotation = 45, ha=\"right\")\r\n",
    "plt.title(\"Dates of antibiotics practices between 2019-01-01 to 2021-09-01\")\r\n",
    "plt.xlabel('Dates')\r\n",
    "plt.ylabel('Frequency')\r\n",
    "plt.grid()\r\n",
    "plt.show()\r\n",
    "#plt.savefig(\"output/hist.png\")"
   ],
   "outputs": [
    {
     "output_type": "display_data",
     "data": {
      "image/png": "[encoded data removed]",
      "text/plain": [
       "<Figure size 720x360 with 1 Axes>"
      ]
     },
     "metadata": {
      "needs_background": "light"
     }
    }
   ],
   "metadata": {}
  },
  {
   "cell_type": "code",
   "execution_count": 29,
   "source": [
    "data.groupby(['date'])['value'].mean().plot(kind='line', figsize=(10, 5))\r\n",
    "plt.ylim(0.5, 2)\r\n",
    "plt.xticks(rotation = 45, ha=\"right\")\r\n",
    "plt.title(\"Mean STAR-PU values of each month between 2019-01-01 to 2021-09-01\")\r\n",
    "plt.xlabel('Month')\r\n",
    "plt.ylabel('STAR-PU')\r\n",
    "plt.grid()\r\n",
    "plt.show()\r\n",
    "#plt.savefig(\"output/hist.png\")"
   ],
   "outputs": [
    {
     "output_type": "display_data",
     "data": {
      "image/png": "[encoded data removed]",
      "text/plain": [
       "<Figure size 720x360 with 1 Axes>"
      ]
     },
     "metadata": {
      "needs_background": "light"
     }
    }
   ],
   "metadata": {}
  },
  {
   "cell_type": "code",
   "execution_count": null,
   "source": [],
   "outputs": [],
   "metadata": {}
  }
 ],
 "metadata": {
  "orig_nbformat": 4,
  "language_info": {
   "name": "python",
   "version": "3.9.6",
   "mimetype": "text/x-python",
   "codemirror_mode": {
    "name": "ipython",
    "version": 3
   },
   "pygments_lexer": "ipython3",
   "nbconvert_exporter": "python",
   "file_extension": ".py"
  },
  "kernelspec": {
   "name": "python3",
   "display_name": "Python 3.9.6 64-bit"
  },
  "interpreter": {
   "hash": "7a2d6c6560a78692f44e6c684bf0cb5541339d681bcf02c80a9e36dbc5e3249d"
  }
 },
 "nbformat": 4,
 "nbformat_minor": 2
}