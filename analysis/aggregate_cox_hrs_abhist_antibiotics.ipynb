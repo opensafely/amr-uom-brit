{
 "cells": [
  {
   "attachments": {},
   "cell_type": "markdown",
   "metadata": {},
   "source": [
    "# Aggregating Hazard Ratios of Prescribed Antibiotics by Categories of Antibiotics History in Cox Models for All Infections"
   ]
  },
  {
   "cell_type": "code",
   "execution_count": 1,
   "metadata": {},
   "outputs": [],
   "source": [
    "import pandas as pd\n",
    "import warnings\n",
    "warnings.filterwarnings('ignore')\n",
    "warnings.warn('DelftStack')\n",
    "warnings.warn('Do not show this message')"
   ]
  },
  {
   "cell_type": "code",
   "execution_count": 2,
   "metadata": {},
   "outputs": [],
   "source": [
    "cph_lrti_incdt_hrs = pd.read_csv(f'../output/hospitalisation_prediction_lrti/cph_lrti_incdt_antibacterial_brit_cat_hrs.csv')\n",
    "cph_lrti_prevl_hrs = pd.read_csv(f'../output/hospitalisation_prediction_lrti/cph_lrti_prevl_antibacterial_brit_cat_hrs.csv')\n",
    "cph_urti_combined_incdt_hrs = pd.read_csv(f'../output/hospitalisation_prediction_urti_combined/cph_urti_combined_incdt_antibacterial_brit_cat_hrs.csv')\n",
    "cph_urti_combined_prevl_hrs = pd.read_csv(f'../output/hospitalisation_prediction_urti_combined/cph_urti_combined_prevl_antibacterial_brit_cat_hrs.csv')\n",
    "cph_uti_incdt_hrs = pd.read_csv(f'../output/hospitalisation_prediction_uti/cph_uti_incdt_antibacterial_brit_cat_hrs.csv')\n",
    "cph_uti_prevl_hrs = pd.read_csv(f'../output/hospitalisation_prediction_uti/cph_uti_prevl_antibacterial_brit_cat_hrs.csv')\n",
    "cph_sinusitis_incdt_hrs = pd.read_csv(f'../output/hospitalisation_prediction_sinusitis/cph_sinusitis_incdt_antibacterial_brit_cat_hrs.csv')\n",
    "cph_sinusitis_prevl_hrs = pd.read_csv(f'../output/hospitalisation_prediction_sinusitis/cph_sinusitis_prevl_antibacterial_brit_cat_hrs.csv')\n",
    "cph_otmedia_incdt_hrs = pd.read_csv(f'../output/hospitalisation_prediction_otmedia/cph_otmedia_incdt_antibacterial_brit_cat_hrs.csv')\n",
    "cph_otmedia_prevl_hrs = pd.read_csv(f'../output/hospitalisation_prediction_otmedia/cph_otmedia_prevl_antibacterial_brit_cat_hrs.csv')\n",
    "cph_ot_externa_incdt_hrs = pd.read_csv(f'../output/hospitalisation_prediction_ot_externa/cph_ot_externa_incdt_antibacterial_brit_cat_hrs.csv')\n",
    "cph_ot_externa_prevl_hrs = pd.read_csv(f'../output/hospitalisation_prediction_ot_externa/cph_ot_externa_prevl_antibacterial_brit_cat_hrs.csv')\n",
    "cph_urti_incdt_hrs = pd.read_csv(f'../output/hospitalisation_prediction_urti/cph_urti_incdt_antibacterial_brit_cat_hrs.csv')\n",
    "cph_urti_prevl_hrs = pd.read_csv(f'../output/hospitalisation_prediction_urti/cph_urti_prevl_antibacterial_brit_cat_hrs.csv')\n",
    "cph_cough_incdt_hrs = pd.read_csv(f'../output/hospitalisation_prediction_cough/cph_cough_incdt_antibacterial_brit_cat_hrs.csv')\n",
    "cph_cough_prevl_hrs = pd.read_csv(f'../output/hospitalisation_prediction_cough/cph_cough_prevl_antibacterial_brit_cat_hrs.csv')\n",
    "cph_cough_cold_incdt_hrs = pd.read_csv(f'../output/hospitalisation_prediction_cough_cold/cph_cough_cold_incdt_antibacterial_brit_cat_hrs.csv')\n",
    "cph_cough_cold_prevl_hrs = pd.read_csv(f'../output/hospitalisation_prediction_cough_cold/cph_cough_cold_prevl_antibacterial_brit_cat_hrs.csv')\n",
    "cph_throat_incdt_hrs = pd.read_csv(f'../output/hospitalisation_prediction_throat/cph_throat_incdt_antibacterial_brit_cat_hrs.csv')\n",
    "cph_throat_prevl_hrs = pd.read_csv(f'../output/hospitalisation_prediction_throat/cph_throat_prevl_antibacterial_brit_cat_hrs.csv')"
   ]
  },
  {
   "cell_type": "code",
   "execution_count": 3,
   "metadata": {},
   "outputs": [],
   "source": [
    "def data_process_hrs(data_hrs):\n",
    "\n",
    "    #keep relevant rows\n",
    "    data_hrs_crude = data_hrs[data_hrs['covariate'].str.contains('antibacterial_brit_cat')]\n",
    "    #make a new column with hrs, lower and upper bounds\n",
    "    data_hrs_crude['exp(coef)'] = data_hrs_crude['exp(coef)'].apply(lambda x: \"{:.2f}\".format(x))\n",
    "    data_hrs_crude['95% lower-bound'] = data_hrs_crude['95% lower-bound'].apply(lambda x: \"{:.2f}\".format(x))\n",
    "    data_hrs_crude['95% upper-bound'] = data_hrs_crude['95% upper-bound'].apply(lambda x: \"{:.2f}\".format(x))\n",
    "    data_hrs_crude['coef'] = data_hrs_crude['exp(coef)'].astype(str) + \" (\" + data_hrs_crude['95% lower-bound'].astype(str) + '-' + data_hrs_crude['95% upper-bound'].astype(str) + ')'\n",
    "    data_hrs_crude = data_hrs_crude.reset_index(drop=True)\n",
    "\n",
    "    return data_hrs_crude"
   ]
  },
  {
   "cell_type": "code",
   "execution_count": 4,
   "metadata": {},
   "outputs": [],
   "source": [
    "lrti_incdt_hrs = data_process_hrs(cph_lrti_incdt_hrs)\n",
    "lrti_prevl_hrs = data_process_hrs(cph_lrti_prevl_hrs)\n",
    "\n",
    "urti_combined_incdt_hrs = data_process_hrs(cph_urti_combined_incdt_hrs)\n",
    "urti_combined_prevl_hrs = data_process_hrs(cph_urti_combined_prevl_hrs)\n",
    "\n",
    "uti_incdt_hrs = data_process_hrs(cph_uti_incdt_hrs)\n",
    "uti_prevl_hrs = data_process_hrs(cph_uti_prevl_hrs)\n",
    "\n",
    "sinusitis_incdt_hrs = data_process_hrs(cph_sinusitis_incdt_hrs)\n",
    "sinusitis_prevl_hrs = data_process_hrs(cph_sinusitis_prevl_hrs)\n",
    "\n",
    "otmedia_incdt_hrs = data_process_hrs(cph_otmedia_incdt_hrs)\n",
    "otmedia_prevl_hrs = data_process_hrs(cph_otmedia_prevl_hrs)\n",
    "\n",
    "ot_externa_incdt_hrs = data_process_hrs(cph_ot_externa_incdt_hrs)\n",
    "ot_externa_prevl_hrs = data_process_hrs(cph_ot_externa_prevl_hrs)\n",
    "\n",
    "urti_incdt_hrs = data_process_hrs(cph_urti_incdt_hrs)\n",
    "urti_prevl_hrs = data_process_hrs(cph_urti_prevl_hrs)\n",
    "\n",
    "cough_incdt_hrs = data_process_hrs(cph_cough_incdt_hrs)\n",
    "cough_prevl_hrs = data_process_hrs(cph_cough_prevl_hrs)\n",
    "\n",
    "cough_cold_incdt_hrs = data_process_hrs(cph_cough_cold_incdt_hrs)\n",
    "cough_cold_prevl_hrs = data_process_hrs(cph_cough_cold_prevl_hrs)\n",
    "\n",
    "throat_incdt_hrs = data_process_hrs(cph_throat_incdt_hrs)\n",
    "throat_prevl_hrs = data_process_hrs(cph_throat_prevl_hrs)"
   ]
  },
  {
   "cell_type": "code",
   "execution_count": 5,
   "metadata": {},
   "outputs": [
    {
     "data": {
      "text/html": [
       "<div>\n",
       "<style scoped>\n",
       "    .dataframe tbody tr th:only-of-type {\n",
       "        vertical-align: middle;\n",
       "    }\n",
       "\n",
       "    .dataframe tbody tr th {\n",
       "        vertical-align: top;\n",
       "    }\n",
       "\n",
       "    .dataframe thead th {\n",
       "        text-align: right;\n",
       "    }\n",
       "</style>\n",
       "<table border=\"1\" class=\"dataframe\">\n",
       "  <thead>\n",
       "    <tr style=\"text-align: right;\">\n",
       "      <th></th>\n",
       "      <th>covariate</th>\n",
       "      <th>urti_incdt</th>\n",
       "      <th>urti_prevl</th>\n",
       "    </tr>\n",
       "  </thead>\n",
       "  <tbody>\n",
       "    <tr>\n",
       "      <th>0</th>\n",
       "      <td>antibacterial_brit_cat_yes_low1</td>\n",
       "      <td>0.18 (0.03-1.29)</td>\n",
       "      <td>1.95 (0.27-14.12)</td>\n",
       "    </tr>\n",
       "    <tr>\n",
       "      <th>1</th>\n",
       "      <td>antibacterial_brit_cat_yes_medium2_4</td>\n",
       "      <td>0.86 (0.60-1.25)</td>\n",
       "      <td>1.50 (0.60-3.72)</td>\n",
       "    </tr>\n",
       "    <tr>\n",
       "      <th>2</th>\n",
       "      <td>antibacterial_brit_cat_yes_none0</td>\n",
       "      <td>0.88 (0.63-1.24)</td>\n",
       "      <td>1.97 (0.94-4.11)</td>\n",
       "    </tr>\n",
       "  </tbody>\n",
       "</table>\n",
       "</div>"
      ],
      "text/plain": [
       "                              covariate        urti_incdt         urti_prevl\n",
       "0       antibacterial_brit_cat_yes_low1  0.18 (0.03-1.29)  1.95 (0.27-14.12)\n",
       "1  antibacterial_brit_cat_yes_medium2_4  0.86 (0.60-1.25)   1.50 (0.60-3.72)\n",
       "2      antibacterial_brit_cat_yes_none0  0.88 (0.63-1.24)   1.97 (0.94-4.11)"
      ]
     },
     "execution_count": 5,
     "metadata": {},
     "output_type": "execute_result"
    }
   ],
   "source": [
    "d = {'covariate': lrti_incdt_hrs['covariate'],\n",
    "     \n",
    "     'lrti_incdt': lrti_incdt_hrs['coef'],\n",
    "     'lrti_prevl': lrti_prevl_hrs['coef'],\n",
    "     \n",
    "     'urti_combined_incdt': urti_combined_incdt_hrs['coef'], \n",
    "     'urti_combined_prevl': urti_combined_prevl_hrs['coef'],\n",
    "     \n",
    "     'uti_incdt': uti_incdt_hrs['coef'], \n",
    "     'uti_prevl': uti_prevl_hrs['coef'],\n",
    "     \n",
    "     'sinusitis_incdt': sinusitis_incdt_hrs['coef'], \n",
    "     'sinusitis_prevl': sinusitis_prevl_hrs['coef'], \n",
    "     \n",
    "     'otmedia_incdt': otmedia_incdt_hrs['coef'], \n",
    "     'otmedia_prevl': otmedia_prevl_hrs['coef'],\n",
    "     \n",
    "     'ot_externa_incdt': ot_externa_incdt_hrs['coef'], \n",
    "     'ot_externa_prevl': ot_externa_prevl_hrs['coef'],\n",
    "\n",
    "     'urti_incdt': urti_incdt_hrs['coef'], \n",
    "     'urti_prevl': urti_prevl_hrs['coef'],\n",
    "\n",
    "     'cough_incdt': cough_incdt_hrs['coef'], \n",
    "     'cough_prevl': cough_prevl_hrs['coef'],\n",
    "     \n",
    "     'cough_cold_incdt': cough_cold_incdt_hrs['coef'], \n",
    "     'cough_cold_prevl': cough_cold_prevl_hrs['coef'],\n",
    "\n",
    "     'throat_incdt': throat_incdt_hrs['coef'], \n",
    "     'throat_prevl': throat_prevl_hrs['coef'],\n",
    "    }\n",
    "data = pd.DataFrame(data=d)\n",
    "\n",
    "# #replace \n",
    "# data['covariate'] = data['covariate'].str.replace('lrti_ab_date', 'ab')\n",
    "\n",
    "#remove HRs that their models did not converge\n",
    "# data.loc[data['covariate'] == 'antibacterial_brit_cat_high5_more', 'sinusitis_prevl'] = \"-\" #cph_sinusitis_prevl_ab_none0\n",
    "# data.loc[data['covariate'] == 'antibacterial_brit_cat_high5_more', 'sinusitis_prevl'] = \"-\" #cph_sinusitis_prevl_ab_medium2_4\n",
    "# data.loc[data['covariate'] == 'antibacterial_brit_cat_high5_more', 'otmedia_prevl'] = \"-\" #cph_otmedia_prevl_ab_low1\n",
    "# data.loc[data['covariate'] == 'antibacterial_brit_cat_high5_more', 'ot_externa_prevl'] = \"-\" #cph_ot_externa_prevl_ab_medium2_4\n",
    "\n",
    "#save hrs of ab hist\n",
    "data.to_csv(f'../output/aggregate_hrs_abhist_antibiotics/cph_hrs_abhist_infections.csv', index=False)\n",
    "data"
   ]
  }
 ],
 "metadata": {
  "kernelspec": {
   "display_name": "Python 3.10.4 64-bit",
   "language": "python",
   "name": "python3"
  },
  "language_info": {
   "codemirror_mode": {
    "name": "ipython",
    "version": 3
   },
   "file_extension": ".py",
   "mimetype": "text/x-python",
   "name": "python",
   "nbconvert_exporter": "python",
   "pygments_lexer": "ipython3",
   "version": "3.10.4"
  },
  "orig_nbformat": 4,
  "vscode": {
   "interpreter": {
    "hash": "8140142ad7e60c7088d03dcc357baafe7a3ba3d7bdbd31e400f1a9fa984efcb5"
   }
  }
 },
 "nbformat": 4,
 "nbformat_minor": 2
}
