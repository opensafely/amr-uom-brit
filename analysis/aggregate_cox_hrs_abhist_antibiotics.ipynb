{
 "cells": [
  {
   "attachments": {},
   "cell_type": "markdown",
   "metadata": {},
   "source": [
    "# Aggregating Hazard Ratios of Prescribed Antibiotics strattified by Antibiotics History in Cox Models for All Infections"
   ]
  },
  {
   "cell_type": "code",
   "execution_count": 2,
   "metadata": {},
   "outputs": [],
   "source": [
    "import pandas as pd\n",
    "import warnings\n",
    "warnings.filterwarnings('ignore')\n",
    "warnings.warn('DelftStack')\n",
    "warnings.warn('Do not show this message')"
   ]
  },
  {
   "cell_type": "code",
   "execution_count": 4,
   "metadata": {},
   "outputs": [],
   "source": [
    "cph_lrti_incdt_none0_hrs = pd.read_csv(f'../output/hospitalisation_prediction_lrti/cph_lrti_incdt_none0_hrs.csv')\n",
    "cph_lrti_incdt_low1_hrs = pd.read_csv(f'../output/hospitalisation_prediction_lrti/cph_lrti_incdt_low1_hrs.csv')\n",
    "cph_lrti_incdt_medium2_4_hrs = pd.read_csv(f'../output/hospitalisation_prediction_lrti/cph_lrti_incdt_medium2_4_hrs.csv')\n",
    "cph_lrti_incdt_high5_more_hrs = pd.read_csv(f'../output/hospitalisation_prediction_lrti/cph_lrti_incdt_high5_more_hrs.csv')\n",
    "cph_lrti_prevl_none0_hrs = pd.read_csv(f'../output/hospitalisation_prediction_lrti/cph_lrti_prevl_none0_hrs.csv')\n",
    "cph_lrti_prevl_low1_hrs = pd.read_csv(f'../output/hospitalisation_prediction_lrti/cph_lrti_prevl_low1_hrs.csv')\n",
    "cph_lrti_prevl_medium2_4_hrs = pd.read_csv(f'../output/hospitalisation_prediction_lrti/cph_lrti_prevl_medium2_4_hrs.csv')\n",
    "cph_lrti_prevl_high5_more_hrs = pd.read_csv(f'../output/hospitalisation_prediction_lrti/cph_lrti_prevl_high5_more_hrs.csv')"
   ]
  },
  {
   "cell_type": "code",
   "execution_count": 31,
   "metadata": {},
   "outputs": [],
   "source": [
    "cph_urti_combined_incdt_none0_hrs = pd.read_csv(f'../output/hospitalisation_prediction_urti_combined/cph_urti_combined_incdt_none0_hrs.csv')\n",
    "cph_urti_combined_incdt_low1_hrs = pd.read_csv(f'../output/hospitalisation_prediction_urti_combined/cph_urti_combined_incdt_low1_hrs.csv')\n",
    "cph_urti_combined_incdt_medium2_4_hrs = pd.read_csv(f'../output/hospitalisation_prediction_urti_combined/cph_urti_combined_incdt_medium2_4_hrs.csv')\n",
    "cph_urti_combined_incdt_high5_more_hrs = pd.read_csv(f'../output/hospitalisation_prediction_urti_combined/cph_urti_combined_incdt_high5_more_hrs.csv')\n",
    "cph_urti_combined_prevl_none0_hrs = pd.read_csv(f'../output/hospitalisation_prediction_urti_combined/cph_urti_combined_prevl_none0_hrs.csv')\n",
    "cph_urti_combined_prevl_low1_hrs = pd.read_csv(f'../output/hospitalisation_prediction_urti_combined/cph_urti_combined_prevl_low1_hrs.csv')\n",
    "cph_urti_combined_prevl_medium2_4_hrs = pd.read_csv(f'../output/hospitalisation_prediction_urti_combined/cph_urti_combined_prevl_medium2_4_hrs.csv')\n",
    "cph_urti_combined_prevl_high5_more_hrs = pd.read_csv(f'../output/hospitalisation_prediction_urti_combined/cph_urti_combined_prevl_high5_more_hrs.csv')"
   ]
  },
  {
   "cell_type": "code",
   "execution_count": 32,
   "metadata": {},
   "outputs": [],
   "source": [
    "cph_uti_incdt_none0_hrs = pd.read_csv(f'../output/hospitalisation_prediction_uti/cph_uti_incdt_none0_hrs.csv')\n",
    "cph_uti_incdt_low1_hrs = pd.read_csv(f'../output/hospitalisation_prediction_uti/cph_uti_incdt_low1_hrs.csv')\n",
    "cph_uti_incdt_medium2_4_hrs = pd.read_csv(f'../output/hospitalisation_prediction_uti/cph_uti_incdt_medium2_4_hrs.csv')\n",
    "cph_uti_incdt_high5_more_hrs = pd.read_csv(f'../output/hospitalisation_prediction_uti/cph_uti_incdt_high5_more_hrs.csv')\n",
    "cph_uti_prevl_none0_hrs = pd.read_csv(f'../output/hospitalisation_prediction_uti/cph_uti_prevl_none0_hrs.csv')\n",
    "cph_uti_prevl_low1_hrs = pd.read_csv(f'../output/hospitalisation_prediction_uti/cph_uti_prevl_low1_hrs.csv')\n",
    "cph_uti_prevl_medium2_4_hrs = pd.read_csv(f'../output/hospitalisation_prediction_uti/cph_uti_prevl_medium2_4_hrs.csv')\n",
    "cph_uti_prevl_high5_more_hrs = pd.read_csv(f'../output/hospitalisation_prediction_uti/cph_uti_prevl_high5_more_hrs.csv')"
   ]
  },
  {
   "cell_type": "code",
   "execution_count": 33,
   "metadata": {},
   "outputs": [],
   "source": [
    "cph_sinusitis_incdt_none0_hrs = pd.read_csv(f'../output/hospitalisation_prediction_sinusitis/cph_sinusitis_incdt_none0_hrs.csv')\n",
    "cph_sinusitis_incdt_low1_hrs = pd.read_csv(f'../output/hospitalisation_prediction_sinusitis/cph_sinusitis_incdt_low1_hrs.csv')\n",
    "cph_sinusitis_incdt_medium2_4_hrs = pd.read_csv(f'../output/hospitalisation_prediction_sinusitis/cph_sinusitis_incdt_medium2_4_hrs.csv')\n",
    "cph_sinusitis_incdt_high5_more_hrs = pd.read_csv(f'../output/hospitalisation_prediction_sinusitis/cph_sinusitis_incdt_high5_more_hrs.csv')\n",
    "# cph_sinusitis_prevl_none0_hrs = pd.read_csv(f'../output/hospitalisation_prediction_sinusitis/cph_sinusitis_prevl_none0_hrs.csv')\n",
    "cph_sinusitis_prevl_low1_hrs = pd.read_csv(f'../output/hospitalisation_prediction_sinusitis/cph_sinusitis_prevl_low1_hrs.csv')\n",
    "# cph_sinusitis_prevl_medium2_4_hrs = pd.read_csv(f'../output/hospitalisation_prediction_sinusitis/cph_sinusitis_prevl_medium2_4_hrs.csv')\n",
    "cph_sinusitis_prevl_high5_more_hrs = pd.read_csv(f'../output/hospitalisation_prediction_sinusitis/cph_sinusitis_prevl_high5_more_hrs.csv')"
   ]
  },
  {
   "cell_type": "code",
   "execution_count": 34,
   "metadata": {},
   "outputs": [],
   "source": [
    "cph_otmedia_incdt_none0_hrs = pd.read_csv(f'../output/hospitalisation_prediction_otmedia/cph_otmedia_incdt_none0_hrs.csv')\n",
    "cph_otmedia_incdt_low1_hrs = pd.read_csv(f'../output/hospitalisation_prediction_otmedia/cph_otmedia_incdt_low1_hrs.csv')\n",
    "cph_otmedia_incdt_medium2_4_hrs = pd.read_csv(f'../output/hospitalisation_prediction_otmedia/cph_otmedia_incdt_medium2_4_hrs.csv')\n",
    "cph_otmedia_incdt_high5_more_hrs = pd.read_csv(f'../output/hospitalisation_prediction_otmedia/cph_otmedia_incdt_high5_more_hrs.csv')\n",
    "cph_otmedia_prevl_none0_hrs = pd.read_csv(f'../output/hospitalisation_prediction_otmedia/cph_otmedia_prevl_none0_hrs.csv')\n",
    "# cph_otmedia_prevl_low1_hrs = pd.read_csv(f'../output/hospitalisation_prediction_otmedia/cph_otmedia_prevl_low1_hrs.csv')\n",
    "cph_otmedia_prevl_medium2_4_hrs = pd.read_csv(f'../output/hospitalisation_prediction_otmedia/cph_otmedia_prevl_medium2_4_hrs.csv')\n",
    "cph_otmedia_prevl_high5_more_hrs = pd.read_csv(f'../output/hospitalisation_prediction_otmedia/cph_otmedia_prevl_high5_more_hrs.csv')"
   ]
  },
  {
   "cell_type": "code",
   "execution_count": 35,
   "metadata": {},
   "outputs": [],
   "source": [
    "cph_ot_externa_incdt_none0_hrs = pd.read_csv(f'../output/hospitalisation_prediction_ot_externa/cph_ot_externa_incdt_none0_hrs.csv')\n",
    "cph_ot_externa_incdt_low1_hrs = pd.read_csv(f'../output/hospitalisation_prediction_ot_externa/cph_ot_externa_incdt_low1_hrs.csv')\n",
    "cph_ot_externa_incdt_medium2_4_hrs = pd.read_csv(f'../output/hospitalisation_prediction_ot_externa/cph_ot_externa_incdt_medium2_4_hrs.csv')\n",
    "cph_ot_externa_incdt_high5_more_hrs = pd.read_csv(f'../output/hospitalisation_prediction_ot_externa/cph_ot_externa_incdt_high5_more_hrs.csv')\n",
    "cph_ot_externa_prevl_none0_hrs = pd.read_csv(f'../output/hospitalisation_prediction_ot_externa/cph_ot_externa_prevl_none0_hrs.csv')\n",
    "cph_ot_externa_prevl_low1_hrs = pd.read_csv(f'../output/hospitalisation_prediction_ot_externa/cph_ot_externa_prevl_low1_hrs.csv')\n",
    "# cph_ot_externa_prevl_medium2_4_hrs = pd.read_csv(f'../output/hospitalisation_prediction_ot_externa/cph_ot_externa_prevl_medium2_4_hrs.csv')\n",
    "cph_ot_externa_prevl_high5_more_hrs = pd.read_csv(f'../output/hospitalisation_prediction_ot_externa/cph_ot_externa_prevl_high5_more_hrs.csv')"
   ]
  },
  {
   "cell_type": "code",
   "execution_count": 36,
   "metadata": {},
   "outputs": [],
   "source": [
    "cph_urti_incdt_none0_hrs = pd.read_csv(f'../output/hospitalisation_prediction_urti/cph_urti_incdt_none0_hrs.csv')\n",
    "cph_urti_incdt_low1_hrs = pd.read_csv(f'../output/hospitalisation_prediction_urti/cph_urti_incdt_low1_hrs.csv')\n",
    "cph_urti_incdt_medium2_4_hrs = pd.read_csv(f'../output/hospitalisation_prediction_urti/cph_urti_incdt_medium2_4_hrs.csv')\n",
    "cph_urti_incdt_high5_more_hrs = pd.read_csv(f'../output/hospitalisation_prediction_urti/cph_urti_incdt_high5_more_hrs.csv')\n",
    "cph_urti_prevl_none0_hrs = pd.read_csv(f'../output/hospitalisation_prediction_urti/cph_urti_prevl_none0_hrs.csv')\n",
    "cph_urti_prevl_low1_hrs = pd.read_csv(f'../output/hospitalisation_prediction_urti/cph_urti_prevl_low1_hrs.csv')\n",
    "cph_urti_prevl_medium2_4_hrs = pd.read_csv(f'../output/hospitalisation_prediction_urti/cph_urti_prevl_medium2_4_hrs.csv')\n",
    "cph_urti_prevl_high5_more_hrs = pd.read_csv(f'../output/hospitalisation_prediction_urti/cph_urti_prevl_high5_more_hrs.csv')"
   ]
  },
  {
   "cell_type": "code",
   "execution_count": 37,
   "metadata": {},
   "outputs": [],
   "source": [
    "cph_cough_incdt_none0_hrs = pd.read_csv(f'../output/hospitalisation_prediction_cough/cph_cough_incdt_none0_hrs.csv')\n",
    "cph_cough_incdt_low1_hrs = pd.read_csv(f'../output/hospitalisation_prediction_cough/cph_cough_incdt_low1_hrs.csv')\n",
    "cph_cough_incdt_medium2_4_hrs = pd.read_csv(f'../output/hospitalisation_prediction_cough/cph_cough_incdt_medium2_4_hrs.csv')\n",
    "cph_cough_incdt_high5_more_hrs = pd.read_csv(f'../output/hospitalisation_prediction_cough/cph_cough_incdt_high5_more_hrs.csv')\n",
    "cph_cough_prevl_none0_hrs = pd.read_csv(f'../output/hospitalisation_prediction_cough/cph_cough_prevl_none0_hrs.csv')\n",
    "cph_cough_prevl_low1_hrs = pd.read_csv(f'../output/hospitalisation_prediction_cough/cph_cough_prevl_low1_hrs.csv')\n",
    "cph_cough_prevl_medium2_4_hrs = pd.read_csv(f'../output/hospitalisation_prediction_cough/cph_cough_prevl_medium2_4_hrs.csv')\n",
    "cph_cough_prevl_high5_more_hrs = pd.read_csv(f'../output/hospitalisation_prediction_cough/cph_cough_prevl_high5_more_hrs.csv')"
   ]
  },
  {
   "cell_type": "code",
   "execution_count": 38,
   "metadata": {},
   "outputs": [],
   "source": [
    "cph_cough_cold_incdt_none0_hrs = pd.read_csv(f'../output/hospitalisation_prediction_cough_cold/cph_cough_cold_incdt_none0_hrs.csv')\n",
    "cph_cough_cold_incdt_low1_hrs = pd.read_csv(f'../output/hospitalisation_prediction_cough_cold/cph_cough_cold_incdt_low1_hrs.csv')\n",
    "cph_cough_cold_incdt_medium2_4_hrs = pd.read_csv(f'../output/hospitalisation_prediction_cough_cold/cph_cough_cold_incdt_medium2_4_hrs.csv')\n",
    "cph_cough_cold_incdt_high5_more_hrs = pd.read_csv(f'../output/hospitalisation_prediction_cough_cold/cph_cough_cold_incdt_high5_more_hrs.csv')\n",
    "cph_cough_cold_prevl_none0_hrs = pd.read_csv(f'../output/hospitalisation_prediction_cough_cold/cph_cough_cold_prevl_none0_hrs.csv')\n",
    "cph_cough_cold_prevl_low1_hrs = pd.read_csv(f'../output/hospitalisation_prediction_cough_cold/cph_cough_cold_prevl_low1_hrs.csv')\n",
    "cph_cough_cold_prevl_medium2_4_hrs = pd.read_csv(f'../output/hospitalisation_prediction_cough_cold/cph_cough_cold_prevl_medium2_4_hrs.csv')\n",
    "cph_cough_cold_prevl_high5_more_hrs = pd.read_csv(f'../output/hospitalisation_prediction_cough_cold/cph_cough_cold_prevl_high5_more_hrs.csv')"
   ]
  },
  {
   "cell_type": "code",
   "execution_count": 39,
   "metadata": {},
   "outputs": [],
   "source": [
    "cph_throat_incdt_none0_hrs = pd.read_csv(f'../output/hospitalisation_prediction_throat/cph_throat_incdt_none0_hrs.csv')\n",
    "cph_throat_incdt_low1_hrs = pd.read_csv(f'../output/hospitalisation_prediction_throat/cph_throat_incdt_low1_hrs.csv')\n",
    "cph_throat_incdt_medium2_4_hrs = pd.read_csv(f'../output/hospitalisation_prediction_throat/cph_throat_incdt_medium2_4_hrs.csv')\n",
    "cph_throat_incdt_high5_more_hrs = pd.read_csv(f'../output/hospitalisation_prediction_throat/cph_throat_incdt_high5_more_hrs.csv')\n",
    "cph_throat_prevl_none0_hrs = pd.read_csv(f'../output/hospitalisation_prediction_throat/cph_throat_prevl_none0_hrs.csv')\n",
    "cph_throat_prevl_low1_hrs = pd.read_csv(f'../output/hospitalisation_prediction_throat/cph_throat_prevl_low1_hrs.csv')\n",
    "cph_throat_prevl_medium2_4_hrs = pd.read_csv(f'../output/hospitalisation_prediction_throat/cph_throat_prevl_medium2_4_hrs.csv')\n",
    "cph_throat_prevl_high5_more_hrs = pd.read_csv(f'../output/hospitalisation_prediction_throat/cph_throat_prevl_high5_more_hrs.csv')"
   ]
  },
  {
   "cell_type": "code",
   "execution_count": 5,
   "metadata": {},
   "outputs": [],
   "source": [
    "def data_process_hrs_betas(data_none0_strat, data_low1_strat, data_medium2_4_strat, data_high5_more_strat):\n",
    "    data_none0_strat.columns = ['covariate', 'exp(coef)', '95% lower-bound', '95% upper-bound']\n",
    "    data_low1_strat.columns = ['covariate', 'exp(coef)', '95% lower-bound', '95% upper-bound']\n",
    "    data_medium2_4_strat.columns = ['covariate', 'exp(coef)', '95% lower-bound', '95% upper-bound']\n",
    "    data_high5_more_strat.columns = ['covariate', 'exp(coef)', '95% lower-bound', '95% upper-bound']\n",
    "\n",
    "    data_none0_strat = data_none0_strat[data_none0_strat['covariate'].str.contains('ab_')]\n",
    "    data_low1_strat = data_low1_strat[data_low1_strat['covariate'].str.contains('ab_')]\n",
    "    data_medium2_4_strat = data_medium2_4_strat[data_medium2_4_strat['covariate'].str.contains('ab_')]\n",
    "    data_high5_more_strat = data_high5_more_strat[data_high5_more_strat['covariate'].str.contains('ab_')]\n",
    "\n",
    "    data_none0_strat['covariate'] = data_none0_strat['covariate'].astype(str) + '_none0'\n",
    "    data_low1_strat['covariate'] = data_low1_strat['covariate'].astype(str) + '_low1'\n",
    "    data_medium2_4_strat['covariate'] = data_medium2_4_strat['covariate'].astype(str) + '_medium2_4'\n",
    "    data_high5_more_strat['covariate'] = data_high5_more_strat['covariate'].astype(str) + '_high5_more'    \n",
    "\n",
    "    data_hrs_abs = pd.concat([data_none0_strat, data_low1_strat, data_medium2_4_strat, data_high5_more_strat], axis = 0) \n",
    "\n",
    "    data_hrs_abs['exp(coef)'] = data_hrs_abs['exp(coef)'].apply(lambda x: \"{:.2f}\".format(x))\n",
    "    data_hrs_abs['95% lower-bound'] = data_hrs_abs['95% lower-bound'].apply(lambda x: \"{:.2f}\".format(x))\n",
    "    data_hrs_abs['95% upper-bound'] = data_hrs_abs['95% upper-bound'].apply(lambda x: \"{:.2f}\".format(x))\n",
    "    data_hrs_abs['coef'] = data_hrs_abs['exp(coef)'].astype(str) + \" (\" + data_hrs_abs['95% lower-bound'].astype(str) + '-' + data_hrs_abs['95% upper-bound'].astype(str) + ')'\n",
    "    data_hrs_abs = data_hrs_abs.reset_index(drop=True)\n",
    "\n",
    "    return data_hrs_abs"
   ]
  },
  {
   "cell_type": "code",
   "execution_count": 10,
   "metadata": {},
   "outputs": [],
   "source": [
    "lrti_incdt_hrs = data_process_hrs_betas(cph_lrti_incdt_none0_hrs, cph_lrti_incdt_low1_hrs, cph_lrti_incdt_medium2_4_hrs, cph_lrti_incdt_high5_more_hrs)\n",
    "lrti_prevl_hrs = data_process_hrs_betas(cph_lrti_prevl_none0_hrs, cph_lrti_prevl_low1_hrs, cph_lrti_prevl_medium2_4_hrs, cph_lrti_prevl_high5_more_hrs)\n",
    "\n",
    "urti_combined_incdt_hrs = data_process_hrs_betas(cph_urti_combined_incdt_none0_hrs, cph_urti_combined_incdt_low1_hrs, cph_urti_combined_incdt_medium2_4_hrs, cph_urti_combined_incdt_high5_more_hrs)\n",
    "urti_combined_prevl_hrs = data_process_hrs_betas(cph_urti_combined_prevl_none0_hrs, cph_urti_combined_prevl_low1_hrs, cph_urti_combined_prevl_medium2_4_hrs, cph_urti_combined_prevl_high5_more_hrs)\n",
    "\n",
    "uti_incdt_hrs = data_process_hrs_betas(cph_uti_incdt_none0_hrs, cph_uti_incdt_low1_hrs, cph_uti_incdt_medium2_4_hrs, cph_uti_incdt_high5_more_hrs)\n",
    "uti_prevl_hrs = data_process_hrs_betas(cph_uti_prevl_none0_hrs, cph_uti_prevl_low1_hrs, cph_uti_prevl_medium2_4_hrs, cph_uti_prevl_high5_more_hrs)\n",
    "\n",
    "sinusitis_incdt_hrs = data_process_hrs_betas(cph_sinusitis_incdt_none0_hrs, cph_sinusitis_incdt_low1_hrs, cph_sinusitis_incdt_medium2_4_hrs, cph_sinusitis_incdt_high5_more_hrs)\n",
    "sinusitis_prevl_hrs = data_process_hrs_betas(cph_sinusitis_prevl_low1_hrs, cph_sinusitis_prevl_low1_hrs, cph_sinusitis_prevl_low1_hrs, cph_sinusitis_prevl_high5_more_hrs)\n",
    "\n",
    "otmedia_incdt_hrs = data_process_hrs_betas(cph_otmedia_incdt_none0_hrs, cph_otmedia_incdt_low1_hrs, cph_otmedia_incdt_medium2_4_hrs, cph_otmedia_incdt_high5_more_hrs)\n",
    "otmedia_prevl_hrs = data_process_hrs_betas(cph_otmedia_prevl_none0_hrs, cph_otmedia_prevl_none0_hrs, cph_otmedia_prevl_medium2_4_hrs, cph_otmedia_prevl_high5_more_hrs)\n",
    "\n",
    "ot_externa_incdt_hrs = data_process_hrs_betas(cph_ot_externa_incdt_none0_hrs, cph_ot_externa_incdt_low1_hrs, cph_ot_externa_incdt_medium2_4_hrs, cph_ot_externa_incdt_high5_more_hrs)\n",
    "ot_externa_prevl_hrs = data_process_hrs_betas(cph_ot_externa_prevl_none0_hrs, cph_ot_externa_prevl_low1_hrs, cph_ot_externa_prevl_low1_hrs, cph_ot_externa_prevl_high5_more_hrs)\n",
    "\n",
    "urti_incdt_hrs = data_process_hrs_betas(cph_urti_incdt_none0_hrs, cph_urti_incdt_low1_hrs, cph_urti_incdt_medium2_4_hrs, cph_urti_incdt_high5_more_hrs)\n",
    "urti_prevl_hrs = data_process_hrs_betas(cph_urti_prevl_none0_hrs, cph_urti_prevl_low1_hrs, cph_urti_prevl_medium2_4_hrs, cph_urti_prevl_high5_more_hrs)\n",
    "\n",
    "cough_incdt_hrs = data_process_hrs_betas(cph_cough_incdt_none0_hrs, cph_cough_incdt_low1_hrs, cph_cough_incdt_medium2_4_hrs, cph_cough_incdt_high5_more_hrs)\n",
    "cough_prevl_hrs = data_process_hrs_betas(cph_cough_prevl_none0_hrs, cph_cough_prevl_low1_hrs, cph_cough_prevl_medium2_4_hrs, cph_cough_prevl_high5_more_hrs)\n",
    "\n",
    "cough_cold_incdt_hrs = data_process_hrs_betas(cph_cough_cold_incdt_none0_hrs, cph_cough_cold_incdt_low1_hrs, cph_cough_cold_incdt_medium2_4_hrs, cph_cough_cold_incdt_high5_more_hrs)\n",
    "cough_cold_prevl_hrs = data_process_hrs_betas(cph_cough_cold_prevl_none0_hrs, cph_cough_cold_prevl_low1_hrs, cph_cough_cold_prevl_medium2_4_hrs, cph_cough_cold_prevl_high5_more_hrs)\n",
    "\n",
    "throat_incdt_hrs = data_process_hrs_betas(cph_throat_incdt_none0_hrs, cph_throat_incdt_low1_hrs, cph_throat_incdt_medium2_4_hrs, cph_throat_incdt_high5_more_hrs)\n",
    "throat_prevl_hrs = data_process_hrs_betas(cph_throat_prevl_none0_hrs, cph_throat_prevl_low1_hrs, cph_throat_prevl_medium2_4_hrs, cph_throat_prevl_high5_more_hrs)"
   ]
  },
  {
   "cell_type": "code",
   "execution_count": 11,
   "metadata": {},
   "outputs": [
    {
     "data": {
      "text/html": [
       "<div>\n",
       "<style scoped>\n",
       "    .dataframe tbody tr th:only-of-type {\n",
       "        vertical-align: middle;\n",
       "    }\n",
       "\n",
       "    .dataframe tbody tr th {\n",
       "        vertical-align: top;\n",
       "    }\n",
       "\n",
       "    .dataframe thead th {\n",
       "        text-align: right;\n",
       "    }\n",
       "</style>\n",
       "<table border=\"1\" class=\"dataframe\">\n",
       "  <thead>\n",
       "    <tr style=\"text-align: right;\">\n",
       "      <th></th>\n",
       "      <th>covariate</th>\n",
       "      <th>lrti_incdt</th>\n",
       "      <th>lrti_prevl</th>\n",
       "    </tr>\n",
       "  </thead>\n",
       "  <tbody>\n",
       "    <tr>\n",
       "      <th>0</th>\n",
       "      <td>ab_hist_none0</td>\n",
       "      <td>0.95 (0.68-1.33)</td>\n",
       "      <td>-</td>\n",
       "    </tr>\n",
       "    <tr>\n",
       "      <th>1</th>\n",
       "      <td>ab_hist_low1</td>\n",
       "      <td>2.44 (1.29-4.62)</td>\n",
       "      <td>2.44 (1.29-4.62)</td>\n",
       "    </tr>\n",
       "    <tr>\n",
       "      <th>2</th>\n",
       "      <td>ab_hist_medium2_4</td>\n",
       "      <td>0.91 (0.63-1.32)</td>\n",
       "      <td>0.91 (0.63-1.32)</td>\n",
       "    </tr>\n",
       "    <tr>\n",
       "      <th>3</th>\n",
       "      <td>ab_hist_high5_more</td>\n",
       "      <td>0.91 (0.63-1.32)</td>\n",
       "      <td>0.91 (0.63-1.32)</td>\n",
       "    </tr>\n",
       "  </tbody>\n",
       "</table>\n",
       "</div>"
      ],
      "text/plain": [
       "            covariate        lrti_incdt        lrti_prevl\n",
       "0       ab_hist_none0  0.95 (0.68-1.33)                 -\n",
       "1        ab_hist_low1  2.44 (1.29-4.62)  2.44 (1.29-4.62)\n",
       "2   ab_hist_medium2_4  0.91 (0.63-1.32)  0.91 (0.63-1.32)\n",
       "3  ab_hist_high5_more  0.91 (0.63-1.32)  0.91 (0.63-1.32)"
      ]
     },
     "execution_count": 11,
     "metadata": {},
     "output_type": "execute_result"
    }
   ],
   "source": [
    "d = {'covariate': lrti_incdt_hrs['covariate'],\n",
    "     \n",
    "     'lrti_incdt': lrti_incdt_hrs['coef'],\n",
    "     'lrti_prevl': lrti_prevl_hrs['coef'],\n",
    "     \n",
    "     'urti_combined_incdt': urti_combined_incdt_hrs['coef'], \n",
    "     'urti_combined_prevl': urti_combined_prevl_hrs['coef'],\n",
    "     \n",
    "     'uti_incdt': uti_incdt_hrs['coef'], \n",
    "     'uti_prevl': uti_prevl_hrs['coef'],\n",
    "     \n",
    "     'sinusitis_incdt': sinusitis_incdt_hrs['coef'], \n",
    "     'sinusitis_prevl': sinusitis_prevl_hrs['coef'], \n",
    "     \n",
    "     'otmedia_incdt': otmedia_incdt_hrs['coef'], \n",
    "     'otmedia_prevl': otmedia_prevl_hrs['coef'],\n",
    "     \n",
    "     'ot_externa_incdt': ot_externa_incdt_hrs['coef'], \n",
    "     'ot_externa_prevl': ot_externa_prevl_hrs['coef'],\n",
    "\n",
    "     'urti_incdt': urti_incdt_hrs['coef'], \n",
    "     'urti_prevl': urti_prevl_hrs['coef'],\n",
    "\n",
    "     'cough_incdt': cough_incdt_hrs['coef'], \n",
    "     'cough_prevl': cough_prevl_hrs['coef'],\n",
    "     \n",
    "     'cough_cold_incdt': cough_cold_incdt_hrs['coef'], \n",
    "     'cough_cold_prevl': cough_cold_prevl_hrs['coef'],\n",
    "\n",
    "     'throat_incdt': throat_incdt_hrs['coef'], \n",
    "     'throat_prevl': throat_prevl_hrs['coef'],\n",
    "    }\n",
    "data = pd.DataFrame(data=d)\n",
    "\n",
    "#replace \n",
    "data['covariate'] = data['covariate'].str.replace('lrti_ab_date', 'ab_hist')\n",
    "\n",
    "# #remove HRs that their models did not converge\n",
    "data.loc[data['covariate'] == 'ab_hist_none0', 'sinusitis_prevl'] = \"-\" #cph_sinusitis_prevl_ab_none0\n",
    "data.loc[data['covariate'] == 'ab_hist_medium2_4', 'sinusitis_prevl'] = \"-\" #cph_sinusitis_prevl_ab_medium2_4\n",
    "data.loc[data['covariate'] == 'ab_hist_low1', 'otmedia_prevl'] = \"-\" #cph_otmedia_prevl_ab_low1\n",
    "data.loc[data['covariate'] == 'ab_hist_medium2_4', 'ot_externa_prevl'] = \"-\" #cph_ot_externa_prevl_ab_medium2_4\n",
    "\n",
    "#save hrs of abs\n",
    "data.to_csv(f'../output/aggregate_hrs_abhist_antibiotics/cph_hrs_abhist_infections.csv', index=False)\n",
    "\n",
    "data"
   ]
  }
 ],
 "metadata": {
  "kernelspec": {
   "display_name": "Python 3.10.4 64-bit",
   "language": "python",
   "name": "python3"
  },
  "language_info": {
   "codemirror_mode": {
    "name": "ipython",
    "version": 3
   },
   "file_extension": ".py",
   "mimetype": "text/x-python",
   "name": "python",
   "nbconvert_exporter": "python",
   "pygments_lexer": "ipython3",
   "version": "3.10.4"
  },
  "orig_nbformat": 4,
  "vscode": {
   "interpreter": {
    "hash": "8140142ad7e60c7088d03dcc357baafe7a3ba3d7bdbd31e400f1a9fa984efcb5"
   }
  }
 },
 "nbformat": 4,
 "nbformat_minor": 2
}
