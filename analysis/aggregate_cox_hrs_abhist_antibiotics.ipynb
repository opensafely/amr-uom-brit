{
 "cells": [
  {
   "attachments": {},
   "cell_type": "markdown",
   "metadata": {},
   "source": [
    "# Aggregating Hazard Ratios of Prescribed Antibiotics strattified by Antibiotics History in Cox Models for All Infections"
   ]
  },
  {
   "cell_type": "code",
   "execution_count": 1,
   "metadata": {},
   "outputs": [],
   "source": [
    "import pandas as pd\n",
    "import warnings\n",
    "warnings.filterwarnings('ignore')\n",
    "warnings.warn('DelftStack')\n",
    "warnings.warn('Do not show this message')"
   ]
  },
  {
   "cell_type": "code",
   "execution_count": 12,
   "metadata": {},
   "outputs": [],
   "source": [
    "cph_lrti_incdt_none0_hrs = pd.read_csv(f'../output/hospitalisation_prediction_lrti/cph_lrti_incdt_none0_hrs.csv')\n",
    "cph_lrti_incdt_low1_hrs = pd.read_csv(f'../output/hospitalisation_prediction_lrti/cph_lrti_incdt_low1_hrs.csv')\n",
    "cph_lrti_incdt_medium2_4_hrs = pd.read_csv(f'../output/hospitalisation_prediction_lrti/cph_lrti_incdt_medium2_4_hrs.csv')\n",
    "cph_lrti_incdt_high5_more_hrs = pd.read_csv(f'../output/hospitalisation_prediction_lrti/cph_lrti_incdt_high5_more_hrs.csv')\n",
    "cph_lrti_prevl_none0_hrs = pd.read_csv(f'../output/hospitalisation_prediction_lrti/cph_lrti_prevl_none0_hrs.csv')\n",
    "cph_lrti_prevl_low1_hrs = pd.read_csv(f'../output/hospitalisation_prediction_lrti/cph_lrti_prevl_low1_hrs.csv')\n",
    "cph_lrti_prevl_medium2_4_hrs = pd.read_csv(f'../output/hospitalisation_prediction_lrti/cph_lrti_prevl_medium2_4_hrs.csv')\n",
    "cph_lrti_prevl_high5_more_hrs = pd.read_csv(f'../output/hospitalisation_prediction_lrti/cph_lrti_prevl_high5_more_hrs.csv')"
   ]
  },
  {
   "cell_type": "code",
   "execution_count": 31,
   "metadata": {},
   "outputs": [],
   "source": [
    "cph_urti_combined_incdt_none0_hrs = pd.read_csv(f'../output/hospitalisation_prediction_urti_combined/cph_urti_combined_incdt_none0_hrs.csv')\n",
    "cph_urti_combined_incdt_low1_hrs = pd.read_csv(f'../output/hospitalisation_prediction_urti_combined/cph_urti_combined_incdt_low1_hrs.csv')\n",
    "cph_urti_combined_incdt_medium2_4_hrs = pd.read_csv(f'../output/hospitalisation_prediction_urti_combined/cph_urti_combined_incdt_medium2_4_hrs.csv')\n",
    "cph_urti_combined_incdt_high5_more_hrs = pd.read_csv(f'../output/hospitalisation_prediction_urti_combined/cph_urti_combined_incdt_high5_more_hrs.csv')\n",
    "cph_urti_combined_prevl_none0_hrs = pd.read_csv(f'../output/hospitalisation_prediction_urti_combined/cph_urti_combined_prevl_none0_hrs.csv')\n",
    "cph_urti_combined_prevl_low1_hrs = pd.read_csv(f'../output/hospitalisation_prediction_urti_combined/cph_urti_combined_prevl_low1_hrs.csv')\n",
    "cph_urti_combined_prevl_medium2_4_hrs = pd.read_csv(f'../output/hospitalisation_prediction_urti_combined/cph_urti_combined_prevl_medium2_4_hrs.csv')\n",
    "cph_urti_combined_prevl_high5_more_hrs = pd.read_csv(f'../output/hospitalisation_prediction_urti_combined/cph_urti_combined_prevl_high5_more_hrs.csv')"
   ]
  },
  {
   "cell_type": "code",
   "execution_count": 32,
   "metadata": {},
   "outputs": [],
   "source": [
    "cph_uti_incdt_none0_hrs = pd.read_csv(f'../output/hospitalisation_prediction_uti/cph_uti_incdt_none0_hrs.csv')\n",
    "cph_uti_incdt_low1_hrs = pd.read_csv(f'../output/hospitalisation_prediction_uti/cph_uti_incdt_low1_hrs.csv')\n",
    "cph_uti_incdt_medium2_4_hrs = pd.read_csv(f'../output/hospitalisation_prediction_uti/cph_uti_incdt_medium2_4_hrs.csv')\n",
    "cph_uti_incdt_high5_more_hrs = pd.read_csv(f'../output/hospitalisation_prediction_uti/cph_uti_incdt_high5_more_hrs.csv')\n",
    "cph_uti_prevl_none0_hrs = pd.read_csv(f'../output/hospitalisation_prediction_uti/cph_uti_prevl_none0_hrs.csv')\n",
    "cph_uti_prevl_low1_hrs = pd.read_csv(f'../output/hospitalisation_prediction_uti/cph_uti_prevl_low1_hrs.csv')\n",
    "cph_uti_prevl_medium2_4_hrs = pd.read_csv(f'../output/hospitalisation_prediction_uti/cph_uti_prevl_medium2_4_hrs.csv')\n",
    "cph_uti_prevl_high5_more_hrs = pd.read_csv(f'../output/hospitalisation_prediction_uti/cph_uti_prevl_high5_more_hrs.csv')"
   ]
  },
  {
   "cell_type": "code",
   "execution_count": 33,
   "metadata": {},
   "outputs": [],
   "source": [
    "cph_sinusitis_incdt_none0_hrs = pd.read_csv(f'../output/hospitalisation_prediction_sinusitis/cph_sinusitis_incdt_none0_hrs.csv')\n",
    "cph_sinusitis_incdt_low1_hrs = pd.read_csv(f'../output/hospitalisation_prediction_sinusitis/cph_sinusitis_incdt_low1_hrs.csv')\n",
    "cph_sinusitis_incdt_medium2_4_hrs = pd.read_csv(f'../output/hospitalisation_prediction_sinusitis/cph_sinusitis_incdt_medium2_4_hrs.csv')\n",
    "cph_sinusitis_incdt_high5_more_hrs = pd.read_csv(f'../output/hospitalisation_prediction_sinusitis/cph_sinusitis_incdt_high5_more_hrs.csv')\n",
    "cph_sinusitis_prevl_none0_hrs = pd.read_csv(f'../output/hospitalisation_prediction_sinusitis/cph_sinusitis_prevl_none0_hrs.csv')\n",
    "cph_sinusitis_prevl_low1_hrs = pd.read_csv(f'../output/hospitalisation_prediction_sinusitis/cph_sinusitis_prevl_low1_hrs.csv')\n",
    "cph_sinusitis_prevl_medium2_4_hrs = pd.read_csv(f'../output/hospitalisation_prediction_sinusitis/cph_sinusitis_prevl_medium2_4_hrs.csv')\n",
    "cph_sinusitis_prevl_high5_more_hrs = pd.read_csv(f'../output/hospitalisation_prediction_sinusitis/cph_sinusitis_prevl_high5_more_hrs.csv')"
   ]
  },
  {
   "cell_type": "code",
   "execution_count": 34,
   "metadata": {},
   "outputs": [],
   "source": [
    "cph_otmedia_incdt_none0_hrs = pd.read_csv(f'../output/hospitalisation_prediction_otmedia/cph_otmedia_incdt_none0_hrs.csv')\n",
    "cph_otmedia_incdt_low1_hrs = pd.read_csv(f'../output/hospitalisation_prediction_otmedia/cph_otmedia_incdt_low1_hrs.csv')\n",
    "cph_otmedia_incdt_medium2_4_hrs = pd.read_csv(f'../output/hospitalisation_prediction_otmedia/cph_otmedia_incdt_medium2_4_hrs.csv')\n",
    "cph_otmedia_incdt_high5_more_hrs = pd.read_csv(f'../output/hospitalisation_prediction_otmedia/cph_otmedia_incdt_high5_more_hrs.csv')\n",
    "cph_otmedia_prevl_none0_hrs = pd.read_csv(f'../output/hospitalisation_prediction_otmedia/cph_otmedia_prevl_none0_hrs.csv')\n",
    "cph_otmedia_prevl_low1_hrs = pd.read_csv(f'../output/hospitalisation_prediction_otmedia/cph_otmedia_prevl_low1_hrs.csv')\n",
    "cph_otmedia_prevl_medium2_4_hrs = pd.read_csv(f'../output/hospitalisation_prediction_otmedia/cph_otmedia_prevl_medium2_4_hrs.csv')\n",
    "cph_otmedia_prevl_high5_more_hrs = pd.read_csv(f'../output/hospitalisation_prediction_otmedia/cph_otmedia_prevl_high5_more_hrs.csv')"
   ]
  },
  {
   "cell_type": "code",
   "execution_count": 35,
   "metadata": {},
   "outputs": [],
   "source": [
    "cph_ot_externa_incdt_none0_hrs = pd.read_csv(f'../output/hospitalisation_prediction_ot_externa/cph_ot_externa_incdt_none0_hrs.csv')\n",
    "cph_ot_externa_incdt_low1_hrs = pd.read_csv(f'../output/hospitalisation_prediction_ot_externa/cph_ot_externa_incdt_low1_hrs.csv')\n",
    "cph_ot_externa_incdt_medium2_4_hrs = pd.read_csv(f'../output/hospitalisation_prediction_ot_externa/cph_ot_externa_incdt_medium2_4_hrs.csv')\n",
    "cph_ot_externa_incdt_high5_more_hrs = pd.read_csv(f'../output/hospitalisation_prediction_ot_externa/cph_ot_externa_incdt_high5_more_hrs.csv')\n",
    "cph_ot_externa_prevl_none0_hrs = pd.read_csv(f'../output/hospitalisation_prediction_ot_externa/cph_ot_externa_prevl_none0_hrs.csv')\n",
    "cph_ot_externa_prevl_low1_hrs = pd.read_csv(f'../output/hospitalisation_prediction_ot_externa/cph_ot_externa_prevl_low1_hrs.csv')\n",
    "cph_ot_externa_prevl_medium2_4_hrs = pd.read_csv(f'../output/hospitalisation_prediction_ot_externa/cph_ot_externa_prevl_medium2_4_hrs.csv')\n",
    "cph_ot_externa_prevl_high5_more_hrs = pd.read_csv(f'../output/hospitalisation_prediction_ot_externa/cph_ot_externa_prevl_high5_more_hrs.csv')"
   ]
  },
  {
   "cell_type": "code",
   "execution_count": 36,
   "metadata": {},
   "outputs": [],
   "source": [
    "cph_urti_incdt_none0_hrs = pd.read_csv(f'../output/hospitalisation_prediction_urti/cph_urti_incdt_none0_hrs.csv')\n",
    "cph_urti_incdt_low1_hrs = pd.read_csv(f'../output/hospitalisation_prediction_urti/cph_urti_incdt_low1_hrs.csv')\n",
    "cph_urti_incdt_medium2_4_hrs = pd.read_csv(f'../output/hospitalisation_prediction_urti/cph_urti_incdt_medium2_4_hrs.csv')\n",
    "cph_urti_incdt_high5_more_hrs = pd.read_csv(f'../output/hospitalisation_prediction_urti/cph_urti_incdt_high5_more_hrs.csv')\n",
    "cph_urti_prevl_none0_hrs = pd.read_csv(f'../output/hospitalisation_prediction_urti/cph_urti_prevl_none0_hrs.csv')\n",
    "cph_urti_prevl_low1_hrs = pd.read_csv(f'../output/hospitalisation_prediction_urti/cph_urti_prevl_low1_hrs.csv')\n",
    "cph_urti_prevl_medium2_4_hrs = pd.read_csv(f'../output/hospitalisation_prediction_urti/cph_urti_prevl_medium2_4_hrs.csv')\n",
    "cph_urti_prevl_high5_more_hrs = pd.read_csv(f'../output/hospitalisation_prediction_urti/cph_urti_prevl_high5_more_hrs.csv')"
   ]
  },
  {
   "cell_type": "code",
   "execution_count": 37,
   "metadata": {},
   "outputs": [],
   "source": [
    "cph_cough_incdt_none0_hrs = pd.read_csv(f'../output/hospitalisation_prediction_cough/cph_cough_incdt_none0_hrs.csv')\n",
    "cph_cough_incdt_low1_hrs = pd.read_csv(f'../output/hospitalisation_prediction_cough/cph_cough_incdt_low1_hrs.csv')\n",
    "cph_cough_incdt_medium2_4_hrs = pd.read_csv(f'../output/hospitalisation_prediction_cough/cph_cough_incdt_medium2_4_hrs.csv')\n",
    "cph_cough_incdt_high5_more_hrs = pd.read_csv(f'../output/hospitalisation_prediction_cough/cph_cough_incdt_high5_more_hrs.csv')\n",
    "cph_cough_prevl_none0_hrs = pd.read_csv(f'../output/hospitalisation_prediction_cough/cph_cough_prevl_none0_hrs.csv')\n",
    "cph_cough_prevl_low1_hrs = pd.read_csv(f'../output/hospitalisation_prediction_cough/cph_cough_prevl_low1_hrs.csv')\n",
    "cph_cough_prevl_medium2_4_hrs = pd.read_csv(f'../output/hospitalisation_prediction_cough/cph_cough_prevl_medium2_4_hrs.csv')\n",
    "cph_cough_prevl_high5_more_hrs = pd.read_csv(f'../output/hospitalisation_prediction_cough/cph_cough_prevl_high5_more_hrs.csv')"
   ]
  },
  {
   "cell_type": "code",
   "execution_count": 38,
   "metadata": {},
   "outputs": [],
   "source": [
    "cph_cough_cold_incdt_none0_hrs = pd.read_csv(f'../output/hospitalisation_prediction_cough_cold/cph_cough_cold_incdt_none0_hrs.csv')\n",
    "cph_cough_cold_incdt_low1_hrs = pd.read_csv(f'../output/hospitalisation_prediction_cough_cold/cph_cough_cold_incdt_low1_hrs.csv')\n",
    "cph_cough_cold_incdt_medium2_4_hrs = pd.read_csv(f'../output/hospitalisation_prediction_cough_cold/cph_cough_cold_incdt_medium2_4_hrs.csv')\n",
    "cph_cough_cold_incdt_high5_more_hrs = pd.read_csv(f'../output/hospitalisation_prediction_cough_cold/cph_cough_cold_incdt_high5_more_hrs.csv')\n",
    "cph_cough_cold_prevl_none0_hrs = pd.read_csv(f'../output/hospitalisation_prediction_cough_cold/cph_cough_cold_prevl_none0_hrs.csv')\n",
    "cph_cough_cold_prevl_low1_hrs = pd.read_csv(f'../output/hospitalisation_prediction_cough_cold/cph_cough_cold_prevl_low1_hrs.csv')\n",
    "cph_cough_cold_prevl_medium2_4_hrs = pd.read_csv(f'../output/hospitalisation_prediction_cough_cold/cph_cough_cold_prevl_medium2_4_hrs.csv')\n",
    "cph_cough_cold_prevl_high5_more_hrs = pd.read_csv(f'../output/hospitalisation_prediction_cough_cold/cph_cough_cold_prevl_high5_more_hrs.csv')"
   ]
  },
  {
   "cell_type": "code",
   "execution_count": 39,
   "metadata": {},
   "outputs": [],
   "source": [
    "cph_throat_incdt_none0_hrs = pd.read_csv(f'../output/hospitalisation_prediction_throat/cph_throat_incdt_none0_hrs.csv')\n",
    "cph_throat_incdt_low1_hrs = pd.read_csv(f'../output/hospitalisation_prediction_throat/cph_throat_incdt_low1_hrs.csv')\n",
    "cph_throat_incdt_medium2_4_hrs = pd.read_csv(f'../output/hospitalisation_prediction_throat/cph_throat_incdt_medium2_4_hrs.csv')\n",
    "cph_throat_incdt_high5_more_hrs = pd.read_csv(f'../output/hospitalisation_prediction_throat/cph_throat_incdt_high5_more_hrs.csv')\n",
    "cph_throat_prevl_none0_hrs = pd.read_csv(f'../output/hospitalisation_prediction_throat/cph_throat_prevl_none0_hrs.csv')\n",
    "cph_throat_prevl_low1_hrs = pd.read_csv(f'../output/hospitalisation_prediction_throat/cph_throat_prevl_low1_hrs.csv')\n",
    "cph_throat_prevl_medium2_4_hrs = pd.read_csv(f'../output/hospitalisation_prediction_throat/cph_throat_prevl_medium2_4_hrs.csv')\n",
    "cph_throat_prevl_high5_more_hrs = pd.read_csv(f'../output/hospitalisation_prediction_throat/cph_throat_prevl_high5_more_hrs.csv')"
   ]
  },
  {
   "cell_type": "code",
   "execution_count": 9,
   "metadata": {},
   "outputs": [],
   "source": [
    "def data_process_hrs_betas(data_none0_strat, data_low1_strat, data_medium2_4_strat, data_high5_more_strat):\n",
    "    data_none0_strat.columns = ['covariate', 'exp(coef)', '95% lower-bound', '95% upper-bound']\n",
    "    data_low1_strat.columns = ['covariate', 'exp(coef)', '95% lower-bound', '95% upper-bound']\n",
    "    data_medium2_4_strat.columns = ['covariate', 'exp(coef)', '95% lower-bound', '95% upper-bound']\n",
    "    data_high5_more_strat.columns = ['covariate', 'exp(coef)', '95% lower-bound', '95% upper-bound']\n",
    "\n",
    "    data_none0_strat = data_none0_strat[data_none0_strat['covariate'].str.contains('ab_')]\n",
    "    data_low1_strat = data_low1_strat[data_low1_strat['covariate'].str.contains('ab_')]\n",
    "    data_medium2_4_strat = data_medium2_4_strat[data_medium2_4_strat['covariate'].str.contains('ab_')]\n",
    "    data_high5_more_strat = data_high5_more_strat[data_high5_more_strat['covariate'].str.contains('ab_')]\n",
    "\n",
    "    data_none0_strat['covariate'] = data_none0_strat['covariate'].astype(str) + '_none0'\n",
    "    data_low1_strat['covariate'] = data_low1_strat['covariate'].astype(str) + '_low1'\n",
    "    data_medium2_4_strat['covariate'] = data_medium2_4_strat['covariate'].astype(str) + '_medium2_4'\n",
    "    data_high5_more_strat['covariate'] = data_high5_more_strat['covariate'].astype(str) + '_high5_more'    \n",
    "\n",
    "    data_hrs_abs = pd.concat([data_none0_strat, data_low1_strat, data_medium2_4_strat, data_high5_more_strat], axis = 0) \n",
    "\n",
    "    data_hrs_abs['exp(coef)'] = data_hrs_abs['exp(coef)'].apply(lambda x: \"{:.2f}\".format(x))\n",
    "    data_hrs_abs['95% lower-bound'] = data_hrs_abs['95% lower-bound'].apply(lambda x: \"{:.2f}\".format(x))\n",
    "    data_hrs_abs['95% upper-bound'] = data_hrs_abs['95% upper-bound'].apply(lambda x: \"{:.2f}\".format(x))\n",
    "    data_hrs_abs['coef'] = data_hrs_abs['exp(coef)'].astype(str) + \" (\" + data_hrs_abs['95% lower-bound'].astype(str) + '-' + data_hrs_abs['95% upper-bound'].astype(str) + ')'\n",
    "    data_hrs_abs = data_hrs_abs.reset_index(drop=True)\n",
    "\n",
    "    return data_hrs_abs"
   ]
  },
  {
   "cell_type": "code",
   "execution_count": 10,
   "metadata": {},
   "outputs": [],
   "source": [
    "lrti_incdt_hrs = data_process_hrs_betas(cph_lrti_incdt_none0_hrs, cph_lrti_incdt_low1_hrs, cph_lrti_incdt_medium2_4_hrs, cph_lrti_incdt_high5_more_hrs)\n",
    "lrti_prevl_hrs = data_process_hrs_betas(cph_lrti_prevl_none0_hrs, cph_lrti_prevl_low1_hrs, cph_lrti_prevl_medium2_4_hrs, cph_lrti_prevl_high5_more_hrs)\n",
    "\n",
    "urti_combined_incdt_hrs = data_process_hrs_betas(cph_urti_combined_incdt_none0_hrs, cph_urti_combined_incdt_low1_hrs, cph_urti_combined_incdt_medium2_4_hrs, cph_urti_combined_incdt_high5_more_hrs)\n",
    "urti_combined_prevl_hrs = data_process_hrs_betas(cph_urti_combined_prevl_none0_hrs, cph_urti_combined_prevl_low1_hrs, cph_urti_combined_prevl_medium2_4_hrs, cph_urti_combined_prevl_high5_more_hrs)\n",
    "\n",
    "uti_incdt_hrs = data_process_hrs_betas(cph_uti_incdt_none0_hrs, cph_uti_incdt_low1_hrs, cph_uti_incdt_medium2_4_hrs, cph_uti_incdt_high5_more_hrs)\n",
    "uti_prevl_hrs = data_process_hrs_betas(cph_uti_prevl_none0_hrs, cph_uti_prevl_low1_hrs, cph_uti_prevl_medium2_4_hrs, cph_uti_prevl_high5_more_hrs)\n",
    "\n",
    "sinusitis_incdt_hrs = data_process_hrs_betas(cph_sinusitis_incdt_none0_hrs, cph_sinusitis_incdt_low1_hrs, cph_sinusitis_incdt_medium2_4_hrs, cph_sinusitis_incdt_high5_more_hrs)\n",
    "sinusitis_prevl_hrs = data_process_hrs_betas(cph_sinusitis_prevl_none0_hrs, cph_sinusitis_prevl_low1_hrs, cph_sinusitis_prevl_medium2_4_hrs, cph_sinusitis_prevl_high5_more_hrs)\n",
    "\n",
    "otmedia_incdt_hrs = data_process_hrs_betas(cph_otmedia_incdt_none0_hrs, cph_otmedia_incdt_low1_hrs, cph_otmedia_incdt_medium2_4_hrs, cph_otmedia_incdt_high5_more_hrs)\n",
    "otmedia_prevl_hrs = data_process_hrs_betas(cph_otmedia_prevl_none0_hrs, cph_otmedia_prevl_low1_hrs, cph_otmedia_prevl_medium2_4_hrs, cph_otmedia_prevl_high5_more_hrs)\n",
    "\n",
    "ot_externa_incdt_hrs = data_process_hrs_betas(cph_ot_externa_incdt_none0_hrs, cph_ot_externa_incdt_low1_hrs, cph_ot_externa_incdt_medium2_4_hrs, cph_ot_externa_incdt_high5_more_hrs)\n",
    "ot_externa_prevl_hrs = data_process_hrs_betas(cph_ot_externa_prevl_none0_hrs, cph_ot_externa_prevl_low1_hrs, cph_ot_externa_prevl_medium2_4_hrs, cph_ot_externa_prevl_high5_more_hrs)\n",
    "\n",
    "urti_incdt_hrs = data_process_hrs_betas(cph_urti_incdt_none0_hrs, cph_urti_incdt_low1_hrs, cph_urti_incdt_medium2_4_hrs, cph_urti_incdt_high5_more_hrs)\n",
    "urti_prevl_hrs = data_process_hrs_betas(cph_urti_prevl_none0_hrs, cph_urti_prevl_low1_hrs, cph_urti_prevl_medium2_4_hrs, cph_urti_prevl_high5_more_hrs)\n",
    "\n",
    "cough_incdt_hrs = data_process_hrs_betas(cph_cough_incdt_none0_hrs, cph_cough_incdt_low1_hrs, cph_cough_incdt_medium2_4_hrs, cph_cough_incdt_high5_more_hrs)\n",
    "cough_prevl_hrs = data_process_hrs_betas(cph_cough_prevl_none0_hrs, cph_cough_prevl_low1_hrs, cph_cough_prevl_medium2_4_hrs, cph_cough_prevl_high5_more_hrs)\n",
    "\n",
    "cough_cold_incdt_hrs = data_process_hrs_betas(cph_cough_cold_incdt_none0_hrs, cph_cough_cold_incdt_low1_hrs, cph_cough_cold_incdt_medium2_4_hrs, cph_cough_cold_incdt_high5_more_hrs)\n",
    "cough_cold_prevl_hrs = data_process_hrs_betas(cph_cough_cold_prevl_none0_hrs, cph_cough_cold_prevl_low1_hrs, cph_cough_cold_prevl_medium2_4_hrs, cph_cough_cold_prevl_high5_more_hrs)\n",
    "\n",
    "throat_incdt_hrs = data_process_hrs_betas(cph_throat_incdt_none0_hrs, cph_throat_incdt_low1_hrs, cph_throat_incdt_medium2_4_hrs, cph_throat_incdt_high5_more_hrs)\n",
    "throat_prevl_hrs = data_process_hrs_betas(cph_throat_prevl_none0_hrs, cph_throat_prevl_low1_hrs, cph_throat_prevl_medium2_4_hrs, cph_throat_prevl_high5_more_hrs)"
   ]
  },
  {
   "cell_type": "code",
   "execution_count": 52,
   "metadata": {},
   "outputs": [],
   "source": [
    "d = {'covariate': lrti_incdt_hrs['covariate'],\n",
    "     \n",
    "     'lrti_incdt': lrti_incdt_hrs['coef'],\n",
    "     'lrti_prevl': lrti_prevl_hrs['coef'],\n",
    "     \n",
    "     'urti_combined_incdt': urti_combined_incdt_hrs['coef'], \n",
    "     'urti_combined_prevl': urti_combined_prevl_hrs['coef'],\n",
    "     \n",
    "     'uti_incdt': uti_incdt_hrs['coef'], \n",
    "     'uti_prevl': uti_prevl_hrs['coef'],\n",
    "     \n",
    "     'sinusitis_incdt': sinusitis_incdt_hrs['coef'], \n",
    "     'sinusitis_prevl': sinusitis_prevl_hrs['coef'], \n",
    "     \n",
    "     'otmedia_incdt': otmedia_incdt_hrs['coef'], \n",
    "     'otmedia_prevl': otmedia_prevl_hrs['coef'],\n",
    "     \n",
    "     'ot_externa_incdt': ot_externa_incdt_hrs['coef'], \n",
    "     'ot_externa_prevl': ot_externa_prevl_hrs['coef'],\n",
    "\n",
    "     'urti_incdt': urti_incdt_hrs['coef'], \n",
    "     'urti_prevl': urti_prevl_hrs['coef'],\n",
    "\n",
    "     'cough_incdt': cough_incdt_hrs['coef'], \n",
    "     'cough_prevl': cough_prevl_hrs['coef'],\n",
    "     \n",
    "     'cough_cold_incdt': cough_cold_incdt_hrs['coef'], \n",
    "     'cough_cold_prevl': cough_cold_prevl_hrs['coef'],\n",
    "\n",
    "     'throat_incdt': throat_incdt_hrs['coef'], \n",
    "     'throat_prevl': throat_prevl_hrs['coef'],\n",
    "    }\n",
    "data = pd.DataFrame(data=d)\n",
    "\n",
    "#replace \n",
    "data['covariate'] = data['covariate'].str.replace('lrti_ab_date', 'ab')\n",
    "\n",
    "# #remove HRs that their models did not converge\n",
    "# data.loc[data['covariate'] == 'ab_55_64', 'sinusitis_prevl'] = \"-\" #cph_sinusitis_prevl_ab_55_64_1\n",
    "# data.loc[data['covariate'] == 'ab_65_74', 'sinusitis_prevl'] = \"-\" #cph_sinusitis_prevl_ab_65_74_1\n",
    "# data.loc[data['covariate'] == 'ab_prepandemic', 'sinusitis_prevl'] = \"-\" #cph_sinusitis_prevl_ab_prepandemic_1\n",
    "# data.loc[data['covariate'] == 'ab_during_pandemic', 'sinusitis_prevl'] = \"-\" #cph_sinusitis_prevl_ab_during_pandemic_1\n",
    "# data.loc[data['covariate'] == 'ab_post_2nd_lockdown', 'sinusitis_prevl'] = \"-\" #cph_sinusitis_prevl_ab_post_2nd_lockdown_1\n",
    "# data.loc[data['covariate'] == 'ab_male', 'otmedia_prevl'] = \"-\" #cph_otmedia_prevl_males_hrs\n",
    "# data.loc[data['covariate'] == 'ab_15_24', 'otmedia_prevl'] = \"-\" #cph_otmedia_prevl_ab_15_24_1\n",
    "# data.loc[data['covariate'] == 'ab_35_44', 'otmedia_prevl'] = \"-\" #cph_otmedia_prevl_ab_35_44_1\n",
    "# data.loc[data['covariate'] == 'ab_35_44', 'otmedia_incdt'] = \"-\" #cph_otmedia_incdt_ab_35_44_1\n",
    "# data.loc[data['covariate'] == 'ab_55_64', 'otmedia_prevl'] = \"-\" #cph_otmedia_prevl_ab_55_64_1\n",
    "# data.loc[data['covariate'] == 'ab_during_pandemic', 'otmedia_prevl'] = \"-\" #cph_otmedia_prevl_ab_during_pandemic_1\n",
    "# data.loc[data['covariate'] == 'ab_65_74', 'otmedia_prevl'] = \"-\" #cph_ot_externa_prevl_ab_65_74_1\n",
    "# data.loc[data['covariate'] == 'ab_55_64', 'cough_prevl'] = \"-\" #cph_cough_prevl_ab_55_64_1\n",
    "\n",
    "#save hrs of abs\n",
    "data.to_csv(f'../output/aggregate_hrs_abhist_antibiotics/cph_hrs_abhist_infections.csv', index=False)"
   ]
  },
  {
   "cell_type": "code",
   "execution_count": null,
   "metadata": {},
   "outputs": [],
   "source": [
    "data"
   ]
  }
 ],
 "metadata": {
  "kernelspec": {
   "display_name": "Python 3.10.4 64-bit",
   "language": "python",
   "name": "python3"
  },
  "language_info": {
   "codemirror_mode": {
    "name": "ipython",
    "version": 3
   },
   "file_extension": ".py",
   "mimetype": "text/x-python",
   "name": "python",
   "nbconvert_exporter": "python",
   "pygments_lexer": "ipython3",
   "version": "3.10.4"
  },
  "orig_nbformat": 4,
  "vscode": {
   "interpreter": {
    "hash": "8140142ad7e60c7088d03dcc357baafe7a3ba3d7bdbd31e400f1a9fa984efcb5"
   }
  }
 },
 "nbformat": 4,
 "nbformat_minor": 2
}
