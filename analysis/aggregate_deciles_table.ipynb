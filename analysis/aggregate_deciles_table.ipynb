{
 "cells": [
  {
   "cell_type": "markdown",
   "metadata": {},
   "source": [
    "# Aggregating counts and rates of hospital admissions and make a table"
   ]
  },
  {
   "cell_type": "code",
   "execution_count": 6,
   "metadata": {},
   "outputs": [],
   "source": [
    "import pandas as pd"
   ]
  },
  {
   "cell_type": "markdown",
   "metadata": {},
   "source": [
    "## 0- functions and read data"
   ]
  },
  {
   "cell_type": "code",
   "execution_count": 7,
   "metadata": {},
   "outputs": [],
   "source": [
    "#round counts in a way that the last digit become 0 or 5\n",
    "def round_five_mul(x, base=5):\n",
    "    return base * round(x/base)"
   ]
  },
  {
   "cell_type": "code",
   "execution_count": 9,
   "metadata": {},
   "outputs": [],
   "source": [
    "def data_process(infection, infection_type):\n",
    "    #read data\n",
    "    data = pd.read_csv(f'../output/hospitalisation_prediction_'+infection+'/prob_pred_bin_'+infection+'_'+infection_type+'.csv')#, index=False)\n",
    "    #keep relvant columns\n",
    "    data = data[['bins', 'event_'+infection+'_admitted_sum', 'event_'+infection+'_admitted_mean']]\n",
    "    #round hosp counts in each decile to make their last digit either 0 or 5\n",
    "    data['count'] = round_five_mul(data['event_'+infection+'_admitted_sum'], base=5)\n",
    "    #multiply hosp rate in each decile by 1000 people\n",
    "    data['rate_1000'] = data['event_'+infection+'_admitted_mean']*1000\n",
    "    #keep 0 digits of hosp counts\n",
    "    data['count'] = data['count'].apply(lambda x: \"{:.0f}\".format(x))\n",
    "    #replace small hosp counts (<=5) with 'SN'\n",
    "    data.loc[(data['event_'+infection+'_admitted_sum'] <= 5), 'count'] = 'SN'\n",
    "    #keep 1 digits of hosp rate\n",
    "    data['rate_1000'] = data['rate_1000'].apply(lambda x: \"{:.1f}\".format(x))\n",
    "    #make new column with counts and rates\n",
    "    data[infection+'_'+infection_type+'_count_rate'] = data['count'].astype(str) + ' (' + data['rate_1000'].astype(str) + ')'\n",
    "\n",
    "    return data[[infection+'_'+infection_type+'_count_rate']]"
   ]
  },
  {
   "cell_type": "markdown",
   "metadata": {},
   "source": [
    "## 1- process data to make a table of counts and rates, and save it"
   ]
  },
  {
   "cell_type": "code",
   "execution_count": 11,
   "metadata": {},
   "outputs": [],
   "source": [
    "summary_table_cases_lrti_incdt = data_process('lrti', 'incdt')\n",
    "summary_table_cases_lrti_prevl = data_process('lrti', 'prevl')\n",
    "summary_table_cases_urti_combined_incdt = data_process('urti_combined', 'incdt')\n",
    "summary_table_cases_urti_combined_prevl = data_process('urti_combined', 'prevl')\n",
    "summary_table_cases_uti_incdt = data_process('uti', 'incdt')\n",
    "summary_table_cases_uti_prevl = data_process('uti', 'prevl')\n",
    "summary_table_cases_sinusitis_incdt = data_process('sinusitis', 'incdt')\n",
    "# summary_table_cases_sinusitis_prevl = data_process('sinusitis', 'prevl')\n",
    "summary_table_cases_otmedia_incdt = data_process('otmedia', 'incdt')\n",
    "summary_table_cases_otmedia_prevl = data_process('otmedia', 'prevl')\n",
    "summary_table_cases_ot_externa_incdt = data_process('ot_externa', 'incdt')\n",
    "summary_table_cases_ot_externa_prevl = data_process('ot_externa', 'prevl')\n",
    "summary_table_cases_urti_incdt = data_process('urti', 'incdt')\n",
    "summary_table_cases_urti_prevl = data_process('urti', 'prevl')\n",
    "summary_table_cases_cough_incdt = data_process('cough', 'incdt')\n",
    "summary_table_cases_cough_prevl = data_process('cough', 'prevl')\n",
    "summary_table_cases_cough_cold_incdt = data_process('cough_cold', 'incdt')\n",
    "summary_table_cases_cough_cold_prevl = data_process('cough_cold', 'prevl')\n",
    "summary_table_cases_throat_incdt = data_process('throat', 'incdt')\n",
    "summary_table_cases_throat_prevl = data_process('throat', 'prevl')"
   ]
  },
  {
   "cell_type": "code",
   "execution_count": 1,
   "metadata": {},
   "outputs": [],
   "source": [
    "#concat all processed data\n",
    "data = pd.concat([summary_table_cases_lrti_incdt, summary_table_cases_lrti_prevl, summary_table_cases_urti_combined_incdt, summary_table_cases_urti_combined_prevl, summary_table_cases_uti_incdt, summary_table_cases_uti_prevl, summary_table_cases_sinusitis_incdt, summary_table_cases_otmedia_incdt, summary_table_cases_otmedia_prevl, summary_table_cases_ot_externa_incdt, summary_table_cases_ot_externa_prevl, summary_table_cases_urti_incdt, summary_table_cases_urti_prevl, summary_table_cases_cough_incdt, summary_table_cases_cough_prevl, summary_table_cases_cough_cold_incdt, summary_table_cases_cough_cold_prevl, summary_table_cases_throat_incdt, summary_table_cases_throat_prevl], axis=1)\n",
    "#save\n",
    "data.to_csv(f'../output/aggregate_deciles_table/decile_table_all_infections.csv', index=False)"
   ]
  }
 ],
 "metadata": {
  "kernelspec": {
   "display_name": "Python 3.10.4 64-bit",
   "language": "python",
   "name": "python3"
  },
  "language_info": {
   "codemirror_mode": {
    "name": "ipython",
    "version": 3
   },
   "file_extension": ".py",
   "mimetype": "text/x-python",
   "name": "python",
   "nbconvert_exporter": "python",
   "pygments_lexer": "ipython3",
   "version": "3.10.4"
  },
  "orig_nbformat": 4,
  "vscode": {
   "interpreter": {
    "hash": "8140142ad7e60c7088d03dcc357baafe7a3ba3d7bdbd31e400f1a9fa984efcb5"
   }
  }
 },
 "nbformat": 4,
 "nbformat_minor": 2
}
