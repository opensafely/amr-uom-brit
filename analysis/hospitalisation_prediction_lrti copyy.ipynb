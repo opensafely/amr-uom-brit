{
 "cells": [
  {
   "cell_type": "markdown",
   "metadata": {},
   "source": [
    "# Predcition of Hospital Admission Related to Infections\n",
    "\n",
    "In this notebook, we develop a Cox proportional hazard regression model to predict the risk of hospital admission for common infections including urinary tract infection (lrti), upper respiratory tract infection (lrti), lower respiratory tract infection (LRTI), sinusitis, otitis media or middle ear infection (ot media), and ear infection or otitis externa (ot externa)."
   ]
  },
  {
   "cell_type": "code",
   "execution_count": 1,
   "metadata": {},
   "outputs": [],
   "source": [
    "import pandas as pd\n",
    "from matplotlib import pyplot\n",
    "import matplotlib.pyplot as plt\n",
    "import seaborn as sns\n",
    "import math\n",
    "import numpy as np\n",
    "import os\n",
    "import glob\n",
    "import gzip\n",
    "from matplotlib.ticker import PercentFormatter\n",
    "from patsy import dmatrices\n",
    "from lifelines import CoxPHFitter\n",
    "import statsmodels.api as sm\n",
    "import statsmodels.formula.api as smf\n",
    "from sklearn.impute import SimpleImputer\n",
    "from sklearn.experimental import enable_iterative_imputer\n",
    "from sklearn.impute import IterativeImputer\n",
    "from sklearn.impute import KNNImputer\n",
    "import pickle\n",
    "from sklearn.preprocessing import PolynomialFeatures\n",
    "from lifelines.utils import k_fold_cross_validation\n",
    "from lifelines.utils import concordance_index\n",
    "from lifelines.calibration import survival_probability_calibration\n",
    "from sklearn.model_selection import train_test_split\n",
    "from sklearn.ensemble import RandomForestClassifier\n",
    "from sklearn.datasets import make_classification\n",
    "from sklearn.linear_model import LogisticRegression\n",
    "from sklearn.model_selection import cross_val_score\n",
    "from sklearn.model_selection import RepeatedStratifiedKFold\n",
    "from sklearn.metrics import confusion_matrix\n",
    "from sklearn.metrics import roc_curve, roc_auc_score\n",
    "from sklearn.metrics import brier_score_loss\n",
    "from sklearn.calibration import CalibrationDisplay\n",
    "from sklearn.preprocessing import OneHotEncoder\n",
    "from sklearn.calibration import calibration_curve\n",
    "from datetime import date\n",
    "from operator import attrgetter\n",
    "import io\n",
    "import sys\n",
    "from contextlib import redirect_stdout\n",
    "# %matplotlib inline"
   ]
  },
  {
   "cell_type": "code",
   "execution_count": 2,
   "metadata": {},
   "outputs": [
    {
     "name": "stdout",
     "output_type": "stream",
     "text": [
      "No Warning Shown\n"
     ]
    }
   ],
   "source": [
    "import warnings\n",
    "warnings.filterwarnings('ignore')\n",
    "warnings.warn('DelftStack')\n",
    "warnings.warn('Do not show this message')\n",
    "print(\"No Warning Shown\")"
   ]
  },
  {
   "cell_type": "markdown",
   "metadata": {},
   "source": [
    "## 0- Functions"
   ]
  },
  {
   "cell_type": "code",
   "execution_count": 3,
   "metadata": {},
   "outputs": [],
   "source": [
    "# def create_lineplot(data, var, title, legend_title, ax1):\n",
    "def create_lineplot(data, var, title, ax1):\n",
    "    a = data.groupby(['date', var]).size().reset_index()\n",
    "    a.columns = ['date', var, 'Freq']\n",
    "    # a.Freq = a.Freq*1000\n",
    "    a = a[a.Freq > 5]\n",
    "    sns.lineplot(x='date', y='Freq', \n",
    "            hue=var, \n",
    "            data=a,\n",
    "            ax=ax1)\n",
    "    ax1.set_title(title)\n",
    "    ax1.set_ylabel('Count')\n",
    "    ax1.xaxis.set_tick_params(which='both', labelbottom=True, labeltop=False, rotation=90)\n",
    "#     ax1.legend(title=legend_title)\n",
    "    # ax1.grid()\n",
    "    ax1.axvline(x=\"2020-01\", color='black', ls='--', lw=1.5)\n",
    "    ax1.axvline(x=\"2020-04\", color='black', ls='--', lw=1.5)\n",
    "    ax1.axvline(x=\"2021-04\", color='black', ls='--', lw=1.5)"
   ]
  },
  {
   "cell_type": "code",
   "execution_count": 4,
   "metadata": {},
   "outputs": [],
   "source": [
    "# function to transform cph model summary and save it as html\n",
    "def GetPrintSummary(model):\n",
    "    output = \"\"\n",
    "    with io.StringIO() as buf, redirect_stdout(buf):\n",
    "        model.print_summary(style=\"html\")\n",
    "        output = buf.getvalue()\n",
    "    return output"
   ]
  },
  {
   "cell_type": "code",
   "execution_count": 5,
   "metadata": {},
   "outputs": [],
   "source": [
    "def ConvertColumns(InfectionKey, NumSets):\n",
    "    for i in range(1, NumSets+1):        \n",
    "        arrayKey1 = 'admitted_'+InfectionKey+'_date_'+str(i)\n",
    "        #arrayKey2 = InfectionKey+'_date_'+str(i)\n",
    "        data[arrayKey1] = data[arrayKey1].astype('datetime64[ns]')"
   ]
  },
  {
   "cell_type": "code",
   "execution_count": 6,
   "metadata": {},
   "outputs": [],
   "source": [
    "def round_five_mul(x, base=5):\n",
    "    return base * round(x/base)"
   ]
  },
  {
   "cell_type": "markdown",
   "metadata": {},
   "source": [
    "## 1- Data Preparation"
   ]
  },
  {
   "cell_type": "code",
   "execution_count": 174,
   "metadata": {},
   "outputs": [
    {
     "data": {
      "text/plain": [
       "(200000, 79)"
      ]
     },
     "execution_count": 174,
     "metadata": {},
     "output_type": "execute_result"
    }
   ],
   "source": [
    "data = pd.read_csv(f'../output/hospitalisation_data/input_hospitalisation_lrti.csv.gz')\n",
    "# data_bmi = pd.read_csv(f'../output/hospitalisation_data/input_bmi.csv.gz')\n",
    "\n",
    "data.shape"
   ]
  },
  {
   "cell_type": "code",
   "execution_count": null,
   "metadata": {},
   "outputs": [],
   "source": [
    "# save model outputs\n",
    "a = open(\"../output/hospitalisation_prediction_lrti/data_lrti_record_cph_lrti.txt\", \"w\")\n",
    "a.write(\"\")\n",
    "a.writelines(['data_lrti_1 #with a record, #with no record: %.0f' % (data['lrti_date_1'].notna().sum()), ', %.0f' % (data['lrti_date_1'].isna().sum()),\n",
    "              '\\ndata_lrti_2 #with a record, #with no record: %.0f' % (data['lrti_date_2'].notna().sum()), ', %.0f' % (data['lrti_date_2'].isna().sum()),\n",
    "              '\\ndata_lrti_3 #with a record, #with no record: %.0f' % (data['lrti_date_3'].notna().sum()), ', %.0f' % (data['lrti_date_3'].isna().sum()),\n",
    "              '\\ndata_lrti_4 #with a record, #with no record: %.0f' % (data['lrti_date_4'].notna().sum()), ', %.0f' % (data['lrti_date_4'].isna().sum()),\n",
    "              ])"
   ]
  },
  {
   "cell_type": "code",
   "execution_count": 184,
   "metadata": {},
   "outputs": [],
   "source": [
    "# save model outputs\n",
    "a = open(\"../output/hospitalisation_prediction_lrti/data_gp_counts_cph_lrti.txt\", \"w\")\n",
    "a.write(\"\")\n",
    "a.writelines(['data_lrti_1 #with gp cons, #with no gp cons: %.0f' % (data['gp_cons_lrti_1'].notna().sum()), ', %.0f' % (data['gp_cons_lrti_1'].isna().sum()),\n",
    "              '\\ndata_lrti_2 #with gp cons, #with no gp cons: %.0f' % (data['gp_cons_lrti_2'].notna().sum()), ', %.0f' % (data['gp_cons_lrti_2'].isna().sum()),\n",
    "              '\\ndata_lrti_3 #with gp cons, #with no gp cons: %.0f' % (data['gp_cons_lrti_3'].notna().sum()), ', %.0f' % (data['gp_cons_lrti_3'].isna().sum()),\n",
    "              '\\ndata_lrti_4 #with gp cons, #with no gp cons: %.0f' % (data['gp_cons_lrti_4'].notna().sum()), ', %.0f' % (data['gp_cons_lrti_4'].isna().sum()),\n",
    "              ])"
   ]
  },
  {
   "cell_type": "code",
   "execution_count": 8,
   "metadata": {},
   "outputs": [
    {
     "data": {
      "text/html": [
       "<div>\n",
       "<style scoped>\n",
       "    .dataframe tbody tr th:only-of-type {\n",
       "        vertical-align: middle;\n",
       "    }\n",
       "\n",
       "    .dataframe tbody tr th {\n",
       "        vertical-align: top;\n",
       "    }\n",
       "\n",
       "    .dataframe thead th {\n",
       "        text-align: right;\n",
       "    }\n",
       "</style>\n",
       "<table border=\"1\" class=\"dataframe\">\n",
       "  <thead>\n",
       "    <tr style=\"text-align: right;\">\n",
       "      <th></th>\n",
       "      <th>deregistered_date</th>\n",
       "      <th>died_date</th>\n",
       "      <th>bmi_date_measured</th>\n",
       "      <th>smoking_status_date</th>\n",
       "      <th>most_recent_unclear_smoking_cat_date</th>\n",
       "      <th>flu_vaccine_med</th>\n",
       "      <th>flu_vaccine_clinical</th>\n",
       "      <th>admitted_date</th>\n",
       "      <th>lrti_date_1</th>\n",
       "      <th>lrti_date_2</th>\n",
       "      <th>...</th>\n",
       "      <th>incdt_lrti_date_4</th>\n",
       "      <th>sgss_gp_cov_lrti_date_1</th>\n",
       "      <th>sgss_gp_cov_lrti_date_2</th>\n",
       "      <th>sgss_gp_cov_lrti_date_3</th>\n",
       "      <th>sgss_gp_cov_lrti_date_4</th>\n",
       "      <th>lrti_ab_count_1</th>\n",
       "      <th>lrti_ab_count_2</th>\n",
       "      <th>lrti_ab_count_3</th>\n",
       "      <th>lrti_ab_count_4</th>\n",
       "      <th>patient_id</th>\n",
       "    </tr>\n",
       "  </thead>\n",
       "  <tbody>\n",
       "    <tr>\n",
       "      <th>count</th>\n",
       "      <td>10000</td>\n",
       "      <td>20000</td>\n",
       "      <td>150000</td>\n",
       "      <td>20000</td>\n",
       "      <td>20000</td>\n",
       "      <td>20000</td>\n",
       "      <td>20000</td>\n",
       "      <td>60000</td>\n",
       "      <td>20000</td>\n",
       "      <td>20000</td>\n",
       "      <td>...</td>\n",
       "      <td>200000.000000</td>\n",
       "      <td>200000.000000</td>\n",
       "      <td>200000.000000</td>\n",
       "      <td>200000.000000</td>\n",
       "      <td>200000.000000</td>\n",
       "      <td>200000.000000</td>\n",
       "      <td>200000.000000</td>\n",
       "      <td>200000.000000</td>\n",
       "      <td>200000.000000</td>\n",
       "      <td>2.000000e+05</td>\n",
       "    </tr>\n",
       "    <tr>\n",
       "      <th>unique</th>\n",
       "      <td>1332</td>\n",
       "      <td>749</td>\n",
       "      <td>44</td>\n",
       "      <td>44</td>\n",
       "      <td>44</td>\n",
       "      <td>13</td>\n",
       "      <td>13</td>\n",
       "      <td>1333</td>\n",
       "      <td>1333</td>\n",
       "      <td>1333</td>\n",
       "      <td>...</td>\n",
       "      <td>NaN</td>\n",
       "      <td>NaN</td>\n",
       "      <td>NaN</td>\n",
       "      <td>NaN</td>\n",
       "      <td>NaN</td>\n",
       "      <td>NaN</td>\n",
       "      <td>NaN</td>\n",
       "      <td>NaN</td>\n",
       "      <td>NaN</td>\n",
       "      <td>NaN</td>\n",
       "    </tr>\n",
       "    <tr>\n",
       "      <th>top</th>\n",
       "      <td>2020-07-06</td>\n",
       "      <td>2022-08-24</td>\n",
       "      <td>2021-07</td>\n",
       "      <td>2022-05</td>\n",
       "      <td>2019-09</td>\n",
       "      <td>2018-03</td>\n",
       "      <td>2018-03</td>\n",
       "      <td>2019-05-05</td>\n",
       "      <td>2019-07-02</td>\n",
       "      <td>2019-05-30</td>\n",
       "      <td>...</td>\n",
       "      <td>NaN</td>\n",
       "      <td>NaN</td>\n",
       "      <td>NaN</td>\n",
       "      <td>NaN</td>\n",
       "      <td>NaN</td>\n",
       "      <td>NaN</td>\n",
       "      <td>NaN</td>\n",
       "      <td>NaN</td>\n",
       "      <td>NaN</td>\n",
       "      <td>NaN</td>\n",
       "    </tr>\n",
       "    <tr>\n",
       "      <th>freq</th>\n",
       "      <td>16</td>\n",
       "      <td>150</td>\n",
       "      <td>3628</td>\n",
       "      <td>498</td>\n",
       "      <td>503</td>\n",
       "      <td>1758</td>\n",
       "      <td>1780</td>\n",
       "      <td>70</td>\n",
       "      <td>33</td>\n",
       "      <td>29</td>\n",
       "      <td>...</td>\n",
       "      <td>NaN</td>\n",
       "      <td>NaN</td>\n",
       "      <td>NaN</td>\n",
       "      <td>NaN</td>\n",
       "      <td>NaN</td>\n",
       "      <td>NaN</td>\n",
       "      <td>NaN</td>\n",
       "      <td>NaN</td>\n",
       "      <td>NaN</td>\n",
       "      <td>NaN</td>\n",
       "    </tr>\n",
       "    <tr>\n",
       "      <th>mean</th>\n",
       "      <td>NaN</td>\n",
       "      <td>NaN</td>\n",
       "      <td>NaN</td>\n",
       "      <td>NaN</td>\n",
       "      <td>NaN</td>\n",
       "      <td>NaN</td>\n",
       "      <td>NaN</td>\n",
       "      <td>NaN</td>\n",
       "      <td>NaN</td>\n",
       "      <td>NaN</td>\n",
       "      <td>...</td>\n",
       "      <td>0.100000</td>\n",
       "      <td>0.100000</td>\n",
       "      <td>0.100000</td>\n",
       "      <td>0.100000</td>\n",
       "      <td>0.100000</td>\n",
       "      <td>0.900545</td>\n",
       "      <td>0.900275</td>\n",
       "      <td>0.900550</td>\n",
       "      <td>0.900380</td>\n",
       "      <td>9.989110e+05</td>\n",
       "    </tr>\n",
       "    <tr>\n",
       "      <th>std</th>\n",
       "      <td>NaN</td>\n",
       "      <td>NaN</td>\n",
       "      <td>NaN</td>\n",
       "      <td>NaN</td>\n",
       "      <td>NaN</td>\n",
       "      <td>NaN</td>\n",
       "      <td>NaN</td>\n",
       "      <td>NaN</td>\n",
       "      <td>NaN</td>\n",
       "      <td>NaN</td>\n",
       "      <td>...</td>\n",
       "      <td>0.300001</td>\n",
       "      <td>0.300001</td>\n",
       "      <td>0.300001</td>\n",
       "      <td>0.300001</td>\n",
       "      <td>0.300001</td>\n",
       "      <td>1.860186</td>\n",
       "      <td>1.860268</td>\n",
       "      <td>1.859556</td>\n",
       "      <td>1.860197</td>\n",
       "      <td>5.782121e+05</td>\n",
       "    </tr>\n",
       "    <tr>\n",
       "      <th>min</th>\n",
       "      <td>NaN</td>\n",
       "      <td>NaN</td>\n",
       "      <td>NaN</td>\n",
       "      <td>NaN</td>\n",
       "      <td>NaN</td>\n",
       "      <td>NaN</td>\n",
       "      <td>NaN</td>\n",
       "      <td>NaN</td>\n",
       "      <td>NaN</td>\n",
       "      <td>NaN</td>\n",
       "      <td>...</td>\n",
       "      <td>0.000000</td>\n",
       "      <td>0.000000</td>\n",
       "      <td>0.000000</td>\n",
       "      <td>0.000000</td>\n",
       "      <td>0.000000</td>\n",
       "      <td>0.000000</td>\n",
       "      <td>0.000000</td>\n",
       "      <td>0.000000</td>\n",
       "      <td>0.000000</td>\n",
       "      <td>1.000000e+00</td>\n",
       "    </tr>\n",
       "    <tr>\n",
       "      <th>25%</th>\n",
       "      <td>NaN</td>\n",
       "      <td>NaN</td>\n",
       "      <td>NaN</td>\n",
       "      <td>NaN</td>\n",
       "      <td>NaN</td>\n",
       "      <td>NaN</td>\n",
       "      <td>NaN</td>\n",
       "      <td>NaN</td>\n",
       "      <td>NaN</td>\n",
       "      <td>NaN</td>\n",
       "      <td>...</td>\n",
       "      <td>0.000000</td>\n",
       "      <td>0.000000</td>\n",
       "      <td>0.000000</td>\n",
       "      <td>0.000000</td>\n",
       "      <td>0.000000</td>\n",
       "      <td>0.000000</td>\n",
       "      <td>0.000000</td>\n",
       "      <td>0.000000</td>\n",
       "      <td>0.000000</td>\n",
       "      <td>4.967728e+05</td>\n",
       "    </tr>\n",
       "    <tr>\n",
       "      <th>50%</th>\n",
       "      <td>NaN</td>\n",
       "      <td>NaN</td>\n",
       "      <td>NaN</td>\n",
       "      <td>NaN</td>\n",
       "      <td>NaN</td>\n",
       "      <td>NaN</td>\n",
       "      <td>NaN</td>\n",
       "      <td>NaN</td>\n",
       "      <td>NaN</td>\n",
       "      <td>NaN</td>\n",
       "      <td>...</td>\n",
       "      <td>0.000000</td>\n",
       "      <td>0.000000</td>\n",
       "      <td>0.000000</td>\n",
       "      <td>0.000000</td>\n",
       "      <td>0.000000</td>\n",
       "      <td>0.000000</td>\n",
       "      <td>0.000000</td>\n",
       "      <td>0.000000</td>\n",
       "      <td>0.000000</td>\n",
       "      <td>9.994895e+05</td>\n",
       "    </tr>\n",
       "    <tr>\n",
       "      <th>75%</th>\n",
       "      <td>NaN</td>\n",
       "      <td>NaN</td>\n",
       "      <td>NaN</td>\n",
       "      <td>NaN</td>\n",
       "      <td>NaN</td>\n",
       "      <td>NaN</td>\n",
       "      <td>NaN</td>\n",
       "      <td>NaN</td>\n",
       "      <td>NaN</td>\n",
       "      <td>NaN</td>\n",
       "      <td>...</td>\n",
       "      <td>0.000000</td>\n",
       "      <td>0.000000</td>\n",
       "      <td>0.000000</td>\n",
       "      <td>0.000000</td>\n",
       "      <td>0.000000</td>\n",
       "      <td>0.000000</td>\n",
       "      <td>0.000000</td>\n",
       "      <td>0.000000</td>\n",
       "      <td>0.000000</td>\n",
       "      <td>1.501442e+06</td>\n",
       "    </tr>\n",
       "    <tr>\n",
       "      <th>max</th>\n",
       "      <td>NaN</td>\n",
       "      <td>NaN</td>\n",
       "      <td>NaN</td>\n",
       "      <td>NaN</td>\n",
       "      <td>NaN</td>\n",
       "      <td>NaN</td>\n",
       "      <td>NaN</td>\n",
       "      <td>NaN</td>\n",
       "      <td>NaN</td>\n",
       "      <td>NaN</td>\n",
       "      <td>...</td>\n",
       "      <td>1.000000</td>\n",
       "      <td>1.000000</td>\n",
       "      <td>1.000000</td>\n",
       "      <td>1.000000</td>\n",
       "      <td>1.000000</td>\n",
       "      <td>8.000000</td>\n",
       "      <td>10.000000</td>\n",
       "      <td>9.000000</td>\n",
       "      <td>9.000000</td>\n",
       "      <td>1.999961e+06</td>\n",
       "    </tr>\n",
       "  </tbody>\n",
       "</table>\n",
       "<p>11 rows × 79 columns</p>\n",
       "</div>"
      ],
      "text/plain": [
       "       deregistered_date   died_date bmi_date_measured smoking_status_date  \\\n",
       "count              10000       20000            150000               20000   \n",
       "unique              1332         749                44                  44   \n",
       "top           2020-07-06  2022-08-24           2021-07             2022-05   \n",
       "freq                  16         150              3628                 498   \n",
       "mean                 NaN         NaN               NaN                 NaN   \n",
       "std                  NaN         NaN               NaN                 NaN   \n",
       "min                  NaN         NaN               NaN                 NaN   \n",
       "25%                  NaN         NaN               NaN                 NaN   \n",
       "50%                  NaN         NaN               NaN                 NaN   \n",
       "75%                  NaN         NaN               NaN                 NaN   \n",
       "max                  NaN         NaN               NaN                 NaN   \n",
       "\n",
       "       most_recent_unclear_smoking_cat_date flu_vaccine_med  \\\n",
       "count                                 20000           20000   \n",
       "unique                                   44              13   \n",
       "top                                 2019-09         2018-03   \n",
       "freq                                    503            1758   \n",
       "mean                                    NaN             NaN   \n",
       "std                                     NaN             NaN   \n",
       "min                                     NaN             NaN   \n",
       "25%                                     NaN             NaN   \n",
       "50%                                     NaN             NaN   \n",
       "75%                                     NaN             NaN   \n",
       "max                                     NaN             NaN   \n",
       "\n",
       "       flu_vaccine_clinical admitted_date lrti_date_1 lrti_date_2  ...  \\\n",
       "count                 20000         60000       20000       20000  ...   \n",
       "unique                   13          1333        1333        1333  ...   \n",
       "top                 2018-03    2019-05-05  2019-07-02  2019-05-30  ...   \n",
       "freq                   1780            70          33          29  ...   \n",
       "mean                    NaN           NaN         NaN         NaN  ...   \n",
       "std                     NaN           NaN         NaN         NaN  ...   \n",
       "min                     NaN           NaN         NaN         NaN  ...   \n",
       "25%                     NaN           NaN         NaN         NaN  ...   \n",
       "50%                     NaN           NaN         NaN         NaN  ...   \n",
       "75%                     NaN           NaN         NaN         NaN  ...   \n",
       "max                     NaN           NaN         NaN         NaN  ...   \n",
       "\n",
       "       incdt_lrti_date_4 sgss_gp_cov_lrti_date_1 sgss_gp_cov_lrti_date_2  \\\n",
       "count      200000.000000           200000.000000           200000.000000   \n",
       "unique               NaN                     NaN                     NaN   \n",
       "top                  NaN                     NaN                     NaN   \n",
       "freq                 NaN                     NaN                     NaN   \n",
       "mean            0.100000                0.100000                0.100000   \n",
       "std             0.300001                0.300001                0.300001   \n",
       "min             0.000000                0.000000                0.000000   \n",
       "25%             0.000000                0.000000                0.000000   \n",
       "50%             0.000000                0.000000                0.000000   \n",
       "75%             0.000000                0.000000                0.000000   \n",
       "max             1.000000                1.000000                1.000000   \n",
       "\n",
       "       sgss_gp_cov_lrti_date_3 sgss_gp_cov_lrti_date_4 lrti_ab_count_1  \\\n",
       "count            200000.000000           200000.000000   200000.000000   \n",
       "unique                     NaN                     NaN             NaN   \n",
       "top                        NaN                     NaN             NaN   \n",
       "freq                       NaN                     NaN             NaN   \n",
       "mean                  0.100000                0.100000        0.900545   \n",
       "std                   0.300001                0.300001        1.860186   \n",
       "min                   0.000000                0.000000        0.000000   \n",
       "25%                   0.000000                0.000000        0.000000   \n",
       "50%                   0.000000                0.000000        0.000000   \n",
       "75%                   0.000000                0.000000        0.000000   \n",
       "max                   1.000000                1.000000        8.000000   \n",
       "\n",
       "       lrti_ab_count_2 lrti_ab_count_3 lrti_ab_count_4    patient_id  \n",
       "count    200000.000000   200000.000000   200000.000000  2.000000e+05  \n",
       "unique             NaN             NaN             NaN           NaN  \n",
       "top                NaN             NaN             NaN           NaN  \n",
       "freq               NaN             NaN             NaN           NaN  \n",
       "mean          0.900275        0.900550        0.900380  9.989110e+05  \n",
       "std           1.860268        1.859556        1.860197  5.782121e+05  \n",
       "min           0.000000        0.000000        0.000000  1.000000e+00  \n",
       "25%           0.000000        0.000000        0.000000  4.967728e+05  \n",
       "50%           0.000000        0.000000        0.000000  9.994895e+05  \n",
       "75%           0.000000        0.000000        0.000000  1.501442e+06  \n",
       "max          10.000000        9.000000        9.000000  1.999961e+06  \n",
       "\n",
       "[11 rows x 79 columns]"
      ]
     },
     "execution_count": 8,
     "metadata": {},
     "output_type": "execute_result"
    }
   ],
   "source": [
    "data.describe(include='all')"
   ]
  },
  {
   "cell_type": "markdown",
   "metadata": {},
   "source": [
    "### 1-2- Additional variables\n",
    "#### 1-2-1- Calculating Charlson Comorbidity Index\n",
    "Based on https://www.nature.com/articles/4500889.pdf?origin=ppub"
   ]
  },
  {
   "cell_type": "code",
   "execution_count": 1,
   "metadata": {},
   "outputs": [],
   "source": [
    "# data['CCI'] = np.nan\n",
    "# col0 = data.columns.get_loc('CCI')\n",
    "\n",
    "# col1 = data.columns.get_loc('cancer_comor')\n",
    "# col2 = data.columns.get_loc('cardiovascular_comor')\n",
    "# col3 = data.columns.get_loc('chronic_obstructive_pulmonary_comor') ##\n",
    "# col4 = data.columns.get_loc('heart_failure_comor') ##\n",
    "# col5 = data.columns.get_loc('connective_tissue_comor')\n",
    "# col6 = data.columns.get_loc('dementia_comor')\n",
    "# col7 = data.columns.get_loc('diabetes_comor')\n",
    "# col8 = data.columns.get_loc('diabetes_complications_comor')\n",
    "# col9 = data.columns.get_loc('hemiplegia_comor')\n",
    "# col10 = data.columns.get_loc('hiv_comor')\n",
    "# col11 = data.columns.get_loc('metastatic_cancer_comor')\n",
    "# col12 = data.columns.get_loc('mild_liver_comor')\n",
    "# col13 = data.columns.get_loc('mod_severe_liver_comor')\n",
    "# col14 = data.columns.get_loc('mod_severe_renal_comor')\n",
    "# col15 = data.columns.get_loc('mi_comor')\n",
    "# col16 = data.columns.get_loc('peptic_ulcer_comor')\n",
    "# col17 = data.columns.get_loc('peripheral_vascular_comor')\n",
    "# # col18 = data.columns.get_loc('age')\n",
    "\n",
    "\n",
    "# for idx, x in enumerate(data['CCI']):\n",
    "#     n=0\n",
    "#     if data.iat[idx, col15] == 1: # mi_comor\n",
    "#         n=n+1\n",
    "#     if data.iat[idx, col2] == 1: # cardiovascular_comor\n",
    "#         n=n+1 \n",
    "#     if data.iat[idx, col17] == 1: # peripheral_vascular_comor\n",
    "#         n=n+1 \n",
    "#     if data.iat[idx, col3] == 1: # chronic_obstructive_pulmonary_comor\n",
    "#         n=n+1\n",
    "#     if data.iat[idx, col7] == 1: # diabetes_comor\n",
    "#         n=n+1\n",
    "#     if data.iat[idx, col6] == 1: # dementia_comor\n",
    "#         n=n+1\n",
    "#     if data.iat[idx, col16] == 1: # peptic_ulcer_comor\n",
    "#         n=n+1\n",
    "#     if data.iat[idx, col5] == 1: # connective_tissue_comor\n",
    "#         n=n+1\n",
    "#     if data.iat[idx, col12] == 1: # mild_liver_comor\n",
    "#         n=n+1\n",
    "#     if data.iat[idx, col9] == 1: # hemiplegia_comor\n",
    "#         n=n+2\n",
    "#     if data.iat[idx, col14] == 1: # mod_severe_renal_comor\n",
    "#         n=n+2\n",
    "#     if data.iat[idx, col8] == 1: # diabetes_complications_comor\n",
    "#         n=n+2\n",
    "#     if data.iat[idx, col1] == 1: # cancer_comor\n",
    "#         n=n+2\n",
    "#     if data.iat[idx, col13] == 1: # mod_severe_liver_comor\n",
    "#         n=n+3\n",
    "#     if data.iat[idx, col11] == 1: # metastatic_cancer_comor\n",
    "#         n=n+6\n",
    "#     if data.iat[idx, col10] == 1: # hiv_comor\n",
    "#         n=n+6\n",
    "    \n",
    "#     data.iat[idx, col0]=n\n",
    "\n",
    "# data.CCI.value_counts()"
   ]
  },
  {
   "cell_type": "markdown",
   "metadata": {},
   "source": [
    "## 2- Data preparation\n",
    "This includes data type conversion and exclusion of cases that are not considered in the infection-related hospital admission, i.e. those who were diagnosed with Covid19 three months (=90 days) before and one month (=30 days) after hospital admission.\n",
    "\n",
    "### 2-1- Gathering data and exclusion of Covid-19"
   ]
  },
  {
   "cell_type": "markdown",
   "metadata": {},
   "source": [
    "#### LRTI-1"
   ]
  },
  {
   "cell_type": "code",
   "execution_count": 11,
   "metadata": {},
   "outputs": [
    {
     "data": {
      "text/plain": [
       "(1757, 22)"
      ]
     },
     "execution_count": 11,
     "metadata": {},
     "output_type": "execute_result"
    }
   ],
   "source": [
    "# data_lrti_1 = data[['age', 'age_cat', 'sex', 'flu_vaccine', 'smoking_status', 'bmi', 'imd', 'ethnicity', \n",
    "#                     'region', 'hx_hosp', 'CCI', #'meds_nonabs', \n",
    "#                     'gp_count_1', 'antibacterial_brit_1',\n",
    "#                     'died_date', 'deregistered_date', 'gp_cons_lrti_1', 'gp_cons_lrti_ab_1',\n",
    "#                     'lrti_date_1', 'incdt_lrti_date_1', 'admitted_lrti_date_1', 'sgss_gp_cov_lrti_date_1']]\n",
    "\n",
    "# data_lrti_1 = data_lrti_1[data_lrti_1['lrti_date_1'].notnull()]\n",
    "\n",
    "# # exclusion of covid positive 90 days before and 30 days after dx with lrti_1\n",
    "# data_lrti_1 = data_lrti_1[data_lrti_1['sgss_gp_cov_lrti_date_1'] == 0]\n",
    "\n",
    "# # drop rows with no gp_cons_lrti_1 records\n",
    "# data_lrti_1 = data_lrti_1.dropna(subset=['gp_cons_lrti_1'])\n",
    "# data_lrti_1.shape"
   ]
  },
  {
   "cell_type": "markdown",
   "metadata": {},
   "source": [
    "#### lrti-2"
   ]
  },
  {
   "cell_type": "code",
   "execution_count": 12,
   "metadata": {},
   "outputs": [
    {
     "data": {
      "text/plain": [
       "(1844, 22)"
      ]
     },
     "execution_count": 12,
     "metadata": {},
     "output_type": "execute_result"
    }
   ],
   "source": [
    "# data_lrti_2 = data[['age', 'age_cat', 'sex', 'flu_vaccine', 'smoking_status', 'bmi', 'imd', 'ethnicity', \n",
    "#                     'region', 'hx_hosp', 'CCI', #'meds_nonabs',\n",
    "#                     'gp_count_2', 'antibacterial_brit_2',\n",
    "#                     'died_date', 'deregistered_date', 'gp_cons_lrti_2', 'gp_cons_lrti_ab_2',\n",
    "#                     'lrti_date_2', 'incdt_lrti_date_2', 'admitted_lrti_date_2', 'sgss_gp_cov_lrti_date_2']]\n",
    "\n",
    "# data_lrti_2 = data_lrti_2[data_lrti_2['lrti_date_2'].notnull()]\n",
    "\n",
    "# # exclusion of covid positive 90 days before and 30 days after dx with lrti_2\n",
    "# data_lrti_2 = data_lrti_2[data_lrti_2['sgss_gp_cov_lrti_date_2'] == 0]\n",
    "\n",
    "# # drop rows with no gp_cons_lrti_2 records\n",
    "# data_lrti_2 = data_lrti_2.dropna(subset=['gp_cons_lrti_2'])\n",
    "# data_lrti_2.shape"
   ]
  },
  {
   "cell_type": "markdown",
   "metadata": {},
   "source": [
    "#### lrti_3"
   ]
  },
  {
   "cell_type": "code",
   "execution_count": 13,
   "metadata": {},
   "outputs": [
    {
     "data": {
      "text/plain": [
       "(1823, 22)"
      ]
     },
     "execution_count": 13,
     "metadata": {},
     "output_type": "execute_result"
    }
   ],
   "source": [
    "# data_lrti_3 = data[['age', 'age_cat', 'sex', 'flu_vaccine', 'smoking_status', 'bmi', 'imd', 'ethnicity', \n",
    "#                     'region', 'hx_hosp', 'CCI', #'meds_nonabs',\n",
    "#                     'gp_count_3', 'antibacterial_brit_3',\n",
    "#                     'died_date', 'deregistered_date', 'gp_cons_lrti_3', 'gp_cons_lrti_ab_3',\n",
    "#                     'lrti_date_3', 'incdt_lrti_date_3', 'admitted_lrti_date_3', 'sgss_gp_cov_lrti_date_3']]\n",
    "\n",
    "# data_lrti_3 = data_lrti_3[data_lrti_3['lrti_date_3'].notnull()]\n",
    "\n",
    "# # exclusion of covid positive 90 days before and 30 days after dx with lrti_3\n",
    "# data_lrti_3 = data_lrti_3[data_lrti_3['sgss_gp_cov_lrti_date_3'] == 0]\n",
    "\n",
    "# # drop rows with no gp_cons_lrti_3 records\n",
    "# data_lrti_3 = data_lrti_3.dropna(subset=['gp_cons_lrti_3'])\n",
    "# data_lrti_3.shape"
   ]
  },
  {
   "cell_type": "markdown",
   "metadata": {},
   "source": [
    "#### lrti_4"
   ]
  },
  {
   "cell_type": "code",
   "execution_count": 14,
   "metadata": {},
   "outputs": [
    {
     "data": {
      "text/plain": [
       "(1734, 22)"
      ]
     },
     "execution_count": 14,
     "metadata": {},
     "output_type": "execute_result"
    }
   ],
   "source": [
    "# data_lrti_4 = data[['age', 'age_cat', 'sex', 'flu_vaccine', 'smoking_status', 'bmi', 'imd', 'ethnicity', \n",
    "#                     'region', 'hx_hosp', 'CCI', #'meds_nonabs',\n",
    "#                     'gp_count_4', 'antibacterial_brit_4',\n",
    "#                     'died_date', 'deregistered_date', 'gp_cons_lrti_4', 'gp_cons_lrti_ab_4',\n",
    "#                     'lrti_date_4', 'incdt_lrti_date_4', 'admitted_lrti_date_4', 'sgss_gp_cov_lrti_date_4']]\n",
    "\n",
    "# data_lrti_4 = data_lrti_4[data_lrti_4['lrti_date_4'].notnull()]\n",
    "\n",
    "# # exclusion of covid positive 90 days before and 30 days after dx with lrti_4\n",
    "# data_lrti_4 = data_lrti_4[data_lrti_4['sgss_gp_cov_lrti_date_4'] == 0]\n",
    "\n",
    "# # drop rows with no gp_cons_lrti_4 records\n",
    "# data_lrti_4 = data_lrti_4.dropna(subset=['gp_cons_lrti_4'])\n",
    "# data_lrti_4.shape"
   ]
  },
  {
   "cell_type": "markdown",
   "metadata": {},
   "source": [
    "### 2-2- Combining data"
   ]
  },
  {
   "cell_type": "code",
   "execution_count": 15,
   "metadata": {},
   "outputs": [
    {
     "data": {
      "text/plain": [
       "(7158, 22)"
      ]
     },
     "execution_count": 15,
     "metadata": {},
     "output_type": "execute_result"
    }
   ],
   "source": [
    "# data_lrti_1.rename(columns={'lrti_date_1': 'lrti_date',\n",
    "#                            'gp_count_1': 'gp_count', 'antibacterial_brit_1': 'antibacterial_brit',\n",
    "#                            'gp_cons_lrti_1': 'gp_cons_lrti', 'gp_cons_lrti_ab_1': 'gp_cons_lrti_ab',\n",
    "#                            'incdt_lrti_date_1': 'incdt_lrti_date', #'prevl_lrti_date_1': 'prevl_lrti_date',\n",
    "#                            'admitted_lrti_date_1': 'admitted_lrti_date',\n",
    "#                            'sgss_gp_cov_lrti_date_1': 'sgss_gp_cov_lrti_date'},\n",
    "#                 inplace=True)\n",
    "# data_lrti_2.rename(columns={'lrti_date_2': 'lrti_date',\n",
    "#                            'gp_count_2': 'gp_count', 'antibacterial_brit_2': 'antibacterial_brit',\n",
    "#                            'gp_cons_lrti_2': 'gp_cons_lrti', 'gp_cons_lrti_ab_2': 'gp_cons_lrti_ab',\n",
    "#                            'incdt_lrti_date_2': 'incdt_lrti_date', #'prevl_lrti_date_2': 'prevl_lrti_date', \n",
    "#                            'admitted_lrti_date_2': 'admitted_lrti_date',\n",
    "#                            'sgss_gp_cov_lrti_date_2': 'sgss_gp_cov_lrti_date'},\n",
    "#                 inplace=True)\n",
    "# data_lrti_3.rename(columns={'lrti_date_3': 'lrti_date',\n",
    "#                            'gp_count_3': 'gp_count', 'antibacterial_brit_3': 'antibacterial_brit',\n",
    "#                            'gp_cons_lrti_3': 'gp_cons_lrti', 'gp_cons_lrti_ab_3': 'gp_cons_lrti_ab',\n",
    "#                            'incdt_lrti_date_3': 'incdt_lrti_date', #'prevl_lrti_date_3': 'prevl_lrti_date', \n",
    "#                            'admitted_lrti_date_3': 'admitted_lrti_date',\n",
    "#                            'sgss_gp_cov_lrti_date_3': 'sgss_gp_cov_lrti_date'},\n",
    "#                  inplace=True)\n",
    "# data_lrti_4.rename(columns={'lrti_date_4': 'lrti_date', \n",
    "#                            'gp_count_4': 'gp_count', 'antibacterial_brit_4': 'antibacterial_brit',\n",
    "#                            'gp_cons_lrti_4': 'gp_cons_lrti', 'gp_cons_lrti_ab_4': 'gp_cons_lrti_ab',\n",
    "#                            'incdt_lrti_date_4': 'incdt_lrti_date', #'prevl_lrti_date_4': 'prevl_lrti_date',\n",
    "#                            'admitted_lrti_date_4': 'admitted_lrti_date',\n",
    "#                            'sgss_gp_cov_lrti_date_4': 'sgss_gp_cov_lrti_date'}, \n",
    "#                  inplace=True)\n",
    "\n",
    "# data_lrti = pd.concat([data_lrti_1, data_lrti_2, data_lrti_3, data_lrti_4])\n",
    "# data_lrti.reset_index(inplace=True, drop=True)\n",
    "# data_lrti.shape"
   ]
  },
  {
   "cell_type": "markdown",
   "metadata": {},
   "source": [
    "### 2-3- Add season, event, and duration variables\n",
    "#### Season"
   ]
  },
  {
   "cell_type": "code",
   "execution_count": 16,
   "metadata": {},
   "outputs": [
    {
     "data": {
      "text/plain": [
       "(7158, 23)"
      ]
     },
     "execution_count": 16,
     "metadata": {},
     "output_type": "execute_result"
    }
   ],
   "source": [
    "# # convert data types\n",
    "# data_lrti['lrti_date'] = data_lrti['lrti_date'].astype('datetime64[ns]')\n",
    "# data_lrti['gp_cons_lrti'] = data_lrti['gp_cons_lrti'].astype('datetime64[ns]')\n",
    "# data_lrti['admitted_lrti_date'] = data_lrti['admitted_lrti_date'].astype('datetime64[ns]')\n",
    "# data_lrti.died_date = data_lrti.died_date.astype('datetime64[ns]')\n",
    "# data_lrti.deregistered_date = data_lrti.deregistered_date.astype('datetime64[ns]')\n",
    "\n",
    "# #add a variable called date using gp consultation dates\n",
    "# data_lrti['date'] = data_lrti['gp_cons_lrti']\n",
    "# data_lrti['date'] = data_lrti['date'].dt.strftime('%Y-%m')\n",
    "# data_lrti.shape"
   ]
  },
  {
   "cell_type": "code",
   "execution_count": 17,
   "metadata": {},
   "outputs": [
    {
     "data": {
      "text/plain": [
       "spring    1976\n",
       "winter    1767\n",
       "summer    1672\n",
       "autumn    1430\n",
       "Name: season, dtype: int64"
      ]
     },
     "execution_count": 17,
     "metadata": {},
     "output_type": "execute_result"
    }
   ],
   "source": [
    "# #get today's date in year and month\n",
    "# today_date_y_m = date.today()\n",
    "# today_date_y_m = today_date_y_m.strftime('%Y-%m')\n",
    "# # today_date_y_m\n",
    "\n",
    "# #drop any records of data_lrti with today's date in year and month\n",
    "# data_lrti = data_lrti[data_lrti['date'] != today_date_y_m]\n",
    "\n",
    "# #get 2 months before today's date in year and month \n",
    "# last_month_date_y_m = date.today() - pd.DateOffset(months=2)\n",
    "# last_month_date_y_m = last_month_date_y_m.strftime('%Y-%m')\n",
    "# #drop any record of data with 1 month before today's date in year and month\n",
    "# data_lrti = data_lrti[data_lrti['date'] != last_month_date_y_m]\n",
    "\n",
    "# #add a variable called season based on the month of lrti records\n",
    "# data_lrti['season'] = np.nan\n",
    "# data_lrti['date_month'] = pd.DatetimeIndex(data_lrti['date']).month\n",
    "\n",
    "# conditions = [\n",
    "#     (data_lrti['date_month'] >= 3) & (data_lrti['date_month'] <= 5),\n",
    "#     (data_lrti['date_month'] >= 6) & (data_lrti['date_month'] <= 8),\n",
    "#     (data_lrti['date_month'] >= 9) & (data_lrti['date_month'] <= 11),]\n",
    "# choices = ['spring', 'summer', 'autumn']\n",
    "# data_lrti['season'] = np.select(conditions, choices, default='winter')\n",
    "\n",
    "# data_lrti['season'].value_counts()"
   ]
  },
  {
   "cell_type": "code",
   "execution_count": 18,
   "metadata": {},
   "outputs": [
    {
     "data": {
      "text/plain": [
       "'2019-01'"
      ]
     },
     "execution_count": 18,
     "metadata": {},
     "output_type": "execute_result"
    }
   ],
   "source": [
    "# data_lrti['date'].min()"
   ]
  },
  {
   "cell_type": "code",
   "execution_count": 19,
   "metadata": {},
   "outputs": [
    {
     "data": {
      "text/plain": [
       "(6845, 25)"
      ]
     },
     "execution_count": 19,
     "metadata": {},
     "output_type": "execute_result"
    }
   ],
   "source": [
    "# # data_lrti = data_lrti[data_lrti['date'] <= '2019-12']\n",
    "# # data_lrti = data_lrti[(data_lrti['date'] >= '2020-03') & (data_lrti['date']<= '2021-03')]\n",
    "# # data_lrti = data_lrti[data_lrti['date'] >= '2021-04']\n",
    "# data_lrti.shape"
   ]
  },
  {
   "cell_type": "code",
   "execution_count": 20,
   "metadata": {},
   "outputs": [
    {
     "data": {
      "text/plain": [
       "'2022-07'"
      ]
     },
     "execution_count": 20,
     "metadata": {},
     "output_type": "execute_result"
    }
   ],
   "source": [
    "# data_lrti['date'].max()"
   ]
  },
  {
   "cell_type": "markdown",
   "metadata": {},
   "source": [
    "#### Adding event and duration columns"
   ]
  },
  {
   "cell_type": "code",
   "execution_count": 21,
   "metadata": {},
   "outputs": [
    {
     "data": {
      "text/plain": [
       "0.0    4840\n",
       "Name: event_lrti_admitted, dtype: int64"
      ]
     },
     "execution_count": 21,
     "metadata": {},
     "output_type": "execute_result"
    }
   ],
   "source": [
    "# #scenario 1\n",
    "# #not hosped (nothing happened)\n",
    "# #data_lrti = data_lrti[data_lrti['admitted_lrti_date'].notnull()]\n",
    "# data_lrti.loc[data_lrti['admitted_lrti_date'].isnull(), 'event_lrti_admitted'] = 0\n",
    "# data_lrti['event_lrti_admitted'].value_counts()"
   ]
  },
  {
   "cell_type": "code",
   "execution_count": 2,
   "metadata": {},
   "outputs": [],
   "source": [
    "# #scenario 2 \n",
    "# # become a case (uncensoring)\n",
    "# #calculating days between infection gp consultation and hosp\n",
    "# # data_lrti['delta_lrti_admitted'] = (data_lrti['admitted_lrti_date'] - data_lrti['lrti_date']).dt.days\n",
    "# data_lrti['delta_lrti_admitted'] = (data_lrti['admitted_lrti_date'] - data_lrti['gp_cons_lrti']).dt.days\n",
    "# data_lrti.loc[((data_lrti['delta_lrti_admitted'] >= 0) & (data_lrti['delta_lrti_admitted'] <= 30)), 'event_lrti_admitted'] = 1\n",
    "# # data_lrti['event_lrti_admitted'].value_counts()\n",
    "\n",
    "# #scenario 2\n",
    "# #drop whoever was admitted before lrti consultation, i.e. negative value for delta_lrti_admitted\n",
    "# data_lrti = data_lrti[~(data_lrti['delta_lrti_admitted'] < 0)]\n",
    "# data_lrti['delta_lrti_admitted'].value_counts()"
   ]
  },
  {
   "cell_type": "code",
   "execution_count": 3,
   "metadata": {},
   "outputs": [],
   "source": [
    "# #scenario 3\n",
    "# #censor died patients\n",
    "# data_lrti['delta_admitted_died'] = (data_lrti['died_date'] - data_lrti['admitted_lrti_date']).dt.days\n",
    "# data_lrti.loc[data_lrti['delta_admitted_died'] < 0, 'delta_admitted_died'] = np.NaN\n",
    "# # data_lrti.loc[data_lrti['delta_admitted_died'] >= 0, 'event_lrti_admitted'] = 0\n",
    "# data_lrti.loc[((data_lrti['delta_admitted_died'] >= 0) & (data_lrti['delta_admitted_died'] <= 30)), 'event_lrti_admitted'] = 0\n",
    "# # data_lrti['event_lrti_admitted'].value_counts()\n",
    "\n",
    "# #scenario 3\n",
    "# #censor deregistered patients\n",
    "# data_lrti['delta_admitted_deregistered'] = (data_lrti['deregistered_date'] - data_lrti['admitted_lrti_date']).dt.days\n",
    "# data_lrti.loc[data_lrti['delta_admitted_deregistered'] < 0, 'delta_admitted_deregistered'] = np.NaN\n",
    "# # data_lrti.loc[data_lrti['delta_admitted_deregistered'] >= 0, 'event_lrti_admitted'] = 0\n",
    "# data_lrti.loc[((data_lrti['delta_admitted_deregistered'] > 0) & (data_lrti['delta_admitted_deregistered'] <= 30)), 'event_lrti_admitted'] = 0\n",
    "# # data_lrti['event_lrti_admitted'].value_counts()\n",
    "\n",
    "# #agg scenario 3s\n",
    "# data_lrti['delta_admitted_died_deregistered'] = data_lrti['delta_admitted_deregistered'].combine_first(data_lrti['delta_admitted_died'])\n",
    "# data_lrti.loc[data_lrti['delta_admitted_died_deregistered'] < 0, 'delta_admitted_died_deregistered'] = np.NaN\n",
    "# data_lrti['delta_admitted_died_deregistered'].isnull().sum()#.value_counts()"
   ]
  },
  {
   "cell_type": "code",
   "execution_count": 24,
   "metadata": {},
   "outputs": [
    {
     "data": {
      "text/plain": [
       "0.0    5831\n",
       "1.0      54\n",
       "Name: event_lrti_admitted, dtype: int64"
      ]
     },
     "execution_count": 24,
     "metadata": {},
     "output_type": "execute_result"
    }
   ],
   "source": [
    "# #scenario 1\n",
    "# #any other patients (nothing happened)\n",
    "# data_lrti['event_lrti_admitted'] = data_lrti['event_lrti_admitted'].replace(np.NaN, 0)\n",
    "# data_lrti['event_lrti_admitted'].value_counts()"
   ]
  },
  {
   "cell_type": "code",
   "execution_count": 4,
   "metadata": {},
   "outputs": [],
   "source": [
    "# #assign values for duration column\n",
    "# data_lrti['duration_lrti_admitted'] = data_lrti['delta_lrti_admitted'].combine_first(data_lrti['delta_admitted_died_deregistered'])\n",
    "# data_lrti['duration_lrti_admitted'] = data_lrti['duration_lrti_admitted'].replace(np.NaN, 30)\n",
    "# data_lrti.loc[(data_lrti['duration_lrti_admitted'] > 30), 'duration_lrti_admitted'] = 30\n",
    "# data_lrti['duration_lrti_admitted'].value_counts()"
   ]
  },
  {
   "cell_type": "code",
   "execution_count": 5,
   "metadata": {},
   "outputs": [],
   "source": [
    "# # give value 1 to event_lrti_admitted if duration_lrti_admitted is greater or equal to 0 and less than 30\n",
    "# data_lrti.loc[((data_lrti['duration_lrti_admitted'] >= 0) & (data_lrti['duration_lrti_admitted'] < 30)), 'event_lrti_admitted'] = 1\n",
    "# data_lrti['event_lrti_admitted'].value_counts()"
   ]
  },
  {
   "cell_type": "code",
   "execution_count": 27,
   "metadata": {},
   "outputs": [],
   "source": [
    "# #drop any rows with value 0 in duration column\n",
    "# data_lrti = data_lrti[~(data_lrti['duration_lrti_admitted'] == 0)]\n",
    "\n",
    "# #scenario2 (uncensoring) again to prevent conflict with other scenarios\n",
    "# data_lrti.loc[((data_lrti['delta_lrti_admitted'] > 0) & (data_lrti['delta_lrti_admitted'] < 30)), 'event_lrti_admitted'] = 1"
   ]
  },
  {
   "cell_type": "code",
   "execution_count": 6,
   "metadata": {},
   "outputs": [],
   "source": [
    "# # data_lrti[data_lrti['duration_lrti_admitted']==0][['delta_lrti_admitted', 'lrti_date', 'gp_cons_lrti', 'admitted_lrti_date', 'delta_lrti_admitted', 'delta_admitted_died_deregistered', 'event_lrti_admitted', 'duration_lrti_admitted']]\n",
    "# # data_lrti.loc[151:200, ['event_lrti_admitted', 'duration_lrti_admitted']]\n",
    "# # data_lrti.loc[201:250, ['event_lrti_admitted', 'duration_lrti_admitted']].sort_values(by=['duration_lrti_admitted'])\n",
    "# data_lrti[['event_lrti_admitted', 'duration_lrti_admitted']].sort_values(by=['duration_lrti_admitted'])"
   ]
  },
  {
   "cell_type": "code",
   "execution_count": null,
   "metadata": {},
   "outputs": [],
   "source": [
    "# # save data shape\n",
    "# a = open(\"../output/hospitalisation_prediction_lrti/data_shape_cph_lrti_after_season.txt\", \"w\")\n",
    "# a.write(\"\")\n",
    "# a.writelines(['data_lrti #observations, #events: %.0f' % (data_lrti.event_lrti_admitted.value_counts()[0]), ', %.0f' % (data_lrti.event_lrti_admitted.value_counts()[1]),\n",
    "#             #   '\\ndata_lrti_abs_incdt #observations, #events: %.0f' % (data_lrti_abs_incdt.event_lrti_admitted.value_counts()[0]), ', %.0f' % (data_lrti_abs_incdt.event_lrti_admitted.value_counts()[1]),\n",
    "#             #   '\\ndata_lrti_no_abs_prevl #observations, #events: %.0f' % (data_lrti_no_abs_prevl.event_lrti_admitted.value_counts()[0]), ', %.0f' % (data_lrti_no_abs_prevl.event_lrti_admitted.value_counts()[1]),\n",
    "#             #   '\\ndata_lrti_abs_prevl #observations, #events: %.0f' % (data_lrti_abs_prevl.event_lrti_admitted.value_counts()[0]), ', %.0f' % (data_lrti_abs_prevl.event_lrti_admitted.value_counts()[1])\n",
    "#               ])"
   ]
  }
 ],
 "metadata": {
  "kernelspec": {
   "display_name": "Python 3.10.4 64-bit",
   "language": "python",
   "name": "python3"
  },
  "language_info": {
   "codemirror_mode": {
    "name": "ipython",
    "version": 3
   },
   "file_extension": ".py",
   "mimetype": "text/x-python",
   "name": "python",
   "nbconvert_exporter": "python",
   "pygments_lexer": "ipython3",
   "version": "3.10.4"
  },
  "orig_nbformat": 4,
  "vscode": {
   "interpreter": {
    "hash": "8140142ad7e60c7088d03dcc357baafe7a3ba3d7bdbd31e400f1a9fa984efcb5"
   }
  }
 },
 "nbformat": 4,
 "nbformat_minor": 2
}
