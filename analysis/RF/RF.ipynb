{
 "cells": [
  {
   "attachments": {},
   "cell_type": "markdown",
   "metadata": {},
   "source": [
    "# Random Forest Modelling for COVID hospitalisation\n",
    "\n",
    "case= covid hospitalisation; control= covid infection"
   ]
  },
  {
   "cell_type": "code",
   "execution_count": null,
   "metadata": {},
   "outputs": [],
   "source": [
    "import pandas as pd\n",
    "import numpy as np\n",
    "import seaborn as sns\n",
    "import math\n",
    "import matplotlib.pyplot as plt\n",
    "import matplotlib\n",
    "from matplotlib import pyplot\n",
    "from sklearn.ensemble import RandomForestClassifier\n",
    "from sklearn.model_selection import train_test_split\n",
    "from sklearn.datasets import make_classification\n",
    "from sklearn.metrics import roc_curve, roc_auc_score\n",
    "from sklearn.metrics import brier_score_loss\n",
    "from sklearn.metrics import accuracy_score\n",
    "from sklearn.model_selection import GridSearchCV\n",
    "# from sklearn.ensemble import RandomForestRegressor\n",
    "# from sklearn.datasets import make_regression\n",
    "import pickle\n",
    "#import shap"
   ]
  },
  {
   "cell_type": "markdown",
   "metadata": {},
   "source": [
    "## 1- data preparation"
   ]
  },
  {
   "cell_type": "code",
   "execution_count": null,
   "metadata": {},
   "outputs": [
    {
     "data": {
      "text/plain": [
       "(200000, 224)"
      ]
     },
     "execution_count": 85,
     "metadata": {},
     "output_type": "execute_result"
    }
   ],
   "source": [
    "data = pd.read_csv(f'../../output/train_cat.csv')\n",
    "\n",
    "data.shape\n",
    "data.info()\n",
    "print(list(data.columns))\n",
    "\n",
    "for col in ['total_ab_group','ab_types_group',\n",
    "      'exposure_period_group','recent_ab_days_group',\n",
    "      'broad_ab_prescriptions_group',\n",
    "    'interval_mean_group','interval_sd_group']:\n",
    "   data[col] = data[col].astype('category')"
   ]
  },
  {
   "cell_type": "code",
   "execution_count": null,
   "metadata": {},
   "outputs": [
    {
     "data": {
      "text/plain": [
       "(359916, 20)"
      ]
     },
     "execution_count": 88,
     "metadata": {},
     "output_type": "execute_result"
    }
   ],
   "source": [
    "y_data = data['case']\n",
    "\n",
    "x_data = data[['total_ab_group','ab_types_group',\n",
    "      'exposure_period_group','recent_ab_days_group',\n",
    "      'broad_ab_prescriptions_group',\n",
    "    'interval_mean_group','interval_sd_group']]\n",
    "\n",
    "\n",
    "#print(f'x_data: {x_data.shape}')\n",
    "#print(f'y_data: {y_data.shape}')"
   ]
  },
  {
   "cell_type": "code",
   "execution_count": null,
   "metadata": {},
   "outputs": [],
   "source": [
    "col=['total_ab_group','ab_types_group',\n",
    "      'exposure_period_group','recent_ab_days_group',\n",
    "      'broad_ab_prescriptions_group',\n",
    "    'interval_mean_group','interval_sd_group']\n",
    "\n",
    "\n",
    "df = pd.get_dummies(x_data , columns =col)\n"
   ]
  },
  {
   "cell_type": "code",
   "execution_count": null,
   "metadata": {},
   "outputs": [],
   "source": [
    "#x_data = df.drop(['case'], axis=1)"
   ]
  },
  {
   "attachments": {},
   "cell_type": "markdown",
   "metadata": {},
   "source": [
    "### 2-simple RF"
   ]
  },
  {
   "cell_type": "code",
   "execution_count": null,
   "metadata": {},
   "outputs": [
    {
     "name": "stdout",
     "output_type": "stream",
     "text": [
      "min date: 2019-01\n",
      "max date: 2022-11\n",
      "length of data_lrti: 359916\n"
     ]
    }
   ],
   "source": [
    "rf_model = RandomForestClassifier(n_estimators=1000, min_samples_split=100)\n",
    "rf_model.fit(df, y_data)\n",
    "\n",
    "print(f'RF accuracy: {rf_model.score(df, y_data):.2f}')\n",
    "\n"
   ]
  },
  {
   "cell_type": "code",
   "execution_count": null,
   "metadata": {},
   "outputs": [],
   "source": [
    "data['pred_rf'] = rf_model.predict_proba(df)[:,1]\n",
    "#data['pred_rf'].shape\n",
    "data['pred_rf'].describe(include='all')\n",
    "##print(f'data shape: {data.shape}')\n",
    "#sns.displot(data, x=\"pred_rf\")"
   ]
  },
  {
   "cell_type": "code",
   "execution_count": null,
   "metadata": {},
   "outputs": [],
   "source": [
    "#3- valid"
   ]
  },
  {
   "cell_type": "code",
   "execution_count": null,
   "metadata": {},
   "outputs": [],
   "source": [
    "data = pd.read_csv(f'../../output/valid_cat.csv')\n",
    "\n",
    "data.shape\n",
    "data.info()\n",
    "print(list(data.columns))\n",
    "\n",
    "for col in ['total_ab_group','ab_types_group',\n",
    "      'exposure_period_group','recent_ab_days_group',\n",
    "      'broad_ab_prescriptions_group',\n",
    "    'interval_mean_group','interval_sd_group']:\n",
    "   data[col] = data[col].astype('category')\n",
    "\n",
    "y_data = data['case']\n",
    "\n",
    "x_data = data[['total_ab_group','ab_types_group',\n",
    "      'exposure_period_group','recent_ab_days_group',\n",
    "      'broad_ab_prescriptions_group',\n",
    "    'interval_mean_group','interval_sd_group']]\n",
    "\n",
    "col=['total_ab_group','ab_types_group',\n",
    "      'exposure_period_group','recent_ab_days_group',\n",
    "      'broad_ab_prescriptions_group',\n",
    "    'interval_mean_group','interval_sd_group']\n",
    "\n",
    "\n",
    "df = pd.get_dummies(x_data , columns =col)\n",
    "\n",
    "data['pred_rf'] = rf_model.predict_proba(df)[:,1]\n",
    "#data['pred_rf'].shape\n",
    "data['pred_rf'].describe(include='all')"
   ]
  }
 ],
 "metadata": {
  "kernelspec": {
   "display_name": "Python 3.8.8 ('base')",
   "language": "python",
   "name": "python3"
  },
  "language_info": {
   "codemirror_mode": {
    "name": "ipython",
    "version": 3
   },
   "file_extension": ".py",
   "mimetype": "text/x-python",
   "name": "python",
   "nbconvert_exporter": "python",
   "pygments_lexer": "ipython3",
   "version": "3.8.8"
  },
  "orig_nbformat": 4,
  "vscode": {
   "interpreter": {
    "hash": "aab3e9328fa5f6e836343e29403fbe12ff1c7623340021c445797f56a1eab521"
   }
  }
 },
 "nbformat": 4,
 "nbformat_minor": 2
}
