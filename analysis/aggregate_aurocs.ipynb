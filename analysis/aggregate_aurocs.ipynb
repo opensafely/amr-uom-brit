{
 "cells": [
  {
   "cell_type": "markdown",
   "metadata": {},
   "source": [
    "# Aggregate Outputs of Cox Models for All Infections"
   ]
  },
  {
   "cell_type": "code",
   "execution_count": 6,
   "metadata": {},
   "outputs": [],
   "source": [
    "import pandas as pd"
   ]
  },
  {
   "cell_type": "code",
   "execution_count": 2,
   "metadata": {},
   "outputs": [],
   "source": [
    "#read concordance index of models\n",
    "auroc_lrti_incdt = pd.read_csv(f'../output/hospitalisation_prediction_lrti/auroc_lr_lrti_incdt_deciles.csv', index_col=0)\n",
    "auroc_lrti_incdt.index = ['lrti_incdt']\n",
    "auroc_lrti_prevl = pd.read_csv(f'../output/hospitalisation_prediction_lrti/auroc_lr_lrti_prevl_deciles.csv', index_col=0)\n",
    "auroc_lrti_prevl.index = ['lrti_prevl']\n",
    "\n",
    "auroc_urti_combined_incdt = pd.read_csv(f'../output/hospitalisation_prediction_urti_combined/auroc_lr_urti_combined_incdt_deciles.csv', index_col=0)\n",
    "auroc_urti_combined_incdt.index = ['urti_combined_incdt']\n",
    "auroc_urti_combined_prevl = pd.read_csv(f'../output/hospitalisation_prediction_urti_combined/auroc_lr_urti_combined_prevl_deciles.csv', index_col=0)\n",
    "auroc_urti_combined_prevl.index = ['urti_combined_prevl']\n",
    "\n",
    "auroc_uti_incdt = pd.read_csv(f'../output/hospitalisation_prediction_uti/auroc_lr_uti_incdt_deciles.csv', index_col=0)\n",
    "auroc_uti_incdt.index = ['uti_incdt']\n",
    "auroc_uti_prevl = pd.read_csv(f'../output/hospitalisation_prediction_uti/auroc_lr_uti_prevl_deciles.csv', index_col=0)\n",
    "auroc_uti_prevl.index = ['uti_prevl']\n",
    "\n",
    "auroc_sinusitis_incdt = pd.read_csv(f'../output/hospitalisation_prediction_sinusitis/auroc_lr_sinusitis_incdt_deciles.csv', index_col=0)\n",
    "auroc_sinusitis_incdt.index = ['sinusitis_incdt']\n",
    "# auroc_sinusitis_prevl = pd.read_csv(f'../output/hospitalisation_prediction_sinusitis/auroc_lr_sinusitis_prevl_deciles.csv', index_col=0)\n",
    "# auroc_sinusitis_prevl.index = ['sinusitis_prevl']\n",
    "\n",
    "auroc_otmedia_incdt = pd.read_csv(f'../output/hospitalisation_prediction_otmedia/auroc_lr_otmedia_incdt_deciles.csv', index_col=0)\n",
    "auroc_otmedia_incdt.index = ['otmedia_incdt']\n",
    "auroc_otmedia_prevl = pd.read_csv(f'../output/hospitalisation_prediction_otmedia/auroc_lr_otmedia_prevl_deciles.csv', index_col=0)\n",
    "auroc_otmedia_prevl.index = ['otmedia_prevl']\n",
    "\n",
    "auroc_ot_externa_incdt = pd.read_csv(f'../output/hospitalisation_prediction_ot_externa/auroc_lr_ot_externa_incdt_deciles.csv', index_col=0)\n",
    "auroc_ot_externa_incdt.index = ['ot_externa_incdt']\n",
    "auroc_ot_externa_prevl = pd.read_csv(f'../output/hospitalisation_prediction_ot_externa/auroc_lr_ot_externa_prevl_deciles.csv', index_col=0)\n",
    "auroc_ot_externa_prevl.index = ['ot_externa_prevl']\n",
    "\n",
    "auroc_urti_incdt = pd.read_csv(f'../output/hospitalisation_prediction_urti/auroc_lr_urti_incdt_deciles.csv', index_col=0)\n",
    "auroc_urti_incdt.index = ['urti_incdt']\n",
    "auroc_urti_prevl = pd.read_csv(f'../output/hospitalisation_prediction_urti/auroc_lr_urti_prevl_deciles.csv', index_col=0)\n",
    "auroc_urti_prevl.index = ['urti_prevl']\n",
    "\n",
    "auroc_cough_incdt = pd.read_csv(f'../output/hospitalisation_prediction_cough/auroc_lr_cough_incdt_deciles.csv', index_col=0)\n",
    "auroc_cough_incdt.index = ['cough_incdt']\n",
    "auroc_cough_prevl = pd.read_csv(f'../output/hospitalisation_prediction_cough/auroc_lr_cough_prevl_deciles.csv', index_col=0)\n",
    "auroc_cough_prevl.index = ['cough_prevl']\n",
    "\n",
    "auroc_cough_cold_incdt = pd.read_csv(f'../output/hospitalisation_prediction_cough_cold/auroc_lr_cough_cold_incdt_deciles.csv', index_col=0)\n",
    "auroc_cough_cold_incdt.index = ['cough_cold_incdt']\n",
    "auroc_cough_cold_prevl = pd.read_csv(f'../output/hospitalisation_prediction_cough_cold/auroc_lr_cough_cold_prevl_deciles.csv', index_col=0)\n",
    "auroc_cough_cold_prevl.index = ['cough_cold_prevl']\n",
    "\n",
    "auroc_throat_incdt = pd.read_csv(f'../output/hospitalisation_prediction_throat/auroc_lr_throat_incdt_deciles.csv', index_col=0)\n",
    "auroc_throat_incdt.index = ['throat_incdt']\n",
    "auroc_throat_prevl = pd.read_csv(f'../output/hospitalisation_prediction_throat/auroc_lr_throat_prevl_deciles.csv', index_col=0)\n",
    "auroc_throat_prevl.index = ['throat_prevl']"
   ]
  },
  {
   "cell_type": "code",
   "execution_count": 1,
   "metadata": {},
   "outputs": [],
   "source": [
    "#concat all aurocs of lr models with deciles\n",
    "aurocs_all = pd.concat([auroc_lrti_incdt, auroc_lrti_prevl, auroc_urti_combined_incdt, auroc_urti_combined_prevl, auroc_uti_incdt, auroc_uti_prevl, auroc_sinusitis_incdt, auroc_otmedia_incdt, auroc_otmedia_prevl, auroc_ot_externa_incdt, auroc_ot_externa_prevl, auroc_urti_incdt, auroc_urti_prevl, auroc_cough_incdt, auroc_cough_prevl, auroc_cough_cold_incdt, auroc_cough_cold_prevl, auroc_throat_incdt, auroc_throat_prevl])\n",
    "#save \n",
    "aurocs_all.to_csv(f'../output/aggregate_aurocs/lr_auroc_deciles.csv')"
   ]
  },
  {
   "cell_type": "code",
   "execution_count": 12,
   "metadata": {},
   "outputs": [],
   "source": [
    "#read concordance index of models\n",
    "auroc_lrti_incdt = pd.read_csv(f'../output/hospitalisation_prediction_lrti/auroc_lr_lrti_incdt_riskfactors.csv', index_col=0)\n",
    "auroc_lrti_incdt.index = ['lrti_incdt']\n",
    "auroc_lrti_prevl = pd.read_csv(f'../output/hospitalisation_prediction_lrti/auroc_lr_lrti_prevl_riskfactors.csv', index_col=0)\n",
    "auroc_lrti_prevl.index = ['lrti_prevl']\n",
    "\n",
    "auroc_urti_combined_incdt = pd.read_csv(f'../output/hospitalisation_prediction_urti_combined/auroc_lr_urti_combined_incdt_riskfactors.csv', index_col=0)\n",
    "auroc_urti_combined_incdt.index = ['urti_combined_incdt']\n",
    "auroc_urti_combined_prevl = pd.read_csv(f'../output/hospitalisation_prediction_urti_combined/auroc_lr_urti_combined_prevl_riskfactors.csv', index_col=0)\n",
    "auroc_urti_combined_prevl.index = ['urti_combined_prevl']\n",
    "\n",
    "auroc_uti_incdt = pd.read_csv(f'../output/hospitalisation_prediction_uti/auroc_lr_uti_incdt_riskfactors.csv', index_col=0)\n",
    "auroc_uti_incdt.index = ['uti_incdt']\n",
    "auroc_uti_prevl = pd.read_csv(f'../output/hospitalisation_prediction_uti/auroc_lr_uti_prevl_riskfactors.csv', index_col=0)\n",
    "auroc_uti_prevl.index = ['uti_prevl']\n",
    "\n",
    "auroc_sinusitis_incdt = pd.read_csv(f'../output/hospitalisation_prediction_sinusitis/auroc_lr_sinusitis_incdt_riskfactors.csv', index_col=0)\n",
    "auroc_sinusitis_incdt.index = ['sinusitis_incdt']\n",
    "# auroc_sinusitis_prevl = pd.read_csv(f'../output/hospitalisation_prediction_sinusitis/auroc_lr_sinusitis_prevl_riskfactors.csv', index_col=0)\n",
    "# auroc_sinusitis_prevl.index = ['sinusitis_prevl']\n",
    "\n",
    "auroc_otmedia_incdt = pd.read_csv(f'../output/hospitalisation_prediction_otmedia/auroc_lr_otmedia_incdt_riskfactors.csv', index_col=0)\n",
    "auroc_otmedia_incdt.index = ['otmedia_incdt']\n",
    "auroc_otmedia_prevl = pd.read_csv(f'../output/hospitalisation_prediction_otmedia/auroc_lr_otmedia_prevl_riskfactors.csv', index_col=0)\n",
    "auroc_otmedia_prevl.index = ['otmedia_prevl']\n",
    "\n",
    "auroc_ot_externa_incdt = pd.read_csv(f'../output/hospitalisation_prediction_ot_externa/auroc_lr_ot_externa_incdt_riskfactors.csv', index_col=0)\n",
    "auroc_ot_externa_incdt.index = ['ot_externa_incdt']\n",
    "auroc_ot_externa_prevl = pd.read_csv(f'../output/hospitalisation_prediction_ot_externa/auroc_lr_ot_externa_prevl_riskfactors.csv', index_col=0)\n",
    "auroc_ot_externa_prevl.index = ['ot_externa_prevl']\n",
    "\n",
    "auroc_urti_incdt = pd.read_csv(f'../output/hospitalisation_prediction_urti/auroc_lr_urti_incdt_riskfactors.csv', index_col=0)\n",
    "auroc_urti_incdt.index = ['urti_incdt']\n",
    "auroc_urti_prevl = pd.read_csv(f'../output/hospitalisation_prediction_urti/auroc_lr_urti_prevl_riskfactors.csv', index_col=0)\n",
    "auroc_urti_prevl.index = ['urti_prevl']\n",
    "\n",
    "auroc_cough_incdt = pd.read_csv(f'../output/hospitalisation_prediction_cough/auroc_lr_cough_incdt_riskfactors.csv', index_col=0)\n",
    "auroc_cough_incdt.index = ['cough_incdt']\n",
    "auroc_cough_prevl = pd.read_csv(f'../output/hospitalisation_prediction_cough/auroc_lr_cough_prevl_riskfactors.csv', index_col=0)\n",
    "auroc_cough_prevl.index = ['cough_prevl']\n",
    "\n",
    "auroc_cough_cold_incdt = pd.read_csv(f'../output/hospitalisation_prediction_cough_cold/auroc_lr_cough_cold_incdt_riskfactors.csv', index_col=0)\n",
    "auroc_cough_cold_incdt.index = ['cough_cold_incdt']\n",
    "auroc_cough_cold_prevl = pd.read_csv(f'../output/hospitalisation_prediction_cough_cold/auroc_lr_cough_cold_prevl_riskfactors.csv', index_col=0)\n",
    "auroc_cough_cold_prevl.index = ['cough_cold_prevl']\n",
    "\n",
    "auroc_throat_incdt = pd.read_csv(f'../output/hospitalisation_prediction_throat/auroc_lr_throat_incdt_riskfactors.csv', index_col=0)\n",
    "auroc_throat_incdt.index = ['throat_incdt']\n",
    "auroc_throat_prevl = pd.read_csv(f'../output/hospitalisation_prediction_throat/auroc_lr_throat_prevl_riskfactors.csv', index_col=0)\n",
    "auroc_throat_prevl.index = ['throat_prevl']"
   ]
  },
  {
   "cell_type": "code",
   "execution_count": 2,
   "metadata": {},
   "outputs": [],
   "source": [
    "#concat all aurocs of lr models with risk factors\n",
    "aurocs_all = pd.concat([auroc_lrti_incdt, auroc_lrti_prevl, auroc_urti_combined_incdt, auroc_urti_combined_prevl, auroc_uti_incdt, auroc_uti_prevl, auroc_sinusitis_incdt, auroc_otmedia_incdt, auroc_otmedia_prevl, auroc_ot_externa_incdt, auroc_ot_externa_prevl, auroc_urti_incdt, auroc_urti_prevl, auroc_cough_incdt, auroc_cough_prevl, auroc_cough_cold_incdt, auroc_cough_cold_prevl, auroc_throat_incdt, auroc_throat_prevl])\n",
    "#save \n",
    "aurocs_all.to_csv(f'../output/aggregate_aurocs/lr_auroc_riskfactors.csv')#, index=False)"
   ]
  }
 ],
 "metadata": {
  "kernelspec": {
   "display_name": "Python 3.10.4 64-bit",
   "language": "python",
   "name": "python3"
  },
  "language_info": {
   "codemirror_mode": {
    "name": "ipython",
    "version": 3
   },
   "file_extension": ".py",
   "mimetype": "text/x-python",
   "name": "python",
   "nbconvert_exporter": "python",
   "pygments_lexer": "ipython3",
   "version": "3.10.4"
  },
  "orig_nbformat": 4,
  "vscode": {
   "interpreter": {
    "hash": "8140142ad7e60c7088d03dcc357baafe7a3ba3d7bdbd31e400f1a9fa984efcb5"
   }
  }
 },
 "nbformat": 4,
 "nbformat_minor": 2
}
