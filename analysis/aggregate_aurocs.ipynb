{
 "cells": [
  {
   "cell_type": "markdown",
   "metadata": {},
   "source": [
    "# Aggregate Outputs of Cox Models for All Infections"
   ]
  },
  {
   "cell_type": "code",
   "execution_count": 1,
   "metadata": {},
   "outputs": [],
   "source": [
    "import pandas as pd\n",
    "import numpy as np"
   ]
  },
  {
   "cell_type": "code",
   "execution_count": 8,
   "metadata": {},
   "outputs": [],
   "source": [
    "#read concordance index of models\n",
    "output_lrti_incdt = pd.read_csv(f'../output/hospitalisation_prediction_lrti/auroc_lr_lrti_incdt_deciles.csv', index_col=0)\n",
    "output_lrti_incdt.index = ['lrti_incdt']\n",
    "output_lrti_prevl = pd.read_csv(f'../output/hospitalisation_prediction_lrti/auroc_lr_lrti_prevl_deciles.csv', index_col=0)\n",
    "output_lrti_prevl.index = ['lrti_prevl']\n",
    "\n",
    "output_urti_combined_incdt = pd.read_csv(f'../output/hospitalisation_prediction_urti_combined/auroc_lr_urti_combined_incdt_deciles.csv', index_col=0)\n",
    "output_urti_combined_incdt.index = ['urti_combined_incdt']\n",
    "output_urti_combined_prevl = pd.read_csv(f'../output/hospitalisation_prediction_urti_combined/auroc_lr_urti_combined_prevl_deciles.csv', index_col=0)\n",
    "output_urti_combined_prevl.index = ['urti_combined_prevl']\n",
    "\n",
    "output_uti_incdt = pd.read_csv(f'../output/hospitalisation_prediction_uti/auroc_lr_uti_incdt_deciles.csv', index_col=0)\n",
    "output_uti_incdt.index = ['uti_incdt']\n",
    "output_uti_prevl = pd.read_csv(f'../output/hospitalisation_prediction_uti/auroc_lr_uti_prevl_deciles.csv', index_col=0)\n",
    "output_uti_prevl.index = ['uti_prevl']\n",
    "\n",
    "output_sinusitis_incdt = pd.read_csv(f'../output/hospitalisation_prediction_sinusitis/auroc_lr_sinusitis_incdt_deciles.csv', index_col=0)\n",
    "output_sinusitis_incdt.index = ['sinusitis_incdt']\n",
    "# output_sinusitis_prevl = pd.read_csv(f'../output/hospitalisation_prediction_sinusitis/auroc_lr_sinusitis_prevl_deciles.csv', index_col=0)\n",
    "# output_sinusitis_prevl.index = ['sinusitis_prevl']\n",
    "\n",
    "output_otmedia_incdt = pd.read_csv(f'../output/hospitalisation_prediction_otmedia/auroc_lr_otmedia_incdt_deciles.csv', index_col=0)\n",
    "output_otmedia_incdt.index = ['otmedia_incdt']\n",
    "output_otmedia_prevl = pd.read_csv(f'../output/hospitalisation_prediction_otmedia/auroc_lr_otmedia_prevl_deciles.csv', index_col=0)\n",
    "output_otmedia_prevl.index = ['otmedia_prevl']\n",
    "\n",
    "output_ot_externa_incdt = pd.read_csv(f'../output/hospitalisation_prediction_ot_externa/auroc_lr_ot_externa_incdt_deciles.csv', index_col=0)\n",
    "output_ot_externa_incdt.index = ['ot_externa_incdt']\n",
    "output_ot_externa_prevl = pd.read_csv(f'../output/hospitalisation_prediction_ot_externa/auroc_lr_ot_externa_prevl_deciles.csv', index_col=0)\n",
    "output_ot_externa_prevl.index = ['ot_externa_prevl']\n",
    "\n",
    "output_urti_incdt = pd.read_csv(f'../output/hospitalisation_prediction_urti/auroc_lr_urti_incdt_deciles.csv', index_col=0)\n",
    "output_urti_incdt.index = ['urti_incdt']\n",
    "output_urti_prevl = pd.read_csv(f'../output/hospitalisation_prediction_urti/auroc_lr_urti_prevl_deciles.csv', index_col=0)\n",
    "output_urti_prevl.index = ['urti_prevl']\n",
    "\n",
    "output_cough_incdt = pd.read_csv(f'../output/hospitalisation_prediction_cough/auroc_lr_cough_incdt_deciles.csv', index_col=0)\n",
    "output_cough_incdt.index = ['cough_incdt']\n",
    "output_cough_prevl = pd.read_csv(f'../output/hospitalisation_prediction_cough/auroc_lr_cough_prevl_deciles.csv', index_col=0)\n",
    "output_cough_prevl.index = ['cough_prevl']\n",
    "\n",
    "output_cough_cold_incdt = pd.read_csv(f'../output/hospitalisation_prediction_cough_cold/auroc_lr_cough_cold_incdt_deciles.csv', index_col=0)\n",
    "output_cough_cold_incdt.index = ['cough_cold_incdt']\n",
    "output_cough_cold_prevl = pd.read_csv(f'../output/hospitalisation_prediction_cough_cold/auroc_lr_cough_cold_prevl_deciles.csv', index_col=0)\n",
    "output_cough_cold_prevl.index = ['cough_cold_prevl']\n",
    "\n",
    "output_throat_incdt = pd.read_csv(f'../output/hospitalisation_prediction_throat/auroc_lr_throat_incdt_deciles.csv', index_col=0)\n",
    "output_throat_incdt.index = ['throat_incdt']\n",
    "output_throat_prevl = pd.read_csv(f'../output/hospitalisation_prediction_throat/auroc_lr_throat_prevl_deciles.csv', index_col=0)\n",
    "output_throat_prevl.index = ['throat_prevl']"
   ]
  },
  {
   "cell_type": "code",
   "execution_count": 10,
   "metadata": {},
   "outputs": [
    {
     "data": {
      "text/html": [
       "<div>\n",
       "<style scoped>\n",
       "    .dataframe tbody tr th:only-of-type {\n",
       "        vertical-align: middle;\n",
       "    }\n",
       "\n",
       "    .dataframe tbody tr th {\n",
       "        vertical-align: top;\n",
       "    }\n",
       "\n",
       "    .dataframe thead th {\n",
       "        text-align: right;\n",
       "    }\n",
       "</style>\n",
       "<table border=\"1\" class=\"dataframe\">\n",
       "  <thead>\n",
       "    <tr style=\"text-align: right;\">\n",
       "      <th></th>\n",
       "      <th>auroc_dev</th>\n",
       "      <th>auroc_val</th>\n",
       "    </tr>\n",
       "  </thead>\n",
       "  <tbody>\n",
       "    <tr>\n",
       "      <th>lrti_incdt</th>\n",
       "      <td>0.511499</td>\n",
       "      <td>0.506257</td>\n",
       "    </tr>\n",
       "    <tr>\n",
       "      <th>lrti_prevl</th>\n",
       "      <td>0.524451</td>\n",
       "      <td>0.518372</td>\n",
       "    </tr>\n",
       "    <tr>\n",
       "      <th>urti_combined_incdt</th>\n",
       "      <td>0.507866</td>\n",
       "      <td>0.503144</td>\n",
       "    </tr>\n",
       "    <tr>\n",
       "      <th>urti_combined_prevl</th>\n",
       "      <td>0.521235</td>\n",
       "      <td>0.511466</td>\n",
       "    </tr>\n",
       "    <tr>\n",
       "      <th>uti_incdt</th>\n",
       "      <td>0.509996</td>\n",
       "      <td>0.503900</td>\n",
       "    </tr>\n",
       "    <tr>\n",
       "      <th>uti_prevl</th>\n",
       "      <td>0.514511</td>\n",
       "      <td>0.490177</td>\n",
       "    </tr>\n",
       "  </tbody>\n",
       "</table>\n",
       "</div>"
      ],
      "text/plain": [
       "                     auroc_dev  auroc_val\n",
       "lrti_incdt            0.511499   0.506257\n",
       "lrti_prevl            0.524451   0.518372\n",
       "urti_combined_incdt   0.507866   0.503144\n",
       "urti_combined_prevl   0.521235   0.511466\n",
       "uti_incdt             0.509996   0.503900\n",
       "uti_prevl             0.514511   0.490177"
      ]
     },
     "execution_count": 10,
     "metadata": {},
     "output_type": "execute_result"
    }
   ],
   "source": [
    "#concat all cis\n",
    "outputs_all = pd.concat([output_lrti_incdt, output_lrti_prevl, output_urti_combined_incdt, output_urti_combined_prevl, output_uti_incdt, output_uti_prevl, output_sinusitis_incdt, output_otmedia_incdt, output_otmedia_prevl, output_ot_externa_incdt, output_ot_externa_prevl, output_urti_incdt, output_urti_prevl, output_cough_incdt, output_cough_prevl, output_cough_cold_incdt, output_cough_cold_prevl, output_throat_incdt, output_throat_prevl])\n",
    "#save \n",
    "outputs_all.to_csv(f'../output/aggregate_aurocs/lr_output_infections.csv', index=False)\n",
    "outputs_all"
   ]
  }
 ],
 "metadata": {
  "kernelspec": {
   "display_name": "Python 3.10.4 64-bit",
   "language": "python",
   "name": "python3"
  },
  "language_info": {
   "codemirror_mode": {
    "name": "ipython",
    "version": 3
   },
   "file_extension": ".py",
   "mimetype": "text/x-python",
   "name": "python",
   "nbconvert_exporter": "python",
   "pygments_lexer": "ipython3",
   "version": "3.10.2"
  },
  "orig_nbformat": 4,
  "vscode": {
   "interpreter": {
    "hash": "8140142ad7e60c7088d03dcc357baafe7a3ba3d7bdbd31e400f1a9fa984efcb5"
   }
  }
 },
 "nbformat": 4,
 "nbformat_minor": 2
}
