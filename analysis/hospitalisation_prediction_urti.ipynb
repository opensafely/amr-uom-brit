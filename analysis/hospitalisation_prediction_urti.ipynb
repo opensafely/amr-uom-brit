{
 "cells": [
  {
   "cell_type": "markdown",
   "metadata": {},
   "source": [
    "# Predcition of Hospital Admission Related to Infections\n",
    "\n",
    "In this notebook, we develop a Cox proportional hazard regression model to predict the risk of hospital admission for common infections including urinary tract infection (urti), upper respiratory tract infection (URTI), lower respiratory tract infection (LRTI), sinusitis, otitis media or middle ear infection (ot media), and ear infection or otitis externa (ot externa)."
   ]
  },
  {
   "cell_type": "code",
   "execution_count": 15,
   "metadata": {},
   "outputs": [],
   "source": [
    "import pandas as pd\n",
    "from matplotlib import pyplot\n",
    "import matplotlib.pyplot as plt\n",
    "import seaborn as sns\n",
    "import math\n",
    "import numpy as np\n",
    "import os\n",
    "import glob\n",
    "import gzip\n",
    "from matplotlib.ticker import PercentFormatter\n",
    "from patsy import dmatrices\n",
    "from lifelines import CoxPHFitter\n",
    "import statsmodels.api as sm\n",
    "import statsmodels.formula.api as smf\n",
    "# import sklearn\n",
    "# from sklearn.model_selection import train_test_split\n",
    "from sklearn.impute import SimpleImputer\n",
    "from sklearn.experimental import enable_iterative_imputer\n",
    "from sklearn.impute import IterativeImputer\n",
    "from sklearn.impute import KNNImputer\n",
    "import pickle\n",
    "from sklearn.preprocessing import PolynomialFeatures\n",
    "from lifelines.utils import k_fold_cross_validation\n",
    "from lifelines.utils import concordance_index\n",
    "from lifelines.calibration import survival_probability_calibration\n",
    "import io\n",
    "import sys\n",
    "from contextlib import redirect_stdout\n",
    "# import miceforest as mf\n",
    "%matplotlib inline"
   ]
  },
  {
   "cell_type": "code",
   "execution_count": 16,
   "metadata": {},
   "outputs": [],
   "source": [
    "#os.chdir(\"..\")\n",
    "current_working_dir = os.getcwd()\n",
    "# print(current_working_dir)\n",
    "\n",
    "# !python --version\n",
    "# import sklearn\n",
    "# print(sklearn.__version__)\n",
    "# import lifelines\n",
    "# print(lifelines.__version__)"
   ]
  },
  {
   "cell_type": "code",
   "execution_count": 17,
   "metadata": {},
   "outputs": [
    {
     "name": "stdout",
     "output_type": "stream",
     "text": [
      "No Warning Shown\n"
     ]
    }
   ],
   "source": [
    "import warnings\n",
    "warnings.filterwarnings('ignore')\n",
    "warnings.warn('DelftStack')\n",
    "warnings.warn('Do not show this message')\n",
    "print(\"No Warning Shown\")"
   ]
  },
  {
   "cell_type": "markdown",
   "metadata": {},
   "source": [
    "## 0- Functions"
   ]
  },
  {
   "cell_type": "code",
   "execution_count": 18,
   "metadata": {},
   "outputs": [],
   "source": [
    "# def makeFilePath(pathFromWorkspace, fileName):\n",
    "#     workingdir = \"/workspace/\" if (os.name != \"nt\") else \"\"\n",
    "#     filepath = workingdir+pathFromWorkspace+fileName\n",
    "\n",
    "#     return filepath"
   ]
  },
  {
   "cell_type": "code",
   "execution_count": 19,
   "metadata": {},
   "outputs": [],
   "source": [
    "def create_histplot(title, df, ax):\n",
    "    ax.hist(df, color = 'purple', edgecolor = 'black', bins=20)\n",
    "    ax.set_title(title)\n",
    "    ax.set_ylabel('Frequency')\n",
    "    ax.xaxis.set_tick_params(which='both', labelbottom=True, labeltop=False, rotation=0)"
   ]
  },
  {
   "cell_type": "code",
   "execution_count": 20,
   "metadata": {},
   "outputs": [],
   "source": [
    "# def create_lineplot(data, var, title, legend_title, ax1):\n",
    "#     a = data.groupby(['date', var]).size().reset_index()\n",
    "#     a.columns = ['date', var, 'Freq']\n",
    "#     sns.lineplot(x='date', y='Freq', \n",
    "#             hue=var, \n",
    "#             data=a,\n",
    "#             ax=ax1)\n",
    "#     ax1.set_title(title)\n",
    "#     ax1.set_ylabel('Frequency')\n",
    "#     ax1.xaxis.set_tick_params(which='both', labelbottom=True, labeltop=False, rotation=90)\n",
    "#     ax1.legend(title=legend_title)\n",
    "# #     ax1.axvline(x=\"2020-01\", color='black', ls='--', lw=1.5)\n",
    "# #     ax1.axvline(x=\"2020-04\", color='black', ls='--', lw=1.5)\n",
    "# #     ax1.axvline(x=\"2021-04\", color='black', ls='--', lw=1.5)"
   ]
  },
  {
   "cell_type": "code",
   "execution_count": 21,
   "metadata": {},
   "outputs": [],
   "source": [
    "# def create_lineplot_hue(var, hue, title, legend_title, ax1):\n",
    "#     a = data_inclusions_exlusions.groupby(['date', var, hue]).size().reset_index()\n",
    "#     a.columns = ['date', var, hue, 'Freq']\n",
    "#     a = a[a[var] != 0]\n",
    "#     sns.lineplot(x='date', y='Freq', \n",
    "#             hue=hue, \n",
    "#             data=a,\n",
    "#             ax=ax1)\n",
    "#     ax1.set_title(title)\n",
    "#     ax1.set_ylabel('Frequency')\n",
    "#     ax1.xaxis.set_tick_params(which='both', labelbottom=True, labeltop=False, rotation=90)\n",
    "#     ax1.legend(title=legend_title)\n",
    "#     ax1.axvline(x=\"2020-01\", color='black', ls='--', lw=1.5)\n",
    "#     ax1.axvline(x=\"2021-03\", color='black', ls='--', lw=1.5)"
   ]
  },
  {
   "cell_type": "code",
   "execution_count": 22,
   "metadata": {},
   "outputs": [],
   "source": [
    "# function to transform cph model summary and save it as html\n",
    "def GetPrintSummary(model):\n",
    "    output = \"\"\n",
    "    with io.StringIO() as buf, redirect_stdout(buf):\n",
    "        model.print_summary(style=\"html\")\n",
    "        output = buf.getvalue()\n",
    "    return output"
   ]
  },
  {
   "cell_type": "markdown",
   "metadata": {},
   "source": [
    "## 1- Data Preparation"
   ]
  },
  {
   "cell_type": "code",
   "execution_count": 23,
   "metadata": {},
   "outputs": [],
   "source": [
    "# data2019_month = {}\n",
    "# data2020_month = {}\n",
    "# data2021_month = {}\n",
    "# data2019 = []\n",
    "# data2020 = []\n",
    "# data2021 = []\n",
    "# for  i in range(1, 13):\n",
    "#     # data of 2019\n",
    "#     input_file_path = makeFilePath(\"output/hospitalisation_data/\", \"input_hospitalisation_2019-\"+str(i).zfill(2)+\"-01.csv.gz\")\n",
    "#     data2019_month[\"%s\" %i] = pd.read_csv(input_file_path, compression='gzip')\n",
    "#     data2019_month[\"%s\" %i]['date'] = \"2019-\"+str(i).zfill(2)\n",
    "#     if (i<3) or (i>11):\n",
    "#         data2019_month[\"%s\" %i]['season'] = \"Winter\"\n",
    "#     elif (i>2) and (i<6):\n",
    "#         data2019_month[\"%s\" %i]['season'] = \"Spring\"\n",
    "#     elif (i>5) and (i<9):\n",
    "#         data2019_month[\"%s\" %i]['season'] = \"Summer\"\n",
    "#     elif (i>8) and (i<12):\n",
    "#         data2019_month[\"%s\" %i]['season'] = \"Autumn\"\n",
    "#     data2019.append(data2019_month[\"%s\" %i])\n",
    "#     # data of 2020\n",
    "#     input_file_path = makeFilePath(\"output/hospitalisation_data/\", \"input_hospitalisation_2020-\"+str(i).zfill(2)+\"-01.csv.gz\")\n",
    "#     data2020_month[\"%s\" %i] = pd.read_csv(input_file_path, compression='gzip')\n",
    "#     data2020_month[\"%s\" %i]['date'] = \"2020-\"+str(i).zfill(2)\n",
    "#     if (i<3) or (i>11):\n",
    "#         data2020_month[\"%s\" %i]['season'] = \"Winter\"\n",
    "#     elif (i>2) and (i<6):\n",
    "#         data2020_month[\"%s\" %i]['season'] = \"Spring\"\n",
    "#     elif (i>5) and (i<9):\n",
    "#         data2020_month[\"%s\" %i]['season'] = \"Summer\"\n",
    "#     elif (i>8) and (i<12):\n",
    "#         data2020_month[\"%s\" %i]['season'] = \"Autumn\"\n",
    "#     data2020.append(data2020_month[\"%s\" %i])\n",
    "#     # data of 2021\n",
    "#     input_file_path = makeFilePath(\"output/hospitalisation_data/\", \"input_hospitalisation_2021-\"+str(i).zfill(2)+\"-01.csv.gz\")\n",
    "#     data2021_month[\"%s\" %i] = pd.read_csv(input_file_path, compression='gzip')\n",
    "#     data2021_month[\"%s\" %i]['date'] = \"2021-\"+str(i).zfill(2)\n",
    "#     if (i<3) or (i>11):\n",
    "#         data2021_month[\"%s\" %i]['season'] = \"Winter\"\n",
    "#     elif (i>2) and (i<6):\n",
    "#         data2021_month[\"%s\" %i]['season'] = \"Spring\"\n",
    "#     elif (i>5) and (i<9):\n",
    "#         data2021_month[\"%s\" %i]['season'] = \"Summer\"\n",
    "#     elif (i>8) and (i<12):\n",
    "#         data2021_month[\"%s\" %i]['season'] = \"Autumn\"\n",
    "#     data2021.append(data2021_month[\"%s\" %i])\n",
    "    \n",
    "# data2019 = pd.concat(data2019_month, axis=0, ignore_index=True)\n",
    "# data2020 = pd.concat(data2020_month, axis=0, ignore_index=True)\n",
    "# data2021 = pd.concat(data2021_month, axis=0, ignore_index=True)\n",
    "\n",
    "# data = data2019.append([data2020, data2021], ignore_index=True)"
   ]
  },
  {
   "cell_type": "code",
   "execution_count": 24,
   "metadata": {},
   "outputs": [],
   "source": [
    "# data2019_month = {}\n",
    "# # data2020_month = {}\n",
    "# # data2021_month = {}\n",
    "# # data2022_month = {}\n",
    "# data2019 = []\n",
    "# # data2020 = []\n",
    "# # data2021 = []\n",
    "# # data2022 = []\n",
    "# i=1\n",
    "# while  i < 13:\n",
    "#     # data of 2019\n",
    "#     input_file_path = makeFilePath(\"output/hospitalisation_data/\", \"input_hospitalisation_2019-\"+str(i).zfill(2)+\"-01.csv.gz\")\n",
    "#     data2019_month[\"%s\" %i] = pd.read_csv(input_file_path, compression='gzip')\n",
    "#     data2019_month[\"%s\" %i]['date'] = \"2019-\"+str(i).zfill(2)\n",
    "#     if (i<3) or (i>11):\n",
    "#         data2019_month[\"%s\" %i]['season'] = \"Winter\"\n",
    "#     elif (i>2) and (i<6):\n",
    "#         data2019_month[\"%s\" %i]['season'] = \"Spring\"\n",
    "#     elif (i>5) and (i<9):\n",
    "#         data2019_month[\"%s\" %i]['season'] = \"Summer\"\n",
    "#     elif (i>8) and (i<12):\n",
    "#         data2019_month[\"%s\" %i]['season'] = \"Autumn\"\n",
    "#     data2019.append(data2019_month[\"%s\" %i])\n",
    "#     i=i+1\n",
    "    \n",
    "# # i=1\n",
    "# # while  i < 13:    \n",
    "# #     # data of 2020\n",
    "# #     input_file_path = makeFilePath(\"output/hospitalisation_data/\", \"input_hospitalisation_2020-\"+str(i).zfill(2)+\"-01.csv.gz\")\n",
    "# #     data2020_month[\"%s\" %i] = pd.read_csv(input_file_path, compression='gzip')\n",
    "# #     data2020_month[\"%s\" %i]['date'] = \"2020-\"+str(i).zfill(2)\n",
    "# #     if (i<3) or (i>11):\n",
    "# #         data2020_month[\"%s\" %i]['season'] = \"Winter\"\n",
    "# #     elif (i>2) and (i<6):\n",
    "# #         data2020_month[\"%s\" %i]['season'] = \"Spring\"\n",
    "# #     elif (i>5) and (i<9):\n",
    "# #         data2020_month[\"%s\" %i]['season'] = \"Summer\"\n",
    "# #     elif (i>8) and (i<12):\n",
    "# #         data2020_month[\"%s\" %i]['season'] = \"Autumn\"\n",
    "# #     data2020.append(data2020_month[\"%s\" %i])\n",
    "# #     i=i+1\n",
    "\n",
    "# # i=1\n",
    "# # while  i < 13:\n",
    "# #     # data of 2021\n",
    "# #     input_file_path = makeFilePath(\"output/hospitalisation_data/\", \"input_hospitalisation_2021-\"+str(i).zfill(2)+\"-01.csv.gz\")\n",
    "# #     data2021_month[\"%s\" %i] = pd.read_csv(input_file_path, compression='gzip')\n",
    "# #     data2021_month[\"%s\" %i]['date'] = \"2021-\"+str(i).zfill(2)\n",
    "# #     if (i<3) or (i>11):\n",
    "# #         data2021_month[\"%s\" %i]['season'] = \"Winter\"\n",
    "# #     elif (i>2) and (i<6):\n",
    "# #         data2021_month[\"%s\" %i]['season'] = \"Spring\"\n",
    "# #     elif (i>5) and (i<9):\n",
    "# #         data2021_month[\"%s\" %i]['season'] = \"Summer\"\n",
    "# #     elif (i>8) and (i<12):\n",
    "# #         data2021_month[\"%s\" %i]['season'] = \"Autumn\"\n",
    "# #     data2021.append(data2021_month[\"%s\" %i])\n",
    "# #     i=i+1\n",
    "\n",
    "# # i=1\n",
    "# # while  i < 4:\n",
    "# #     # data of 2022\n",
    "# #     input_file_path = makeFilePath(\"output/hospitalisation_data/\", \"input_hospitalisation_2022-\"+str(i).zfill(2)+\"-01.csv.gz\")\n",
    "# #     data2022_month[\"%s\" %i] = pd.read_csv(input_file_path, compression='gzip')\n",
    "# #     data2022_month[\"%s\" %i]['date'] = \"2022-\"+str(i).zfill(2)\n",
    "# #     if (i<3) or (i>11):\n",
    "# #         data2022_month[\"%s\" %i]['season'] = \"Winter\"\n",
    "# #     elif (i>2) and (i<6):\n",
    "# #         data2022_month[\"%s\" %i]['season'] = \"Spring\"\n",
    "# #     elif (i>5) and (i<9):\n",
    "# #         data2022_month[\"%s\" %i]['season'] = \"Summer\"\n",
    "# #     elif (i>8) and (i<12):\n",
    "# #         data2022_month[\"%s\" %i]['season'] = \"Autumn\"\n",
    "# #     data2022.append(data2022_month[\"%s\" %i])\n",
    "# #     i=i+1\n",
    "    \n",
    "# data2019 = pd.concat(data2019_month, axis=0, ignore_index=True)\n",
    "# # data2020 = pd.concat(data2020_month, axis=0, ignore_index=True)\n",
    "# # data2021 = pd.concat(data2021_month, axis=0, ignore_index=True)\n",
    "# # data2022 = pd.concat(data2022_month, axis=0, ignore_index=True)\n",
    "\n",
    "# # data = data2019.append([data2020, data2021, data2022], ignore_index=True)\n",
    "\n",
    "# data = data2019"
   ]
  },
  {
   "cell_type": "code",
   "execution_count": 26,
   "metadata": {},
   "outputs": [],
   "source": [
    "# data2019_month = {}\n",
    "# data2019 = []\n",
    "\n",
    "# i=1\n",
    "# while  i < 13:\n",
    "#     # data of 2019\n",
    "#     # if (i<4):\n",
    "#     data2019_month[\"%s\" %i] = pd.read_csv(f'../output/hospitalisation_data/input_hospitalisation_2019-'+str(i).zfill(2)+'-01.csv.gz')\n",
    "#     data2019_month[\"%s\" %i]['date'] = \"2019-\"+str(i).zfill(2)\n",
    "#     # if (i>3) and (i<7):\n",
    "#     #     data2019_month[\"%s\" %i] = pd.read_csv(f'output/hospitalisation_data/input_hospitalisatio2019-'+str(i).zfill(2)+'-01.csv.gz')\n",
    "#     #     data2019_month[\"%s\" %i]['date'] = \"2019-\"+str(i).zfill(2)\n",
    "#     if (i<3) or (i>11):\n",
    "#         data2019_month[\"%s\" %i]['season'] = \"Winter\"\n",
    "#     elif (i>2) and (i<6):\n",
    "#         data2019_month[\"%s\" %i]['season'] = \"Spring\"\n",
    "#     elif (i>5) and (i<9):\n",
    "#         data2019_month[\"%s\" %i]['season'] = \"Summer\"\n",
    "#     elif (i>8) and (i<12):\n",
    "#         data2019_month[\"%s\" %i]['season'] = \"Autumn\"\n",
    "\n",
    "#     data2019.append(data2019_month[\"%s\" %i])\n",
    "#     i=i+1\n",
    "    \n",
    "# data2019 = pd.concat(data2019_month, axis=0, ignore_index=True)\n",
    "\n",
    "# data = data2019"
   ]
  },
  {
   "cell_type": "code",
   "execution_count": 27,
   "metadata": {},
   "outputs": [],
   "source": [
    "data201901 = pd.read_csv(f'../output/hospitalisation_data/input_hospitalisation_2019-01-01.csv.gz')\n",
    "# data201901['date'] = \"2019-01\"\n",
    "# data201901['season'] = \"Winter\"\n",
    "# data201902 = pd.read_csv(f'../output/hospitalisation_data/input_hospitalisation_2019-02-01.csv.gz')\n",
    "# data201902['date'] = \"2019-02\"\n",
    "# data201902['season'] = \"Winter\"\n",
    "# data201903 = pd.read_csv(f'../output/hospitalisation_data/input_hospitalisation_2019-03-01.csv.gz')\n",
    "# data201903['date'] = \"2019-03\"\n",
    "# data201903['season'] = \"Spring\""
   ]
  },
  {
   "cell_type": "code",
   "execution_count": 28,
   "metadata": {},
   "outputs": [],
   "source": [
    "# data2019 = [data201901, data201902, data201903]\n",
    "# data = pd.concat(data2019)"
   ]
  },
  {
   "cell_type": "code",
   "execution_count": null,
   "metadata": {},
   "outputs": [],
   "source": [
    "data = data201901"
   ]
  },
  {
   "cell_type": "code",
   "execution_count": 29,
   "metadata": {},
   "outputs": [],
   "source": [
    "# data = data.loc[data['sex'] == 'F']\n",
    "# data.shape"
   ]
  },
  {
   "cell_type": "code",
   "execution_count": 31,
   "metadata": {},
   "outputs": [
    {
     "data": {
      "text/html": [
       "<div>\n",
       "<style scoped>\n",
       "    .dataframe tbody tr th:only-of-type {\n",
       "        vertical-align: middle;\n",
       "    }\n",
       "\n",
       "    .dataframe tbody tr th {\n",
       "        vertical-align: top;\n",
       "    }\n",
       "\n",
       "    .dataframe thead th {\n",
       "        text-align: right;\n",
       "    }\n",
       "</style>\n",
       "<table border=\"1\" class=\"dataframe\">\n",
       "  <thead>\n",
       "    <tr style=\"text-align: right;\">\n",
       "      <th></th>\n",
       "      <th>bmi_date_measured</th>\n",
       "      <th>smoking_status_date</th>\n",
       "      <th>most_recent_unclear_smoking_cat_date</th>\n",
       "      <th>flu_vaccine_med</th>\n",
       "      <th>flu_vaccine_clinical</th>\n",
       "      <th>sgss_positive</th>\n",
       "      <th>primary_care_covid</th>\n",
       "      <th>admitted_date</th>\n",
       "      <th>deregistered_date</th>\n",
       "      <th>died_date</th>\n",
       "      <th>...</th>\n",
       "      <th>metastatic_cancer_comor</th>\n",
       "      <th>mild_liver_comor</th>\n",
       "      <th>mod_severe_liver_comor</th>\n",
       "      <th>mod_severe_renal_comor</th>\n",
       "      <th>mi_comor</th>\n",
       "      <th>peptic_ulcer_comor</th>\n",
       "      <th>peripheral_vascular_comor</th>\n",
       "      <th>patient_id</th>\n",
       "      <th>date</th>\n",
       "      <th>season</th>\n",
       "    </tr>\n",
       "  </thead>\n",
       "  <tbody>\n",
       "    <tr>\n",
       "      <th>count</th>\n",
       "      <td>22500</td>\n",
       "      <td>3000</td>\n",
       "      <td>3000</td>\n",
       "      <td>3000</td>\n",
       "      <td>3000</td>\n",
       "      <td>3000</td>\n",
       "      <td>3000</td>\n",
       "      <td>9000</td>\n",
       "      <td>1500</td>\n",
       "      <td>3000</td>\n",
       "      <td>...</td>\n",
       "      <td>30000.000000</td>\n",
       "      <td>30000.000000</td>\n",
       "      <td>30000.000000</td>\n",
       "      <td>30000.000000</td>\n",
       "      <td>30000.000000</td>\n",
       "      <td>30000.000000</td>\n",
       "      <td>30000.000000</td>\n",
       "      <td>30000.000000</td>\n",
       "      <td>30000</td>\n",
       "      <td>30000</td>\n",
       "    </tr>\n",
       "    <tr>\n",
       "      <th>unique</th>\n",
       "      <td>40</td>\n",
       "      <td>40</td>\n",
       "      <td>40</td>\n",
       "      <td>13</td>\n",
       "      <td>13</td>\n",
       "      <td>1103</td>\n",
       "      <td>1102</td>\n",
       "      <td>1194</td>\n",
       "      <td>864</td>\n",
       "      <td>454</td>\n",
       "      <td>...</td>\n",
       "      <td>NaN</td>\n",
       "      <td>NaN</td>\n",
       "      <td>NaN</td>\n",
       "      <td>NaN</td>\n",
       "      <td>NaN</td>\n",
       "      <td>NaN</td>\n",
       "      <td>NaN</td>\n",
       "      <td>NaN</td>\n",
       "      <td>3</td>\n",
       "      <td>2</td>\n",
       "    </tr>\n",
       "    <tr>\n",
       "      <th>top</th>\n",
       "      <td>2021-05</td>\n",
       "      <td>2021-05</td>\n",
       "      <td>2020-08</td>\n",
       "      <td>2018-09</td>\n",
       "      <td>2018-05</td>\n",
       "      <td>2020-08-11</td>\n",
       "      <td>2020-07-19</td>\n",
       "      <td>2021-10-31</td>\n",
       "      <td>2020-08-31</td>\n",
       "      <td>2022-03-19</td>\n",
       "      <td>...</td>\n",
       "      <td>NaN</td>\n",
       "      <td>NaN</td>\n",
       "      <td>NaN</td>\n",
       "      <td>NaN</td>\n",
       "      <td>NaN</td>\n",
       "      <td>NaN</td>\n",
       "      <td>NaN</td>\n",
       "      <td>NaN</td>\n",
       "      <td>2019-01</td>\n",
       "      <td>Winter</td>\n",
       "    </tr>\n",
       "    <tr>\n",
       "      <th>freq</th>\n",
       "      <td>618</td>\n",
       "      <td>98</td>\n",
       "      <td>88</td>\n",
       "      <td>268</td>\n",
       "      <td>281</td>\n",
       "      <td>8</td>\n",
       "      <td>9</td>\n",
       "      <td>16</td>\n",
       "      <td>6</td>\n",
       "      <td>33</td>\n",
       "      <td>...</td>\n",
       "      <td>NaN</td>\n",
       "      <td>NaN</td>\n",
       "      <td>NaN</td>\n",
       "      <td>NaN</td>\n",
       "      <td>NaN</td>\n",
       "      <td>NaN</td>\n",
       "      <td>NaN</td>\n",
       "      <td>NaN</td>\n",
       "      <td>10000</td>\n",
       "      <td>20000</td>\n",
       "    </tr>\n",
       "    <tr>\n",
       "      <th>mean</th>\n",
       "      <td>NaN</td>\n",
       "      <td>NaN</td>\n",
       "      <td>NaN</td>\n",
       "      <td>NaN</td>\n",
       "      <td>NaN</td>\n",
       "      <td>NaN</td>\n",
       "      <td>NaN</td>\n",
       "      <td>NaN</td>\n",
       "      <td>NaN</td>\n",
       "      <td>NaN</td>\n",
       "      <td>...</td>\n",
       "      <td>0.100000</td>\n",
       "      <td>0.100000</td>\n",
       "      <td>0.100000</td>\n",
       "      <td>0.100000</td>\n",
       "      <td>0.100000</td>\n",
       "      <td>0.100000</td>\n",
       "      <td>0.100000</td>\n",
       "      <td>49801.081133</td>\n",
       "      <td>NaN</td>\n",
       "      <td>NaN</td>\n",
       "    </tr>\n",
       "    <tr>\n",
       "      <th>std</th>\n",
       "      <td>NaN</td>\n",
       "      <td>NaN</td>\n",
       "      <td>NaN</td>\n",
       "      <td>NaN</td>\n",
       "      <td>NaN</td>\n",
       "      <td>NaN</td>\n",
       "      <td>NaN</td>\n",
       "      <td>NaN</td>\n",
       "      <td>NaN</td>\n",
       "      <td>NaN</td>\n",
       "      <td>...</td>\n",
       "      <td>0.300005</td>\n",
       "      <td>0.300005</td>\n",
       "      <td>0.300005</td>\n",
       "      <td>0.300005</td>\n",
       "      <td>0.300005</td>\n",
       "      <td>0.300005</td>\n",
       "      <td>0.300005</td>\n",
       "      <td>28743.364416</td>\n",
       "      <td>NaN</td>\n",
       "      <td>NaN</td>\n",
       "    </tr>\n",
       "    <tr>\n",
       "      <th>min</th>\n",
       "      <td>NaN</td>\n",
       "      <td>NaN</td>\n",
       "      <td>NaN</td>\n",
       "      <td>NaN</td>\n",
       "      <td>NaN</td>\n",
       "      <td>NaN</td>\n",
       "      <td>NaN</td>\n",
       "      <td>NaN</td>\n",
       "      <td>NaN</td>\n",
       "      <td>NaN</td>\n",
       "      <td>...</td>\n",
       "      <td>0.000000</td>\n",
       "      <td>0.000000</td>\n",
       "      <td>0.000000</td>\n",
       "      <td>0.000000</td>\n",
       "      <td>0.000000</td>\n",
       "      <td>0.000000</td>\n",
       "      <td>0.000000</td>\n",
       "      <td>1.000000</td>\n",
       "      <td>NaN</td>\n",
       "      <td>NaN</td>\n",
       "    </tr>\n",
       "    <tr>\n",
       "      <th>25%</th>\n",
       "      <td>NaN</td>\n",
       "      <td>NaN</td>\n",
       "      <td>NaN</td>\n",
       "      <td>NaN</td>\n",
       "      <td>NaN</td>\n",
       "      <td>NaN</td>\n",
       "      <td>NaN</td>\n",
       "      <td>NaN</td>\n",
       "      <td>NaN</td>\n",
       "      <td>NaN</td>\n",
       "      <td>...</td>\n",
       "      <td>0.000000</td>\n",
       "      <td>0.000000</td>\n",
       "      <td>0.000000</td>\n",
       "      <td>0.000000</td>\n",
       "      <td>0.000000</td>\n",
       "      <td>0.000000</td>\n",
       "      <td>0.000000</td>\n",
       "      <td>25055.500000</td>\n",
       "      <td>NaN</td>\n",
       "      <td>NaN</td>\n",
       "    </tr>\n",
       "    <tr>\n",
       "      <th>50%</th>\n",
       "      <td>NaN</td>\n",
       "      <td>NaN</td>\n",
       "      <td>NaN</td>\n",
       "      <td>NaN</td>\n",
       "      <td>NaN</td>\n",
       "      <td>NaN</td>\n",
       "      <td>NaN</td>\n",
       "      <td>NaN</td>\n",
       "      <td>NaN</td>\n",
       "      <td>NaN</td>\n",
       "      <td>...</td>\n",
       "      <td>0.000000</td>\n",
       "      <td>0.000000</td>\n",
       "      <td>0.000000</td>\n",
       "      <td>0.000000</td>\n",
       "      <td>0.000000</td>\n",
       "      <td>0.000000</td>\n",
       "      <td>0.000000</td>\n",
       "      <td>49573.000000</td>\n",
       "      <td>NaN</td>\n",
       "      <td>NaN</td>\n",
       "    </tr>\n",
       "    <tr>\n",
       "      <th>75%</th>\n",
       "      <td>NaN</td>\n",
       "      <td>NaN</td>\n",
       "      <td>NaN</td>\n",
       "      <td>NaN</td>\n",
       "      <td>NaN</td>\n",
       "      <td>NaN</td>\n",
       "      <td>NaN</td>\n",
       "      <td>NaN</td>\n",
       "      <td>NaN</td>\n",
       "      <td>NaN</td>\n",
       "      <td>...</td>\n",
       "      <td>0.000000</td>\n",
       "      <td>0.000000</td>\n",
       "      <td>0.000000</td>\n",
       "      <td>0.000000</td>\n",
       "      <td>0.000000</td>\n",
       "      <td>0.000000</td>\n",
       "      <td>0.000000</td>\n",
       "      <td>74407.000000</td>\n",
       "      <td>NaN</td>\n",
       "      <td>NaN</td>\n",
       "    </tr>\n",
       "    <tr>\n",
       "      <th>max</th>\n",
       "      <td>NaN</td>\n",
       "      <td>NaN</td>\n",
       "      <td>NaN</td>\n",
       "      <td>NaN</td>\n",
       "      <td>NaN</td>\n",
       "      <td>NaN</td>\n",
       "      <td>NaN</td>\n",
       "      <td>NaN</td>\n",
       "      <td>NaN</td>\n",
       "      <td>NaN</td>\n",
       "      <td>...</td>\n",
       "      <td>1.000000</td>\n",
       "      <td>1.000000</td>\n",
       "      <td>1.000000</td>\n",
       "      <td>1.000000</td>\n",
       "      <td>1.000000</td>\n",
       "      <td>1.000000</td>\n",
       "      <td>1.000000</td>\n",
       "      <td>99998.000000</td>\n",
       "      <td>NaN</td>\n",
       "      <td>NaN</td>\n",
       "    </tr>\n",
       "  </tbody>\n",
       "</table>\n",
       "<p>11 rows × 87 columns</p>\n",
       "</div>"
      ],
      "text/plain": [
       "       bmi_date_measured smoking_status_date  \\\n",
       "count              22500                3000   \n",
       "unique                40                  40   \n",
       "top              2021-05             2021-05   \n",
       "freq                 618                  98   \n",
       "mean                 NaN                 NaN   \n",
       "std                  NaN                 NaN   \n",
       "min                  NaN                 NaN   \n",
       "25%                  NaN                 NaN   \n",
       "50%                  NaN                 NaN   \n",
       "75%                  NaN                 NaN   \n",
       "max                  NaN                 NaN   \n",
       "\n",
       "       most_recent_unclear_smoking_cat_date flu_vaccine_med  \\\n",
       "count                                  3000            3000   \n",
       "unique                                   40              13   \n",
       "top                                 2020-08         2018-09   \n",
       "freq                                     88             268   \n",
       "mean                                    NaN             NaN   \n",
       "std                                     NaN             NaN   \n",
       "min                                     NaN             NaN   \n",
       "25%                                     NaN             NaN   \n",
       "50%                                     NaN             NaN   \n",
       "75%                                     NaN             NaN   \n",
       "max                                     NaN             NaN   \n",
       "\n",
       "       flu_vaccine_clinical sgss_positive primary_care_covid admitted_date  \\\n",
       "count                  3000          3000               3000          9000   \n",
       "unique                   13          1103               1102          1194   \n",
       "top                 2018-05    2020-08-11         2020-07-19    2021-10-31   \n",
       "freq                    281             8                  9            16   \n",
       "mean                    NaN           NaN                NaN           NaN   \n",
       "std                     NaN           NaN                NaN           NaN   \n",
       "min                     NaN           NaN                NaN           NaN   \n",
       "25%                     NaN           NaN                NaN           NaN   \n",
       "50%                     NaN           NaN                NaN           NaN   \n",
       "75%                     NaN           NaN                NaN           NaN   \n",
       "max                     NaN           NaN                NaN           NaN   \n",
       "\n",
       "       deregistered_date   died_date  ... metastatic_cancer_comor  \\\n",
       "count               1500        3000  ...            30000.000000   \n",
       "unique               864         454  ...                     NaN   \n",
       "top           2020-08-31  2022-03-19  ...                     NaN   \n",
       "freq                   6          33  ...                     NaN   \n",
       "mean                 NaN         NaN  ...                0.100000   \n",
       "std                  NaN         NaN  ...                0.300005   \n",
       "min                  NaN         NaN  ...                0.000000   \n",
       "25%                  NaN         NaN  ...                0.000000   \n",
       "50%                  NaN         NaN  ...                0.000000   \n",
       "75%                  NaN         NaN  ...                0.000000   \n",
       "max                  NaN         NaN  ...                1.000000   \n",
       "\n",
       "       mild_liver_comor mod_severe_liver_comor mod_severe_renal_comor  \\\n",
       "count      30000.000000           30000.000000           30000.000000   \n",
       "unique              NaN                    NaN                    NaN   \n",
       "top                 NaN                    NaN                    NaN   \n",
       "freq                NaN                    NaN                    NaN   \n",
       "mean           0.100000               0.100000               0.100000   \n",
       "std            0.300005               0.300005               0.300005   \n",
       "min            0.000000               0.000000               0.000000   \n",
       "25%            0.000000               0.000000               0.000000   \n",
       "50%            0.000000               0.000000               0.000000   \n",
       "75%            0.000000               0.000000               0.000000   \n",
       "max            1.000000               1.000000               1.000000   \n",
       "\n",
       "            mi_comor peptic_ulcer_comor peripheral_vascular_comor  \\\n",
       "count   30000.000000       30000.000000              30000.000000   \n",
       "unique           NaN                NaN                       NaN   \n",
       "top              NaN                NaN                       NaN   \n",
       "freq             NaN                NaN                       NaN   \n",
       "mean        0.100000           0.100000                  0.100000   \n",
       "std         0.300005           0.300005                  0.300005   \n",
       "min         0.000000           0.000000                  0.000000   \n",
       "25%         0.000000           0.000000                  0.000000   \n",
       "50%         0.000000           0.000000                  0.000000   \n",
       "75%         0.000000           0.000000                  0.000000   \n",
       "max         1.000000           1.000000                  1.000000   \n",
       "\n",
       "          patient_id     date  season  \n",
       "count   30000.000000    30000   30000  \n",
       "unique           NaN        3       2  \n",
       "top              NaN  2019-01  Winter  \n",
       "freq             NaN    10000   20000  \n",
       "mean    49801.081133      NaN     NaN  \n",
       "std     28743.364416      NaN     NaN  \n",
       "min         1.000000      NaN     NaN  \n",
       "25%     25055.500000      NaN     NaN  \n",
       "50%     49573.000000      NaN     NaN  \n",
       "75%     74407.000000      NaN     NaN  \n",
       "max     99998.000000      NaN     NaN  \n",
       "\n",
       "[11 rows x 87 columns]"
      ]
     },
     "execution_count": 31,
     "metadata": {},
     "output_type": "execute_result"
    }
   ],
   "source": [
    "data.describe(include='all')"
   ]
  },
  {
   "cell_type": "markdown",
   "metadata": {},
   "source": [
    "#### 1-3-2- Imputation of missing values\n",
    "We impute variables with missing values that at most 50 pecent of their values are missing."
   ]
  },
  {
   "cell_type": "code",
   "execution_count": 38,
   "metadata": {},
   "outputs": [],
   "source": [
    "# prep before plot\n",
    "data['age'][data['age'] < 0] = np.nan\n",
    "\n",
    "# ## remove died cases\n",
    "# #data.died_date.value_counts()\n",
    "\n",
    "# # remove cases with bmi equal 0\n",
    "# data['bmi'][data['bmi'] <= 0] = 0\n",
    "\n",
    "# # remove cases with negative gp_count\n",
    "# data['gp_count'][data['gp_count'] < 0] = np.nan\n",
    "\n",
    "# # remove cases with negative antibacterial_brit\n",
    "# data['antibacterial_brit'][data['antibacterial_brit'] < 0] = np.nan"
   ]
  },
  {
   "cell_type": "code",
   "execution_count": null,
   "metadata": {},
   "outputs": [],
   "source": [
    "data['Age_cat'] = pd.cut(data['age'], right=False, bins=[0,18,60,200], labels=['0-17 years', '18-59 years', '>59 years'])"
   ]
  },
  {
   "cell_type": "markdown",
   "metadata": {},
   "source": [
    "## 3- Data preparation\n",
    "This includes data type conversion and exclusion of cases that are not considered in the infection-related hospital admission, i.e. those who were diagnosed with Covid19 three months (=90 days) before and one month (=30 days) after hospital admission.\n",
    "\n",
    "### 3-1- URTI"
   ]
  },
  {
   "cell_type": "code",
   "execution_count": 48,
   "metadata": {},
   "outputs": [],
   "source": [
    "def ConvertColumns(InfectionKey, NumSets):\n",
    "    for i in range(1, NumSets+1):        \n",
    "        arrayKey1 = 'admitted_'+InfectionKey+'_date_'+str(i)\n",
    "        #arrayKey2 = InfectionKey+'_date_'+str(i)\n",
    "        data[arrayKey1] = data[arrayKey1].astype('datetime64[ns]')"
   ]
  },
  {
   "cell_type": "markdown",
   "metadata": {},
   "source": [
    "#### URTI-1"
   ]
  },
  {
   "cell_type": "code",
   "execution_count": 49,
   "metadata": {},
   "outputs": [
    {
     "data": {
      "text/plain": [
       "(312, 31)"
      ]
     },
     "execution_count": 49,
     "metadata": {},
     "output_type": "execute_result"
    }
   ],
   "source": [
    "data_urti_1 = data[['Age_cat', #'msoa', #'date', \n",
    "                #     'age', 'age_cat', 'sex', 'bmi_imp', 'BMI_cat', 'gp_count', 'gp_count_cat', 'gp_count_imp', 'flu_vaccine', \n",
    "                #    'region', 'smoking_status_imp', 'antibacterial_brit', 'imd_imp', 'ethnicity_imp', 'antibacterial_brit_imp',\n",
    "                #    'hx_hosp', 'CCI_cat', 'CCI', 'meds_nonabs', #'season', \n",
    "                   'died_date', 'deregistered_date', \n",
    "                    'gp_cons_urti_1', 'gp_cons_urti_ab_1',\n",
    "                    'urti_date_1', 'incdt_urti_date_1', 'admitted_urti_date_1',\n",
    "                    'sgss_gp_cov_urti_date_1']]\n",
    "\n",
    "data_urti_1 = data_urti_1[data_urti_1['urti_date_1'].notnull()]\n",
    "\n",
    "data_urti_1.shape"
   ]
  },
  {
   "cell_type": "code",
   "execution_count": 50,
   "metadata": {},
   "outputs": [
    {
     "data": {
      "text/plain": [
       "(282, 31)"
      ]
     },
     "execution_count": 50,
     "metadata": {},
     "output_type": "execute_result"
    }
   ],
   "source": [
    "# exclusion of covid positive 90 days before and 30 days after dx with urti_1\n",
    "data_urti_1 = data_urti_1[data_urti_1['sgss_gp_cov_urti_date_1'] == 0]\n",
    "data_urti_1.shape"
   ]
  },
  {
   "cell_type": "code",
   "execution_count": 51,
   "metadata": {},
   "outputs": [
    {
     "data": {
      "text/plain": [
       "Index(['date', 'Age_cat', 'msoa', 'age', 'age_cat', 'sex', 'bmi_imp',\n",
       "       'BMI_cat', 'gp_count', 'gp_count_cat', 'gp_count_imp', 'flu_vaccine',\n",
       "       'region', 'smoking_status_imp', 'antibacterial_brit', 'imd_imp',\n",
       "       'ethnicity_imp', 'antibacterial_brit_imp', 'hx_hosp', 'CCI_cat', 'CCI',\n",
       "       'died_date', 'deregistered_date', 'season', 'meds_nonabs',\n",
       "       'gp_cons_urti_1', 'gp_cons_urti_ab_1', 'urti_date_1',\n",
       "       'incdt_urti_date_1', 'admitted_urti_date_1', 'sgss_gp_cov_urti_date_1'],\n",
       "      dtype='object')"
      ]
     },
     "execution_count": 51,
     "metadata": {},
     "output_type": "execute_result"
    }
   ],
   "source": [
    "data_urti_1.columns"
   ]
  },
  {
   "cell_type": "markdown",
   "metadata": {},
   "source": [
    "#### URTI-2"
   ]
  },
  {
   "cell_type": "code",
   "execution_count": 52,
   "metadata": {},
   "outputs": [
    {
     "data": {
      "text/plain": [
       "(319, 31)"
      ]
     },
     "execution_count": 52,
     "metadata": {},
     "output_type": "execute_result"
    }
   ],
   "source": [
    "data_urti_2 = data[['Age_cat', #'msoa', #'date',\n",
    "                #     'age', 'age_cat', 'sex', 'bmi_imp', 'BMI_cat', 'gp_count', 'gp_count_cat', 'gp_count_imp', 'flu_vaccine', \n",
    "                #    'region', 'smoking_status_imp', 'antibacterial_brit', 'imd_imp', 'ethnicity_imp', 'antibacterial_brit_imp',\n",
    "                #    'hx_hosp', 'CCI_cat', 'CCI', 'meds_nonabs',  #'season',\n",
    "                   'died_date', 'deregistered_date', \n",
    "                    'gp_cons_urti_2', 'gp_cons_urti_ab_2',\n",
    "                    'urti_date_2', 'incdt_urti_date_2', 'admitted_urti_date_2',\n",
    "                    'sgss_gp_cov_urti_date_2']]\n",
    "\n",
    "data_urti_2 = data_urti_2[data_urti_2['urti_date_2'].notnull()]\n",
    "\n",
    "data_urti_2.shape"
   ]
  },
  {
   "cell_type": "code",
   "execution_count": 53,
   "metadata": {},
   "outputs": [
    {
     "data": {
      "text/plain": [
       "(289, 31)"
      ]
     },
     "execution_count": 53,
     "metadata": {},
     "output_type": "execute_result"
    }
   ],
   "source": [
    "# exclusion of covid positive 90 days before and 30 days after dx with urti_2\n",
    "data_urti_2 = data_urti_2[data_urti_2['sgss_gp_cov_urti_date_2'] == 0]\n",
    "data_urti_2.shape"
   ]
  },
  {
   "cell_type": "code",
   "execution_count": 54,
   "metadata": {},
   "outputs": [
    {
     "data": {
      "text/plain": [
       "Index(['date', 'Age_cat', 'msoa', 'age', 'age_cat', 'sex', 'bmi_imp',\n",
       "       'BMI_cat', 'gp_count', 'gp_count_cat', 'gp_count_imp', 'flu_vaccine',\n",
       "       'region', 'smoking_status_imp', 'antibacterial_brit', 'imd_imp',\n",
       "       'ethnicity_imp', 'antibacterial_brit_imp', 'hx_hosp', 'CCI_cat', 'CCI',\n",
       "       'died_date', 'deregistered_date', 'season', 'meds_nonabs',\n",
       "       'gp_cons_urti_2', 'gp_cons_urti_ab_2', 'urti_date_2',\n",
       "       'incdt_urti_date_2', 'admitted_urti_date_2', 'sgss_gp_cov_urti_date_2'],\n",
       "      dtype='object')"
      ]
     },
     "execution_count": 54,
     "metadata": {},
     "output_type": "execute_result"
    }
   ],
   "source": [
    "data_urti_2.columns"
   ]
  },
  {
   "cell_type": "markdown",
   "metadata": {},
   "source": [
    "#### URTI_3"
   ]
  },
  {
   "cell_type": "code",
   "execution_count": 55,
   "metadata": {},
   "outputs": [
    {
     "data": {
      "text/plain": [
       "(299, 31)"
      ]
     },
     "execution_count": 55,
     "metadata": {},
     "output_type": "execute_result"
    }
   ],
   "source": [
    "data_urti_3 = data[['Age_cat', #'msoa', #'date',\n",
    "                #     'age', 'age_cat', 'sex', 'bmi_imp', 'BMI_cat', 'gp_count', 'gp_count_cat', 'gp_count_imp', 'flu_vaccine', \n",
    "                #    'region', 'smoking_status_imp', 'antibacterial_brit', 'imd_imp', 'ethnicity_imp', 'antibacterial_brit_imp',\n",
    "                #    'hx_hosp', 'CCI_cat', 'CCI', 'meds_nonabs',  #'season',\n",
    "                   'died_date', 'deregistered_date', \n",
    "                    'gp_cons_urti_3', 'gp_cons_urti_ab_3',\n",
    "                    'urti_date_3', 'incdt_urti_date_3', 'admitted_urti_date_3',\n",
    "                    'sgss_gp_cov_urti_date_3']]\n",
    "\n",
    "data_urti_3 = data_urti_3[data_urti_3['urti_date_3'].notnull()]\n",
    "\n",
    "data_urti_3.shape"
   ]
  },
  {
   "cell_type": "code",
   "execution_count": 56,
   "metadata": {},
   "outputs": [
    {
     "data": {
      "text/plain": [
       "(277, 31)"
      ]
     },
     "execution_count": 56,
     "metadata": {},
     "output_type": "execute_result"
    }
   ],
   "source": [
    "# exclusion of covid positive 90 days before and 30 days after dx with urti_3\n",
    "data_urti_3 = data_urti_3[data_urti_3['sgss_gp_cov_urti_date_3'] == 0]\n",
    "data_urti_3.shape"
   ]
  },
  {
   "cell_type": "code",
   "execution_count": 57,
   "metadata": {},
   "outputs": [
    {
     "data": {
      "text/plain": [
       "Index(['date', 'Age_cat', 'msoa', 'age', 'age_cat', 'sex', 'bmi_imp',\n",
       "       'BMI_cat', 'gp_count', 'gp_count_cat', 'gp_count_imp', 'flu_vaccine',\n",
       "       'region', 'smoking_status_imp', 'antibacterial_brit', 'imd_imp',\n",
       "       'ethnicity_imp', 'antibacterial_brit_imp', 'hx_hosp', 'CCI_cat', 'CCI',\n",
       "       'died_date', 'deregistered_date', 'season', 'meds_nonabs',\n",
       "       'gp_cons_urti_3', 'gp_cons_urti_ab_3', 'urti_date_3',\n",
       "       'incdt_urti_date_3', 'admitted_urti_date_3', 'sgss_gp_cov_urti_date_3'],\n",
       "      dtype='object')"
      ]
     },
     "execution_count": 57,
     "metadata": {},
     "output_type": "execute_result"
    }
   ],
   "source": [
    "data_urti_3.columns"
   ]
  },
  {
   "cell_type": "markdown",
   "metadata": {},
   "source": [
    "#### URTI_4"
   ]
  },
  {
   "cell_type": "code",
   "execution_count": 58,
   "metadata": {},
   "outputs": [
    {
     "data": {
      "text/plain": [
       "(299, 31)"
      ]
     },
     "execution_count": 58,
     "metadata": {},
     "output_type": "execute_result"
    }
   ],
   "source": [
    "data_urti_4 = data[['Age_cat', #'msoa', #'date',\n",
    "                #     'age', 'age_cat', 'sex', 'bmi_imp', 'BMI_cat', 'gp_count', 'gp_count_cat', 'gp_count_imp', 'flu_vaccine', \n",
    "                #    'region', 'smoking_status_imp', 'antibacterial_brit', 'imd_imp', 'ethnicity_imp', 'antibacterial_brit_imp',\n",
    "                #    'hx_hosp', 'CCI_cat', 'CCI', 'meds_nonabs',  #'season',\n",
    "                   'died_date', 'deregistered_date', \n",
    "                   'gp_cons_urti_4', 'gp_cons_urti_ab_4',\n",
    "                   'urti_date_4', 'incdt_urti_date_4', 'admitted_urti_date_4',\n",
    "                   'sgss_gp_cov_urti_date_4']]\n",
    "\n",
    "data_urti_4 = data_urti_4[data_urti_4['urti_date_4'].notnull()]\n",
    "\n",
    "data_urti_4.shape"
   ]
  },
  {
   "cell_type": "code",
   "execution_count": 59,
   "metadata": {},
   "outputs": [
    {
     "data": {
      "text/plain": [
       "(262, 31)"
      ]
     },
     "execution_count": 59,
     "metadata": {},
     "output_type": "execute_result"
    }
   ],
   "source": [
    "# exclusion of covid positive 90 days before and 30 days after dx with urti_4\n",
    "data_urti_4 = data_urti_4[data_urti_4['sgss_gp_cov_urti_date_4'] == 0]\n",
    "data_urti_4.shape"
   ]
  },
  {
   "cell_type": "code",
   "execution_count": 60,
   "metadata": {},
   "outputs": [
    {
     "data": {
      "text/plain": [
       "Index(['date', 'Age_cat', 'msoa', 'age', 'age_cat', 'sex', 'bmi_imp',\n",
       "       'BMI_cat', 'gp_count', 'gp_count_cat', 'gp_count_imp', 'flu_vaccine',\n",
       "       'region', 'smoking_status_imp', 'antibacterial_brit', 'imd_imp',\n",
       "       'ethnicity_imp', 'antibacterial_brit_imp', 'hx_hosp', 'CCI_cat', 'CCI',\n",
       "       'died_date', 'deregistered_date', 'season', 'meds_nonabs',\n",
       "       'gp_cons_urti_4', 'gp_cons_urti_ab_4', 'urti_date_4',\n",
       "       'incdt_urti_date_4', 'admitted_urti_date_4', 'sgss_gp_cov_urti_date_4'],\n",
       "      dtype='object')"
      ]
     },
     "execution_count": 60,
     "metadata": {},
     "output_type": "execute_result"
    }
   ],
   "source": [
    "data_urti_4.columns"
   ]
  },
  {
   "cell_type": "markdown",
   "metadata": {},
   "source": [
    "#### Combining URTI_1, URTI_2, URTI_3, and URTI_4"
   ]
  },
  {
   "cell_type": "code",
   "execution_count": 61,
   "metadata": {},
   "outputs": [
    {
     "data": {
      "text/plain": [
       "(1110, 31)"
      ]
     },
     "execution_count": 61,
     "metadata": {},
     "output_type": "execute_result"
    }
   ],
   "source": [
    "data_urti_1.rename(columns={'urti_date_1': 'urti_date', 'incdt_urti_date_1': 'incdt_urti_date', \n",
    "                           'gp_cons_urti_1': 'gp_cons_urti', 'gp_cons_urti_ab_1': 'gp_cons_urti_ab',\n",
    "                           'incdt_urti_date_1': 'incdt_urti_date', #'prevl_urti_date_1': 'prevl_urti_date',\n",
    "                           'admitted_urti_date_1': 'admitted_urti_date',\n",
    "                           'sgss_gp_cov_urti_date_1': 'sgss_gp_cov_urti_date'},\n",
    "                inplace=True)\n",
    "data_urti_2.rename(columns={'urti_date_2': 'urti_date', 'incdt_urti_date_2': 'incdt_urti_date',\n",
    "                           'gp_cons_urti_2': 'gp_cons_urti', 'gp_cons_urti_ab_2': 'gp_cons_urti_ab',\n",
    "                           'incdt_urti_date_2': 'incdt_urti_date', #'prevl_urti_date_2': 'prevl_urti_date', \n",
    "                           'admitted_urti_date_2': 'admitted_urti_date',\n",
    "                           'sgss_gp_cov_urti_date_2': 'sgss_gp_cov_urti_date'},\n",
    "                inplace=True)\n",
    "data_urti_3.rename(columns={'urti_date_3': 'urti_date', 'incdt_urti_date_3': 'incdt_urti_date',\n",
    "                           'gp_cons_urti_3': 'gp_cons_urti', 'gp_cons_urti_ab_3': 'gp_cons_urti_ab',\n",
    "                           'incdt_urti_date_3': 'incdt_urti_date', #'prevl_urti_date_3': 'prevl_urti_date', \n",
    "                           'admitted_urti_date_3': 'admitted_urti_date',\n",
    "                           'sgss_gp_cov_urti_date_3': 'sgss_gp_cov_urti_date'},\n",
    "                 inplace=True)\n",
    "data_urti_4.rename(columns={'urti_date_4': 'urti_date', 'incdt_urti_date_4': 'incdt_urti_date', \n",
    "                           'gp_cons_urti_4': 'gp_cons_urti', 'gp_cons_urti_ab_4': 'gp_cons_urti_ab',\n",
    "                           'incdt_urti_date_4': 'incdt_urti_date', #'prevl_urti_date_4': 'prevl_urti_date',\n",
    "                           'admitted_urti_date_4': 'admitted_urti_date',\n",
    "                           'sgss_gp_cov_urti_date_4': 'sgss_gp_cov_urti_date'}, \n",
    "                 inplace=True)\n",
    "\n",
    "data_urti = pd.concat([data_urti_1, data_urti_2, data_urti_3, data_urti_4])\n",
    "data_urti.reset_index(inplace=True, drop=True)\n",
    "data_urti.shape"
   ]
  },
  {
   "cell_type": "code",
   "execution_count": 33,
   "metadata": {},
   "outputs": [],
   "source": [
    "# fig, axes = plt.subplots(7,2,\n",
    "#                         figsize=(15, 33)\n",
    "#                         )\n",
    "# create_lineplot(data_urti, 'sex', 'Sex', 'Sex', axes[0,0])\n",
    "# create_lineplot(data_urti, 'Age_cat', 'Age category', 'Age category', axes[0,1])\n",
    "# create_lineplot(data_urti, 'imd_imp', 'IMD', 'IMD', axes[1,0])\n",
    "# create_lineplot(data_urti, 'ethnicity_imp', 'Ethnicity', 'Ethnicity', axes[1,1])\n",
    "# create_lineplot(data_urti, 'smoking_status_imp', 'Smoking status', 'Smoking status', axes[2,0])\n",
    "# create_lineplot(data_urti, 'BMI_cat', 'BMI', 'BMI', axes[2,1])\n",
    "# create_lineplot(data_urti, 'CCI_cat', 'CCI', 'CCI', axes[3,0])\n",
    "# create_lineplot(data_urti, 'gp_count_cat', 'GP consultation', 'GP consultation', axes[3,1])\n",
    "# create_lineplot(data_urti, 'region', 'Region', 'Region', axes[4,0])\n",
    "# create_lineplot(data_urti, 'flu_vaccine', 'Flu vaccine', 'Flu vaccine', axes[4,1])\n",
    "# create_lineplot(data_urti, 'antibacterial_brit', 'Antibacterial prescriptions', 'Antibacterial prescriptions', axes[5,0])\n",
    "# create_lineplot(data_urti, 'msoa', 'msoa', 'MSOA', axes[5,1])\n",
    "# create_lineplot(data_urti, 'meds_nonabs', 'Medicines excpet antibacterials', 'Medicines excpet antibacterials', axes[6,0])\n",
    "# fig.delaxes(ax=axes[6,1])\n",
    "\n",
    "# fig.suptitle('Risk Factors of URTI patients', fontsize=16)\n",
    "# fig.tight_layout(rect=[0, 0.03, 1, 0.98])\n",
    "# #plt.tight_layout()\n",
    "# plt.savefig('../output/hospitalisation_prediction_urti/risk_factors_cat_urti.jpg')\n",
    "# plt.show()"
   ]
  },
  {
   "cell_type": "markdown",
   "metadata": {},
   "source": [
    "#### Adding event and duration columns"
   ]
  },
  {
   "cell_type": "code",
   "execution_count": 65,
   "metadata": {},
   "outputs": [
    {
     "data": {
      "text/plain": [
       "(1110, 31)"
      ]
     },
     "execution_count": 65,
     "metadata": {},
     "output_type": "execute_result"
    }
   ],
   "source": [
    "data_urti['urti_date'] = data_urti['urti_date'].astype('datetime64[ns]')\n",
    "data_urti['admitted_urti_date'] = data_urti['admitted_urti_date'].astype('datetime64[ns]')\n",
    "data_urti.died_date = data_urti.died_date.astype('datetime64[ns]')\n",
    "data_urti.deregistered_date = data_urti.deregistered_date.astype('datetime64[ns]')\n",
    "data_urti.shape"
   ]
  },
  {
   "cell_type": "code",
   "execution_count": 66,
   "metadata": {},
   "outputs": [],
   "source": [
    "#scenario 1\n",
    "#not hosped (nothing happened)\n",
    "#data_urti = data_urti[data_urti['admitted_urti_date'].notnull()]\n",
    "data_urti.loc[data_urti['admitted_urti_date'].isnull(), 'event_urti_admitted'] = 0"
   ]
  },
  {
   "cell_type": "code",
   "execution_count": 67,
   "metadata": {},
   "outputs": [
    {
     "data": {
      "text/plain": [
       "0.0    772\n",
       "1.0     43\n",
       "Name: event_urti_admitted, dtype: int64"
      ]
     },
     "execution_count": 67,
     "metadata": {},
     "output_type": "execute_result"
    }
   ],
   "source": [
    "#scenario 2\n",
    "# become a case (uncensoring)\n",
    "#calculating days between infection dx and hosp\n",
    "data_urti['delta_urti_admitted'] = (data_urti['admitted_urti_date'] - data_urti['urti_date']).dt.days\n",
    "data_urti.loc[((data_urti['delta_urti_admitted'] > 0) & (data_urti['delta_urti_admitted'] < 130)), 'event_urti_admitted'] = 1\n",
    "data_urti['event_urti_admitted'].value_counts()"
   ]
  },
  {
   "cell_type": "code",
   "execution_count": 68,
   "metadata": {},
   "outputs": [
    {
     "data": {
      "text/plain": [
       "1004.0    4\n",
       "883.0     3\n",
       "721.0     3\n",
       "227.0     2\n",
       "660.0     2\n",
       "         ..\n",
       "870.0     1\n",
       "1130.0    1\n",
       "35.0      1\n",
       "514.0     1\n",
       "620.0     1\n",
       "Name: delta_urti_admitted, Length: 299, dtype: int64"
      ]
     },
     "execution_count": 68,
     "metadata": {},
     "output_type": "execute_result"
    }
   ],
   "source": [
    "#scenario 2\n",
    "#drop whoever was admitted before urti consultation, i.e. negative value for delta_urti_admitted\n",
    "data_urti = data_urti[~(data_urti['delta_urti_admitted'] < 0)]\n",
    "data_urti['delta_urti_admitted'].value_counts()"
   ]
  },
  {
   "cell_type": "code",
   "execution_count": 69,
   "metadata": {},
   "outputs": [
    {
     "data": {
      "text/plain": [
       "0.0    802\n",
       "1.0     38\n",
       "Name: event_urti_admitted, dtype: int64"
      ]
     },
     "execution_count": 69,
     "metadata": {},
     "output_type": "execute_result"
    }
   ],
   "source": [
    "#scenario 3\n",
    "#censor died patients\n",
    "data_urti['delta_admitted_died'] = (data_urti['died_date'] - data_urti['admitted_urti_date']).dt.days\n",
    "data_urti.loc[data_urti['delta_admitted_died'] < 0, 'delta_admitted_died'] = np.NaN\n",
    "data_urti.loc[data_urti['delta_admitted_died'] > 0, 'event_urti_admitted'] = 0\n",
    "data_urti['event_urti_admitted'].value_counts()"
   ]
  },
  {
   "cell_type": "code",
   "execution_count": 70,
   "metadata": {},
   "outputs": [
    {
     "data": {
      "text/plain": [
       "0.0    803\n",
       "1.0     38\n",
       "Name: event_urti_admitted, dtype: int64"
      ]
     },
     "execution_count": 70,
     "metadata": {},
     "output_type": "execute_result"
    }
   ],
   "source": [
    "#scenario 3\n",
    "#censor deregistered patients\n",
    "data_urti['delta_admitted_deregistered'] = (data_urti['deregistered_date'] - data_urti['admitted_urti_date']).dt.days\n",
    "data_urti.loc[data_urti['delta_admitted_deregistered'] < 0, 'delta_admitted_deregistered'] = np.NaN\n",
    "data_urti.loc[((data_urti['delta_admitted_deregistered'] > 0) & (data_urti['delta_admitted_deregistered'] < 130)), 'event_urti_admitted'] = 0\n",
    "data_urti['event_urti_admitted'].value_counts()"
   ]
  },
  {
   "cell_type": "code",
   "execution_count": 71,
   "metadata": {},
   "outputs": [
    {
     "data": {
      "text/plain": [
       "1074"
      ]
     },
     "execution_count": 71,
     "metadata": {},
     "output_type": "execute_result"
    }
   ],
   "source": [
    "#agg scenario 3s\n",
    "data_urti['delta_admitted_died_deregistered'] = data_urti['delta_admitted_deregistered'].combine_first(data_urti['delta_admitted_died'])\n",
    "data_urti.loc[data_urti['delta_admitted_died_deregistered'] < 0, 'delta_admitted_died_deregistered'] = np.NaN\n",
    "data_urti['delta_admitted_died_deregistered'].isnull().sum()#.value_counts()"
   ]
  },
  {
   "cell_type": "code",
   "execution_count": 72,
   "metadata": {},
   "outputs": [],
   "source": [
    "#censor patients that had a history of hospital admission\n",
    "# data_urti.loc[data_urti['hx_hosp'] == 1, 'event_urti_admitted'] = 0"
   ]
  },
  {
   "cell_type": "code",
   "execution_count": 73,
   "metadata": {},
   "outputs": [
    {
     "data": {
      "text/plain": [
       "0.0    1071\n",
       "1.0      38\n",
       "Name: event_urti_admitted, dtype: int64"
      ]
     },
     "execution_count": 73,
     "metadata": {},
     "output_type": "execute_result"
    }
   ],
   "source": [
    "#scenario 1\n",
    "#any other patients (nothing happened)\n",
    "data_urti['event_urti_admitted'] = data_urti['event_urti_admitted'].replace(np.NaN, 0)\n",
    "data_urti['event_urti_admitted'].value_counts()"
   ]
  },
  {
   "cell_type": "code",
   "execution_count": 74,
   "metadata": {},
   "outputs": [
    {
     "data": {
      "text/plain": [
       "130.0    1065\n",
       "31.0        2\n",
       "3.0         2\n",
       "73.0        2\n",
       "33.0        2\n",
       "93.0        1\n",
       "112.0       1\n",
       "12.0        1\n",
       "128.0       1\n",
       "91.0        1\n",
       "101.0       1\n",
       "0.0         1\n",
       "76.0        1\n",
       "55.0        1\n",
       "67.0        1\n",
       "2.0         1\n",
       "126.0       1\n",
       "94.0        1\n",
       "77.0        1\n",
       "95.0        1\n",
       "75.0        1\n",
       "110.0       1\n",
       "87.0        1\n",
       "88.0        1\n",
       "115.0       1\n",
       "98.0        1\n",
       "64.0        1\n",
       "74.0        1\n",
       "57.0        1\n",
       "62.0        1\n",
       "83.0        1\n",
       "41.0        1\n",
       "17.0        1\n",
       "66.0        1\n",
       "129.0       1\n",
       "11.0        1\n",
       "28.0        1\n",
       "119.0       1\n",
       "35.0        1\n",
       "106.0       1\n",
       "36.0        1\n",
       "Name: duration_urti_admitted, dtype: int64"
      ]
     },
     "execution_count": 74,
     "metadata": {},
     "output_type": "execute_result"
    }
   ],
   "source": [
    "#assign values for duration column\n",
    "data_urti['duration_urti_admitted'] = data_urti['delta_urti_admitted'].combine_first(data_urti['delta_admitted_died_deregistered'])\n",
    "data_urti['duration_urti_admitted'] = data_urti['duration_urti_admitted'].replace(np.NaN, 130)\n",
    "data_urti.loc[(data_urti['duration_urti_admitted'] > 130), 'duration_urti_admitted'] = 130\n",
    "data_urti['duration_urti_admitted'].value_counts()"
   ]
  },
  {
   "cell_type": "code",
   "execution_count": 75,
   "metadata": {},
   "outputs": [
    {
     "data": {
      "text/html": [
       "<div>\n",
       "<style scoped>\n",
       "    .dataframe tbody tr th:only-of-type {\n",
       "        vertical-align: middle;\n",
       "    }\n",
       "\n",
       "    .dataframe tbody tr th {\n",
       "        vertical-align: top;\n",
       "    }\n",
       "\n",
       "    .dataframe thead th {\n",
       "        text-align: right;\n",
       "    }\n",
       "</style>\n",
       "<table border=\"1\" class=\"dataframe\">\n",
       "  <thead>\n",
       "    <tr style=\"text-align: right;\">\n",
       "      <th></th>\n",
       "      <th>delta_urti_admitted</th>\n",
       "      <th>urti_date</th>\n",
       "      <th>admitted_urti_date</th>\n",
       "      <th>delta_urti_admitted</th>\n",
       "      <th>delta_admitted_died_deregistered</th>\n",
       "      <th>duration_urti_admitted</th>\n",
       "    </tr>\n",
       "  </thead>\n",
       "  <tbody>\n",
       "  </tbody>\n",
       "</table>\n",
       "</div>"
      ],
      "text/plain": [
       "Empty DataFrame\n",
       "Columns: [delta_urti_admitted, urti_date, admitted_urti_date, delta_urti_admitted, delta_admitted_died_deregistered, duration_urti_admitted]\n",
       "Index: []"
      ]
     },
     "execution_count": 75,
     "metadata": {},
     "output_type": "execute_result"
    }
   ],
   "source": [
    "data_urti[data_urti['duration_urti_admitted']<0][['delta_urti_admitted', 'urti_date', 'admitted_urti_date', 'delta_urti_admitted', 'delta_admitted_died_deregistered', 'duration_urti_admitted']]"
   ]
  },
  {
   "cell_type": "code",
   "execution_count": 76,
   "metadata": {},
   "outputs": [],
   "source": [
    "#scenario2 (uncensoring) again to prevent conflict with other scenarios\n",
    "data_urti.loc[((data_urti['delta_urti_admitted'] > 0) & (data_urti['delta_urti_admitted'] < 130)), 'event_urti_admitted'] = 1"
   ]
  },
  {
   "cell_type": "markdown",
   "metadata": {},
   "source": [
    "#### Separate data of URTI\n",
    "We separate data of urti to form four sub-datasets for 1) no antibiotics and incident admission, 2) with antibiotics and incident admission, 3) no antibiotics and prevalent admission, and 4) with antiobiotics and prevalent admission."
   ]
  },
  {
   "cell_type": "code",
   "execution_count": 77,
   "metadata": {},
   "outputs": [
    {
     "name": "stdout",
     "output_type": "stream",
     "text": [
      "shape of data_urti_no_abs_incdt: (893, 37)\n",
      "shape of data_urti_abs_incdt: (118, 37)\n",
      "shape of data_urti_no_abs_prevl: (86, 37)\n",
      "shape of data_urti_abs_prevl: (12, 37)\n"
     ]
    }
   ],
   "source": [
    "# no antibiotics and incident hospital admission\n",
    "data_urti_no_abs_incdt = data_urti[data_urti['gp_cons_urti_ab'].isnull()]\n",
    "data_urti_no_abs_incdt = data_urti_no_abs_incdt[data_urti_no_abs_incdt['incdt_urti_date'] == 0]\n",
    "\n",
    "# # with antibiotics and incident hospital admission\n",
    "# data_urti_abs_incdt = data_urti[data_urti['gp_cons_urti_ab'].notnull()]\n",
    "# data_urti_abs_incdt = data_urti_abs_incdt[data_urti_abs_incdt['incdt_urti_date'] == 0]\n",
    "\n",
    "# # no antibiotics and prevalent hospital admission\n",
    "# data_urti_no_abs_prevl = data_urti[data_urti['gp_cons_urti_ab'].isnull()]\n",
    "# data_urti_no_abs_prevl = data_urti_no_abs_prevl[data_urti_no_abs_prevl['incdt_urti_date'] == 1]\n",
    "\n",
    "# # with antibiotics and prevalent hospital admission\n",
    "# data_urti_abs_prevl = data_urti[data_urti['gp_cons_urti_ab'].notnull()]\n",
    "# data_urti_abs_prevl = data_urti_abs_prevl[data_urti_abs_prevl['incdt_urti_date'] == 1]\n",
    "\n",
    "print(f'shape of data_urti_no_abs_incdt: {data_urti_no_abs_incdt.shape}')\n",
    "# print(f'shape of data_urti_abs_incdt: {data_urti_abs_incdt.shape}')\n",
    "# print(f'shape of data_urti_no_abs_prevl: {data_urti_no_abs_prevl.shape}')\n",
    "# print(f'shape of data_urti_abs_prevl: {data_urti_abs_prevl.shape}')"
   ]
  },
  {
   "cell_type": "markdown",
   "metadata": {},
   "source": [
    "## 4- Cox modelling for hospital admissions related to infections \n",
    "### 4-1- URTI\n",
    "#### 4-1-1- Incident hospital admission related to URTI with no antibiotics"
   ]
  },
  {
   "cell_type": "code",
   "execution_count": 78,
   "metadata": {},
   "outputs": [
    {
     "data": {
      "text/plain": [
       "Index(['date', 'Age_cat', 'msoa', 'age', 'age_cat', 'sex', 'bmi_imp',\n",
       "       'BMI_cat', 'gp_count', 'gp_count_cat', 'gp_count_imp', 'flu_vaccine',\n",
       "       'region', 'smoking_status_imp', 'antibacterial_brit', 'imd_imp',\n",
       "       'ethnicity_imp', 'antibacterial_brit_imp', 'hx_hosp', 'CCI_cat', 'CCI',\n",
       "       'died_date', 'deregistered_date', 'season', 'meds_nonabs',\n",
       "       'gp_cons_urti', 'gp_cons_urti_ab', 'urti_date', 'incdt_urti_date',\n",
       "       'admitted_urti_date', 'sgss_gp_cov_urti_date', 'event_urti_admitted',\n",
       "       'delta_urti_admitted', 'delta_admitted_died',\n",
       "       'delta_admitted_deregistered', 'delta_admitted_died_deregistered',\n",
       "       'duration_urti_admitted'],\n",
       "      dtype='object')"
      ]
     },
     "execution_count": 78,
     "metadata": {},
     "output_type": "execute_result"
    }
   ],
   "source": [
    "data_urti_no_abs_incdt.columns"
   ]
  },
  {
   "cell_type": "code",
   "execution_count": 79,
   "metadata": {},
   "outputs": [
    {
     "data": {
      "text/plain": [
       "(893, 37)"
      ]
     },
     "execution_count": 79,
     "metadata": {},
     "output_type": "execute_result"
    }
   ],
   "source": [
    "data_urti_no_abs_incdt.shape"
   ]
  },
  {
   "cell_type": "code",
   "execution_count": 80,
   "metadata": {},
   "outputs": [],
   "source": [
    "#keep relevant variables\n",
    "# data_urti_no_abs_incdt = data_urti_no_abs_incdt[['age', 'age_cat', 'sex', 'bmi_imp', 'BMI_cat', 'gp_count_imp', 'flu_vaccine',\n",
    "#                                                'region', 'antibacterial_brit_imp', 'imd_imp', 'ethnicity_imp', 'CCI_cat', 'CCI',\n",
    "#                                                'event_urti_admitted', 'duration_urti_admitted']]\n",
    "\n",
    "data_urti_no_abs_incdt = data_urti_no_abs_incdt[['Age_cat',\n",
    "                                                #  'age', 'bmi_imp', 'gp_count_imp', 'flu_vaccine', 'sex', 'region', #'season', \n",
    "                                                #  'imd_imp', 'antibacterial_brit_imp', 'ethnicity_imp', 'smoking_status_imp',\n",
    "                                                #  'meds_nonabs',\n",
    "                                                 'event_urti_admitted', 'duration_urti_admitted']]"
   ]
  },
  {
   "cell_type": "code",
   "execution_count": 81,
   "metadata": {},
   "outputs": [
    {
     "data": {
      "text/plain": [
       "age                       0\n",
       "bmi_imp                   0\n",
       "gp_count_imp              0\n",
       "flu_vaccine               0\n",
       "sex                       0\n",
       "region                    0\n",
       "season                    0\n",
       "imd_imp                   0\n",
       "antibacterial_brit_imp    0\n",
       "ethnicity_imp             0\n",
       "smoking_status_imp        0\n",
       "meds_nonabs               0\n",
       "event_urti_admitted       0\n",
       "duration_urti_admitted    0\n",
       "dtype: int64"
      ]
     },
     "execution_count": 81,
     "metadata": {},
     "output_type": "execute_result"
    }
   ],
   "source": [
    "# printing number of missing values in each variable \n",
    "data_urti_no_abs_incdt.isnull().sum()"
   ]
  },
  {
   "cell_type": "code",
   "execution_count": 82,
   "metadata": {},
   "outputs": [],
   "source": [
    "# #drop ros with missing values\n",
    "# data_urti_no_abs_incdt = data_urti_no_abs_incdt.dropna(axis='rows')\n",
    "# # data_urti = data_urti.drop(columns=['smoking_status'])\n",
    "# data_urti_no_abs_incdt.isnull().sum()"
   ]
  },
  {
   "cell_type": "code",
   "execution_count": 83,
   "metadata": {},
   "outputs": [
    {
     "data": {
      "text/plain": [
       "Index(['age', 'bmi_imp', 'gp_count_imp', 'flu_vaccine', 'sex', 'region',\n",
       "       'season', 'imd_imp', 'antibacterial_brit_imp', 'ethnicity_imp',\n",
       "       'smoking_status_imp', 'meds_nonabs', 'event_urti_admitted',\n",
       "       'duration_urti_admitted'],\n",
       "      dtype='object')"
      ]
     },
     "execution_count": 83,
     "metadata": {},
     "output_type": "execute_result"
    }
   ],
   "source": [
    "data_urti_no_abs_incdt.columns"
   ]
  },
  {
   "cell_type": "code",
   "execution_count": 84,
   "metadata": {},
   "outputs": [
    {
     "name": "stdout",
     "output_type": "stream",
     "text": [
      "shape of data_urti_no_abs_incdt for training: (670, 14)\n",
      "shape of data_urti_no_abs_incdt for testing: (223, 14)\n"
     ]
    }
   ],
   "source": [
    "fold_thre = len(data_urti_no_abs_incdt)-round(len(data_urti_no_abs_incdt)/4)\n",
    "data_urti_no_abs_incdt_train = data_urti_no_abs_incdt.iloc[:fold_thre]\n",
    "data_urti_no_abs_incdt_test = data_urti_no_abs_incdt.iloc[fold_thre:]\n",
    "\n",
    "print(f'shape of data_urti_no_abs_incdt for training: {data_urti_no_abs_incdt_train.shape}')\n",
    "print(f'shape of data_urti_no_abs_incdt for testing: {data_urti_no_abs_incdt_test.shape}')"
   ]
  },
  {
   "cell_type": "code",
   "execution_count": 85,
   "metadata": {},
   "outputs": [
    {
     "data": {
      "text/html": [
       "<div>\n",
       "<style scoped>\n",
       "    .dataframe tbody tr th:only-of-type {\n",
       "        vertical-align: middle;\n",
       "    }\n",
       "\n",
       "    .dataframe tbody tr th {\n",
       "        vertical-align: top;\n",
       "    }\n",
       "\n",
       "    .dataframe thead th {\n",
       "        text-align: right;\n",
       "    }\n",
       "</style>\n",
       "<table border=\"1\" class=\"dataframe\">\n",
       "  <tbody>\n",
       "    <tr>\n",
       "      <th>model</th>\n",
       "      <td>lifelines.CoxPHFitter</td>\n",
       "    </tr>\n",
       "    <tr>\n",
       "      <th>duration col</th>\n",
       "      <td>'duration_urti_admitted'</td>\n",
       "    </tr>\n",
       "    <tr>\n",
       "      <th>event col</th>\n",
       "      <td>'event_urti_admitted'</td>\n",
       "    </tr>\n",
       "    <tr>\n",
       "      <th>baseline estimation</th>\n",
       "      <td>breslow</td>\n",
       "    </tr>\n",
       "    <tr>\n",
       "      <th>number of observations</th>\n",
       "      <td>670</td>\n",
       "    </tr>\n",
       "    <tr>\n",
       "      <th>number of events observed</th>\n",
       "      <td>28</td>\n",
       "    </tr>\n",
       "    <tr>\n",
       "      <th>partial log-likelihood</th>\n",
       "      <td>-167.78</td>\n",
       "    </tr>\n",
       "    <tr>\n",
       "      <th>time fit was run</th>\n",
       "      <td>2022-03-23 18:36:52 UTC</td>\n",
       "    </tr>\n",
       "  </tbody>\n",
       "</table>\n",
       "</div><table border=\"1\" class=\"dataframe\">\n",
       "  <thead>\n",
       "    <tr style=\"text-align: right;\">\n",
       "      <th style=\"min-width: 12px;\"></th>\n",
       "      <th style=\"min-width: 12px;\">coef</th>\n",
       "      <th style=\"min-width: 12px;\">exp(coef)</th>\n",
       "      <th style=\"min-width: 12px;\">se(coef)</th>\n",
       "      <th style=\"min-width: 12px;\">coef lower 95%</th>\n",
       "      <th style=\"min-width: 12px;\">coef upper 95%</th>\n",
       "      <th style=\"min-width: 12px;\">exp(coef) lower 95%</th>\n",
       "      <th style=\"min-width: 12px;\">exp(coef) upper 95%</th>\n",
       "      <th style=\"min-width: 12px;\">z</th>\n",
       "      <th style=\"min-width: 12px;\">p</th>\n",
       "      <th style=\"min-width: 12px;\">-log2(p)</th>\n",
       "    </tr>\n",
       "  </thead>\n",
       "  <tbody>\n",
       "    <tr>\n",
       "      <th>age</th>\n",
       "      <td>0.01</td>\n",
       "      <td>1.01</td>\n",
       "      <td>0.01</td>\n",
       "      <td>-0.01</td>\n",
       "      <td>0.03</td>\n",
       "      <td>0.99</td>\n",
       "      <td>1.03</td>\n",
       "      <td>1.31</td>\n",
       "      <td>0.19</td>\n",
       "      <td>2.39</td>\n",
       "    </tr>\n",
       "    <tr>\n",
       "      <th>antibacterial_brit_imp</th>\n",
       "      <td>-0.02</td>\n",
       "      <td>0.98</td>\n",
       "      <td>0.14</td>\n",
       "      <td>-0.29</td>\n",
       "      <td>0.25</td>\n",
       "      <td>0.75</td>\n",
       "      <td>1.28</td>\n",
       "      <td>-0.14</td>\n",
       "      <td>0.89</td>\n",
       "      <td>0.17</td>\n",
       "    </tr>\n",
       "    <tr>\n",
       "      <th>bmi_imp</th>\n",
       "      <td>-0.00</td>\n",
       "      <td>1.00</td>\n",
       "      <td>0.02</td>\n",
       "      <td>-0.04</td>\n",
       "      <td>0.04</td>\n",
       "      <td>0.96</td>\n",
       "      <td>1.04</td>\n",
       "      <td>-0.05</td>\n",
       "      <td>0.96</td>\n",
       "      <td>0.06</td>\n",
       "    </tr>\n",
       "    <tr>\n",
       "      <th>ethnicity_imp[T.Mixed]</th>\n",
       "      <td>0.23</td>\n",
       "      <td>1.26</td>\n",
       "      <td>1.10</td>\n",
       "      <td>-1.93</td>\n",
       "      <td>2.40</td>\n",
       "      <td>0.14</td>\n",
       "      <td>10.98</td>\n",
       "      <td>0.21</td>\n",
       "      <td>0.83</td>\n",
       "      <td>0.26</td>\n",
       "    </tr>\n",
       "    <tr>\n",
       "      <th>ethnicity_imp[T.Other]</th>\n",
       "      <td>-17.39</td>\n",
       "      <td>0.00</td>\n",
       "      <td>5933.69</td>\n",
       "      <td>-11647.22</td>\n",
       "      <td>11612.44</td>\n",
       "      <td>0.00</td>\n",
       "      <td>inf</td>\n",
       "      <td>-0.00</td>\n",
       "      <td>1.00</td>\n",
       "      <td>0.00</td>\n",
       "    </tr>\n",
       "    <tr>\n",
       "      <th>ethnicity_imp[T.White]</th>\n",
       "      <td>0.95</td>\n",
       "      <td>2.58</td>\n",
       "      <td>1.03</td>\n",
       "      <td>-1.08</td>\n",
       "      <td>2.98</td>\n",
       "      <td>0.34</td>\n",
       "      <td>19.63</td>\n",
       "      <td>0.92</td>\n",
       "      <td>0.36</td>\n",
       "      <td>1.48</td>\n",
       "    </tr>\n",
       "    <tr>\n",
       "      <th>flu_vaccine[T.Yes]</th>\n",
       "      <td>-1.18</td>\n",
       "      <td>0.31</td>\n",
       "      <td>1.03</td>\n",
       "      <td>-3.19</td>\n",
       "      <td>0.84</td>\n",
       "      <td>0.04</td>\n",
       "      <td>2.32</td>\n",
       "      <td>-1.14</td>\n",
       "      <td>0.25</td>\n",
       "      <td>1.98</td>\n",
       "    </tr>\n",
       "    <tr>\n",
       "      <th>gp_count_imp</th>\n",
       "      <td>0.03</td>\n",
       "      <td>1.03</td>\n",
       "      <td>0.05</td>\n",
       "      <td>-0.07</td>\n",
       "      <td>0.14</td>\n",
       "      <td>0.93</td>\n",
       "      <td>1.15</td>\n",
       "      <td>0.63</td>\n",
       "      <td>0.53</td>\n",
       "      <td>0.93</td>\n",
       "    </tr>\n",
       "    <tr>\n",
       "      <th>imd_imp</th>\n",
       "      <td>0.09</td>\n",
       "      <td>1.10</td>\n",
       "      <td>0.14</td>\n",
       "      <td>-0.19</td>\n",
       "      <td>0.37</td>\n",
       "      <td>0.83</td>\n",
       "      <td>1.45</td>\n",
       "      <td>0.66</td>\n",
       "      <td>0.51</td>\n",
       "      <td>0.97</td>\n",
       "    </tr>\n",
       "    <tr>\n",
       "      <th>meds_nonabs</th>\n",
       "      <td>-0.11</td>\n",
       "      <td>0.89</td>\n",
       "      <td>0.14</td>\n",
       "      <td>-0.38</td>\n",
       "      <td>0.16</td>\n",
       "      <td>0.68</td>\n",
       "      <td>1.17</td>\n",
       "      <td>-0.81</td>\n",
       "      <td>0.42</td>\n",
       "      <td>1.26</td>\n",
       "    </tr>\n",
       "    <tr>\n",
       "      <th>region[T.East Midlands]</th>\n",
       "      <td>-18.49</td>\n",
       "      <td>0.00</td>\n",
       "      <td>4656.40</td>\n",
       "      <td>-9144.86</td>\n",
       "      <td>9107.88</td>\n",
       "      <td>0.00</td>\n",
       "      <td>inf</td>\n",
       "      <td>-0.00</td>\n",
       "      <td>1.00</td>\n",
       "      <td>0.00</td>\n",
       "    </tr>\n",
       "    <tr>\n",
       "      <th>region[T.London]</th>\n",
       "      <td>-1.27</td>\n",
       "      <td>0.28</td>\n",
       "      <td>0.74</td>\n",
       "      <td>-2.72</td>\n",
       "      <td>0.18</td>\n",
       "      <td>0.07</td>\n",
       "      <td>1.20</td>\n",
       "      <td>-1.71</td>\n",
       "      <td>0.09</td>\n",
       "      <td>3.52</td>\n",
       "    </tr>\n",
       "    <tr>\n",
       "      <th>region[T.North East]</th>\n",
       "      <td>-0.62</td>\n",
       "      <td>0.54</td>\n",
       "      <td>0.69</td>\n",
       "      <td>-1.97</td>\n",
       "      <td>0.72</td>\n",
       "      <td>0.14</td>\n",
       "      <td>2.05</td>\n",
       "      <td>-0.91</td>\n",
       "      <td>0.36</td>\n",
       "      <td>1.46</td>\n",
       "    </tr>\n",
       "    <tr>\n",
       "      <th>region[T.North West]</th>\n",
       "      <td>-0.73</td>\n",
       "      <td>0.48</td>\n",
       "      <td>0.84</td>\n",
       "      <td>-2.38</td>\n",
       "      <td>0.93</td>\n",
       "      <td>0.09</td>\n",
       "      <td>2.53</td>\n",
       "      <td>-0.86</td>\n",
       "      <td>0.39</td>\n",
       "      <td>1.36</td>\n",
       "    </tr>\n",
       "    <tr>\n",
       "      <th>region[T.South East]</th>\n",
       "      <td>-0.53</td>\n",
       "      <td>0.59</td>\n",
       "      <td>0.74</td>\n",
       "      <td>-1.98</td>\n",
       "      <td>0.92</td>\n",
       "      <td>0.14</td>\n",
       "      <td>2.52</td>\n",
       "      <td>-0.71</td>\n",
       "      <td>0.48</td>\n",
       "      <td>1.07</td>\n",
       "    </tr>\n",
       "    <tr>\n",
       "      <th>region[T.South West]</th>\n",
       "      <td>-0.08</td>\n",
       "      <td>0.92</td>\n",
       "      <td>0.64</td>\n",
       "      <td>-1.34</td>\n",
       "      <td>1.18</td>\n",
       "      <td>0.26</td>\n",
       "      <td>3.24</td>\n",
       "      <td>-0.13</td>\n",
       "      <td>0.90</td>\n",
       "      <td>0.16</td>\n",
       "    </tr>\n",
       "    <tr>\n",
       "      <th>region[T.West Midlands]</th>\n",
       "      <td>-0.01</td>\n",
       "      <td>0.99</td>\n",
       "      <td>0.65</td>\n",
       "      <td>-1.28</td>\n",
       "      <td>1.26</td>\n",
       "      <td>0.28</td>\n",
       "      <td>3.53</td>\n",
       "      <td>-0.02</td>\n",
       "      <td>0.99</td>\n",
       "      <td>0.02</td>\n",
       "    </tr>\n",
       "    <tr>\n",
       "      <th>region[T.Yorkshire and The Humber]</th>\n",
       "      <td>-1.66</td>\n",
       "      <td>0.19</td>\n",
       "      <td>1.10</td>\n",
       "      <td>-3.82</td>\n",
       "      <td>0.50</td>\n",
       "      <td>0.02</td>\n",
       "      <td>1.64</td>\n",
       "      <td>-1.51</td>\n",
       "      <td>0.13</td>\n",
       "      <td>2.93</td>\n",
       "    </tr>\n",
       "    <tr>\n",
       "      <th>season[T.Spring]</th>\n",
       "      <td>-0.23</td>\n",
       "      <td>0.79</td>\n",
       "      <td>0.55</td>\n",
       "      <td>-1.31</td>\n",
       "      <td>0.84</td>\n",
       "      <td>0.27</td>\n",
       "      <td>2.32</td>\n",
       "      <td>-0.42</td>\n",
       "      <td>0.67</td>\n",
       "      <td>0.57</td>\n",
       "    </tr>\n",
       "    <tr>\n",
       "      <th>season[T.Summer]</th>\n",
       "      <td>-0.06</td>\n",
       "      <td>0.94</td>\n",
       "      <td>0.53</td>\n",
       "      <td>-1.11</td>\n",
       "      <td>0.98</td>\n",
       "      <td>0.33</td>\n",
       "      <td>2.67</td>\n",
       "      <td>-0.12</td>\n",
       "      <td>0.90</td>\n",
       "      <td>0.15</td>\n",
       "    </tr>\n",
       "    <tr>\n",
       "      <th>season[T.Winter]</th>\n",
       "      <td>-0.13</td>\n",
       "      <td>0.87</td>\n",
       "      <td>0.54</td>\n",
       "      <td>-1.19</td>\n",
       "      <td>0.93</td>\n",
       "      <td>0.30</td>\n",
       "      <td>2.52</td>\n",
       "      <td>-0.25</td>\n",
       "      <td>0.80</td>\n",
       "      <td>0.31</td>\n",
       "    </tr>\n",
       "    <tr>\n",
       "      <th>sex[T.Male]</th>\n",
       "      <td>0.00</td>\n",
       "      <td>1.00</td>\n",
       "      <td>0.39</td>\n",
       "      <td>-0.76</td>\n",
       "      <td>0.77</td>\n",
       "      <td>0.47</td>\n",
       "      <td>2.15</td>\n",
       "      <td>0.00</td>\n",
       "      <td>1.00</td>\n",
       "      <td>0.00</td>\n",
       "    </tr>\n",
       "    <tr>\n",
       "      <th>smoking_status_imp[T.Never smoked]</th>\n",
       "      <td>-1.14</td>\n",
       "      <td>0.32</td>\n",
       "      <td>1.04</td>\n",
       "      <td>-3.18</td>\n",
       "      <td>0.91</td>\n",
       "      <td>0.04</td>\n",
       "      <td>2.48</td>\n",
       "      <td>-1.09</td>\n",
       "      <td>0.28</td>\n",
       "      <td>1.86</td>\n",
       "    </tr>\n",
       "    <tr>\n",
       "      <th>smoking_status_imp[T.Smoker]</th>\n",
       "      <td>0.18</td>\n",
       "      <td>1.20</td>\n",
       "      <td>0.39</td>\n",
       "      <td>-0.59</td>\n",
       "      <td>0.95</td>\n",
       "      <td>0.55</td>\n",
       "      <td>2.58</td>\n",
       "      <td>0.45</td>\n",
       "      <td>0.65</td>\n",
       "      <td>0.62</td>\n",
       "    </tr>\n",
       "  </tbody>\n",
       "</table><br><div>\n",
       "<style scoped>\n",
       "    .dataframe tbody tr th:only-of-type {\n",
       "        vertical-align: middle;\n",
       "    }\n",
       "\n",
       "    .dataframe tbody tr th {\n",
       "        vertical-align: top;\n",
       "    }\n",
       "\n",
       "    .dataframe thead th {\n",
       "        text-align: right;\n",
       "    }\n",
       "</style>\n",
       "<table border=\"1\" class=\"dataframe\">\n",
       "  <tbody>\n",
       "    <tr>\n",
       "      <th>Concordance</th>\n",
       "      <td>0.76</td>\n",
       "    </tr>\n",
       "    <tr>\n",
       "      <th>Partial AIC</th>\n",
       "      <td>383.55</td>\n",
       "    </tr>\n",
       "    <tr>\n",
       "      <th>log-likelihood ratio test</th>\n",
       "      <td>27.63 on 24 df</td>\n",
       "    </tr>\n",
       "    <tr>\n",
       "      <th>-log2(p) of ll-ratio test</th>\n",
       "      <td>1.86</td>\n",
       "    </tr>\n",
       "  </tbody>\n",
       "</table>\n",
       "</div>"
      ],
      "text/latex": [
       "\\begin{tabular}{lrrrrrrrrrr}\n",
       "\\toprule\n",
       "{} &   coef &  exp(coef) &  se(coef) &  coef lower 95\\% &  coef upper 95\\% &  exp(coef) lower 95\\% &  exp(coef) upper 95\\% &     z &    p &  -log2(p) \\\\\n",
       "covariate                          &        &            &           &                 &                 &                      &                      &       &      &           \\\\\n",
       "\\midrule\n",
       "age                                &   0.01 &       1.01 &      0.01 &           -0.01 &            0.03 &                 0.99 &                 1.03 &  1.31 & 0.19 &      2.39 \\\\\n",
       "antibacterial\\_brit\\_imp             &  -0.02 &       0.98 &      0.14 &           -0.29 &            0.25 &                 0.75 &                 1.28 & -0.14 & 0.89 &      0.17 \\\\\n",
       "bmi\\_imp                            &  -0.00 &       1.00 &      0.02 &           -0.04 &            0.04 &                 0.96 &                 1.04 & -0.05 & 0.96 &      0.06 \\\\\n",
       "ethnicity\\_imp[T.Mixed]             &   0.23 &       1.26 &      1.10 &           -1.93 &            2.40 &                 0.14 &                10.98 &  0.21 & 0.83 &      0.26 \\\\\n",
       "ethnicity\\_imp[T.Other]             & -17.39 &       0.00 &   5933.69 &       -11647.22 &        11612.44 &                 0.00 &                  inf & -0.00 & 1.00 &      0.00 \\\\\n",
       "ethnicity\\_imp[T.White]             &   0.95 &       2.58 &      1.03 &           -1.08 &            2.98 &                 0.34 &                19.63 &  0.92 & 0.36 &      1.48 \\\\\n",
       "flu\\_vaccine[T.Yes]                 &  -1.18 &       0.31 &      1.03 &           -3.19 &            0.84 &                 0.04 &                 2.32 & -1.14 & 0.25 &      1.98 \\\\\n",
       "gp\\_count\\_imp                       &   0.03 &       1.03 &      0.05 &           -0.07 &            0.14 &                 0.93 &                 1.15 &  0.63 & 0.53 &      0.93 \\\\\n",
       "imd\\_imp                            &   0.09 &       1.10 &      0.14 &           -0.19 &            0.37 &                 0.83 &                 1.45 &  0.66 & 0.51 &      0.97 \\\\\n",
       "meds\\_nonabs                        &  -0.11 &       0.89 &      0.14 &           -0.38 &            0.16 &                 0.68 &                 1.17 & -0.81 & 0.42 &      1.26 \\\\\n",
       "region[T.East Midlands]            & -18.49 &       0.00 &   4656.40 &        -9144.86 &         9107.88 &                 0.00 &                  inf & -0.00 & 1.00 &      0.00 \\\\\n",
       "region[T.London]                   &  -1.27 &       0.28 &      0.74 &           -2.72 &            0.18 &                 0.07 &                 1.20 & -1.71 & 0.09 &      3.52 \\\\\n",
       "region[T.North East]               &  -0.62 &       0.54 &      0.69 &           -1.97 &            0.72 &                 0.14 &                 2.05 & -0.91 & 0.36 &      1.46 \\\\\n",
       "region[T.North West]               &  -0.73 &       0.48 &      0.84 &           -2.38 &            0.93 &                 0.09 &                 2.53 & -0.86 & 0.39 &      1.36 \\\\\n",
       "region[T.South East]               &  -0.53 &       0.59 &      0.74 &           -1.98 &            0.92 &                 0.14 &                 2.52 & -0.71 & 0.48 &      1.07 \\\\\n",
       "region[T.South West]               &  -0.08 &       0.92 &      0.64 &           -1.34 &            1.18 &                 0.26 &                 3.24 & -0.13 & 0.90 &      0.16 \\\\\n",
       "region[T.West Midlands]            &  -0.01 &       0.99 &      0.65 &           -1.28 &            1.26 &                 0.28 &                 3.53 & -0.02 & 0.99 &      0.02 \\\\\n",
       "region[T.Yorkshire and The Humber] &  -1.66 &       0.19 &      1.10 &           -3.82 &            0.50 &                 0.02 &                 1.64 & -1.51 & 0.13 &      2.93 \\\\\n",
       "season[T.Spring]                   &  -0.23 &       0.79 &      0.55 &           -1.31 &            0.84 &                 0.27 &                 2.32 & -0.42 & 0.67 &      0.57 \\\\\n",
       "season[T.Summer]                   &  -0.06 &       0.94 &      0.53 &           -1.11 &            0.98 &                 0.33 &                 2.67 & -0.12 & 0.90 &      0.15 \\\\\n",
       "season[T.Winter]                   &  -0.13 &       0.87 &      0.54 &           -1.19 &            0.93 &                 0.30 &                 2.52 & -0.25 & 0.80 &      0.31 \\\\\n",
       "sex[T.Male]                        &   0.00 &       1.00 &      0.39 &           -0.76 &            0.77 &                 0.47 &                 2.15 &  0.00 & 1.00 &      0.00 \\\\\n",
       "smoking\\_status\\_imp[T.Never smoked] &  -1.14 &       0.32 &      1.04 &           -3.18 &            0.91 &                 0.04 &                 2.48 & -1.09 & 0.28 &      1.86 \\\\\n",
       "smoking\\_status\\_imp[T.Smoker]       &   0.18 &       1.20 &      0.39 &           -0.59 &            0.95 &                 0.55 &                 2.58 &  0.45 & 0.65 &      0.62 \\\\\n",
       "\\bottomrule\n",
       "\\end{tabular}\n"
      ],
      "text/plain": [
       "<lifelines.CoxPHFitter: fitted with 670 total observations, 642 right-censored observations>\n",
       "             duration col = 'duration_urti_admitted'\n",
       "                event col = 'event_urti_admitted'\n",
       "      baseline estimation = breslow\n",
       "   number of observations = 670\n",
       "number of events observed = 28\n",
       "   partial log-likelihood = -167.78\n",
       "         time fit was run = 2022-03-23 18:36:52 UTC\n",
       "\n",
       "---\n",
       "                                     coef  exp(coef)   se(coef)   coef lower 95%   coef upper 95%  exp(coef) lower 95%  exp(coef) upper 95%\n",
       "covariate                                                                                                                                  \n",
       "age                                  0.01       1.01       0.01            -0.01             0.03                 0.99                 1.03\n",
       "antibacterial_brit_imp              -0.02       0.98       0.14            -0.29             0.25                 0.75                 1.28\n",
       "bmi_imp                             -0.00       1.00       0.02            -0.04             0.04                 0.96                 1.04\n",
       "ethnicity_imp[T.Mixed]               0.23       1.26       1.10            -1.93             2.40                 0.14                10.98\n",
       "ethnicity_imp[T.Other]             -17.39       0.00    5933.69        -11647.22         11612.44                 0.00                  inf\n",
       "ethnicity_imp[T.White]               0.95       2.58       1.03            -1.08             2.98                 0.34                19.63\n",
       "flu_vaccine[T.Yes]                  -1.18       0.31       1.03            -3.19             0.84                 0.04                 2.32\n",
       "gp_count_imp                         0.03       1.03       0.05            -0.07             0.14                 0.93                 1.15\n",
       "imd_imp                              0.09       1.10       0.14            -0.19             0.37                 0.83                 1.45\n",
       "meds_nonabs                         -0.11       0.89       0.14            -0.38             0.16                 0.68                 1.17\n",
       "region[T.East Midlands]            -18.49       0.00    4656.40         -9144.86          9107.88                 0.00                  inf\n",
       "region[T.London]                    -1.27       0.28       0.74            -2.72             0.18                 0.07                 1.20\n",
       "region[T.North East]                -0.62       0.54       0.69            -1.97             0.72                 0.14                 2.05\n",
       "region[T.North West]                -0.73       0.48       0.84            -2.38             0.93                 0.09                 2.53\n",
       "region[T.South East]                -0.53       0.59       0.74            -1.98             0.92                 0.14                 2.52\n",
       "region[T.South West]                -0.08       0.92       0.64            -1.34             1.18                 0.26                 3.24\n",
       "region[T.West Midlands]             -0.01       0.99       0.65            -1.28             1.26                 0.28                 3.53\n",
       "region[T.Yorkshire and The Humber]  -1.66       0.19       1.10            -3.82             0.50                 0.02                 1.64\n",
       "season[T.Spring]                    -0.23       0.79       0.55            -1.31             0.84                 0.27                 2.32\n",
       "season[T.Summer]                    -0.06       0.94       0.53            -1.11             0.98                 0.33                 2.67\n",
       "season[T.Winter]                    -0.13       0.87       0.54            -1.19             0.93                 0.30                 2.52\n",
       "sex[T.Male]                          0.00       1.00       0.39            -0.76             0.77                 0.47                 2.15\n",
       "smoking_status_imp[T.Never smoked]  -1.14       0.32       1.04            -3.18             0.91                 0.04                 2.48\n",
       "smoking_status_imp[T.Smoker]         0.18       1.20       0.39            -0.59             0.95                 0.55                 2.58\n",
       "\n",
       "                                       z    p   -log2(p)\n",
       "covariate                                               \n",
       "age                                 1.31 0.19       2.39\n",
       "antibacterial_brit_imp             -0.14 0.89       0.17\n",
       "bmi_imp                            -0.05 0.96       0.06\n",
       "ethnicity_imp[T.Mixed]              0.21 0.83       0.26\n",
       "ethnicity_imp[T.Other]             -0.00 1.00       0.00\n",
       "ethnicity_imp[T.White]              0.92 0.36       1.48\n",
       "flu_vaccine[T.Yes]                 -1.14 0.25       1.98\n",
       "gp_count_imp                        0.63 0.53       0.93\n",
       "imd_imp                             0.66 0.51       0.97\n",
       "meds_nonabs                        -0.81 0.42       1.26\n",
       "region[T.East Midlands]            -0.00 1.00       0.00\n",
       "region[T.London]                   -1.71 0.09       3.52\n",
       "region[T.North East]               -0.91 0.36       1.46\n",
       "region[T.North West]               -0.86 0.39       1.36\n",
       "region[T.South East]               -0.71 0.48       1.07\n",
       "region[T.South West]               -0.13 0.90       0.16\n",
       "region[T.West Midlands]            -0.02 0.99       0.02\n",
       "region[T.Yorkshire and The Humber] -1.51 0.13       2.93\n",
       "season[T.Spring]                   -0.42 0.67       0.57\n",
       "season[T.Summer]                   -0.12 0.90       0.15\n",
       "season[T.Winter]                   -0.25 0.80       0.31\n",
       "sex[T.Male]                         0.00 1.00       0.00\n",
       "smoking_status_imp[T.Never smoked] -1.09 0.28       1.86\n",
       "smoking_status_imp[T.Smoker]        0.45 0.65       0.62\n",
       "---\n",
       "Concordance = 0.76\n",
       "Partial AIC = 383.55\n",
       "log-likelihood ratio test = 27.63 on 24 df\n",
       "-log2(p) of ll-ratio test = 1.86"
      ]
     },
     "metadata": {},
     "output_type": "display_data"
    }
   ],
   "source": [
    "cph_urti_no_abs_incdt = CoxPHFitter()\n",
    "cph_urti_no_abs_incdt.fit(data_urti_no_abs_incdt_train,\n",
    "        duration_col='duration_urti_admitted',\n",
    "        event_col='event_urti_admitted',\n",
    "        formula=\"Age_cat\"\n",
    "        # \"age + sex + bmi_imp + gp_count_imp + flu_vaccine + region + antibacterial_brit_imp + imd_imp + ethnicity_imp + smoking_status_imp + meds_nonabs\" # + season\n",
    "        )\n",
    "cph_urti_no_abs_incdt.print_summary()\n",
    "# cph_urti_no_abs_incdt_summary = cph_urti_no_abs_incdt.print_summary(style=\"html\")\n",
    "# cph_urti_no_abs_incdt.print_summary(columns=[\"coef\", \"se(coef)\", \"p\"])"
   ]
  },
  {
   "cell_type": "code",
   "execution_count": 166,
   "metadata": {},
   "outputs": [
    {
     "name": "stdout",
     "output_type": "stream",
     "text": [
      "8141\n"
     ]
    }
   ],
   "source": [
    "output = GetPrintSummary(cph_urti_no_abs_incdt)\n",
    "\n",
    "with open('../output/hospitalisation_prediction_urti/cph_urti_no_abs_incdt_summary.html', \"w\") as fo:\n",
    "    print(fo.write(output))\n",
    "    fo.close()"
   ]
  },
  {
   "cell_type": "code",
   "execution_count": null,
   "metadata": {},
   "outputs": [],
   "source": [
    "a = cph_urti_no_abs_incdt.baseline_hazard_\n",
    "# cph_urti_no_abs_incdt.baseline_survival_\n",
    "# cph_urti_no_abs_incdt.predict_cumulative_hazard(data_urti_no_abs_incdt, data_urti_no_abs_incdt['duration_urti_admitted']<=30)\n",
    "# cph_urti_no_abs_incdt.predict_survival_function(data_urti_no_abs_incdt)\n",
    "\n",
    "# save \n",
    "np.savetxt('../output/hospitalisation_prediction_urti/sum_betas_urti_no_abs_incdt.txt', a, delimiter=',')"
   ]
  },
  {
   "cell_type": "code",
   "execution_count": 86,
   "metadata": {},
   "outputs": [
    {
     "data": {
      "image/png": "[encoded data removed]",
      "text/plain": [
       "<Figure size 360x648 with 1 Axes>"
      ]
     },
     "metadata": {
      "needs_background": "light"
     },
     "output_type": "display_data"
    }
   ],
   "source": [
    "fig, ax = plt.subplots(figsize=(5, 9)\n",
    "                        )\n",
    "cph_urti_no_abs_incdt.plot()\n",
    "plt.suptitle('Coefficients of CPH model for incident hospital admission \\n related to URTI with no antibiotics', fontsize=16)\n",
    "#_ = ax.set_yticklabels(['Age', 'BMI', 'GP consultations', 'CCI', 'IMD', 'Flu vaccine', 'Antibacterial prescriptions'], \n",
    "#                        rotation=45, fontsize=12, ha='right')\n",
    "plt.savefig('../output/hospitalisation_prediction_urti/coefficients_cph_urti_no_abs_incdt.jpg', bbox_inches='tight')\n",
    "plt.show()"
   ]
  },
  {
   "cell_type": "code",
   "execution_count": 168,
   "metadata": {},
   "outputs": [
    {
     "name": "stdout",
     "output_type": "stream",
     "text": [
      "Concordance index for uti_no_abs_incdt with testing data: 0.5150943396226415\n"
     ]
    }
   ],
   "source": [
    "# concordance index of cph model with testing data\n",
    "concord_index_urti_no_abs_incdt_test = concordance_index(data_urti_no_abs_incdt_test['event_urti_admitted'], -cph_urti_no_abs_incdt.predict_partial_hazard(data_urti_no_abs_incdt_test), data_urti_no_abs_incdt_test['duration_urti_admitted'])\n",
    "print(f'Concordance index for urti_no_abs_incdt with testing data: {concord_index_urti_no_abs_incdt_test}')\n",
    "# print(concordance_index(data_urti_no_abs_incdt_test['event_urti_admitted'], -cph_urti_no_abs_incdt.predict_partial_hazard(data_urti_no_abs_incdt_test), data_urti_no_abs_incdt_test['duration_urti_admitted']))"
   ]
  },
  {
   "cell_type": "code",
   "execution_count": 169,
   "metadata": {},
   "outputs": [],
   "source": [
    "# a = [concord_index_urti_no_abs_incdt_test]\n",
    "# np.savetxt('../output/hospitalisation_prediction_urti/concord_index_urti_no_abs_incdt_test.txt', a, delimiter=',')"
   ]
  },
  {
   "cell_type": "code",
   "execution_count": null,
   "metadata": {},
   "outputs": [],
   "source": [
    "# fig, ax = plt.subplots(figsize=(8, 5)\n",
    "#                         )\n",
    "# survival_probability_calibration(cph_urti_no_abs_incdt, data_urti_no_abs_incdt_train, t0=30)\n",
    "# # plt.suptitle('Calibration of CPH model for incident hospital admission related to urti with no antibiotics', fontsize=16)\n",
    "# plt.savefig('../output/hospitalisation_prediction_urti/calibration_cph_urti_no_abs_incdt_train.jpg', bbox_inches='tight')\n",
    "# plt.show()\n",
    "\n",
    "# # t0 (float) – the time to evaluate the probability of event occurring prior at.\n",
    "# # ICI – mean absolute difference between predicted and observed\n",
    "# # E50 – median absolute difference between predicted and observed"
   ]
  },
  {
   "cell_type": "code",
   "execution_count": null,
   "metadata": {},
   "outputs": [],
   "source": [
    "# fig, ax = plt.subplots(figsize=(8, 5)\n",
    "#                         )\n",
    "# survival_probability_calibration(cph_urti_no_abs_incdt, data_urti_no_abs_incdt_test, t0=30)\n",
    "# # plt.suptitle('Calibration of CPH model for incident hospital admission related to URTI with no antibiotics', fontsize=16)\n",
    "# plt.savefig('../output/hospitalisation_prediction_urti/calibration_cph_urti_no_abs_incdt_test.jpg', bbox_inches='tight')\n",
    "# plt.show()"
   ]
  },
  {
   "cell_type": "code",
   "execution_count": 29,
   "metadata": {},
   "outputs": [],
   "source": [
    "# cph_urti_no_abs_incdt_predicted = cph_urti_no_abs_incdt.predict_partial_hazard(data_urti_no_abs_incdt)\n",
    "\n",
    "# fig, ax = plt.subplots(figsize=(8, 5))\n",
    "# fig = sm.qqplot(cph_urti_no_abs_incdt_predicted, line='45', ax=ax)\n",
    "# plt.suptitle('Q-Q plot for calibration of CPH model for incident hospital \\n admission related to URTI with no antibiotics', fontsize=16)\n",
    "# plt.savefig('../output/hospitalisation_prediction_urti/qq_calibration_cph_urti_no_abs_incdt.jpg', bbox_inches='tight')\n",
    "# # pylab.show()\n",
    "# plt.show()"
   ]
  },
  {
   "cell_type": "code",
   "execution_count": 174,
   "metadata": {},
   "outputs": [],
   "source": [
    "# print(cph_urti_no_abs_incdt.score(data_urti_no_abs_incdt_1_test))\n",
    "# print(cph_urti_no_abs_incdt.concordance_index_)\n",
    "# print(cph_urti_no_abs_incdt.AIC_partial_)\n",
    "# print(cph_urti_no_abs_incdt.concordance_index_)"
   ]
  },
  {
   "cell_type": "markdown",
   "metadata": {},
   "source": [
    "#### 4-1-2- Incident hospital admission related to URTI with antibiotics"
   ]
  },
  {
   "cell_type": "code",
   "execution_count": 4,
   "metadata": {},
   "outputs": [],
   "source": [
    "# data_urti_abs_incdt.columns"
   ]
  },
  {
   "cell_type": "code",
   "execution_count": 3,
   "metadata": {},
   "outputs": [],
   "source": [
    "# data_urti_abs_incdt.shape"
   ]
  },
  {
   "cell_type": "code",
   "execution_count": 89,
   "metadata": {},
   "outputs": [],
   "source": [
    "# #keep relevant variables\n",
    "# data_urti_abs_incdt = data_urti_abs_incdt[['age', 'bmi_imp', 'gp_count_imp', 'flu_vaccine', 'sex', 'region', #'season', \n",
    "#                                          'imd_imp', 'antibacterial_brit_imp', 'ethnicity_imp', 'smoking_status_imp',\n",
    "#                                          'meds_nonabs',\n",
    "#                                          'event_urti_admitted', 'duration_urti_admitted']]"
   ]
  },
  {
   "cell_type": "code",
   "execution_count": 2,
   "metadata": {},
   "outputs": [],
   "source": [
    "# # printing number of missing values in each variable \n",
    "# data_urti_abs_incdt.isnull().sum()"
   ]
  },
  {
   "cell_type": "code",
   "execution_count": 91,
   "metadata": {},
   "outputs": [],
   "source": [
    "# #drop ros with missing values\n",
    "# data_urti_abs_incdt = data_urti_abs_incdt.dropna(axis='rows')\n",
    "# #data_urti_abs_incdt = data_urti_abs_incdt.drop(columns=['smoking_status'])\n",
    "# data_urti_abs_incdt.isnull().sum()"
   ]
  },
  {
   "cell_type": "code",
   "execution_count": 1,
   "metadata": {},
   "outputs": [],
   "source": [
    "# fold_thre = len(data_urti_abs_incdt)-round(len(data_urti_abs_incdt)/4)\n",
    "# data_urti_abs_incdt_train = data_urti_abs_incdt.iloc[:fold_thre]\n",
    "# data_urti_abs_incdt_test = data_urti_abs_incdt.iloc[fold_thre:]\n",
    "\n",
    "# print(f'shape of data_urti_abs_incdt for training: {data_urti_abs_incdt_train.shape}')\n",
    "# print(f'shape of data_urti_abs_incdt for testing: {data_urti_abs_incdt_test.shape}')"
   ]
  },
  {
   "cell_type": "code",
   "execution_count": 5,
   "metadata": {},
   "outputs": [],
   "source": [
    "# cph_urti_abs_incdt = CoxPHFitter().fit(data_urti_abs_incdt_train,\n",
    "#         duration_col='duration_urti_admitted',\n",
    "#         event_col='event_urti_admitted',\n",
    "#         formula=\"age + sex + bmi_imp + gp_count_imp + flu_vaccine + region + antibacterial_brit_imp + imd_imp + ethnicity_imp + smoking_status_imp + meds_nonabs\" # season +\n",
    "#         )\n",
    "# cph_urti_abs_incdt.print_summary()"
   ]
  },
  {
   "cell_type": "code",
   "execution_count": 94,
   "metadata": {},
   "outputs": [
    {
     "name": "stdout",
     "output_type": "stream",
     "text": [
      "8608\n"
     ]
    }
   ],
   "source": [
    "# output = GetPrintSummary(cph_urti_abs_incdt)\n",
    "\n",
    "# with open('../output/hospitalisation_prediction_urti/cph_urti_abs_incdt_summary.html', \"w\") as fo:\n",
    "#     print(fo.write(output))\n",
    "#     fo.close()"
   ]
  },
  {
   "cell_type": "code",
   "execution_count": null,
   "metadata": {},
   "outputs": [],
   "source": [
    "# a = cph_urti_abs_incdt.baseline_hazard_\n",
    "# # cph_urti_abs_incdt.baseline_survival_\n",
    "# # cph_urti_abs_incdt.predict_cumulative_hazard(data_urti_abs_incdt, data_urti_abs_incdt['duration_urti_admitted']<=30)\n",
    "# # cph_urti_abs_incdt.predict_survival_function(data_urti_abs_incdt)\n",
    "\n",
    "# # save \n",
    "# np.savetxt('../output/hospitalisation_prediction_urti/sum_betas_urti_abs_incdt.txt', a, delimiter=',')"
   ]
  },
  {
   "cell_type": "code",
   "execution_count": 6,
   "metadata": {},
   "outputs": [],
   "source": [
    "# fig, ax = plt.subplots(figsize=(5, 9)\n",
    "#                         )\n",
    "# cph_urti_abs_incdt.plot()\n",
    "# plt.suptitle('Coefficients of CPH model for incident hospital admission \\n related to URTI with antibiotics', fontsize=16)\n",
    "# #_ = ax.set_yticklabels(['Age', 'BMI', 'GP consultations', 'CCI', 'IMD', 'Flu vaccine', 'Antibacterial prescriptions'], \n",
    "# #                        rotation=45, fontsize=12, ha='right')\n",
    "# plt.savefig('../output/hospitalisation_prediction_urti/coefficients_cph_urti_abs_incdt.jpg', bbox_inches='tight')\n",
    "# plt.show()"
   ]
  },
  {
   "cell_type": "code",
   "execution_count": 7,
   "metadata": {},
   "outputs": [],
   "source": [
    "# # concordance index of cph model with testing data\n",
    "# concord_index_urti_abs_incdt_test = concordance_index(data_urti_abs_incdt_test['event_urti_admitted'], -cph_urti_abs_incdt.predict_partial_hazard(data_urti_abs_incdt_test), data_urti_abs_incdt_test['duration_urti_admitted'])\n",
    "# print(f'Concordance index for urti_abs_incdt with testing data: {concord_index_urti_abs_incdt_test}')"
   ]
  },
  {
   "cell_type": "code",
   "execution_count": 8,
   "metadata": {},
   "outputs": [],
   "source": [
    "# a = [concord_index_urti_abs_incdt_test]\n",
    "# np.savetxt('../output/hospitalisation_prediction_urti/concord_index_urti_abs_incdt_test.txt', a, delimiter=',')"
   ]
  },
  {
   "cell_type": "code",
   "execution_count": 9,
   "metadata": {},
   "outputs": [],
   "source": [
    "# fig, ax = plt.subplots(figsize=(8, 5)\n",
    "#                         )\n",
    "# survival_probability_calibration(cph_urti_abs_incdt, data_urti_abs_incdt_train, t0=30)\n",
    "# # plt.suptitle('Calibration of CPH model for incident hospital admission related to URTI with antibiotics', fontsize=16)\n",
    "# plt.savefig('../output/hospitalisation_prediction_urti/calibration_cph_urti_abs_incdt_train.jpg', bbox_inches='tight')\n",
    "# plt.show()"
   ]
  },
  {
   "cell_type": "code",
   "execution_count": null,
   "metadata": {},
   "outputs": [],
   "source": [
    "# fig, ax = plt.subplots(figsize=(8, 5)\n",
    "#                         )\n",
    "# survival_probability_calibration(cph_urti_abs_incdt, data_urti_abs_incdt_test, t0=30)\n",
    "# # plt.suptitle('Calibration of CPH model for incident hospital admission related to urti with antibiotics', fontsize=16)\n",
    "# plt.savefig('../output/hospitalisation_prediction_urti/calibration_cph_urti_abs_incdt_test.jpg', bbox_inches='tight')\n",
    "# plt.show()"
   ]
  },
  {
   "cell_type": "code",
   "execution_count": 28,
   "metadata": {},
   "outputs": [],
   "source": [
    "# cph_urti_abs_incdt_predicted = cph_urti_abs_incdt.predict_partial_hazard(data_urti_abs_incdt)\n",
    "\n",
    "# fig, ax = plt.subplots(figsize=(8, 5))\n",
    "# fig = sm.qqplot(cph_urti_abs_incdt_predicted, line='45', ax=ax)\n",
    "# plt.suptitle('Q-Q plot for calibration of CPH model for incident hospital \\n admission related to URTI with antibiotics', fontsize=16)\n",
    "# plt.savefig('../output/hospitalisation_prediction_urti/qq_calibration_cph_urti_abs_incdt.jpg', bbox_inches='tight')\n",
    "# # pylab.show()\n",
    "# plt.show()"
   ]
  },
  {
   "cell_type": "markdown",
   "metadata": {},
   "source": [
    "#### 4-1-3- Prevalent hospital admission related to URTI with no antibiotics"
   ]
  },
  {
   "cell_type": "code",
   "execution_count": 10,
   "metadata": {},
   "outputs": [],
   "source": [
    "# data_urti_no_abs_prevl.columns"
   ]
  },
  {
   "cell_type": "code",
   "execution_count": 11,
   "metadata": {},
   "outputs": [],
   "source": [
    "# data_urti_no_abs_prevl.shape"
   ]
  },
  {
   "cell_type": "code",
   "execution_count": 12,
   "metadata": {},
   "outputs": [],
   "source": [
    "# #keep relevant variables\n",
    "# data_urti_no_abs_prevl = data_urti_no_abs_prevl[['age', 'bmi_imp', 'gp_count_imp', 'flu_vaccine', 'sex', 'region', #'season', \n",
    "#                                                 'imd_imp', 'antibacterial_brit_imp', 'ethnicity_imp', 'smoking_status_imp',\n",
    "#                                                 'meds_nonabs',\n",
    "#                                                 'event_urti_admitted', 'duration_urti_admitted']]"
   ]
  },
  {
   "cell_type": "code",
   "execution_count": 13,
   "metadata": {},
   "outputs": [],
   "source": [
    "# # printing number of missing values in each variable \n",
    "# data_urti_no_abs_prevl.isnull().sum()"
   ]
  },
  {
   "cell_type": "code",
   "execution_count": 98,
   "metadata": {},
   "outputs": [],
   "source": [
    "# #drop rows with missing values\n",
    "# data_urti_no_abs_prevl = data_urti_no_abs_prevl.dropna(axis='rows')\n",
    "# #data_urti_no_abs_prevl = data_urti_no_abs_prevl.drop(columns=['smoking_status'])\n",
    "# data_urti_no_abs_prevl.isnull().sum()"
   ]
  },
  {
   "cell_type": "code",
   "execution_count": 14,
   "metadata": {},
   "outputs": [],
   "source": [
    "# data_urti_no_abs_prevl.shape"
   ]
  },
  {
   "cell_type": "code",
   "execution_count": 15,
   "metadata": {},
   "outputs": [],
   "source": [
    "# fold_thre = len(data_urti_no_abs_prevl)-round(len(data_urti_no_abs_prevl)/4)\n",
    "# data_urti_no_abs_prevl_train = data_urti_no_abs_prevl.iloc[:fold_thre]\n",
    "# data_urti_no_abs_prevl_test = data_urti_no_abs_prevl.iloc[fold_thre:]\n",
    "\n",
    "# print(f'shape of data_urti_no_abs_prevl for training: {data_urti_no_abs_prevl_train.shape}')\n",
    "# print(f'shape of data_urti_no_abs_prevl for testing: {data_urti_no_abs_prevl_test.shape}')"
   ]
  },
  {
   "cell_type": "code",
   "execution_count": 16,
   "metadata": {},
   "outputs": [],
   "source": [
    "# cph_urti_no_abs_prevl = CoxPHFitter().fit(data_urti_no_abs_prevl_train,\n",
    "#         duration_col='duration_urti_admitted',\n",
    "#         event_col='event_urti_admitted',\n",
    "#         formula=\"age + sex + bmi_imp + gp_count_imp + flu_vaccine + region + antibacterial_brit_imp + imd_imp + ethnicity_imp + smoking_status_imp + meds_nonabs\" # season +\n",
    "#         )\n",
    "# cph_urti_no_abs_prevl.print_summary()"
   ]
  },
  {
   "cell_type": "code",
   "execution_count": 17,
   "metadata": {},
   "outputs": [],
   "source": [
    "# output = GetPrintSummary(cph_urti_no_abs_prevl)\n",
    "\n",
    "# with open('../output/hospitalisation_prediction_urti/cph_urti_no_abs_prevl_summary.html', \"w\") as fo:\n",
    "#     print(fo.write(output))\n",
    "#     fo.close()"
   ]
  },
  {
   "cell_type": "code",
   "execution_count": 18,
   "metadata": {},
   "outputs": [],
   "source": [
    "# a = cph_urti_no_abs_prevl.baseline_hazard_\n",
    "# # cph_urti_no_abs_prevl.baseline_survival_\n",
    "# # cph_urti_no_abs_prevl.predict_cumulative_hazard(data_urti_no_abs_prevl, data_urti_no_abs_prevl['duration_urti_admitted']<=30)\n",
    "# # cph_urti_no_abs_prevl.predict_survival_function(data_urti_no_abs_prevl)\n",
    "\n",
    "# # save \n",
    "# np.savetxt('../output/hospitalisation_prediction_urti/sum_betas_urti_no_abs_prevl.txt', a, delimiter=',')"
   ]
  },
  {
   "cell_type": "code",
   "execution_count": 19,
   "metadata": {},
   "outputs": [],
   "source": [
    "# fig, ax = plt.subplots(figsize=(5, 9)\n",
    "#                         )\n",
    "# cph_urti_no_abs_prevl.plot()\n",
    "# plt.suptitle('Coefficients of CPH model for prevalent hospital admission \\n related to URTI with no antibiotics', fontsize=16)\n",
    "# #_ = ax.set_yticklabels(['Age', 'BMI', 'GP consultations', 'CCI', 'IMD', 'Flu vaccine', 'Antibacterial prescriptions'], \n",
    "# #                        rotation=45, fontsize=12, ha='right')\n",
    "# plt.savefig('../output/hospitalisation_prediction_urti/coefficients_cph_urti_no_abs_prevl.jpg', bbox_inches='tight')\n",
    "# plt.show()"
   ]
  },
  {
   "cell_type": "code",
   "execution_count": 20,
   "metadata": {},
   "outputs": [],
   "source": [
    "# data_urti_no_abs_prevl_test.columns"
   ]
  },
  {
   "cell_type": "code",
   "execution_count": 21,
   "metadata": {},
   "outputs": [],
   "source": [
    "# # concordance index of cph model with testing data\n",
    "# concord_index_urti_no_abs_prevl_test = concordance_index(data_urti_no_abs_prevl_test['event_urti_admitted'], -cph_urti_no_abs_prevl.predict_partial_hazard(data_urti_no_abs_prevl_test), data_urti_no_abs_prevl_test['duration_urti_admitted'])\n",
    "# print(f'Concordance index for cph_urti_no_abs_prevl with testing data: {concord_index_urti_no_abs_prevl_test}')"
   ]
  },
  {
   "cell_type": "code",
   "execution_count": 22,
   "metadata": {},
   "outputs": [],
   "source": [
    "# a = [concord_index_urti_no_abs_prevl_test]\n",
    "# np.savetxt('../output/hospitalisation_prediction_urti/concord_index_urti_no_abs_prevl_test.txt', a, delimiter=',')"
   ]
  },
  {
   "cell_type": "code",
   "execution_count": 23,
   "metadata": {},
   "outputs": [],
   "source": [
    "# fig, ax = plt.subplots(figsize=(8, 5)\n",
    "#                         )\n",
    "# survival_probability_calibration(cph_urti_no_abs_prevl, data_urti_no_abs_prevl_train, t0=30)\n",
    "# plt.suptitle('Calibration of CPH model for prevalent hospital admission related to URTI with no antibiotics', fontsize=16)\n",
    "# plt.savefig('../output/hospitalisation_prediction_urti/calibration_cph_urti_no_abs_prevl_train.jpg', bbox_inches='tight')\n",
    "# plt.show()"
   ]
  },
  {
   "cell_type": "code",
   "execution_count": 24,
   "metadata": {},
   "outputs": [],
   "source": [
    "# fig, ax = plt.subplots(figsize=(8, 5)\n",
    "#                         )\n",
    "# survival_probability_calibration(cph_urti_no_abs_prevl, data_urti_no_abs_prevl_test, t0=30)\n",
    "# plt.suptitle('Calibration of CPH model for prevalent hospital admission related to URTI with no antibiotics', fontsize=16)\n",
    "# plt.savefig('../output/hospitalisation_prediction_urti/calibration_cph_urti_no_abs_prevl_test.jpg', bbox_inches='tight')\n",
    "# plt.show()"
   ]
  },
  {
   "cell_type": "code",
   "execution_count": null,
   "metadata": {},
   "outputs": [],
   "source": [
    "# cph_urti_no_abs_prevl_predicted = cph_urti_no_abs_prevl.predict_partial_hazard(data_urti_no_abs_prevl)\n",
    "\n",
    "# fig, ax = plt.subplots(figsize=(8, 5))\n",
    "# fig = sm.qqplot(cph_urti_no_abs_prevl_predicted, line='45', ax=ax)\n",
    "# plt.suptitle('Q-Q plot for calibration of CPH model for prevalent hospital \\n admission related to URTI with no antibiotics', fontsize=16)\n",
    "# plt.savefig('../output/hospitalisation_prediction_urti/qq_calibration_cph_urti_no_abs_prevl.jpg', bbox_inches='tight')\n",
    "# # pylab.show()\n",
    "# plt.show()"
   ]
  },
  {
   "cell_type": "markdown",
   "metadata": {},
   "source": [
    "#### 4-1-4- Prevalent hospital admission related to URTI with antibiotics"
   ]
  },
  {
   "cell_type": "code",
   "execution_count": 385,
   "metadata": {},
   "outputs": [],
   "source": [
    "# data_urti_abs_prevl.columns"
   ]
  },
  {
   "cell_type": "code",
   "execution_count": 386,
   "metadata": {},
   "outputs": [],
   "source": [
    "# #keep relevant variables\n",
    "# data_urti_abs_prevl = data_urti_abs_prevl[['age', 'age_cat', 'sex', 'bmi', 'BMI_cat', 'gp_count', 'flu_vaccine',\n",
    "#                                         'region', 'antibacterial_brit', 'imd', 'ethnicity', 'CCI_cat', 'CCI',\n",
    "#                                         'event_urti_admitted', 'duration_urti_admitted']]"
   ]
  },
  {
   "cell_type": "code",
   "execution_count": 387,
   "metadata": {},
   "outputs": [],
   "source": [
    "# # print number of missing values in each variable \n",
    "# data_urti_abs_prevl.isnull().sum()"
   ]
  },
  {
   "cell_type": "code",
   "execution_count": 388,
   "metadata": {},
   "outputs": [],
   "source": [
    "# #drop ros with missing values\n",
    "# data_urti_abs_prevl = data_urti_abs_prevl.dropna(axis='rows')\n",
    "# #data_urti_abs_prevl = data_urti_abs_prevl.drop(columns=['smoking_status'])\n",
    "# data_urti_abs_prevl.isnull().sum()"
   ]
  },
  {
   "cell_type": "code",
   "execution_count": 389,
   "metadata": {},
   "outputs": [],
   "source": [
    "# cph_urti_abs_prevl = CoxPHFitter(penalizer=0.1)\n",
    "# cph_urti_abs_prevl.fit(data_urti_abs_prevl, \n",
    "#         duration_col='duration_urti_admitted',\n",
    "#         event_col='event_urti_admitted',\n",
    "#         formula=\"age_cat + sex + gp_count + flu_vaccine + region + antibacterial_brit + imd + ethnicity\"\n",
    "#         )\n",
    "# cph_urti_abs_prevl.print_summary()"
   ]
  },
  {
   "cell_type": "code",
   "execution_count": 390,
   "metadata": {},
   "outputs": [],
   "source": [
    "# fig, ax = plt.subplots(figsize=(5, 9)\n",
    "#                         )\n",
    "# cph_urti_abs_prevl.plot()\n",
    "# plt.suptitle('Coefficients of CPH model for prevalent hospital admission related to URTI with antibiotics', fontsize=16)\n",
    "# #_ = ax.set_yticklabels(['Age', 'BMI', 'GP consultations', 'CCI', 'IMD', 'Flu vaccine', 'Antibacterial prescriptions'], \n",
    "# #                        rotation=45, fontsize=12, ha='right')\n",
    "# #plt.savefig('output/repeat_ABs_outputs/coefficients_cph_urti_abs_prevl.jpg', bbox_inches='tight')\n",
    "# plt.show()"
   ]
  },
  {
   "cell_type": "code",
   "execution_count": 129,
   "metadata": {},
   "outputs": [],
   "source": [
    "##save cph model with pickle package\n",
    "\n",
    "# current_working_dir = os.getcwd()\n",
    "# print(current_working_dir)\n",
    "\n",
    "# with open('output/hospitalisation_prediction_urti/cph_urti_abs_prevl.pickle', 'wb') as f:\n",
    "#     pickle.dump(cph_urti_abs_prevl, f)\n",
    "\n",
    "# with open('output/hospitalisation_prediction_urti/cph_urti_abs_prevl.pickle', 'rb') as f:\n",
    "#     cph_urti_abs_prevl = pickle.load(f)\n",
    "\n",
    "# cph_urti_abs_prevl.summary"
   ]
  },
  {
   "cell_type": "code",
   "execution_count": 147,
   "metadata": {},
   "outputs": [],
   "source": [
    "# hosp history, ab type history, "
   ]
  }
 ],
 "metadata": {
  "interpreter": {
   "hash": "7a2d6c6560a78692f44e6c684bf0cb5541339d681bcf02c80a9e36dbc5e3249d"
  },
  "kernelspec": {
   "display_name": "Python 3.9.6 64-bit",
   "name": "python3"
  },
  "language_info": {
   "codemirror_mode": {
    "name": "ipython",
    "version": 3
   },
   "file_extension": ".py",
   "mimetype": "text/x-python",
   "name": "python",
   "nbconvert_exporter": "python",
   "pygments_lexer": "ipython3",
   "version": "3.10.4"
  },
  "orig_nbformat": 4
 },
 "nbformat": 4,
 "nbformat_minor": 2
}
