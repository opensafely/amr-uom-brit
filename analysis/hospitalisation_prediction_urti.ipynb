{
 "cells": [
  {
   "cell_type": "markdown",
   "metadata": {},
   "source": [
    "# Predcition of Hospital Admission Related to Infections\n",
    "\n",
    "In this notebook, we develop a Cox proportional hazard regression model to predict the risk of hospital admission for common infections including urinary tract infection (urti), upper respiratory tract infection (URTI), lower respiratory tract infection (LRTI), sinusitis, otitis media or middle ear infection (ot media), and ear infection or otitis externa (ot externa)."
   ]
  },
  {
   "cell_type": "code",
   "execution_count": 1,
   "metadata": {},
   "outputs": [],
   "source": [
    "import pandas as pd\n",
    "from matplotlib import pyplot\n",
    "import matplotlib.pyplot as plt\n",
    "import seaborn as sns\n",
    "import math\n",
    "import numpy as np\n",
    "import os\n",
    "import glob\n",
    "import gzip\n",
    "from matplotlib.ticker import PercentFormatter\n",
    "from patsy import dmatrices\n",
    "from lifelines import CoxPHFitter\n",
    "import statsmodels.api as sm\n",
    "import statsmodels.formula.api as smf\n",
    "# import sklearn\n",
    "# from sklearn.model_selection import train_test_split\n",
    "from sklearn.impute import SimpleImputer\n",
    "from sklearn.experimental import enable_iterative_imputer\n",
    "from sklearn.impute import IterativeImputer\n",
    "from sklearn.impute import KNNImputer\n",
    "import pickle\n",
    "from sklearn.preprocessing import PolynomialFeatures\n",
    "from lifelines.utils import k_fold_cross_validation\n",
    "from lifelines.utils import concordance_index\n",
    "from lifelines.calibration import survival_probability_calibration\n",
    "import io\n",
    "import sys\n",
    "from contextlib import redirect_stdout\n",
    "# import miceforest as mf\n",
    "%matplotlib inline"
   ]
  },
  {
   "cell_type": "code",
   "execution_count": null,
   "metadata": {},
   "outputs": [],
   "source": [
    "def create_histplot(title, df, ax):\n",
    "    ax.hist(df, color = 'purple', edgecolor = 'black', bins=20)\n",
    "    ax.set_title(title)\n",
    "    ax.set_ylabel('Frequency')\n",
    "    ax.xaxis.set_tick_params(which='both', labelbottom=True, labeltop=False, rotation=0)"
   ]
  },
  {
   "cell_type": "code",
   "execution_count": null,
   "metadata": {},
   "outputs": [],
   "source": [
    "def create_lineplot(data, var, title, legend_title, ax1):\n",
    "    a = data.groupby(['date', var]).size().reset_index()\n",
    "    a.columns = ['date', var, 'Freq']\n",
    "    sns.lineplot(x='date', y='Freq', \n",
    "            hue=var, \n",
    "            data=a,\n",
    "            ax=ax1)\n",
    "    ax1.set_title(title)\n",
    "    ax1.set_ylabel('Frequency')\n",
    "    ax1.xaxis.set_tick_params(which='both', labelbottom=True, labeltop=False, rotation=90)\n",
    "    ax1.legend(title=legend_title)\n",
    "#     ax1.axvline(x=\"2020-01\", color='black', ls='--', lw=1.5)\n",
    "#     ax1.axvline(x=\"2020-04\", color='black', ls='--', lw=1.5)\n",
    "#     ax1.axvline(x=\"2021-04\", color='black', ls='--', lw=1.5)"
   ]
  },
  {
   "cell_type": "code",
   "execution_count": null,
   "metadata": {},
   "outputs": [],
   "source": [
    "# function to transform cph model summary and save it as html\n",
    "def GetPrintSummary(model):\n",
    "    output = \"\"\n",
    "    with io.StringIO() as buf, redirect_stdout(buf):\n",
    "        model.print_summary(style=\"html\")\n",
    "        output = buf.getvalue()\n",
    "    return output"
   ]
  },
  {
   "cell_type": "code",
   "execution_count": null,
   "metadata": {},
   "outputs": [],
   "source": [
    "data2019_month = {}\n",
    "data2019 = []\n",
    "\n",
    "i=1\n",
    "while  i < 13:\n",
    "    # data of 2019\n",
    "    # if (i<4):\n",
    "    data2019_month[\"%s\" %i] = pd.read_csv(f'../output/hospitalisation_data/input_hospitalisation_2019-'+str(i).zfill(2)+'-01.csv.gz')\n",
    "    data2019_month[\"%s\" %i]['date'] = \"2019-\"+str(i).zfill(2)\n",
    "    # if (i>3) and (i<7):\n",
    "    #     data2019_month[\"%s\" %i] = pd.read_csv(f'output/hospitalisation_data/input_hospitalisatio2019-'+str(i).zfill(2)+'-01.csv.gz')\n",
    "    #     data2019_month[\"%s\" %i]['date'] = \"2019-\"+str(i).zfill(2)\n",
    "    if (i<3) or (i>11):\n",
    "        data2019_month[\"%s\" %i]['season'] = \"Winter\"\n",
    "    elif (i>2) and (i<6):\n",
    "        data2019_month[\"%s\" %i]['season'] = \"Spring\"\n",
    "    elif (i>5) and (i<9):\n",
    "        data2019_month[\"%s\" %i]['season'] = \"Summer\"\n",
    "    elif (i>8) and (i<12):\n",
    "        data2019_month[\"%s\" %i]['season'] = \"Autumn\"\n",
    "\n",
    "    data2019.append(data2019_month[\"%s\" %i])\n",
    "    i=i+1\n",
    "    \n",
    "data2019 = pd.concat(data2019_month, axis=0, ignore_index=True)\n",
    "\n",
    "data = data2019"
   ]
  },
  {
   "cell_type": "code",
   "execution_count": null,
   "metadata": {},
   "outputs": [],
   "source": []
  }
 ],
 "metadata": {
  "interpreter": {
   "hash": "7a2d6c6560a78692f44e6c684bf0cb5541339d681bcf02c80a9e36dbc5e3249d"
  },
  "kernelspec": {
   "display_name": "Python 3.9.6 64-bit",
   "name": "python3"
  },
  "language_info": {
   "codemirror_mode": {
    "name": "ipython",
    "version": 3
   },
   "file_extension": ".py",
   "mimetype": "text/x-python",
   "name": "python",
   "nbconvert_exporter": "python",
   "pygments_lexer": "ipython3",
   "version": "3.10.4"
  },
  "orig_nbformat": 4
 },
 "nbformat": 4,
 "nbformat_minor": 2
}
