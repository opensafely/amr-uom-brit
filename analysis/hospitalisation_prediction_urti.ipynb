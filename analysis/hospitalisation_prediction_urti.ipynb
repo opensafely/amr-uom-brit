{
 "cells": [
  {
   "cell_type": "markdown",
   "metadata": {},
   "source": [
    "# Predcition of Hospital Admission Related to Infections\n",
    "\n",
    "In this notebook, we develop a Cox proportional hazard regression model to predict the risk of hospital admission for common infections including urinary tract infection (urti), upper respiratory tract infection (URTI), lower respiratory tract infection (LRTI), sinusitis, otitis media or middle ear infection (ot media), and ear infection or otitis externa (ot externa)."
   ]
  },
  {
   "cell_type": "code",
   "execution_count": 1,
   "metadata": {},
   "outputs": [],
   "source": [
    "import pandas as pd\n",
    "from matplotlib import pyplot\n",
    "import matplotlib.pyplot as plt\n",
    "import seaborn as sns\n",
    "import math\n",
    "import numpy as np\n",
    "import os\n",
    "import glob\n",
    "import gzip\n",
    "from matplotlib.ticker import PercentFormatter\n",
    "from patsy import dmatrices\n",
    "from lifelines import CoxPHFitter\n",
    "import statsmodels.api as sm\n",
    "import statsmodels.formula.api as smf\n",
    "from sklearn.impute import SimpleImputer\n",
    "from sklearn.experimental import enable_iterative_imputer\n",
    "from sklearn.impute import IterativeImputer\n",
    "from sklearn.impute import KNNImputer\n",
    "import pickle\n",
    "from sklearn.preprocessing import PolynomialFeatures\n",
    "from lifelines.utils import k_fold_cross_validation\n",
    "from lifelines.utils import concordance_index\n",
    "from lifelines.calibration import survival_probability_calibration\n",
    "import io\n",
    "import sys\n",
    "from contextlib import redirect_stdout\n",
    "%matplotlib inline"
   ]
  },
  {
   "cell_type": "code",
   "execution_count": 2,
   "metadata": {},
   "outputs": [],
   "source": [
    "#os.chdir(\"..\")\n",
    "current_working_dir = os.getcwd()\n",
    "# print(current_working_dir)\n",
    "\n",
    "# !python --version\n",
    "# import sklearn\n",
    "# print(sklearn.__version__)\n",
    "# import lifelines\n",
    "# print(lifelines.__version__)"
   ]
  },
  {
   "cell_type": "code",
   "execution_count": 3,
   "metadata": {},
   "outputs": [
    {
     "name": "stdout",
     "output_type": "stream",
     "text": [
      "No Warning Shown\n"
     ]
    }
   ],
   "source": [
    "import warnings\n",
    "warnings.filterwarnings('ignore')\n",
    "warnings.warn('DelftStack')\n",
    "warnings.warn('Do not show this message')\n",
    "print(\"No Warning Shown\")"
   ]
  },
  {
   "cell_type": "markdown",
   "metadata": {},
   "source": [
    "## 0- Functions"
   ]
  },
  {
   "cell_type": "code",
   "execution_count": 4,
   "metadata": {},
   "outputs": [],
   "source": [
    "# def makeFilePath(pathFromWorkspace, fileName):\n",
    "#     workingdir = \"/workspace/\" if (os.name != \"nt\") else \"\"\n",
    "#     filepath = workingdir+pathFromWorkspace+fileName\n",
    "\n",
    "#     return filepath"
   ]
  },
  {
   "cell_type": "code",
   "execution_count": 5,
   "metadata": {},
   "outputs": [],
   "source": [
    "def create_histplot(title, df, ax):\n",
    "    ax.hist(df, color = 'purple', edgecolor = 'black', bins=20)\n",
    "    ax.set_title(title)\n",
    "    ax.set_ylabel('Frequency')\n",
    "    ax.xaxis.set_tick_params(which='both', labelbottom=True, labeltop=False, rotation=0)"
   ]
  },
  {
   "cell_type": "code",
   "execution_count": 6,
   "metadata": {},
   "outputs": [],
   "source": [
    "def create_lineplot(data, var, title, legend_title, ax1):\n",
    "    a = data.groupby(['date', var]).size().reset_index()\n",
    "    a.columns = ['date', var, 'Freq']\n",
    "    sns.lineplot(x='date', y='Freq', \n",
    "            hue=var, \n",
    "            data=a,\n",
    "            ax=ax1)\n",
    "    ax1.set_title(title)\n",
    "    ax1.set_ylabel('Frequency')\n",
    "    ax1.xaxis.set_tick_params(which='both', labelbottom=True, labeltop=False, rotation=90)\n",
    "    ax1.legend(title=legend_title)\n",
    "#     ax1.axvline(x=\"2020-01\", color='black', ls='--', lw=1.5)\n",
    "#     ax1.axvline(x=\"2020-04\", color='black', ls='--', lw=1.5)\n",
    "#     ax1.axvline(x=\"2021-04\", color='black', ls='--', lw=1.5)"
   ]
  },
  {
   "cell_type": "code",
   "execution_count": 7,
   "metadata": {},
   "outputs": [],
   "source": [
    "# function to transform cph model summary and save it as html\n",
    "def GetPrintSummary(model):\n",
    "    output = \"\"\n",
    "    with io.StringIO() as buf, redirect_stdout(buf):\n",
    "        model.print_summary(style=\"html\")\n",
    "        output = buf.getvalue()\n",
    "    return output"
   ]
  },
  {
   "cell_type": "markdown",
   "metadata": {},
   "source": [
    "## 1- Data Preparation"
   ]
  },
  {
   "cell_type": "code",
   "execution_count": 8,
   "metadata": {},
   "outputs": [],
   "source": [
    "data = pd.read_csv(f'../output/hospitalisation_data/input_hospitalisation.csv.gz')"
   ]
  },
  {
   "cell_type": "code",
   "execution_count": 9,
   "metadata": {},
   "outputs": [
    {
     "data": {
      "text/plain": [
       "(200000, 59)"
      ]
     },
     "execution_count": 9,
     "metadata": {},
     "output_type": "execute_result"
    }
   ],
   "source": [
    "data.shape"
   ]
  },
  {
   "cell_type": "code",
   "execution_count": 10,
   "metadata": {},
   "outputs": [
    {
     "data": {
      "text/html": [
       "<div>\n",
       "<style scoped>\n",
       "    .dataframe tbody tr th:only-of-type {\n",
       "        vertical-align: middle;\n",
       "    }\n",
       "\n",
       "    .dataframe tbody tr th {\n",
       "        vertical-align: top;\n",
       "    }\n",
       "\n",
       "    .dataframe thead th {\n",
       "        text-align: right;\n",
       "    }\n",
       "</style>\n",
       "<table border=\"1\" class=\"dataframe\">\n",
       "  <thead>\n",
       "    <tr style=\"text-align: right;\">\n",
       "      <th></th>\n",
       "      <th>deregistered_date</th>\n",
       "      <th>died_date</th>\n",
       "      <th>urti_date_1</th>\n",
       "      <th>urti_date_2</th>\n",
       "      <th>urti_date_3</th>\n",
       "      <th>urti_date_4</th>\n",
       "      <th>gp_cons_urti_1</th>\n",
       "      <th>gp_cons_urti_2</th>\n",
       "      <th>gp_cons_urti_3</th>\n",
       "      <th>gp_cons_urti_4</th>\n",
       "      <th>...</th>\n",
       "      <th>hemiplegia_comor</th>\n",
       "      <th>hiv_comor</th>\n",
       "      <th>metastatic_cancer_comor</th>\n",
       "      <th>mild_liver_comor</th>\n",
       "      <th>mod_severe_liver_comor</th>\n",
       "      <th>mod_severe_renal_comor</th>\n",
       "      <th>mi_comor</th>\n",
       "      <th>peptic_ulcer_comor</th>\n",
       "      <th>peripheral_vascular_comor</th>\n",
       "      <th>patient_id</th>\n",
       "    </tr>\n",
       "  </thead>\n",
       "  <tbody>\n",
       "    <tr>\n",
       "      <th>count</th>\n",
       "      <td>10000</td>\n",
       "      <td>20000</td>\n",
       "      <td>20000</td>\n",
       "      <td>20000</td>\n",
       "      <td>20000</td>\n",
       "      <td>20000</td>\n",
       "      <td>20000</td>\n",
       "      <td>20000</td>\n",
       "      <td>20000</td>\n",
       "      <td>20000</td>\n",
       "      <td>...</td>\n",
       "      <td>200000.000000</td>\n",
       "      <td>200000.000000</td>\n",
       "      <td>200000.000000</td>\n",
       "      <td>200000.000000</td>\n",
       "      <td>200000.000000</td>\n",
       "      <td>200000.000000</td>\n",
       "      <td>200000.000000</td>\n",
       "      <td>200000.000000</td>\n",
       "      <td>200000.000000</td>\n",
       "      <td>2.000000e+05</td>\n",
       "    </tr>\n",
       "    <tr>\n",
       "      <th>unique</th>\n",
       "      <td>1197</td>\n",
       "      <td>672</td>\n",
       "      <td>1198</td>\n",
       "      <td>1198</td>\n",
       "      <td>1198</td>\n",
       "      <td>1198</td>\n",
       "      <td>1198</td>\n",
       "      <td>1198</td>\n",
       "      <td>1198</td>\n",
       "      <td>1198</td>\n",
       "      <td>...</td>\n",
       "      <td>NaN</td>\n",
       "      <td>NaN</td>\n",
       "      <td>NaN</td>\n",
       "      <td>NaN</td>\n",
       "      <td>NaN</td>\n",
       "      <td>NaN</td>\n",
       "      <td>NaN</td>\n",
       "      <td>NaN</td>\n",
       "      <td>NaN</td>\n",
       "      <td>NaN</td>\n",
       "    </tr>\n",
       "    <tr>\n",
       "      <th>top</th>\n",
       "      <td>2021-03-25</td>\n",
       "      <td>2022-04-11</td>\n",
       "      <td>2020-09-30</td>\n",
       "      <td>2019-07-05</td>\n",
       "      <td>2020-04-20</td>\n",
       "      <td>2019-07-20</td>\n",
       "      <td>2020-08-30</td>\n",
       "      <td>2022-01-06</td>\n",
       "      <td>2022-02-21</td>\n",
       "      <td>2022-01-17</td>\n",
       "      <td>...</td>\n",
       "      <td>NaN</td>\n",
       "      <td>NaN</td>\n",
       "      <td>NaN</td>\n",
       "      <td>NaN</td>\n",
       "      <td>NaN</td>\n",
       "      <td>NaN</td>\n",
       "      <td>NaN</td>\n",
       "      <td>NaN</td>\n",
       "      <td>NaN</td>\n",
       "      <td>NaN</td>\n",
       "    </tr>\n",
       "    <tr>\n",
       "      <th>freq</th>\n",
       "      <td>19</td>\n",
       "      <td>182</td>\n",
       "      <td>31</td>\n",
       "      <td>31</td>\n",
       "      <td>31</td>\n",
       "      <td>31</td>\n",
       "      <td>32</td>\n",
       "      <td>30</td>\n",
       "      <td>30</td>\n",
       "      <td>30</td>\n",
       "      <td>...</td>\n",
       "      <td>NaN</td>\n",
       "      <td>NaN</td>\n",
       "      <td>NaN</td>\n",
       "      <td>NaN</td>\n",
       "      <td>NaN</td>\n",
       "      <td>NaN</td>\n",
       "      <td>NaN</td>\n",
       "      <td>NaN</td>\n",
       "      <td>NaN</td>\n",
       "      <td>NaN</td>\n",
       "    </tr>\n",
       "    <tr>\n",
       "      <th>mean</th>\n",
       "      <td>NaN</td>\n",
       "      <td>NaN</td>\n",
       "      <td>NaN</td>\n",
       "      <td>NaN</td>\n",
       "      <td>NaN</td>\n",
       "      <td>NaN</td>\n",
       "      <td>NaN</td>\n",
       "      <td>NaN</td>\n",
       "      <td>NaN</td>\n",
       "      <td>NaN</td>\n",
       "      <td>...</td>\n",
       "      <td>0.100000</td>\n",
       "      <td>0.100000</td>\n",
       "      <td>0.100000</td>\n",
       "      <td>0.100000</td>\n",
       "      <td>0.100000</td>\n",
       "      <td>0.100000</td>\n",
       "      <td>0.100000</td>\n",
       "      <td>0.100000</td>\n",
       "      <td>0.100000</td>\n",
       "      <td>9.987001e+05</td>\n",
       "    </tr>\n",
       "    <tr>\n",
       "      <th>std</th>\n",
       "      <td>NaN</td>\n",
       "      <td>NaN</td>\n",
       "      <td>NaN</td>\n",
       "      <td>NaN</td>\n",
       "      <td>NaN</td>\n",
       "      <td>NaN</td>\n",
       "      <td>NaN</td>\n",
       "      <td>NaN</td>\n",
       "      <td>NaN</td>\n",
       "      <td>NaN</td>\n",
       "      <td>...</td>\n",
       "      <td>0.300001</td>\n",
       "      <td>0.300001</td>\n",
       "      <td>0.300001</td>\n",
       "      <td>0.300001</td>\n",
       "      <td>0.300001</td>\n",
       "      <td>0.300001</td>\n",
       "      <td>0.300001</td>\n",
       "      <td>0.300001</td>\n",
       "      <td>0.300001</td>\n",
       "      <td>5.778102e+05</td>\n",
       "    </tr>\n",
       "    <tr>\n",
       "      <th>min</th>\n",
       "      <td>NaN</td>\n",
       "      <td>NaN</td>\n",
       "      <td>NaN</td>\n",
       "      <td>NaN</td>\n",
       "      <td>NaN</td>\n",
       "      <td>NaN</td>\n",
       "      <td>NaN</td>\n",
       "      <td>NaN</td>\n",
       "      <td>NaN</td>\n",
       "      <td>NaN</td>\n",
       "      <td>...</td>\n",
       "      <td>0.000000</td>\n",
       "      <td>0.000000</td>\n",
       "      <td>0.000000</td>\n",
       "      <td>0.000000</td>\n",
       "      <td>0.000000</td>\n",
       "      <td>0.000000</td>\n",
       "      <td>0.000000</td>\n",
       "      <td>0.000000</td>\n",
       "      <td>0.000000</td>\n",
       "      <td>4.000000e+00</td>\n",
       "    </tr>\n",
       "    <tr>\n",
       "      <th>25%</th>\n",
       "      <td>NaN</td>\n",
       "      <td>NaN</td>\n",
       "      <td>NaN</td>\n",
       "      <td>NaN</td>\n",
       "      <td>NaN</td>\n",
       "      <td>NaN</td>\n",
       "      <td>NaN</td>\n",
       "      <td>NaN</td>\n",
       "      <td>NaN</td>\n",
       "      <td>NaN</td>\n",
       "      <td>...</td>\n",
       "      <td>0.000000</td>\n",
       "      <td>0.000000</td>\n",
       "      <td>0.000000</td>\n",
       "      <td>0.000000</td>\n",
       "      <td>0.000000</td>\n",
       "      <td>0.000000</td>\n",
       "      <td>0.000000</td>\n",
       "      <td>0.000000</td>\n",
       "      <td>0.000000</td>\n",
       "      <td>4.985185e+05</td>\n",
       "    </tr>\n",
       "    <tr>\n",
       "      <th>50%</th>\n",
       "      <td>NaN</td>\n",
       "      <td>NaN</td>\n",
       "      <td>NaN</td>\n",
       "      <td>NaN</td>\n",
       "      <td>NaN</td>\n",
       "      <td>NaN</td>\n",
       "      <td>NaN</td>\n",
       "      <td>NaN</td>\n",
       "      <td>NaN</td>\n",
       "      <td>NaN</td>\n",
       "      <td>...</td>\n",
       "      <td>0.000000</td>\n",
       "      <td>0.000000</td>\n",
       "      <td>0.000000</td>\n",
       "      <td>0.000000</td>\n",
       "      <td>0.000000</td>\n",
       "      <td>0.000000</td>\n",
       "      <td>0.000000</td>\n",
       "      <td>0.000000</td>\n",
       "      <td>0.000000</td>\n",
       "      <td>9.972980e+05</td>\n",
       "    </tr>\n",
       "    <tr>\n",
       "      <th>75%</th>\n",
       "      <td>NaN</td>\n",
       "      <td>NaN</td>\n",
       "      <td>NaN</td>\n",
       "      <td>NaN</td>\n",
       "      <td>NaN</td>\n",
       "      <td>NaN</td>\n",
       "      <td>NaN</td>\n",
       "      <td>NaN</td>\n",
       "      <td>NaN</td>\n",
       "      <td>NaN</td>\n",
       "      <td>...</td>\n",
       "      <td>0.000000</td>\n",
       "      <td>0.000000</td>\n",
       "      <td>0.000000</td>\n",
       "      <td>0.000000</td>\n",
       "      <td>0.000000</td>\n",
       "      <td>0.000000</td>\n",
       "      <td>0.000000</td>\n",
       "      <td>0.000000</td>\n",
       "      <td>0.000000</td>\n",
       "      <td>1.498557e+06</td>\n",
       "    </tr>\n",
       "    <tr>\n",
       "      <th>max</th>\n",
       "      <td>NaN</td>\n",
       "      <td>NaN</td>\n",
       "      <td>NaN</td>\n",
       "      <td>NaN</td>\n",
       "      <td>NaN</td>\n",
       "      <td>NaN</td>\n",
       "      <td>NaN</td>\n",
       "      <td>NaN</td>\n",
       "      <td>NaN</td>\n",
       "      <td>NaN</td>\n",
       "      <td>...</td>\n",
       "      <td>1.000000</td>\n",
       "      <td>1.000000</td>\n",
       "      <td>1.000000</td>\n",
       "      <td>1.000000</td>\n",
       "      <td>1.000000</td>\n",
       "      <td>1.000000</td>\n",
       "      <td>1.000000</td>\n",
       "      <td>1.000000</td>\n",
       "      <td>1.000000</td>\n",
       "      <td>1.999998e+06</td>\n",
       "    </tr>\n",
       "  </tbody>\n",
       "</table>\n",
       "<p>11 rows × 59 columns</p>\n",
       "</div>"
      ],
      "text/plain": [
       "       deregistered_date   died_date urti_date_1 urti_date_2 urti_date_3  \\\n",
       "count              10000       20000       20000       20000       20000   \n",
       "unique              1197         672        1198        1198        1198   \n",
       "top           2021-03-25  2022-04-11  2020-09-30  2019-07-05  2020-04-20   \n",
       "freq                  19         182          31          31          31   \n",
       "mean                 NaN         NaN         NaN         NaN         NaN   \n",
       "std                  NaN         NaN         NaN         NaN         NaN   \n",
       "min                  NaN         NaN         NaN         NaN         NaN   \n",
       "25%                  NaN         NaN         NaN         NaN         NaN   \n",
       "50%                  NaN         NaN         NaN         NaN         NaN   \n",
       "75%                  NaN         NaN         NaN         NaN         NaN   \n",
       "max                  NaN         NaN         NaN         NaN         NaN   \n",
       "\n",
       "       urti_date_4 gp_cons_urti_1 gp_cons_urti_2 gp_cons_urti_3  \\\n",
       "count        20000          20000          20000          20000   \n",
       "unique        1198           1198           1198           1198   \n",
       "top     2019-07-20     2020-08-30     2022-01-06     2022-02-21   \n",
       "freq            31             32             30             30   \n",
       "mean           NaN            NaN            NaN            NaN   \n",
       "std            NaN            NaN            NaN            NaN   \n",
       "min            NaN            NaN            NaN            NaN   \n",
       "25%            NaN            NaN            NaN            NaN   \n",
       "50%            NaN            NaN            NaN            NaN   \n",
       "75%            NaN            NaN            NaN            NaN   \n",
       "max            NaN            NaN            NaN            NaN   \n",
       "\n",
       "       gp_cons_urti_4  ... hemiplegia_comor      hiv_comor  \\\n",
       "count           20000  ...    200000.000000  200000.000000   \n",
       "unique           1198  ...              NaN            NaN   \n",
       "top        2022-01-17  ...              NaN            NaN   \n",
       "freq               30  ...              NaN            NaN   \n",
       "mean              NaN  ...         0.100000       0.100000   \n",
       "std               NaN  ...         0.300001       0.300001   \n",
       "min               NaN  ...         0.000000       0.000000   \n",
       "25%               NaN  ...         0.000000       0.000000   \n",
       "50%               NaN  ...         0.000000       0.000000   \n",
       "75%               NaN  ...         0.000000       0.000000   \n",
       "max               NaN  ...         1.000000       1.000000   \n",
       "\n",
       "       metastatic_cancer_comor mild_liver_comor mod_severe_liver_comor  \\\n",
       "count            200000.000000    200000.000000          200000.000000   \n",
       "unique                     NaN              NaN                    NaN   \n",
       "top                        NaN              NaN                    NaN   \n",
       "freq                       NaN              NaN                    NaN   \n",
       "mean                  0.100000         0.100000               0.100000   \n",
       "std                   0.300001         0.300001               0.300001   \n",
       "min                   0.000000         0.000000               0.000000   \n",
       "25%                   0.000000         0.000000               0.000000   \n",
       "50%                   0.000000         0.000000               0.000000   \n",
       "75%                   0.000000         0.000000               0.000000   \n",
       "max                   1.000000         1.000000               1.000000   \n",
       "\n",
       "       mod_severe_renal_comor       mi_comor peptic_ulcer_comor  \\\n",
       "count           200000.000000  200000.000000      200000.000000   \n",
       "unique                    NaN            NaN                NaN   \n",
       "top                       NaN            NaN                NaN   \n",
       "freq                      NaN            NaN                NaN   \n",
       "mean                 0.100000       0.100000           0.100000   \n",
       "std                  0.300001       0.300001           0.300001   \n",
       "min                  0.000000       0.000000           0.000000   \n",
       "25%                  0.000000       0.000000           0.000000   \n",
       "50%                  0.000000       0.000000           0.000000   \n",
       "75%                  0.000000       0.000000           0.000000   \n",
       "max                  1.000000       1.000000           1.000000   \n",
       "\n",
       "       peripheral_vascular_comor    patient_id  \n",
       "count              200000.000000  2.000000e+05  \n",
       "unique                       NaN           NaN  \n",
       "top                          NaN           NaN  \n",
       "freq                         NaN           NaN  \n",
       "mean                    0.100000  9.987001e+05  \n",
       "std                     0.300001  5.778102e+05  \n",
       "min                     0.000000  4.000000e+00  \n",
       "25%                     0.000000  4.985185e+05  \n",
       "50%                     0.000000  9.972980e+05  \n",
       "75%                     0.000000  1.498557e+06  \n",
       "max                     1.000000  1.999998e+06  \n",
       "\n",
       "[11 rows x 59 columns]"
      ]
     },
     "execution_count": 10,
     "metadata": {},
     "output_type": "execute_result"
    }
   ],
   "source": [
    "data.describe(include='all')"
   ]
  },
  {
   "cell_type": "markdown",
   "metadata": {},
   "source": [
    "### 1-2- Additional variables\n",
    "#### 1-2-1- Calculating CHarlson Comorbidity Index\n",
    "Based on https://www.nature.com/articles/4500889.pdf?origin=ppub"
   ]
  },
  {
   "cell_type": "code",
   "execution_count": 11,
   "metadata": {},
   "outputs": [],
   "source": [
    "data['CCI'] = np.nan\n",
    "col0 = data.columns.get_loc('CCI')\n",
    "\n",
    "col1 = data.columns.get_loc('cancer_comor')\n",
    "col2 = data.columns.get_loc('cardiovascular_comor')\n",
    "col3 = data.columns.get_loc('chronic_obstructive_pulmonary_comor') ##\n",
    "col4 = data.columns.get_loc('heart_failure_comor') ##\n",
    "col5 = data.columns.get_loc('connective_tissue_comor')\n",
    "col6 = data.columns.get_loc('dementia_comor')\n",
    "col7 = data.columns.get_loc('diabetes_comor')\n",
    "col8 = data.columns.get_loc('diabetes_complications_comor')\n",
    "col9 = data.columns.get_loc('hemiplegia_comor')\n",
    "col10 = data.columns.get_loc('hiv_comor')\n",
    "col11 = data.columns.get_loc('metastatic_cancer_comor')\n",
    "col12 = data.columns.get_loc('mild_liver_comor')\n",
    "col13 = data.columns.get_loc('mod_severe_liver_comor')\n",
    "col14 = data.columns.get_loc('mod_severe_renal_comor')\n",
    "col15 = data.columns.get_loc('mi_comor')\n",
    "col16 = data.columns.get_loc('peptic_ulcer_comor')\n",
    "col17 = data.columns.get_loc('peripheral_vascular_comor')\n",
    "\n",
    "col18 = data.columns.get_loc('age')"
   ]
  },
  {
   "cell_type": "code",
   "execution_count": 12,
   "metadata": {},
   "outputs": [],
   "source": [
    "for idx, x in enumerate(data['CCI']):\n",
    "    n=0\n",
    "    #comorbidity component\n",
    "    if data.iat[idx, col15] == 1:\n",
    "        n=n+1\n",
    "    if data.iat[idx, col2] == 1:\n",
    "        n=n+1 \n",
    "    if data.iat[idx, col17] == 1:\n",
    "        n=n+1 \n",
    "    if data.iat[idx, col3] == 1:\n",
    "        n=n+1\n",
    "    if data.iat[idx, col7] == 1:\n",
    "        n=n+1\n",
    "    if data.iat[idx, col6] == 1:\n",
    "        n=n+1\n",
    "    if data.iat[idx, col16] == 1:\n",
    "        n=n+1\n",
    "    if data.iat[idx, col5] == 1:\n",
    "        n=n+1\n",
    "    if data.iat[idx, col12] == 1:\n",
    "        n=n+1\n",
    "    \n",
    "    if data.iat[idx, col9] == 1:\n",
    "        n=n+2\n",
    "    if data.iat[idx, col14] == 1:\n",
    "        n=n+2\n",
    "    if data.iat[idx, col8] == 1:\n",
    "        n=n+2\n",
    "    if data.iat[idx, col1] == 1:\n",
    "        n=n+2\n",
    "    #if data.iat[idx, col5] == 1: # Leukaemia\n",
    "    #    n=n+2\n",
    "    #if data.iat[idx, col12] == 1: # Lymphoma\n",
    "    #    n=n+2\n",
    "\n",
    "    if data.iat[idx, col13] == 1:\n",
    "        n=n+3\n",
    "\n",
    "    if data.iat[idx, col11] == 1:\n",
    "        n=n+6\n",
    "    if data.iat[idx, col10] == 1:\n",
    "        n=n+6\n",
    "\n",
    "    #age component\n",
    "    if data.iat[idx, col18] <= 40:\n",
    "        n=n+0\n",
    "    if data.iat[idx, col18] > 40 and data.iat[idx, col18] <= 50:\n",
    "        n=n+1\n",
    "    if data.iat[idx, col18] > 50 and data.iat[idx, col18] <= 60:\n",
    "        n=n+2\n",
    "    if data.iat[idx, col18] > 60 and data.iat[idx, col18] <= 70:\n",
    "        n=n+3\n",
    "    if data.iat[idx, col18] > 70:# and data.iat[idx, col18] <= 80:\n",
    "        n=n+4\n",
    "    \n",
    "    data.iat[idx, col0]=n\n",
    "\n",
    "#data.CCI.value_counts()"
   ]
  },
  {
   "cell_type": "markdown",
   "metadata": {},
   "source": [
    "#### 1-2-2- Calculating all meds except abs"
   ]
  },
  {
   "cell_type": "code",
   "execution_count": 13,
   "metadata": {},
   "outputs": [],
   "source": [
    "# #generate meds_noabs in the one month before\n",
    "# data['meds_nonabs'] = data['all_meds_one_month'] - data['antibacterial_brit_one_month']\n",
    "\n",
    "# # assign zero for any row with negative values which could be the case because of using dummy data and/or the inconsistency of the two codelists of all_meds and antibacterial_brit\n",
    "# data['meds_nonabs'][data['meds_nonabs'] < 0] = 0\n",
    "\n",
    "# data['meds_nonabs'].value_counts()\n",
    "# # data[['all_meds_one_month', 'antibacterial_brit_one_month', 'meds_nonabs']]"
   ]
  },
  {
   "cell_type": "markdown",
   "metadata": {},
   "source": [
    "### 1-3- Handling variables with missing values\n",
    "#### 1-3-1- Drop variables with many missing values\n",
    "We drop colmns with more than 50 percent missing values as they may not be usable in the prediction model, nor they can be imputed properly."
   ]
  },
  {
   "cell_type": "code",
   "execution_count": 14,
   "metadata": {},
   "outputs": [],
   "source": [
    "# #dropping any variable with more than 50 percent missing values\n",
    "# perc = 50.0\n",
    "# # min_count =  int(((100-perc)/100)*data.shape[0] + 1)\n",
    "# # data = data.drop(['age', 'sex', 'CCI', 'bmi', 'antibacterial_brit', 'gp_count', 'imd'], axis=1, thresh=min_count)\n",
    "# # data[['age', 'sex', 'CCI', 'bmi', 'antibacterial_brit', 'gp_count', 'imd']] = data[['age', 'sex', 'CCI', 'bmi', 'antibacterial_brit', 'gp_count', 'imd']].dropna(axis=1, thresh=min_count)\n",
    "# data[['age', 'sex', 'CCI', 'bmi', 'antibacterial_brit', 'gp_count', 'imd']] = data[['age', 'sex', 'CCI', 'bmi', 'antibacterial_brit', 'gp_count', 'imd']].loc[:, data[['age', 'sex', 'CCI', 'bmi', 'antibacterial_brit', 'gp_count', 'imd']].isnull().mean() < perc]\n",
    "# data.shape"
   ]
  },
  {
   "cell_type": "code",
   "execution_count": 15,
   "metadata": {},
   "outputs": [],
   "source": [
    "# fig, ax = plt.subplots(figsize=(9, 7))\n",
    "# sns.heatmap(data[['age', 'bmi', 'CCI', 'antibacterial_brit', 'gp_count', 'imd' ]].corr(), \n",
    "#             annot=True, fmt=\".2f\", annot_kws={\"size\":12},\n",
    "#             vmin=-1.0, vmax=1.0)\n",
    "\n",
    "# ax.set_xticklabels(['Age', 'BMI', 'CCI', 'Antibacterial prescriptions', 'GP consultations' , 'IMD'], rotation=90, fontsize=12)\n",
    "# ax.set_yticklabels(['Age', 'BMI', 'CCI', 'Antibacterial prescriptions', 'GP consultations' , 'IMD'], rotation=0, fontsize=12)                        \n",
    "# plt.tight_layout()\n",
    "# plt.savefig('../output/hospitalisation_prediction_urti/corr_urti.jpg')\n",
    "# plt.show()"
   ]
  },
  {
   "cell_type": "markdown",
   "metadata": {},
   "source": [
    "#### 1-3-2- Imputation of missing values\n",
    "We impute variables with missing values that at most 50 pecent of their values are missing."
   ]
  },
  {
   "cell_type": "code",
   "execution_count": 16,
   "metadata": {},
   "outputs": [],
   "source": [
    "# # prep before plot\n",
    "# data['age'][data['age'] < 0] = np.nan\n",
    "\n",
    "# ## remove died cases\n",
    "# #data.died_date.value_counts()\n",
    "\n",
    "# # remove cases with bmi equal 0\n",
    "# data['bmi'][data['bmi'] <= 0] = 0\n",
    "\n",
    "# # remove cases with negative gp_count\n",
    "# data['gp_count'][data['gp_count'] < 0] = np.nan\n",
    "\n",
    "# # remove cases with negative antibacterial_brit\n",
    "# data['antibacterial_brit'][data['antibacterial_brit'] < 0] = np.nan"
   ]
  },
  {
   "cell_type": "code",
   "execution_count": 17,
   "metadata": {},
   "outputs": [],
   "source": [
    "# dict_sex = {'F': 0, 'M': 1}\n",
    "# dict_smoking = {'S': 1, 'E': 2, 'N':3, 'M':np.nan}\n",
    "\n",
    "# data = data.replace({\"sex\": dict_sex})\n",
    "# data = data.replace({\"smoking_status\": dict_smoking})"
   ]
  },
  {
   "cell_type": "code",
   "execution_count": 18,
   "metadata": {},
   "outputs": [],
   "source": [
    "# # if ('bmi' in data.columns) and (data['bmi'].isnull().sum() > 0):\n",
    "# if ('bmi' in data.columns):    \n",
    "#     # # iterative imputation with sklearn package\n",
    "#     imputer = IterativeImputer(max_iter=10, random_state=0, missing_values=0)\n",
    "#     imputer.fit(data[['age', 'sex', 'CCI', 'bmi']])# 'CCI']])\n",
    "#     # data['bmi_imp'] = np.nan\n",
    "#     data['bmi_imp'] = np.round(imputer.transform(data[['age', 'sex', 'CCI', 'bmi']]))[:,3]\n",
    "    \n",
    "#     # # KNN imputation with sklearn package\n",
    "#     # imputer = KNNImputer(n_neighbors=2, weights=\"uniform\", missing_values=0)\n",
    "#     # data['bmi_imp_knn'] = np.nan\n",
    "#     # data['bmi_imp_knn'] = np.round(imputer.fit_transform(data[['age', 'sex', 'CCI', 'bmi']]))[:,3]\n",
    "\n",
    "#     # # multiple imputation with miceforest package\n",
    "#     # ## create kernel\n",
    "#     # kernel = mf.ImputationKernel(data[['age', 'sex', 'CCI', 'bmi']], save_all_iterations=True)\n",
    "#     # ## run the MICE algorithm for 3 iterations on each of the datasets\n",
    "#     # kernel.mice(3)\n",
    "#     # ## fillmissing data and view imputed data\n",
    "#     # a = kernel.complete_data(2)#[:,2]\n",
    "#     # data['bmi_imp_mul'] = a.bmi"
   ]
  },
  {
   "cell_type": "code",
   "execution_count": 19,
   "metadata": {},
   "outputs": [],
   "source": [
    "# data['bmi'] = data['bmi'].replace(0, np.nan)"
   ]
  },
  {
   "cell_type": "code",
   "execution_count": 20,
   "metadata": {},
   "outputs": [],
   "source": [
    "# if ('bmi' in data.columns):\n",
    "#     # # iterative imputation with sklearn package\n",
    "#     imputer = IterativeImputer(max_iter=10, random_state=0, missing_values=np.nan)\n",
    "#     imputer.fit(data[['age', 'sex', 'CCI', 'bmi']])#'bmi_imp']])\n",
    "#     # data['imd_imp'] = np.nan\n",
    "#     data['bmi_imp'] = np.round(imputer.transform(data[['age', 'sex', 'CCI', 'bmi']]))[:,3]"
   ]
  },
  {
   "cell_type": "code",
   "execution_count": 21,
   "metadata": {},
   "outputs": [],
   "source": [
    "# # drop bmi values equal 0\n",
    "# if ('bmi' in data.columns):\n",
    "#     data['bmi_imp'] = data['bmi']\n",
    "#     data = data[data['bmi_imp'].notna()]"
   ]
  },
  {
   "cell_type": "code",
   "execution_count": 22,
   "metadata": {},
   "outputs": [],
   "source": [
    "# # data[['age', 'sex', 'CCI', 'bmi', 'bmi_imp']]\n",
    "# data['bmi_imp'].min()"
   ]
  },
  {
   "cell_type": "code",
   "execution_count": 23,
   "metadata": {},
   "outputs": [],
   "source": [
    "# # if ('imd' in data.columns) and (data['imd'].isnull().sum() > 0):\n",
    "# if ('imd' in data.columns):\n",
    "#     # # iterative imputation with sklearn package\n",
    "#     imputer = IterativeImputer(max_iter=10, random_state=0, missing_values=0)\n",
    "#     imputer.fit(data[['age', 'sex', 'CCI', 'imd']])#'bmi_imp']])\n",
    "#     # data['imd_imp'] = np.nan\n",
    "#     data['imd_imp'] = np.round(imputer.transform(data[['age', 'sex', 'CCI', 'imd']]))[:,3]\n",
    "\n",
    "#     # # KNN imputation with sklearn package\n",
    "#     # imputer = KNNImputer(n_neighbors=2, weights=\"uniform\", missing_values=0)\n",
    "#     # data['imd_imp_knn'] = np.nan\n",
    "#     # data['imd_imp_knn'] = np.round(imputer.fit_transform(data[['age', 'sex', 'CCI', 'bmi_imp', 'imd']]))[:,4]\n",
    "    \n",
    "#     # # multiple imputation\n",
    "#     # ## create kernel\n",
    "#     # kernel = mf.ImputationKernel(data[['age', 'sex', 'CCI', 'bmi_imp', 'imd']], save_all_iterations=True)\n",
    "#     # ## run the MICE algorithm for 3 iterations on each of the datasets\n",
    "#     # kernel.mice(3)\n",
    "#     # ## fillmissing data and view imputed data\n",
    "#     # a = kernel.complete_data(2)#[:,2]\n",
    "#     # data['imd_imp'] = a.imd"
   ]
  },
  {
   "cell_type": "code",
   "execution_count": 24,
   "metadata": {},
   "outputs": [],
   "source": [
    "# data['imd_imp'] = data['imd']"
   ]
  },
  {
   "cell_type": "code",
   "execution_count": 25,
   "metadata": {},
   "outputs": [],
   "source": [
    "# if ('smoking_status' in data.columns) and (data['smoking_status'].isnull().sum() > 0):\n",
    "#     # # iterative imputation with sklearn package\n",
    "#     imputer = IterativeImputer(max_iter=10, random_state=0, missing_values=np.nan)\n",
    "#     imputer.fit(data[['age', 'sex', 'CCI', 'bmi_imp', 'smoking_status']])#'imd']]) # 'imd_imp'\n",
    "#     # data['smoking_status_imp'] = np.nan\n",
    "#     data['smoking_status_imp'] = np.round(imputer.transform(data[['age', 'sex', 'CCI', 'bmi_imp', 'smoking_status']]))[:,4]\n",
    "\n",
    "#     # # KNN imputation with sklearn package\n",
    "#     # # imputer = KNNImputer(n_neighbors=2, weights=\"uniform\", missing_values=np.nan)\n",
    "#     # data['smoking_status_imp_knn'] = np.nan\n",
    "#     # data['smoking_status_imp_knn'] = np.round(imputer.fit_transform(data[['age', 'sex', 'CCI', 'bmi_imp', 'imd_imp', 'smoking_status']]))[:,5]\n",
    "\n",
    "#     # # multiple imputation\n",
    "#     # ## create kernel\n",
    "#     # kernel = mf.ImputationKernel(data[['age', 'sex', 'CCI', 'bmi_imp', 'imd_imp', 'smoking_status']], save_all_iterations=True)\n",
    "#     # ## run the MICE algorithm for 3 iterations on each of the datasets\n",
    "#     # kernel.mice(3)\n",
    "#     # ## fillmissing data and view imputed data\n",
    "#     # a = kernel.complete_data(2)#[:,2]\n",
    "#     # data['smoking_status_imp'] = a.smoking_status"
   ]
  },
  {
   "cell_type": "code",
   "execution_count": 26,
   "metadata": {},
   "outputs": [],
   "source": [
    "# if ('smoking_status' in data.columns) and (data['smoking_status'].isnull().sum() > 0):\n",
    "#     data['smoking_status_imp'] = data['smoking_status'].replace(np.nan, 0)\n",
    "#     data['smoking_status_imp'].value_counts()"
   ]
  },
  {
   "cell_type": "code",
   "execution_count": 27,
   "metadata": {},
   "outputs": [],
   "source": [
    "# if ('ethnicity' in data.columns) and (data['ethnicity'].isnull().sum() > 0):\n",
    "#     # # iterative imputation with sklearn package\n",
    "#     imputer = IterativeImputer(max_iter=10, random_state=0, missing_values=np.nan)\n",
    "#     imputer.fit(data[['age', 'sex', 'CCI', 'bmi_imp', 'imd', 'ethnicity']])# 'smoking_status_imp']]) #'imd_imp'\n",
    "#     # data['ethnicity_imp'] = np.nan\n",
    "#     data['ethnicity_imp'] = np.round(imputer.transform(data[['age', 'sex', 'CCI', 'bmi_imp', 'imd', 'ethnicity']]))[:,5] #'imd_imp'\n",
    "\n",
    "#     # # KNN imputation with sklearn package\n",
    "#     # imputer = KNNImputer(n_neighbors=2, weights=\"uniform\", missing_values=np.nan)\n",
    "#     # data['ethnicity_imp'] = np.nan\n",
    "#     # data['ethnicity_imp'] = np.round(imputer.fit_transform(data[['age', 'sex', 'CCI', 'bmi_imp', 'imd_imp', 'smoking_status_imp', 'ethnicity']]))[:,6]\n",
    "\n",
    "#     # # multiple imputation\n",
    "#     # ## create kernel\n",
    "#     # kernel = mf.ImputationKernel(data[['age', 'sex', 'CCI', 'bmi_imp', 'imd_imp', 'smoking_status_imp', 'ethnicity']], save_all_iterations=True)\n",
    "#     # ## run the MICE algorithm for 3 iterations on each of the datasets\n",
    "#     # kernel.mice(3)\n",
    "#     # ## fillmissing data and view imputed data\n",
    "#     # a = kernel.complete_data(2)#[:,2]\n",
    "#     # data['ethnicity_imp'] = a.ethnicity"
   ]
  },
  {
   "cell_type": "code",
   "execution_count": 28,
   "metadata": {},
   "outputs": [],
   "source": [
    "# if ('ethnicity' in data.columns) and (data['ethnicity'].isnull().sum() > 0):\n",
    "#     data['ethnicity_imp'] = data['ethnicity'].replace(np.nan, 0)\n",
    "#     data['ethnicity_imp'].value_counts()"
   ]
  },
  {
   "cell_type": "code",
   "execution_count": 29,
   "metadata": {},
   "outputs": [],
   "source": [
    "# if ('gp_count' in data.columns) and (data['gp_count'].isnull().sum() > 0):\n",
    "#     # # iterative imputation with sklearn package\n",
    "#     imputer = IterativeImputer(max_iter=10, random_state=0, missing_values=np.nan)\n",
    "#     imputer.fit(data[['age', 'sex', 'CCI', 'bmi_imp', 'imd', 'smoking_status_imp', 'gp_count']])# 'ethnicity_imp']]) # 'imd_imp'\n",
    "#     # data['gp_count_imp'] = np.nan\n",
    "#     data['gp_count_imp'] = np.round(imputer.transform(data[['age', 'sex', 'CCI', 'bmi_imp', 'imd', 'smoking_status_imp', 'gp_count']]))[:,6] #'imd_imp'\n",
    "\n",
    "#     # # KNN imputation with sklearn package\n",
    "#     # imputer = KNNImputer(n_neighbors=2, weights=\"uniform\", missing_values=np.nan)\n",
    "#     # data['gp_count_imp'] = np.nan\n",
    "#     # data['gp_count_imp'] = np.round(imputer.fit_transform(data[['age', 'sex', 'CCI', 'bmi_imp', 'imd_imp', 'smoking_status_imp', 'ethnicity_imp', 'gp_count']]))[:,7]\n",
    "\n",
    "#     # # multiple imputation\n",
    "#     # ## create kernel\n",
    "#     # kernel = mf.ImputationKernel(data[['age', 'sex', 'CCI', 'bmi_imp', 'imd_imp', 'smoking_status_imp', 'ethnicity_imp', 'gp_count']], save_all_iterations=True)\n",
    "#     # ## run the MICE algorithm for 3 iterations on each of the datasets\n",
    "#     # kernel.mice(3)\n",
    "#     # ## fillmissing data and view imputed data\n",
    "#     # a = kernel.complete_data(2)#[:,2]\n",
    "#     # data['gp_count_imp'] = a.gp_count"
   ]
  },
  {
   "cell_type": "code",
   "execution_count": 30,
   "metadata": {},
   "outputs": [],
   "source": [
    "# # drop gp_count value missing\n",
    "# if ('gp_count' in data.columns) and (data['gp_count'].isnull().sum() > 0):\n",
    "#     data['gp_count_imp'] = data['gp_count']\n",
    "#     data = data[data['gp_count_imp'].notna()]"
   ]
  },
  {
   "cell_type": "code",
   "execution_count": 31,
   "metadata": {},
   "outputs": [],
   "source": [
    "# # if ('antibacterial_brit' in data.columns) and (data['antibacterial_brit'].isnull().sum() > 0):\n",
    "# if ('antibacterial_brit' in data.columns) and (data['antibacterial_brit'].isnull().sum() >= 0):    \n",
    "#     # # iterative imputation with sklearn package\n",
    "#     imputer = IterativeImputer(max_iter=10, random_state=0, missing_values=np.nan)\n",
    "#     imputer.fit(data[['age', 'sex', 'CCI', 'bmi_imp', 'imd', 'smoking_status_imp', 'ethnicity_imp', 'antibacterial_brit']])# 'gp_count']]) #'imd_imp'\n",
    "#     # data['antibacterial_brit_imp'] = np.nan\n",
    "#     data['antibacterial_brit_imp'] = np.round(imputer.transform(data[['age', 'sex', 'CCI', 'bmi_imp', 'imd', 'smoking_status_imp', 'ethnicity_imp', 'antibacterial_brit']]))[:,7] # 'imd_imp'\n",
    "\n",
    "#     # # KNN imputation with sklearn package\n",
    "#     # imputer = KNNImputer(n_neighbors=2, weights=\"uniform\", missing_values=np.nan)\n",
    "#     # data['antibacterial_brit_imp'] = np.nan\n",
    "#     # data['antibacterial_brit_imp'] = np.round(imputer.fit_transform(data[['age', 'sex', 'CCI', 'bmi_imp', 'imd_imp', 'smoking_status_imp', 'ethnicity_imp', 'gp_count', 'antibacterial_brit']]))[:,8]\n",
    "\n",
    "#     # # multiple imputation\n",
    "#     # ## create kernel\n",
    "#     # kernel = mf.ImputationKernel(data[['age', 'sex', 'CCI', 'bmi_imp', 'imd_imp', 'smoking_status_imp', 'ethnicity_imp', 'gp_count', 'antibacterial_brit']], save_all_iterations=True)\n",
    "#     # ## run the MICE algorithm for 3 iterations on each of the datasets\n",
    "#     # kernel.mice(3)\n",
    "#     # ## fillmissing data and view imputed data\n",
    "#     # a = kernel.complete_data(2)#[:,2]\n",
    "#     # data['antibacterial_brit_imp'] = a.antibacterial_brit"
   ]
  },
  {
   "cell_type": "code",
   "execution_count": 32,
   "metadata": {},
   "outputs": [],
   "source": [
    "# # drop antibacterial_brit value missing\n",
    "# if ('antibacterial_brit' in data.columns) and (data['antibacterial_brit'].isnull().sum() >= 0):\n",
    "#     data['antibacterial_brit_imp'] = data['antibacterial_brit']\n",
    "#     data = data[data['antibacterial_brit_imp'].notna()]"
   ]
  },
  {
   "cell_type": "markdown",
   "metadata": {},
   "source": [
    "### 1-4- Translating states with dictionaries"
   ]
  },
  {
   "cell_type": "code",
   "execution_count": 33,
   "metadata": {},
   "outputs": [],
   "source": [
    "# # define dictionaries\n",
    "# dict_sex = {0: 'Female', 1: 'Male'}\n",
    "# # dict_BMI_cat= {'Underweight': 'Underweight', 'Healthy weight': 'Healthy weight', 'Overweight': 'Overweight', 'Obese': 'Obese', \n",
    "# #                 np.nan: 'Unknown'}\n",
    "# # dict_imd = {0: 'Unknown', 1: '1 (most deprived)', 2: '2', 3: '3', 4: '4', 5: '5 (least deprived)', np.nan: 'Unknown'}\n",
    "# # dict_ethnicity = {1: 'White', 2: 'Mixed', 3: 'Asian', 4: 'Black', 5: 'Other', 0: 'Unknown', np.nan: 'Unknown'}\n",
    "# dict_ethnicity_imp = {1: 'White', 2: 'Mixed', 3: 'Asian', 4: 'Black', 5: 'Other', 0: 'Unknown'}\n",
    "# # dict_smoking_imp = {1:'Smoker', 2:'Ex-smoker', 3:'Never smoked'}\n",
    "# dict_smoking_imp = {1:'Smoker', 2:'Ex-smoker', 3:'Never smoked', 0: 'Unknown'}\n",
    "# # dict_smoking = {'E': 'Ex-smoker', 'M': 'Unknown', 'S': 'Smoker', 'N': 'Never smoked'}\n",
    "# # dict_smoking_status= {'Smoker': 'Smoker', 'Never smoked': 'Never smoked', 'Ex-smoker': 'Ex-smoker', 'Unknown': 'Unknown', \n",
    "# #                        np.nan: 'Unknown'}\n",
    "# # dict_gp_count_cat= {'Few': 'Few', 'Some': 'Some', 'Many': 'Many', 'Too many': 'Too many', np.nan: 'Unknown'}\n",
    "# dict_flu = {0: 'No', 1: 'Yes'}"
   ]
  },
  {
   "cell_type": "code",
   "execution_count": 34,
   "metadata": {},
   "outputs": [],
   "source": [
    "# # reoplace values of dictionaries with existing ones\n",
    "# data = data.replace({\"sex\": dict_sex})\n",
    "# # data = data.replace({\"BMI_cat\": dict_BMI_cat})\n",
    "# # data = data.replace({\"imd\": dict_imd_imp})\n",
    "# data = data.replace({\"ethnicity_imp\": dict_ethnicity_imp})\n",
    "# data = data.replace({\"smoking_status_imp\": dict_smoking_imp})\n",
    "# # data = data.replace({\"smoking_status\": dict_smoking_status})\n",
    "# # data = data.replace({\"gp_count_cat\": dict_gp_count_cat})\n",
    "# data = data.replace({\"flu_vaccine\": dict_flu})"
   ]
  },
  {
   "cell_type": "code",
   "execution_count": 35,
   "metadata": {},
   "outputs": [],
   "source": [
    "# categorising\n",
    "# data['BMI_cat'] = pd.cut(data['bmi_imp'], right=False, bins=[0,18.5,25,30,200], labels=['Underweight', 'Healthy weight', \n",
    "#                                                                                         'Overweight', 'Obese'])\n",
    "# data['gp_count_cat'] = pd.cut(data['gp_count_imp'], right=False, bins=[0,3,8,12,100], labels=['Few', 'Some', 'Many', 'Too many'])\n",
    "data['CCI_cat'] = pd.cut(data['CCI'], right=False, bins=[0,1,3,5,8,99], labels=['No', 'Low', 'Moderate', 'High', 'Very high'])\n",
    "# data['Age_cat'] = pd.cut(data['age'], right=False, bins=[0,18,60,200], labels=['0-17 years', '18-59 years', '>59 years'])\n",
    "#data.CCI_cat.value_counts()"
   ]
  },
  {
   "cell_type": "code",
   "execution_count": 36,
   "metadata": {},
   "outputs": [
    {
     "data": {
      "text/html": [
       "<div>\n",
       "<style scoped>\n",
       "    .dataframe tbody tr th:only-of-type {\n",
       "        vertical-align: middle;\n",
       "    }\n",
       "\n",
       "    .dataframe tbody tr th {\n",
       "        vertical-align: top;\n",
       "    }\n",
       "\n",
       "    .dataframe thead th {\n",
       "        text-align: right;\n",
       "    }\n",
       "</style>\n",
       "<table border=\"1\" class=\"dataframe\">\n",
       "  <thead>\n",
       "    <tr style=\"text-align: right;\">\n",
       "      <th></th>\n",
       "      <th>deregistered_date</th>\n",
       "      <th>died_date</th>\n",
       "      <th>urti_date_1</th>\n",
       "      <th>urti_date_2</th>\n",
       "      <th>urti_date_3</th>\n",
       "      <th>urti_date_4</th>\n",
       "      <th>gp_cons_urti_1</th>\n",
       "      <th>gp_cons_urti_2</th>\n",
       "      <th>gp_cons_urti_3</th>\n",
       "      <th>gp_cons_urti_4</th>\n",
       "      <th>...</th>\n",
       "      <th>metastatic_cancer_comor</th>\n",
       "      <th>mild_liver_comor</th>\n",
       "      <th>mod_severe_liver_comor</th>\n",
       "      <th>mod_severe_renal_comor</th>\n",
       "      <th>mi_comor</th>\n",
       "      <th>peptic_ulcer_comor</th>\n",
       "      <th>peripheral_vascular_comor</th>\n",
       "      <th>patient_id</th>\n",
       "      <th>CCI</th>\n",
       "      <th>CCI_cat</th>\n",
       "    </tr>\n",
       "  </thead>\n",
       "  <tbody>\n",
       "    <tr>\n",
       "      <th>count</th>\n",
       "      <td>10000</td>\n",
       "      <td>20000</td>\n",
       "      <td>20000</td>\n",
       "      <td>20000</td>\n",
       "      <td>20000</td>\n",
       "      <td>20000</td>\n",
       "      <td>20000</td>\n",
       "      <td>20000</td>\n",
       "      <td>20000</td>\n",
       "      <td>20000</td>\n",
       "      <td>...</td>\n",
       "      <td>200000.000000</td>\n",
       "      <td>200000.000000</td>\n",
       "      <td>200000.000000</td>\n",
       "      <td>200000.000000</td>\n",
       "      <td>200000.000000</td>\n",
       "      <td>200000.000000</td>\n",
       "      <td>200000.000000</td>\n",
       "      <td>2.000000e+05</td>\n",
       "      <td>200000.000000</td>\n",
       "      <td>200000</td>\n",
       "    </tr>\n",
       "    <tr>\n",
       "      <th>unique</th>\n",
       "      <td>1197</td>\n",
       "      <td>672</td>\n",
       "      <td>1198</td>\n",
       "      <td>1198</td>\n",
       "      <td>1198</td>\n",
       "      <td>1198</td>\n",
       "      <td>1198</td>\n",
       "      <td>1198</td>\n",
       "      <td>1198</td>\n",
       "      <td>1198</td>\n",
       "      <td>...</td>\n",
       "      <td>NaN</td>\n",
       "      <td>NaN</td>\n",
       "      <td>NaN</td>\n",
       "      <td>NaN</td>\n",
       "      <td>NaN</td>\n",
       "      <td>NaN</td>\n",
       "      <td>NaN</td>\n",
       "      <td>NaN</td>\n",
       "      <td>NaN</td>\n",
       "      <td>5</td>\n",
       "    </tr>\n",
       "    <tr>\n",
       "      <th>top</th>\n",
       "      <td>2021-03-25</td>\n",
       "      <td>2022-04-11</td>\n",
       "      <td>2020-09-30</td>\n",
       "      <td>2019-07-05</td>\n",
       "      <td>2020-04-20</td>\n",
       "      <td>2019-07-20</td>\n",
       "      <td>2020-08-30</td>\n",
       "      <td>2022-01-06</td>\n",
       "      <td>2022-02-21</td>\n",
       "      <td>2022-01-17</td>\n",
       "      <td>...</td>\n",
       "      <td>NaN</td>\n",
       "      <td>NaN</td>\n",
       "      <td>NaN</td>\n",
       "      <td>NaN</td>\n",
       "      <td>NaN</td>\n",
       "      <td>NaN</td>\n",
       "      <td>NaN</td>\n",
       "      <td>NaN</td>\n",
       "      <td>NaN</td>\n",
       "      <td>Low</td>\n",
       "    </tr>\n",
       "    <tr>\n",
       "      <th>freq</th>\n",
       "      <td>19</td>\n",
       "      <td>182</td>\n",
       "      <td>31</td>\n",
       "      <td>31</td>\n",
       "      <td>31</td>\n",
       "      <td>31</td>\n",
       "      <td>32</td>\n",
       "      <td>30</td>\n",
       "      <td>30</td>\n",
       "      <td>30</td>\n",
       "      <td>...</td>\n",
       "      <td>NaN</td>\n",
       "      <td>NaN</td>\n",
       "      <td>NaN</td>\n",
       "      <td>NaN</td>\n",
       "      <td>NaN</td>\n",
       "      <td>NaN</td>\n",
       "      <td>NaN</td>\n",
       "      <td>NaN</td>\n",
       "      <td>NaN</td>\n",
       "      <td>50240</td>\n",
       "    </tr>\n",
       "    <tr>\n",
       "      <th>mean</th>\n",
       "      <td>NaN</td>\n",
       "      <td>NaN</td>\n",
       "      <td>NaN</td>\n",
       "      <td>NaN</td>\n",
       "      <td>NaN</td>\n",
       "      <td>NaN</td>\n",
       "      <td>NaN</td>\n",
       "      <td>NaN</td>\n",
       "      <td>NaN</td>\n",
       "      <td>NaN</td>\n",
       "      <td>...</td>\n",
       "      <td>0.100000</td>\n",
       "      <td>0.100000</td>\n",
       "      <td>0.100000</td>\n",
       "      <td>0.100000</td>\n",
       "      <td>0.100000</td>\n",
       "      <td>0.100000</td>\n",
       "      <td>0.100000</td>\n",
       "      <td>9.987001e+05</td>\n",
       "      <td>4.398445</td>\n",
       "      <td>NaN</td>\n",
       "    </tr>\n",
       "    <tr>\n",
       "      <th>std</th>\n",
       "      <td>NaN</td>\n",
       "      <td>NaN</td>\n",
       "      <td>NaN</td>\n",
       "      <td>NaN</td>\n",
       "      <td>NaN</td>\n",
       "      <td>NaN</td>\n",
       "      <td>NaN</td>\n",
       "      <td>NaN</td>\n",
       "      <td>NaN</td>\n",
       "      <td>NaN</td>\n",
       "      <td>...</td>\n",
       "      <td>0.300001</td>\n",
       "      <td>0.300001</td>\n",
       "      <td>0.300001</td>\n",
       "      <td>0.300001</td>\n",
       "      <td>0.300001</td>\n",
       "      <td>0.300001</td>\n",
       "      <td>0.300001</td>\n",
       "      <td>5.778102e+05</td>\n",
       "      <td>3.422620</td>\n",
       "      <td>NaN</td>\n",
       "    </tr>\n",
       "    <tr>\n",
       "      <th>min</th>\n",
       "      <td>NaN</td>\n",
       "      <td>NaN</td>\n",
       "      <td>NaN</td>\n",
       "      <td>NaN</td>\n",
       "      <td>NaN</td>\n",
       "      <td>NaN</td>\n",
       "      <td>NaN</td>\n",
       "      <td>NaN</td>\n",
       "      <td>NaN</td>\n",
       "      <td>NaN</td>\n",
       "      <td>...</td>\n",
       "      <td>0.000000</td>\n",
       "      <td>0.000000</td>\n",
       "      <td>0.000000</td>\n",
       "      <td>0.000000</td>\n",
       "      <td>0.000000</td>\n",
       "      <td>0.000000</td>\n",
       "      <td>0.000000</td>\n",
       "      <td>4.000000e+00</td>\n",
       "      <td>0.000000</td>\n",
       "      <td>NaN</td>\n",
       "    </tr>\n",
       "    <tr>\n",
       "      <th>25%</th>\n",
       "      <td>NaN</td>\n",
       "      <td>NaN</td>\n",
       "      <td>NaN</td>\n",
       "      <td>NaN</td>\n",
       "      <td>NaN</td>\n",
       "      <td>NaN</td>\n",
       "      <td>NaN</td>\n",
       "      <td>NaN</td>\n",
       "      <td>NaN</td>\n",
       "      <td>NaN</td>\n",
       "      <td>...</td>\n",
       "      <td>0.000000</td>\n",
       "      <td>0.000000</td>\n",
       "      <td>0.000000</td>\n",
       "      <td>0.000000</td>\n",
       "      <td>0.000000</td>\n",
       "      <td>0.000000</td>\n",
       "      <td>0.000000</td>\n",
       "      <td>4.985185e+05</td>\n",
       "      <td>2.000000</td>\n",
       "      <td>NaN</td>\n",
       "    </tr>\n",
       "    <tr>\n",
       "      <th>50%</th>\n",
       "      <td>NaN</td>\n",
       "      <td>NaN</td>\n",
       "      <td>NaN</td>\n",
       "      <td>NaN</td>\n",
       "      <td>NaN</td>\n",
       "      <td>NaN</td>\n",
       "      <td>NaN</td>\n",
       "      <td>NaN</td>\n",
       "      <td>NaN</td>\n",
       "      <td>NaN</td>\n",
       "      <td>...</td>\n",
       "      <td>0.000000</td>\n",
       "      <td>0.000000</td>\n",
       "      <td>0.000000</td>\n",
       "      <td>0.000000</td>\n",
       "      <td>0.000000</td>\n",
       "      <td>0.000000</td>\n",
       "      <td>0.000000</td>\n",
       "      <td>9.972980e+05</td>\n",
       "      <td>4.000000</td>\n",
       "      <td>NaN</td>\n",
       "    </tr>\n",
       "    <tr>\n",
       "      <th>75%</th>\n",
       "      <td>NaN</td>\n",
       "      <td>NaN</td>\n",
       "      <td>NaN</td>\n",
       "      <td>NaN</td>\n",
       "      <td>NaN</td>\n",
       "      <td>NaN</td>\n",
       "      <td>NaN</td>\n",
       "      <td>NaN</td>\n",
       "      <td>NaN</td>\n",
       "      <td>NaN</td>\n",
       "      <td>...</td>\n",
       "      <td>0.000000</td>\n",
       "      <td>0.000000</td>\n",
       "      <td>0.000000</td>\n",
       "      <td>0.000000</td>\n",
       "      <td>0.000000</td>\n",
       "      <td>0.000000</td>\n",
       "      <td>0.000000</td>\n",
       "      <td>1.498557e+06</td>\n",
       "      <td>6.000000</td>\n",
       "      <td>NaN</td>\n",
       "    </tr>\n",
       "    <tr>\n",
       "      <th>max</th>\n",
       "      <td>NaN</td>\n",
       "      <td>NaN</td>\n",
       "      <td>NaN</td>\n",
       "      <td>NaN</td>\n",
       "      <td>NaN</td>\n",
       "      <td>NaN</td>\n",
       "      <td>NaN</td>\n",
       "      <td>NaN</td>\n",
       "      <td>NaN</td>\n",
       "      <td>NaN</td>\n",
       "      <td>...</td>\n",
       "      <td>1.000000</td>\n",
       "      <td>1.000000</td>\n",
       "      <td>1.000000</td>\n",
       "      <td>1.000000</td>\n",
       "      <td>1.000000</td>\n",
       "      <td>1.000000</td>\n",
       "      <td>1.000000</td>\n",
       "      <td>1.999998e+06</td>\n",
       "      <td>25.000000</td>\n",
       "      <td>NaN</td>\n",
       "    </tr>\n",
       "  </tbody>\n",
       "</table>\n",
       "<p>11 rows × 61 columns</p>\n",
       "</div>"
      ],
      "text/plain": [
       "       deregistered_date   died_date urti_date_1 urti_date_2 urti_date_3  \\\n",
       "count              10000       20000       20000       20000       20000   \n",
       "unique              1197         672        1198        1198        1198   \n",
       "top           2021-03-25  2022-04-11  2020-09-30  2019-07-05  2020-04-20   \n",
       "freq                  19         182          31          31          31   \n",
       "mean                 NaN         NaN         NaN         NaN         NaN   \n",
       "std                  NaN         NaN         NaN         NaN         NaN   \n",
       "min                  NaN         NaN         NaN         NaN         NaN   \n",
       "25%                  NaN         NaN         NaN         NaN         NaN   \n",
       "50%                  NaN         NaN         NaN         NaN         NaN   \n",
       "75%                  NaN         NaN         NaN         NaN         NaN   \n",
       "max                  NaN         NaN         NaN         NaN         NaN   \n",
       "\n",
       "       urti_date_4 gp_cons_urti_1 gp_cons_urti_2 gp_cons_urti_3  \\\n",
       "count        20000          20000          20000          20000   \n",
       "unique        1198           1198           1198           1198   \n",
       "top     2019-07-20     2020-08-30     2022-01-06     2022-02-21   \n",
       "freq            31             32             30             30   \n",
       "mean           NaN            NaN            NaN            NaN   \n",
       "std            NaN            NaN            NaN            NaN   \n",
       "min            NaN            NaN            NaN            NaN   \n",
       "25%            NaN            NaN            NaN            NaN   \n",
       "50%            NaN            NaN            NaN            NaN   \n",
       "75%            NaN            NaN            NaN            NaN   \n",
       "max            NaN            NaN            NaN            NaN   \n",
       "\n",
       "       gp_cons_urti_4  ... metastatic_cancer_comor mild_liver_comor  \\\n",
       "count           20000  ...           200000.000000    200000.000000   \n",
       "unique           1198  ...                     NaN              NaN   \n",
       "top        2022-01-17  ...                     NaN              NaN   \n",
       "freq               30  ...                     NaN              NaN   \n",
       "mean              NaN  ...                0.100000         0.100000   \n",
       "std               NaN  ...                0.300001         0.300001   \n",
       "min               NaN  ...                0.000000         0.000000   \n",
       "25%               NaN  ...                0.000000         0.000000   \n",
       "50%               NaN  ...                0.000000         0.000000   \n",
       "75%               NaN  ...                0.000000         0.000000   \n",
       "max               NaN  ...                1.000000         1.000000   \n",
       "\n",
       "       mod_severe_liver_comor mod_severe_renal_comor       mi_comor  \\\n",
       "count           200000.000000          200000.000000  200000.000000   \n",
       "unique                    NaN                    NaN            NaN   \n",
       "top                       NaN                    NaN            NaN   \n",
       "freq                      NaN                    NaN            NaN   \n",
       "mean                 0.100000               0.100000       0.100000   \n",
       "std                  0.300001               0.300001       0.300001   \n",
       "min                  0.000000               0.000000       0.000000   \n",
       "25%                  0.000000               0.000000       0.000000   \n",
       "50%                  0.000000               0.000000       0.000000   \n",
       "75%                  0.000000               0.000000       0.000000   \n",
       "max                  1.000000               1.000000       1.000000   \n",
       "\n",
       "       peptic_ulcer_comor peripheral_vascular_comor    patient_id  \\\n",
       "count       200000.000000             200000.000000  2.000000e+05   \n",
       "unique                NaN                       NaN           NaN   \n",
       "top                   NaN                       NaN           NaN   \n",
       "freq                  NaN                       NaN           NaN   \n",
       "mean             0.100000                  0.100000  9.987001e+05   \n",
       "std              0.300001                  0.300001  5.778102e+05   \n",
       "min              0.000000                  0.000000  4.000000e+00   \n",
       "25%              0.000000                  0.000000  4.985185e+05   \n",
       "50%              0.000000                  0.000000  9.972980e+05   \n",
       "75%              0.000000                  0.000000  1.498557e+06   \n",
       "max              1.000000                  1.000000  1.999998e+06   \n",
       "\n",
       "                  CCI CCI_cat  \n",
       "count   200000.000000  200000  \n",
       "unique            NaN       5  \n",
       "top               NaN     Low  \n",
       "freq              NaN   50240  \n",
       "mean         4.398445     NaN  \n",
       "std          3.422620     NaN  \n",
       "min          0.000000     NaN  \n",
       "25%          2.000000     NaN  \n",
       "50%          4.000000     NaN  \n",
       "75%          6.000000     NaN  \n",
       "max         25.000000     NaN  \n",
       "\n",
       "[11 rows x 61 columns]"
      ]
     },
     "execution_count": 36,
     "metadata": {},
     "output_type": "execute_result"
    }
   ],
   "source": [
    "data.describe(include='all')"
   ]
  },
  {
   "cell_type": "code",
   "execution_count": 37,
   "metadata": {},
   "outputs": [],
   "source": [
    "# save data\n",
    "# data.to_csv(\"../output/hospitalisation_prediction_urti/data_imputed.csv\")\n",
    "\n",
    "# input_file_path = makeFilePath(\"output/hospitalisation_prediction_urti/\", \"data_imputed.csv\")\n",
    "# data = pd.read_csv(input_file_path)\n",
    "\n",
    "# data = pd.read_csv('output/hospitalisation_prediction_urti/data_imputed.csv')\n",
    "# data.shape#head()"
   ]
  },
  {
   "cell_type": "markdown",
   "metadata": {},
   "source": [
    "## 2- Plots\n",
    "### 2-1- Continuous factors"
   ]
  },
  {
   "cell_type": "code",
   "execution_count": 38,
   "metadata": {},
   "outputs": [],
   "source": [
    "# fig, axes = plt.subplots(3,2, \n",
    "#                         figsize=(15, 15)\n",
    "#                         )\n",
    "# create_histplot('BMI', data['bmi'], axes[0,0])\n",
    "# create_histplot('Age', data['age'], axes[0,1])\n",
    "# create_histplot('Count of GP consultation', data['gp_count'], axes[1,0])\n",
    "# create_histplot('Practice', data['practice'], axes[1,1])\n",
    "# create_histplot('CCI', data['CCI'], axes[2,0])\n",
    "# fig.delaxes(ax=axes[2,1])\n",
    "\n",
    "# fig.suptitle('Risk Factors', fontsize=16)\n",
    "# fig.tight_layout(rect=[0, 0.03, 1, 0.98])\n",
    "# #plt.tight_layout()\n",
    "# plt.savefig('../output/hospitalisation_prediction_urti/risk_factors_cont.jpg')\n",
    "# plt.show()"
   ]
  },
  {
   "cell_type": "code",
   "execution_count": 39,
   "metadata": {},
   "outputs": [],
   "source": [
    "# p = sns.pairplot(data, vars=['age', 'bmi', 'gp_count', 'CCI'#, 'practice'\n",
    "#                              ], \n",
    "#                 hue = 'admitted', # 'antibacterial_brit', \n",
    "# #                kind='reg', \n",
    "#                 #markers=[\"o\", \"s\"], \n",
    "#                 diag_kind=\"kde\",#\"hist\"\n",
    "# #                plot_kws={#'line_kws':{'color':'red'}, \n",
    "#                 plot_kws={'alpha':0.3},\n",
    "#                 height = 3)\n",
    "\n",
    "# p.axes[0,2].set_xlim((0,20))\n",
    "# p.axes[0,2].set_ylim((0,100))\n",
    "\n",
    "# p.axes[1,1].set_xlim((0,75))\n",
    "# p.axes[1,1].set_ylim((0,75))\n",
    "\n",
    "# p.axes[2,0].set_xlim((0,100))\n",
    "# p.axes[2,0].set_ylim((0,20))\n",
    "\n",
    "# p.axes[0,3].set_xlim((0,20))\n",
    "# p.axes[3,0].set_ylim((0,20))\n",
    "\n",
    "# plt.suptitle('Pairplot of continuous factors', fontsize=16, y=1.05)\n",
    "# plt.savefig('../output/hospitalisation_prediction_urti/risk_factors_cont_pairplot.jpg')\n",
    "# plt.show()"
   ]
  },
  {
   "cell_type": "markdown",
   "metadata": {},
   "source": [
    "### 2-2- Categorical factors"
   ]
  },
  {
   "cell_type": "code",
   "execution_count": 40,
   "metadata": {},
   "outputs": [],
   "source": [
    "# fig, axes = plt.subplots(2,2,\n",
    "#                         figsize=(15, 10)\n",
    "#                         )\n",
    "# create_lineplot(data, 'sex', 'Sex', 'Sex', axes[0,0])\n",
    "# create_lineplot(data, 'age_cat', 'Age category', 'Age category', axes[0,1])\n",
    "# # create_lineplot(data, 'imd_imp', 'IMD', 'IMD', axes[1,0])\n",
    "# # create_lineplot(data, 'ethnicity_imp', 'Ethnicity', 'Ethnicity', axes[1,1])\n",
    "# # create_lineplot(data, 'smoking_status_imp', 'Smoking status', 'Smoking status', axes[2,0])\n",
    "# # create_lineplot(data, 'BMI_cat', 'BMI', 'BMI', axes[2,1])\n",
    "# create_lineplot(data, 'CCI_cat', 'CCI', 'CCI', axes[1,0])\n",
    "# # create_lineplot(data, 'gp_count_cat', 'GP consultation', 'GP consultation', axes[3,1])\n",
    "# # create_lineplot(data, 'region', 'Region', 'Region', axes[4,0])\n",
    "# # create_lineplot(data, 'flu_vaccine', 'Flu vaccine', 'Flu vaccine', axes[4,1])\n",
    "# # create_lineplot(data, 'antibacterial_brit_imp', 'Antibacterial prescriptions', 'Antibacterial prescriptions', axes[5,0])\n",
    "# # create_lineplot(data, 'msoa', 'msoa', 'MSOA', axes[5,1])\n",
    "# # create_lineplot(data, 'meds_nonabs', 'Medicines excpet antibacterials', 'Medicines excpet antibacterials', axes[6,0])\n",
    "# fig.delaxes(ax=axes[1,1])\n",
    "\n",
    "# fig.suptitle('Risk Factors', fontsize=16)\n",
    "# fig.tight_layout(rect=[0, 0.03, 1, 0.98])\n",
    "# #plt.tight_layout()\n",
    "# plt.savefig('../output/hospitalisation_prediction_urti/risk_factors_cat.jpg')\n",
    "# plt.show()"
   ]
  },
  {
   "cell_type": "markdown",
   "metadata": {},
   "source": [
    "## 3- Data preparation\n",
    "This includes data type conversion and exclusion of cases that are not considered in the infection-related hospital admission, i.e. those who were diagnosed with Covid19 three months (=90 days) before and one month (=30 days) after hospital admission.\n",
    "\n",
    "### 3-1- URTI"
   ]
  },
  {
   "cell_type": "code",
   "execution_count": 38,
   "metadata": {},
   "outputs": [],
   "source": [
    "def ConvertColumns(InfectionKey, NumSets):\n",
    "    for i in range(1, NumSets+1):        \n",
    "        arrayKey1 = 'admitted_'+InfectionKey+'_date_'+str(i)\n",
    "        #arrayKey2 = InfectionKey+'_date_'+str(i)\n",
    "        data[arrayKey1] = data[arrayKey1].astype('datetime64[ns]')"
   ]
  },
  {
   "cell_type": "markdown",
   "metadata": {},
   "source": [
    "#### URTI-1"
   ]
  },
  {
   "cell_type": "code",
   "execution_count": 39,
   "metadata": {},
   "outputs": [
    {
     "data": {
      "text/plain": [
       "(20000, 12)"
      ]
     },
     "execution_count": 39,
     "metadata": {},
     "output_type": "execute_result"
    }
   ],
   "source": [
    "data_urti_1 = data[[#'Age_cat', 'msoa', #'date',\n",
    "                    'age', 'age_cat', 'sex', 'CCI_cat', #'bmi_imp', 'BMI_cat', 'gp_count', 'gp_count_cat', 'gp_count_imp', 'flu_vaccine', \n",
    "                   #'region', 'smoking_status_imp', 'antibacterial_brit', 'imd_imp', 'ethnicity_imp', 'antibacterial_brit_imp',\n",
    "                   #'hx_hosp', 'CCI_cat', 'CCI', 'meds_nonabs',  #'season', \n",
    "                    'died_date', 'deregistered_date', 'gp_cons_urti_1', 'gp_cons_urti_ab_1',\n",
    "                    'urti_date_1', 'incdt_urti_date_1', 'admitted_urti_date_1', 'sgss_gp_cov_urti_date_1']]\n",
    "\n",
    "data_urti_1 = data_urti_1[data_urti_1['urti_date_1'].notnull()]\n",
    "\n",
    "data_urti_1.shape"
   ]
  },
  {
   "cell_type": "code",
   "execution_count": 40,
   "metadata": {},
   "outputs": [
    {
     "data": {
      "text/plain": [
       "(18031, 12)"
      ]
     },
     "execution_count": 40,
     "metadata": {},
     "output_type": "execute_result"
    }
   ],
   "source": [
    "# exclusion of covid positive 90 days before and 30 days after dx with urti_1\n",
    "data_urti_1 = data_urti_1[data_urti_1['sgss_gp_cov_urti_date_1'] == 0]\n",
    "data_urti_1.shape"
   ]
  },
  {
   "cell_type": "code",
   "execution_count": 41,
   "metadata": {},
   "outputs": [
    {
     "data": {
      "text/plain": [
       "Index(['age', 'age_cat', 'sex', 'CCI_cat', 'died_date', 'deregistered_date',\n",
       "       'gp_cons_urti_1', 'gp_cons_urti_ab_1', 'urti_date_1',\n",
       "       'incdt_urti_date_1', 'admitted_urti_date_1', 'sgss_gp_cov_urti_date_1'],\n",
       "      dtype='object')"
      ]
     },
     "execution_count": 41,
     "metadata": {},
     "output_type": "execute_result"
    }
   ],
   "source": [
    "data_urti_1.columns"
   ]
  },
  {
   "cell_type": "code",
   "execution_count": 42,
   "metadata": {},
   "outputs": [
    {
     "data": {
      "text/plain": [
       "(1756, 12)"
      ]
     },
     "execution_count": 42,
     "metadata": {},
     "output_type": "execute_result"
    }
   ],
   "source": [
    "# drop rows with no gp_cons_urti_1 records\n",
    "data_urti_1 = data_urti_1.dropna(subset=['gp_cons_urti_1'])\n",
    "data_urti_1.shape"
   ]
  },
  {
   "cell_type": "markdown",
   "metadata": {},
   "source": [
    "#### URTI-2"
   ]
  },
  {
   "cell_type": "code",
   "execution_count": 43,
   "metadata": {},
   "outputs": [
    {
     "data": {
      "text/plain": [
       "(20000, 12)"
      ]
     },
     "execution_count": 43,
     "metadata": {},
     "output_type": "execute_result"
    }
   ],
   "source": [
    "data_urti_2 = data[[#'Age_cat', 'msoa', #'date',\n",
    "                    'age', 'age_cat', 'sex', 'CCI_cat', #'bmi_imp', 'BMI_cat', 'gp_count', 'gp_count_cat', 'gp_count_imp', 'flu_vaccine', \n",
    "                   #'region', 'smoking_status_imp', 'antibacterial_brit', 'imd_imp', 'ethnicity_imp', 'antibacterial_brit_imp',\n",
    "                   #'hx_hosp', 'CCI_cat', 'CCI', 'meds_nonabs',  #'season', \n",
    "                    'died_date', 'deregistered_date', 'gp_cons_urti_2', 'gp_cons_urti_ab_2',\n",
    "                    'urti_date_2', 'incdt_urti_date_2', 'admitted_urti_date_2', 'sgss_gp_cov_urti_date_2']]\n",
    "\n",
    "data_urti_2 = data_urti_2[data_urti_2['urti_date_2'].notnull()]\n",
    "\n",
    "data_urti_2.shape"
   ]
  },
  {
   "cell_type": "code",
   "execution_count": 44,
   "metadata": {},
   "outputs": [
    {
     "data": {
      "text/plain": [
       "2021-10-08    6\n",
       "2020-11-02    6\n",
       "2020-03-02    6\n",
       "2021-10-03    6\n",
       "2020-07-13    5\n",
       "             ..\n",
       "2019-03-05    1\n",
       "2021-06-04    1\n",
       "2022-01-13    1\n",
       "2021-11-08    1\n",
       "2021-03-16    1\n",
       "Name: urti_date_1, Length: 935, dtype: int64"
      ]
     },
     "execution_count": 44,
     "metadata": {},
     "output_type": "execute_result"
    }
   ],
   "source": [
    "data_urti_1.urti_date_1.value_counts()"
   ]
  },
  {
   "cell_type": "code",
   "execution_count": 45,
   "metadata": {},
   "outputs": [
    {
     "data": {
      "text/plain": [
       "2019-07-05    31\n",
       "2019-03-18    29\n",
       "2020-02-25    29\n",
       "2020-09-20    28\n",
       "2020-11-26    28\n",
       "              ..\n",
       "2020-10-12     6\n",
       "2020-12-23     6\n",
       "2020-11-21     6\n",
       "2020-07-01     5\n",
       "2022-02-10     4\n",
       "Name: urti_date_2, Length: 1198, dtype: int64"
      ]
     },
     "execution_count": 45,
     "metadata": {},
     "output_type": "execute_result"
    }
   ],
   "source": [
    "data_urti_2.urti_date_2.value_counts()"
   ]
  },
  {
   "cell_type": "code",
   "execution_count": 46,
   "metadata": {},
   "outputs": [
    {
     "data": {
      "text/plain": [
       "(18072, 12)"
      ]
     },
     "execution_count": 46,
     "metadata": {},
     "output_type": "execute_result"
    }
   ],
   "source": [
    "# exclusion of covid positive 90 days before and 30 days after dx with urti_2\n",
    "data_urti_2 = data_urti_2[data_urti_2['sgss_gp_cov_urti_date_2'] == 0]\n",
    "data_urti_2.shape"
   ]
  },
  {
   "cell_type": "code",
   "execution_count": 47,
   "metadata": {},
   "outputs": [
    {
     "data": {
      "text/plain": [
       "Index(['age', 'age_cat', 'sex', 'CCI_cat', 'died_date', 'deregistered_date',\n",
       "       'gp_cons_urti_2', 'gp_cons_urti_ab_2', 'urti_date_2',\n",
       "       'incdt_urti_date_2', 'admitted_urti_date_2', 'sgss_gp_cov_urti_date_2'],\n",
       "      dtype='object')"
      ]
     },
     "execution_count": 47,
     "metadata": {},
     "output_type": "execute_result"
    }
   ],
   "source": [
    "data_urti_2.columns"
   ]
  },
  {
   "cell_type": "code",
   "execution_count": 48,
   "metadata": {},
   "outputs": [
    {
     "data": {
      "text/plain": [
       "(1884, 12)"
      ]
     },
     "execution_count": 48,
     "metadata": {},
     "output_type": "execute_result"
    }
   ],
   "source": [
    "# drop rows with no gp_cons_urti_2 records\n",
    "data_urti_2 = data_urti_2.dropna(subset=['gp_cons_urti_2'])\n",
    "data_urti_2.shape"
   ]
  },
  {
   "cell_type": "markdown",
   "metadata": {},
   "source": [
    "#### URTI_3"
   ]
  },
  {
   "cell_type": "code",
   "execution_count": 49,
   "metadata": {},
   "outputs": [
    {
     "data": {
      "text/plain": [
       "(20000, 12)"
      ]
     },
     "execution_count": 49,
     "metadata": {},
     "output_type": "execute_result"
    }
   ],
   "source": [
    "data_urti_3 = data[[#'Age_cat', 'msoa', #'date',\n",
    "                    'age', 'age_cat', 'sex', 'CCI_cat', #'bmi_imp', 'BMI_cat', 'gp_count', 'gp_count_cat', 'gp_count_imp', 'flu_vaccine', \n",
    "                   #'region', 'smoking_status_imp', 'antibacterial_brit', 'imd_imp', 'ethnicity_imp', 'antibacterial_brit_imp',\n",
    "                   #'hx_hosp', 'CCI_cat', 'CCI', 'meds_nonabs',  #'season', \n",
    "                    'died_date', 'deregistered_date', 'gp_cons_urti_3', 'gp_cons_urti_ab_3',\n",
    "                    'urti_date_3', 'incdt_urti_date_3', 'admitted_urti_date_3', 'sgss_gp_cov_urti_date_3']]\n",
    "\n",
    "data_urti_3 = data_urti_3[data_urti_3['urti_date_3'].notnull()]\n",
    "\n",
    "data_urti_3.shape"
   ]
  },
  {
   "cell_type": "code",
   "execution_count": 50,
   "metadata": {},
   "outputs": [
    {
     "data": {
      "text/plain": [
       "(18042, 12)"
      ]
     },
     "execution_count": 50,
     "metadata": {},
     "output_type": "execute_result"
    }
   ],
   "source": [
    "# exclusion of covid positive 90 days before and 30 days after dx with urti_3\n",
    "data_urti_3 = data_urti_3[data_urti_3['sgss_gp_cov_urti_date_3'] == 0]\n",
    "data_urti_3.shape"
   ]
  },
  {
   "cell_type": "code",
   "execution_count": 51,
   "metadata": {},
   "outputs": [
    {
     "data": {
      "text/plain": [
       "Index(['age', 'age_cat', 'sex', 'CCI_cat', 'died_date', 'deregistered_date',\n",
       "       'gp_cons_urti_3', 'gp_cons_urti_ab_3', 'urti_date_3',\n",
       "       'incdt_urti_date_3', 'admitted_urti_date_3', 'sgss_gp_cov_urti_date_3'],\n",
       "      dtype='object')"
      ]
     },
     "execution_count": 51,
     "metadata": {},
     "output_type": "execute_result"
    }
   ],
   "source": [
    "data_urti_3.columns"
   ]
  },
  {
   "cell_type": "code",
   "execution_count": 52,
   "metadata": {},
   "outputs": [
    {
     "data": {
      "text/plain": [
       "(1780, 12)"
      ]
     },
     "execution_count": 52,
     "metadata": {},
     "output_type": "execute_result"
    }
   ],
   "source": [
    "# drop rows with no gp_cons_urti_3 records\n",
    "data_urti_3 = data_urti_3.dropna(subset=['gp_cons_urti_3'])\n",
    "data_urti_3.shape"
   ]
  },
  {
   "cell_type": "markdown",
   "metadata": {},
   "source": [
    "#### URTI_4"
   ]
  },
  {
   "cell_type": "code",
   "execution_count": 53,
   "metadata": {},
   "outputs": [
    {
     "data": {
      "text/plain": [
       "(20000, 12)"
      ]
     },
     "execution_count": 53,
     "metadata": {},
     "output_type": "execute_result"
    }
   ],
   "source": [
    "data_urti_4 = data[[#'Age_cat', 'msoa', #'date',\n",
    "                    'age', 'age_cat', 'sex', 'CCI_cat', #'bmi_imp', 'BMI_cat', 'gp_count', 'gp_count_cat', 'gp_count_imp', 'flu_vaccine', \n",
    "                   #'region', 'smoking_status_imp', 'antibacterial_brit', 'imd_imp', 'ethnicity_imp', 'antibacterial_brit_imp',\n",
    "                   #'hx_hosp', 'CCI_cat', 'CCI', 'meds_nonabs',  #'season', \n",
    "                    'died_date', 'deregistered_date', 'gp_cons_urti_4', 'gp_cons_urti_ab_4',\n",
    "                    'urti_date_4', 'incdt_urti_date_4', 'admitted_urti_date_4', 'sgss_gp_cov_urti_date_4']]\n",
    "\n",
    "data_urti_4 = data_urti_4[data_urti_4['urti_date_4'].notnull()]\n",
    "\n",
    "data_urti_4.shape"
   ]
  },
  {
   "cell_type": "code",
   "execution_count": 54,
   "metadata": {},
   "outputs": [
    {
     "data": {
      "text/plain": [
       "(18070, 12)"
      ]
     },
     "execution_count": 54,
     "metadata": {},
     "output_type": "execute_result"
    }
   ],
   "source": [
    "# exclusion of covid positive 90 days before and 30 days after dx with urti_4\n",
    "data_urti_4 = data_urti_4[data_urti_4['sgss_gp_cov_urti_date_4'] == 0]\n",
    "data_urti_4.shape"
   ]
  },
  {
   "cell_type": "code",
   "execution_count": 55,
   "metadata": {},
   "outputs": [
    {
     "data": {
      "text/plain": [
       "Index(['age', 'age_cat', 'sex', 'CCI_cat', 'died_date', 'deregistered_date',\n",
       "       'gp_cons_urti_4', 'gp_cons_urti_ab_4', 'urti_date_4',\n",
       "       'incdt_urti_date_4', 'admitted_urti_date_4', 'sgss_gp_cov_urti_date_4'],\n",
       "      dtype='object')"
      ]
     },
     "execution_count": 55,
     "metadata": {},
     "output_type": "execute_result"
    }
   ],
   "source": [
    "data_urti_4.columns"
   ]
  },
  {
   "cell_type": "code",
   "execution_count": 56,
   "metadata": {},
   "outputs": [
    {
     "data": {
      "text/plain": [
       "(18070, 12)"
      ]
     },
     "execution_count": 56,
     "metadata": {},
     "output_type": "execute_result"
    }
   ],
   "source": [
    "data_urti_4.shape"
   ]
  },
  {
   "cell_type": "code",
   "execution_count": 57,
   "metadata": {},
   "outputs": [
    {
     "data": {
      "text/plain": [
       "16216"
      ]
     },
     "execution_count": 57,
     "metadata": {},
     "output_type": "execute_result"
    }
   ],
   "source": [
    "# data_urti_4.gp_cons_urti_4.value_counts()#isnull().sum()\n",
    "data_urti_4.gp_cons_urti_4.isnull().sum()"
   ]
  },
  {
   "cell_type": "code",
   "execution_count": 58,
   "metadata": {},
   "outputs": [
    {
     "data": {
      "text/plain": [
       "(1854, 12)"
      ]
     },
     "execution_count": 58,
     "metadata": {},
     "output_type": "execute_result"
    }
   ],
   "source": [
    "# drop rows with no gp_cons_urti_4 records\n",
    "data_urti_4 = data_urti_4.dropna(subset=['gp_cons_urti_4'])\n",
    "data_urti_4.shape"
   ]
  },
  {
   "cell_type": "markdown",
   "metadata": {},
   "source": [
    "#### Combining URTI_1, URTI_2, URTI_3, and URTI_4"
   ]
  },
  {
   "cell_type": "code",
   "execution_count": 59,
   "metadata": {},
   "outputs": [
    {
     "data": {
      "text/plain": [
       "(7274, 12)"
      ]
     },
     "execution_count": 59,
     "metadata": {},
     "output_type": "execute_result"
    }
   ],
   "source": [
    "data_urti_1.rename(columns={'urti_date_1': 'urti_date', 'incdt_urti_date_1': 'incdt_urti_date', \n",
    "                           'gp_cons_urti_1': 'gp_cons_urti', 'gp_cons_urti_ab_1': 'gp_cons_urti_ab',\n",
    "                           'incdt_urti_date_1': 'incdt_urti_date', #'prevl_urti_date_1': 'prevl_urti_date',\n",
    "                           'admitted_urti_date_1': 'admitted_urti_date',\n",
    "                           'sgss_gp_cov_urti_date_1': 'sgss_gp_cov_urti_date'},\n",
    "                inplace=True)\n",
    "data_urti_2.rename(columns={'urti_date_2': 'urti_date', 'incdt_urti_date_2': 'incdt_urti_date',\n",
    "                           'gp_cons_urti_2': 'gp_cons_urti', 'gp_cons_urti_ab_2': 'gp_cons_urti_ab',\n",
    "                           'incdt_urti_date_2': 'incdt_urti_date', #'prevl_urti_date_2': 'prevl_urti_date', \n",
    "                           'admitted_urti_date_2': 'admitted_urti_date',\n",
    "                           'sgss_gp_cov_urti_date_2': 'sgss_gp_cov_urti_date'},\n",
    "                inplace=True)\n",
    "data_urti_3.rename(columns={'urti_date_3': 'urti_date', 'incdt_urti_date_3': 'incdt_urti_date',\n",
    "                           'gp_cons_urti_3': 'gp_cons_urti', 'gp_cons_urti_ab_3': 'gp_cons_urti_ab',\n",
    "                           'incdt_urti_date_3': 'incdt_urti_date', #'prevl_urti_date_3': 'prevl_urti_date', \n",
    "                           'admitted_urti_date_3': 'admitted_urti_date',\n",
    "                           'sgss_gp_cov_urti_date_3': 'sgss_gp_cov_urti_date'},\n",
    "                 inplace=True)\n",
    "data_urti_4.rename(columns={'urti_date_4': 'urti_date', 'incdt_urti_date_4': 'incdt_urti_date', \n",
    "                           'gp_cons_urti_4': 'gp_cons_urti', 'gp_cons_urti_ab_4': 'gp_cons_urti_ab',\n",
    "                           'incdt_urti_date_4': 'incdt_urti_date', #'prevl_urti_date_4': 'prevl_urti_date',\n",
    "                           'admitted_urti_date_4': 'admitted_urti_date',\n",
    "                           'sgss_gp_cov_urti_date_4': 'sgss_gp_cov_urti_date'}, \n",
    "                 inplace=True)\n",
    "\n",
    "data_urti = pd.concat([data_urti_1, data_urti_2, data_urti_3, data_urti_4])\n",
    "data_urti.reset_index(inplace=True, drop=True)\n",
    "data_urti.shape"
   ]
  },
  {
   "cell_type": "code",
   "execution_count": 60,
   "metadata": {},
   "outputs": [
    {
     "data": {
      "text/plain": [
       "Index(['age', 'age_cat', 'sex', 'CCI_cat', 'died_date', 'deregistered_date',\n",
       "       'gp_cons_urti', 'gp_cons_urti_ab', 'urti_date', 'incdt_urti_date',\n",
       "       'admitted_urti_date', 'sgss_gp_cov_urti_date'],\n",
       "      dtype='object')"
      ]
     },
     "execution_count": 60,
     "metadata": {},
     "output_type": "execute_result"
    }
   ],
   "source": [
    "data_urti_4.columns"
   ]
  },
  {
   "cell_type": "code",
   "execution_count": 188,
   "metadata": {},
   "outputs": [],
   "source": [
    "# fig, axes = plt.subplots(7,2,\n",
    "#                         figsize=(15, 33)\n",
    "#                         )\n",
    "# create_lineplot(data_urti, 'sex', 'Sex', 'Sex', axes[0,0])\n",
    "# create_lineplot(data_urti, 'Age_cat', 'Age category', 'Age category', axes[0,1])\n",
    "# create_lineplot(data_urti, 'imd_imp', 'IMD', 'IMD', axes[1,0])\n",
    "# create_lineplot(data_urti, 'ethnicity_imp', 'Ethnicity', 'Ethnicity', axes[1,1])\n",
    "# create_lineplot(data_urti, 'smoking_status_imp', 'Smoking status', 'Smoking status', axes[2,0])\n",
    "# create_lineplot(data_urti, 'BMI_cat', 'BMI', 'BMI', axes[2,1])\n",
    "# create_lineplot(data_urti, 'CCI_cat', 'CCI', 'CCI', axes[3,0])\n",
    "# create_lineplot(data_urti, 'gp_count_cat', 'GP consultation', 'GP consultation', axes[3,1])\n",
    "# create_lineplot(data_urti, 'region', 'Region', 'Region', axes[4,0])\n",
    "# create_lineplot(data_urti, 'flu_vaccine', 'Flu vaccine', 'Flu vaccine', axes[4,1])\n",
    "# create_lineplot(data_urti, 'antibacterial_brit', 'Antibacterial prescriptions', 'Antibacterial prescriptions', axes[5,0])\n",
    "# create_lineplot(data_urti, 'msoa', 'msoa', 'MSOA', axes[5,1])\n",
    "# create_lineplot(data_urti, 'meds_nonabs', 'Medicines excpet antibacterials', 'Medicines excpet antibacterials', axes[6,0])\n",
    "# fig.delaxes(ax=axes[6,1])\n",
    "\n",
    "# fig.suptitle('Risk Factors of URTI patients', fontsize=16)\n",
    "# fig.tight_layout(rect=[0, 0.03, 1, 0.98])\n",
    "# #plt.tight_layout()\n",
    "# plt.savefig('../output/hospitalisation_prediction_urti/risk_factors_cat_urti.jpg')\n",
    "# plt.show()"
   ]
  },
  {
   "cell_type": "markdown",
   "metadata": {},
   "source": [
    "#### Adding event and duration columns"
   ]
  },
  {
   "cell_type": "code",
   "execution_count": 61,
   "metadata": {},
   "outputs": [
    {
     "data": {
      "text/plain": [
       "(7274, 12)"
      ]
     },
     "execution_count": 61,
     "metadata": {},
     "output_type": "execute_result"
    }
   ],
   "source": [
    "data_urti['urti_date'] = data_urti['urti_date'].astype('datetime64[ns]')\n",
    "data_urti['gp_cons_urti'] = data_urti['gp_cons_urti'].astype('datetime64[ns]')\n",
    "data_urti['admitted_urti_date'] = data_urti['admitted_urti_date'].astype('datetime64[ns]')\n",
    "data_urti.died_date = data_urti.died_date.astype('datetime64[ns]')\n",
    "data_urti.deregistered_date = data_urti.deregistered_date.astype('datetime64[ns]')\n",
    "data_urti.shape"
   ]
  },
  {
   "cell_type": "code",
   "execution_count": 62,
   "metadata": {},
   "outputs": [
    {
     "data": {
      "text/plain": [
       "0.0    5082\n",
       "Name: event_urti_admitted, dtype: int64"
      ]
     },
     "execution_count": 62,
     "metadata": {},
     "output_type": "execute_result"
    }
   ],
   "source": [
    "#scenario 1\n",
    "#not hosped (nothing happened)\n",
    "#data_urti = data_urti[data_urti['admitted_urti_date'].notnull()]\n",
    "data_urti.loc[data_urti['admitted_urti_date'].isnull(), 'event_urti_admitted'] = 0\n",
    "data_urti['event_urti_admitted'].value_counts()"
   ]
  },
  {
   "cell_type": "code",
   "execution_count": 63,
   "metadata": {},
   "outputs": [
    {
     "data": {
      "text/plain": [
       "0.0    5082\n",
       "1.0      47\n",
       "Name: event_urti_admitted, dtype: int64"
      ]
     },
     "execution_count": 63,
     "metadata": {},
     "output_type": "execute_result"
    }
   ],
   "source": [
    "#scenario 2 \n",
    "# become a case (uncensoring)\n",
    "#calculating days between infection gp consultation and hosp\n",
    "# data_urti['delta_urti_admitted'] = (data_urti['admitted_urti_date'] - data_urti['urti_date']).dt.days\n",
    "data_urti['delta_urti_admitted'] = (data_urti['admitted_urti_date'] - data_urti['gp_cons_urti']).dt.days\n",
    "data_urti.loc[((data_urti['delta_urti_admitted'] >= 0) & (data_urti['delta_urti_admitted'] <= 30)), 'event_urti_admitted'] = 1\n",
    "data_urti['event_urti_admitted'].value_counts()"
   ]
  },
  {
   "cell_type": "code",
   "execution_count": 64,
   "metadata": {},
   "outputs": [
    {
     "data": {
      "text/plain": [
       "60.0     6\n",
       "482.0    6\n",
       "124.0    6\n",
       "455.0    5\n",
       "708.0    5\n",
       "        ..\n",
       "351.0    1\n",
       "197.0    1\n",
       "604.0    1\n",
       "190.0    1\n",
       "243.0    1\n",
       "Name: delta_urti_admitted, Length: 664, dtype: int64"
      ]
     },
     "execution_count": 64,
     "metadata": {},
     "output_type": "execute_result"
    }
   ],
   "source": [
    "#scenario 2\n",
    "#drop whoever was admitted before urti consultation, i.e. negative value for delta_urti_admitted\n",
    "data_urti = data_urti[~(data_urti['delta_urti_admitted'] < 0)]\n",
    "data_urti['delta_urti_admitted'].value_counts()"
   ]
  },
  {
   "cell_type": "code",
   "execution_count": 65,
   "metadata": {},
   "outputs": [
    {
     "data": {
      "text/plain": [
       "1063"
      ]
     },
     "execution_count": 65,
     "metadata": {},
     "output_type": "execute_result"
    }
   ],
   "source": [
    "# data_urti['event_urti_admitted'].value_counts()\n",
    "data_urti['event_urti_admitted'].isnull().sum()"
   ]
  },
  {
   "cell_type": "code",
   "execution_count": 66,
   "metadata": {},
   "outputs": [
    {
     "data": {
      "text/plain": [
       "0.0    5165\n",
       "1.0      41\n",
       "Name: event_urti_admitted, dtype: int64"
      ]
     },
     "execution_count": 66,
     "metadata": {},
     "output_type": "execute_result"
    }
   ],
   "source": [
    "#scenario 3\n",
    "#censor died patients\n",
    "data_urti['delta_admitted_died'] = (data_urti['died_date'] - data_urti['admitted_urti_date']).dt.days\n",
    "data_urti.loc[data_urti['delta_admitted_died'] < 0, 'delta_admitted_died'] = np.NaN\n",
    "data_urti.loc[data_urti['delta_admitted_died'] >= 0, 'event_urti_admitted'] = 0\n",
    "# data_urti.loc[((data_urti['delta_admitted_died'] >= 0) & (data_urti['delta_admitted_died'] <= 30)), 'event_urti_admitted'] = 0\n",
    "data_urti['event_urti_admitted'].value_counts()"
   ]
  },
  {
   "cell_type": "code",
   "execution_count": 67,
   "metadata": {},
   "outputs": [
    {
     "data": {
      "text/plain": [
       "0.0    5186\n",
       "1.0      38\n",
       "Name: event_urti_admitted, dtype: int64"
      ]
     },
     "execution_count": 67,
     "metadata": {},
     "output_type": "execute_result"
    }
   ],
   "source": [
    "#scenario 3\n",
    "#censor deregistered patients\n",
    "data_urti['delta_admitted_deregistered'] = (data_urti['deregistered_date'] - data_urti['admitted_urti_date']).dt.days\n",
    "data_urti.loc[data_urti['delta_admitted_deregistered'] < 0, 'delta_admitted_deregistered'] = np.NaN\n",
    "data_urti.loc[data_urti['delta_admitted_deregistered'] >= 0, 'event_urti_admitted'] = 0\n",
    "# data_urti.loc[((data_urti['delta_admitted_deregistered'] > 0) & (data_urti['delta_admitted_deregistered'] < 30)), 'event_urti_admitted'] = 0\n",
    "data_urti['event_urti_admitted'].value_counts()"
   ]
  },
  {
   "cell_type": "code",
   "execution_count": 68,
   "metadata": {},
   "outputs": [
    {
     "data": {
      "text/plain": [
       "6088"
      ]
     },
     "execution_count": 68,
     "metadata": {},
     "output_type": "execute_result"
    }
   ],
   "source": [
    "#agg scenario 3s\n",
    "data_urti['delta_admitted_died_deregistered'] = data_urti['delta_admitted_deregistered'].combine_first(data_urti['delta_admitted_died'])\n",
    "data_urti.loc[data_urti['delta_admitted_died_deregistered'] < 0, 'delta_admitted_died_deregistered'] = np.NaN\n",
    "data_urti['delta_admitted_died_deregistered'].isnull().sum()#.value_counts()"
   ]
  },
  {
   "cell_type": "code",
   "execution_count": 69,
   "metadata": {},
   "outputs": [
    {
     "data": {
      "text/plain": [
       "107.0     3\n",
       "45.0      2\n",
       "185.0     2\n",
       "131.0     2\n",
       "40.0      2\n",
       "         ..\n",
       "579.0     1\n",
       "147.0     1\n",
       "56.0      1\n",
       "193.0     1\n",
       "1071.0    1\n",
       "Name: delta_admitted_died_deregistered, Length: 92, dtype: int64"
      ]
     },
     "execution_count": 69,
     "metadata": {},
     "output_type": "execute_result"
    }
   ],
   "source": [
    "data_urti['delta_admitted_died_deregistered'].value_counts()"
   ]
  },
  {
   "cell_type": "code",
   "execution_count": 70,
   "metadata": {},
   "outputs": [],
   "source": [
    "#censor patients that had a history of hospital admission\n",
    "# data_urti.loc[data_urti['hx_hosp'] == 1, 'event_urti_admitted'] = 0"
   ]
  },
  {
   "cell_type": "code",
   "execution_count": 71,
   "metadata": {},
   "outputs": [
    {
     "data": {
      "text/plain": [
       "0.0    6154\n",
       "1.0      38\n",
       "Name: event_urti_admitted, dtype: int64"
      ]
     },
     "execution_count": 71,
     "metadata": {},
     "output_type": "execute_result"
    }
   ],
   "source": [
    "#scenario 1\n",
    "#any other patients (nothing happened)\n",
    "data_urti['event_urti_admitted'] = data_urti['event_urti_admitted'].replace(np.NaN, 0)\n",
    "data_urti['event_urti_admitted'].value_counts()"
   ]
  },
  {
   "cell_type": "code",
   "execution_count": 72,
   "metadata": {},
   "outputs": [
    {
     "data": {
      "text/plain": [
       "30.0    6147\n",
       "3.0        4\n",
       "12.0       3\n",
       "1.0        3\n",
       "9.0        3\n",
       "29.0       3\n",
       "16.0       3\n",
       "4.0        2\n",
       "18.0       2\n",
       "15.0       2\n",
       "6.0        2\n",
       "13.0       2\n",
       "20.0       2\n",
       "10.0       2\n",
       "2.0        2\n",
       "19.0       1\n",
       "22.0       1\n",
       "28.0       1\n",
       "25.0       1\n",
       "0.0        1\n",
       "17.0       1\n",
       "11.0       1\n",
       "26.0       1\n",
       "7.0        1\n",
       "5.0        1\n",
       "Name: duration_urti_admitted, dtype: int64"
      ]
     },
     "execution_count": 72,
     "metadata": {},
     "output_type": "execute_result"
    }
   ],
   "source": [
    "#assign values for duration column\n",
    "data_urti['duration_urti_admitted'] = data_urti['delta_urti_admitted'].combine_first(data_urti['delta_admitted_died_deregistered'])\n",
    "data_urti['duration_urti_admitted'] = data_urti['duration_urti_admitted'].replace(np.NaN, 30)\n",
    "data_urti.loc[(data_urti['duration_urti_admitted'] > 30), 'duration_urti_admitted'] = 30\n",
    "data_urti['duration_urti_admitted'].value_counts()"
   ]
  },
  {
   "cell_type": "code",
   "execution_count": 73,
   "metadata": {},
   "outputs": [
    {
     "data": {
      "text/plain": [
       "0.0    6145\n",
       "1.0      47\n",
       "Name: event_urti_admitted, dtype: int64"
      ]
     },
     "execution_count": 73,
     "metadata": {},
     "output_type": "execute_result"
    }
   ],
   "source": [
    "# give value 1 to event_urti_admitted if duration_urti_admitted is greater or equal to 0 and less than 30\n",
    "data_urti.loc[((data_urti['duration_urti_admitted'] >= 0) & (data_urti['duration_urti_admitted'] < 30)), 'event_urti_admitted'] = 1\n",
    "data_urti['event_urti_admitted'].value_counts()"
   ]
  },
  {
   "cell_type": "code",
   "execution_count": 74,
   "metadata": {},
   "outputs": [
    {
     "data": {
      "text/html": [
       "<div>\n",
       "<style scoped>\n",
       "    .dataframe tbody tr th:only-of-type {\n",
       "        vertical-align: middle;\n",
       "    }\n",
       "\n",
       "    .dataframe tbody tr th {\n",
       "        vertical-align: top;\n",
       "    }\n",
       "\n",
       "    .dataframe thead th {\n",
       "        text-align: right;\n",
       "    }\n",
       "</style>\n",
       "<table border=\"1\" class=\"dataframe\">\n",
       "  <thead>\n",
       "    <tr style=\"text-align: right;\">\n",
       "      <th></th>\n",
       "      <th>delta_urti_admitted</th>\n",
       "      <th>urti_date</th>\n",
       "      <th>gp_cons_urti</th>\n",
       "      <th>admitted_urti_date</th>\n",
       "      <th>delta_urti_admitted</th>\n",
       "      <th>delta_admitted_died_deregistered</th>\n",
       "      <th>event_urti_admitted</th>\n",
       "      <th>duration_urti_admitted</th>\n",
       "    </tr>\n",
       "  </thead>\n",
       "  <tbody>\n",
       "    <tr>\n",
       "      <th>1207</th>\n",
       "      <td>4.0</td>\n",
       "      <td>2019-01-25</td>\n",
       "      <td>2020-08-06</td>\n",
       "      <td>2020-08-10</td>\n",
       "      <td>4.0</td>\n",
       "      <td>359.0</td>\n",
       "      <td>1.0</td>\n",
       "      <td>4.0</td>\n",
       "    </tr>\n",
       "    <tr>\n",
       "      <th>6909</th>\n",
       "      <td>4.0</td>\n",
       "      <td>2019-04-28</td>\n",
       "      <td>2020-05-05</td>\n",
       "      <td>2020-05-09</td>\n",
       "      <td>4.0</td>\n",
       "      <td>NaN</td>\n",
       "      <td>1.0</td>\n",
       "      <td>4.0</td>\n",
       "    </tr>\n",
       "  </tbody>\n",
       "</table>\n",
       "</div>"
      ],
      "text/plain": [
       "      delta_urti_admitted  urti_date gp_cons_urti admitted_urti_date  \\\n",
       "1207                  4.0 2019-01-25   2020-08-06         2020-08-10   \n",
       "6909                  4.0 2019-04-28   2020-05-05         2020-05-09   \n",
       "\n",
       "      delta_urti_admitted  delta_admitted_died_deregistered  \\\n",
       "1207                  4.0                             359.0   \n",
       "6909                  4.0                               NaN   \n",
       "\n",
       "      event_urti_admitted  duration_urti_admitted  \n",
       "1207                  1.0                     4.0  \n",
       "6909                  1.0                     4.0  "
      ]
     },
     "execution_count": 74,
     "metadata": {},
     "output_type": "execute_result"
    }
   ],
   "source": [
    "data_urti[data_urti['duration_urti_admitted']==4][['delta_urti_admitted', 'urti_date', 'gp_cons_urti', 'admitted_urti_date', 'delta_urti_admitted', 'delta_admitted_died_deregistered', 'event_urti_admitted', 'duration_urti_admitted']]"
   ]
  },
  {
   "cell_type": "code",
   "execution_count": 75,
   "metadata": {},
   "outputs": [],
   "source": [
    "#scenario2 (uncensoring) again to prevent conflict with other scenarios\n",
    "data_urti.loc[((data_urti['delta_urti_admitted'] > 0) & (data_urti['delta_urti_admitted'] < 30)), 'event_urti_admitted'] = 1"
   ]
  },
  {
   "cell_type": "code",
   "execution_count": 183,
   "metadata": {},
   "outputs": [],
   "source": [
    "# data_urti['duration_urti_admitted'].value_counts()"
   ]
  },
  {
   "cell_type": "code",
   "execution_count": 184,
   "metadata": {},
   "outputs": [
    {
     "data": {
      "text/html": [
       "<div>\n",
       "<style scoped>\n",
       "    .dataframe tbody tr th:only-of-type {\n",
       "        vertical-align: middle;\n",
       "    }\n",
       "\n",
       "    .dataframe tbody tr th {\n",
       "        vertical-align: top;\n",
       "    }\n",
       "\n",
       "    .dataframe thead th {\n",
       "        text-align: right;\n",
       "    }\n",
       "</style>\n",
       "<table border=\"1\" class=\"dataframe\">\n",
       "  <thead>\n",
       "    <tr style=\"text-align: right;\">\n",
       "      <th></th>\n",
       "      <th>event_urti_admitted</th>\n",
       "      <th>duration_urti_admitted</th>\n",
       "    </tr>\n",
       "  </thead>\n",
       "  <tbody>\n",
       "    <tr>\n",
       "      <th>5534</th>\n",
       "      <td>1.0</td>\n",
       "      <td>0.0</td>\n",
       "    </tr>\n",
       "    <tr>\n",
       "      <th>3139</th>\n",
       "      <td>1.0</td>\n",
       "      <td>0.0</td>\n",
       "    </tr>\n",
       "    <tr>\n",
       "      <th>1790</th>\n",
       "      <td>1.0</td>\n",
       "      <td>2.0</td>\n",
       "    </tr>\n",
       "    <tr>\n",
       "      <th>182</th>\n",
       "      <td>1.0</td>\n",
       "      <td>2.0</td>\n",
       "    </tr>\n",
       "    <tr>\n",
       "      <th>1818</th>\n",
       "      <td>1.0</td>\n",
       "      <td>2.0</td>\n",
       "    </tr>\n",
       "    <tr>\n",
       "      <th>...</th>\n",
       "      <td>...</td>\n",
       "      <td>...</td>\n",
       "    </tr>\n",
       "    <tr>\n",
       "      <th>2390</th>\n",
       "      <td>0.0</td>\n",
       "      <td>30.0</td>\n",
       "    </tr>\n",
       "    <tr>\n",
       "      <th>2389</th>\n",
       "      <td>0.0</td>\n",
       "      <td>30.0</td>\n",
       "    </tr>\n",
       "    <tr>\n",
       "      <th>2388</th>\n",
       "      <td>0.0</td>\n",
       "      <td>30.0</td>\n",
       "    </tr>\n",
       "    <tr>\n",
       "      <th>2398</th>\n",
       "      <td>0.0</td>\n",
       "      <td>30.0</td>\n",
       "    </tr>\n",
       "    <tr>\n",
       "      <th>7096</th>\n",
       "      <td>0.0</td>\n",
       "      <td>30.0</td>\n",
       "    </tr>\n",
       "  </tbody>\n",
       "</table>\n",
       "<p>6022 rows × 2 columns</p>\n",
       "</div>"
      ],
      "text/plain": [
       "      event_urti_admitted  duration_urti_admitted\n",
       "5534                  1.0                     0.0\n",
       "3139                  1.0                     0.0\n",
       "1790                  1.0                     2.0\n",
       "182                   1.0                     2.0\n",
       "1818                  1.0                     2.0\n",
       "...                   ...                     ...\n",
       "2390                  0.0                    30.0\n",
       "2389                  0.0                    30.0\n",
       "2388                  0.0                    30.0\n",
       "2398                  0.0                    30.0\n",
       "7096                  0.0                    30.0\n",
       "\n",
       "[6022 rows x 2 columns]"
      ]
     },
     "execution_count": 184,
     "metadata": {},
     "output_type": "execute_result"
    }
   ],
   "source": [
    "# data_urti.loc[151:200, ['event_urti_admitted', 'duration_urti_admitted']]\n",
    "# data_urti.loc[201:250, ['event_urti_admitted', 'duration_urti_admitted']].sort_values(by=['duration_urti_admitted'])\n",
    "data_urti[['event_urti_admitted', 'duration_urti_admitted']].sort_values(by=['duration_urti_admitted'])"
   ]
  },
  {
   "cell_type": "markdown",
   "metadata": {},
   "source": [
    "#### Separate data of URTI\n",
    "We separate data of urti to form four sub-datasets for 1) no antibiotics and incident admission, 2) with antibiotics and incident admission, 3) no antibiotics and prevalent admission, and 4) with antiobiotics and prevalent admission."
   ]
  },
  {
   "cell_type": "code",
   "execution_count": 76,
   "metadata": {},
   "outputs": [
    {
     "name": "stdout",
     "output_type": "stream",
     "text": [
      "shape of data_urti_no_abs_incdt: (4988, 18)\n",
      "shape of data_urti_abs_incdt: (586, 18)\n",
      "shape of data_urti_no_abs_prevl: (544, 18)\n",
      "shape of data_urti_abs_prevl: (74, 18)\n"
     ]
    }
   ],
   "source": [
    "# no antibiotics and incident hospital admission\n",
    "data_urti_no_abs_incdt = data_urti[data_urti['gp_cons_urti_ab'].isnull()]\n",
    "data_urti_no_abs_incdt = data_urti_no_abs_incdt[data_urti_no_abs_incdt['incdt_urti_date'] == 0]\n",
    "\n",
    "# with antibiotics and incident hospital admission\n",
    "data_urti_abs_incdt = data_urti[data_urti['gp_cons_urti_ab'].notnull()]\n",
    "data_urti_abs_incdt = data_urti_abs_incdt[data_urti_abs_incdt['incdt_urti_date'] == 0]\n",
    "\n",
    "# no antibiotics and prevalent hospital admission\n",
    "data_urti_no_abs_prevl = data_urti[data_urti['gp_cons_urti_ab'].isnull()]\n",
    "data_urti_no_abs_prevl = data_urti_no_abs_prevl[data_urti_no_abs_prevl['incdt_urti_date'] == 1]\n",
    "\n",
    "# with antibiotics and prevalent hospital admission\n",
    "data_urti_abs_prevl = data_urti[data_urti['gp_cons_urti_ab'].notnull()]\n",
    "data_urti_abs_prevl = data_urti_abs_prevl[data_urti_abs_prevl['incdt_urti_date'] == 1]\n",
    "\n",
    "print(f'shape of data_urti_no_abs_incdt: {data_urti_no_abs_incdt.shape}')\n",
    "print(f'shape of data_urti_abs_incdt: {data_urti_abs_incdt.shape}')\n",
    "print(f'shape of data_urti_no_abs_prevl: {data_urti_no_abs_prevl.shape}')\n",
    "print(f'shape of data_urti_abs_prevl: {data_urti_abs_prevl.shape}')"
   ]
  },
  {
   "cell_type": "markdown",
   "metadata": {},
   "source": [
    "## 4- Cox modelling for hospital admissions related to infections \n",
    "### 4-1- URTI\n",
    "#### 4-1-1- Incident hospital admission related to URTI with no antibiotics"
   ]
  },
  {
   "cell_type": "code",
   "execution_count": 77,
   "metadata": {},
   "outputs": [
    {
     "data": {
      "text/plain": [
       "Index(['age', 'age_cat', 'sex', 'CCI_cat', 'died_date', 'deregistered_date',\n",
       "       'gp_cons_urti', 'gp_cons_urti_ab', 'urti_date', 'incdt_urti_date',\n",
       "       'admitted_urti_date', 'sgss_gp_cov_urti_date', 'event_urti_admitted',\n",
       "       'delta_urti_admitted', 'delta_admitted_died',\n",
       "       'delta_admitted_deregistered', 'delta_admitted_died_deregistered',\n",
       "       'duration_urti_admitted'],\n",
       "      dtype='object')"
      ]
     },
     "execution_count": 77,
     "metadata": {},
     "output_type": "execute_result"
    }
   ],
   "source": [
    "data_urti_no_abs_incdt.columns"
   ]
  },
  {
   "cell_type": "code",
   "execution_count": 78,
   "metadata": {},
   "outputs": [
    {
     "data": {
      "text/plain": [
       "(4988, 18)"
      ]
     },
     "execution_count": 78,
     "metadata": {},
     "output_type": "execute_result"
    }
   ],
   "source": [
    "data_urti_no_abs_incdt.shape"
   ]
  },
  {
   "cell_type": "code",
   "execution_count": 79,
   "metadata": {},
   "outputs": [],
   "source": [
    "#keep relevant variables\n",
    "# data_urti_no_abs_incdt = data_urti_no_abs_incdt[['age', 'age_cat', 'sex', 'bmi_imp', 'BMI_cat', 'gp_count_imp', 'flu_vaccine',\n",
    "#                                                'region', 'antibacterial_brit_imp', 'imd_imp', 'ethnicity_imp', 'CCI_cat', 'CCI',\n",
    "#                                                'event_urti_admitted', 'duration_urti_admitted']]\n",
    "\n",
    "data_urti_no_abs_incdt = data_urti_no_abs_incdt[['age_cat', 'sex', 'CCI_cat',\n",
    "                                                #  'age', 'bmi_imp', 'gp_count_imp', 'flu_vaccine', 'sex', 'region', #'season', \n",
    "                                                #  'imd_imp', 'antibacterial_brit_imp', 'ethnicity_imp', 'smoking_status_imp',\n",
    "                                                #  'meds_nonabs',\n",
    "                                                 'event_urti_admitted', 'duration_urti_admitted']]"
   ]
  },
  {
   "cell_type": "code",
   "execution_count": 80,
   "metadata": {},
   "outputs": [
    {
     "data": {
      "text/plain": [
       "age_cat                   0\n",
       "sex                       0\n",
       "CCI_cat                   0\n",
       "event_urti_admitted       0\n",
       "duration_urti_admitted    0\n",
       "dtype: int64"
      ]
     },
     "execution_count": 80,
     "metadata": {},
     "output_type": "execute_result"
    }
   ],
   "source": [
    "# printing number of missing values in each variable \n",
    "data_urti_no_abs_incdt.isnull().sum()"
   ]
  },
  {
   "cell_type": "code",
   "execution_count": 81,
   "metadata": {},
   "outputs": [],
   "source": [
    "# #drop ros with missing values\n",
    "# data_urti_no_abs_incdt = data_urti_no_abs_incdt.dropna(axis='rows')\n",
    "# # data_urti = data_urti.drop(columns=['smoking_status'])\n",
    "# data_urti_no_abs_incdt.isnull().sum()"
   ]
  },
  {
   "cell_type": "code",
   "execution_count": 82,
   "metadata": {},
   "outputs": [
    {
     "data": {
      "text/plain": [
       "Index(['age_cat', 'sex', 'CCI_cat', 'event_urti_admitted',\n",
       "       'duration_urti_admitted'],\n",
       "      dtype='object')"
      ]
     },
     "execution_count": 82,
     "metadata": {},
     "output_type": "execute_result"
    }
   ],
   "source": [
    "data_urti_no_abs_incdt.columns"
   ]
  },
  {
   "cell_type": "code",
   "execution_count": 92,
   "metadata": {},
   "outputs": [],
   "source": [
    "# fold_thre = len(data_urti_no_abs_incdt)-round(len(data_urti_no_abs_incdt)/4)\n",
    "# data_urti_no_abs_incdt_train = data_urti_no_abs_incdt.iloc[:fold_thre]\n",
    "# data_urti_no_abs_incdt_test = data_urti_no_abs_incdt.iloc[fold_thre:]\n",
    "\n",
    "# print(f'shape of data_urti_no_abs_incdt for training: {data_urti_no_abs_incdt_train.shape}')\n",
    "# print(f'shape of data_urti_no_abs_incdt for testing: {data_urti_no_abs_incdt_test.shape}')"
   ]
  },
  {
   "cell_type": "code",
   "execution_count": 93,
   "metadata": {},
   "outputs": [
    {
     "data": {
      "text/html": [
       "<div>\n",
       "<style scoped>\n",
       "    .dataframe tbody tr th:only-of-type {\n",
       "        vertical-align: middle;\n",
       "    }\n",
       "\n",
       "    .dataframe tbody tr th {\n",
       "        vertical-align: top;\n",
       "    }\n",
       "\n",
       "    .dataframe thead th {\n",
       "        text-align: right;\n",
       "    }\n",
       "</style>\n",
       "<table border=\"1\" class=\"dataframe\">\n",
       "  <tbody>\n",
       "    <tr>\n",
       "      <th>model</th>\n",
       "      <td>lifelines.CoxPHFitter</td>\n",
       "    </tr>\n",
       "    <tr>\n",
       "      <th>duration col</th>\n",
       "      <td>'duration_urti_admitted'</td>\n",
       "    </tr>\n",
       "    <tr>\n",
       "      <th>event col</th>\n",
       "      <td>'event_urti_admitted'</td>\n",
       "    </tr>\n",
       "    <tr>\n",
       "      <th>baseline estimation</th>\n",
       "      <td>breslow</td>\n",
       "    </tr>\n",
       "    <tr>\n",
       "      <th>number of observations</th>\n",
       "      <td>4988</td>\n",
       "    </tr>\n",
       "    <tr>\n",
       "      <th>number of events observed</th>\n",
       "      <td>36</td>\n",
       "    </tr>\n",
       "    <tr>\n",
       "      <th>partial log-likelihood</th>\n",
       "      <td>-300.39</td>\n",
       "    </tr>\n",
       "    <tr>\n",
       "      <th>time fit was run</th>\n",
       "      <td>2022-04-13 17:43:07 UTC</td>\n",
       "    </tr>\n",
       "  </tbody>\n",
       "</table>\n",
       "</div><table border=\"1\" class=\"dataframe\">\n",
       "  <thead>\n",
       "    <tr style=\"text-align: right;\">\n",
       "      <th style=\"min-width: 12px;\"></th>\n",
       "      <th style=\"min-width: 12px;\">coef</th>\n",
       "      <th style=\"min-width: 12px;\">exp(coef)</th>\n",
       "      <th style=\"min-width: 12px;\">se(coef)</th>\n",
       "      <th style=\"min-width: 12px;\">coef lower 95%</th>\n",
       "      <th style=\"min-width: 12px;\">coef upper 95%</th>\n",
       "      <th style=\"min-width: 12px;\">exp(coef) lower 95%</th>\n",
       "      <th style=\"min-width: 12px;\">exp(coef) upper 95%</th>\n",
       "      <th style=\"min-width: 12px;\">cmp to</th>\n",
       "      <th style=\"min-width: 12px;\">z</th>\n",
       "      <th style=\"min-width: 12px;\">p</th>\n",
       "      <th style=\"min-width: 12px;\">-log2(p)</th>\n",
       "    </tr>\n",
       "  </thead>\n",
       "  <tbody>\n",
       "    <tr>\n",
       "      <th>CCI_cat[T.Low]</th>\n",
       "      <td>-0.57</td>\n",
       "      <td>0.57</td>\n",
       "      <td>0.57</td>\n",
       "      <td>-1.68</td>\n",
       "      <td>0.55</td>\n",
       "      <td>0.19</td>\n",
       "      <td>1.74</td>\n",
       "      <td>0.00</td>\n",
       "      <td>-0.99</td>\n",
       "      <td>0.32</td>\n",
       "      <td>1.64</td>\n",
       "    </tr>\n",
       "    <tr>\n",
       "      <th>CCI_cat[T.Moderate]</th>\n",
       "      <td>-0.46</td>\n",
       "      <td>0.63</td>\n",
       "      <td>0.56</td>\n",
       "      <td>-1.56</td>\n",
       "      <td>0.63</td>\n",
       "      <td>0.21</td>\n",
       "      <td>1.88</td>\n",
       "      <td>0.00</td>\n",
       "      <td>-0.83</td>\n",
       "      <td>0.41</td>\n",
       "      <td>1.30</td>\n",
       "    </tr>\n",
       "    <tr>\n",
       "      <th>CCI_cat[T.High]</th>\n",
       "      <td>-0.40</td>\n",
       "      <td>0.67</td>\n",
       "      <td>0.56</td>\n",
       "      <td>-1.49</td>\n",
       "      <td>0.70</td>\n",
       "      <td>0.22</td>\n",
       "      <td>2.01</td>\n",
       "      <td>0.00</td>\n",
       "      <td>-0.71</td>\n",
       "      <td>0.48</td>\n",
       "      <td>1.07</td>\n",
       "    </tr>\n",
       "    <tr>\n",
       "      <th>CCI_cat[T.Very high]</th>\n",
       "      <td>-0.70</td>\n",
       "      <td>0.49</td>\n",
       "      <td>0.63</td>\n",
       "      <td>-1.94</td>\n",
       "      <td>0.54</td>\n",
       "      <td>0.14</td>\n",
       "      <td>1.71</td>\n",
       "      <td>0.00</td>\n",
       "      <td>-1.11</td>\n",
       "      <td>0.27</td>\n",
       "      <td>1.91</td>\n",
       "    </tr>\n",
       "    <tr>\n",
       "      <th>age_cat[T.15-24]</th>\n",
       "      <td>-0.65</td>\n",
       "      <td>0.52</td>\n",
       "      <td>0.69</td>\n",
       "      <td>-2.01</td>\n",
       "      <td>0.70</td>\n",
       "      <td>0.13</td>\n",
       "      <td>2.02</td>\n",
       "      <td>0.00</td>\n",
       "      <td>-0.94</td>\n",
       "      <td>0.34</td>\n",
       "      <td>1.54</td>\n",
       "    </tr>\n",
       "    <tr>\n",
       "      <th>age_cat[T.25-34]</th>\n",
       "      <td>-0.21</td>\n",
       "      <td>0.81</td>\n",
       "      <td>0.59</td>\n",
       "      <td>-1.36</td>\n",
       "      <td>0.94</td>\n",
       "      <td>0.26</td>\n",
       "      <td>2.56</td>\n",
       "      <td>0.00</td>\n",
       "      <td>-0.36</td>\n",
       "      <td>0.72</td>\n",
       "      <td>0.47</td>\n",
       "    </tr>\n",
       "    <tr>\n",
       "      <th>age_cat[T.35-44]</th>\n",
       "      <td>-0.43</td>\n",
       "      <td>0.65</td>\n",
       "      <td>0.63</td>\n",
       "      <td>-1.66</td>\n",
       "      <td>0.80</td>\n",
       "      <td>0.19</td>\n",
       "      <td>2.23</td>\n",
       "      <td>0.00</td>\n",
       "      <td>-0.68</td>\n",
       "      <td>0.49</td>\n",
       "      <td>1.02</td>\n",
       "    </tr>\n",
       "    <tr>\n",
       "      <th>age_cat[T.45-54]</th>\n",
       "      <td>0.19</td>\n",
       "      <td>1.21</td>\n",
       "      <td>0.53</td>\n",
       "      <td>-0.86</td>\n",
       "      <td>1.24</td>\n",
       "      <td>0.42</td>\n",
       "      <td>3.45</td>\n",
       "      <td>0.00</td>\n",
       "      <td>0.36</td>\n",
       "      <td>0.72</td>\n",
       "      <td>0.47</td>\n",
       "    </tr>\n",
       "    <tr>\n",
       "      <th>age_cat[T.5-14]</th>\n",
       "      <td>-1.81</td>\n",
       "      <td>0.16</td>\n",
       "      <td>1.07</td>\n",
       "      <td>-3.90</td>\n",
       "      <td>0.29</td>\n",
       "      <td>0.02</td>\n",
       "      <td>1.33</td>\n",
       "      <td>0.00</td>\n",
       "      <td>-1.69</td>\n",
       "      <td>0.09</td>\n",
       "      <td>3.46</td>\n",
       "    </tr>\n",
       "    <tr>\n",
       "      <th>age_cat[T.55-64]</th>\n",
       "      <td>-0.43</td>\n",
       "      <td>0.65</td>\n",
       "      <td>0.63</td>\n",
       "      <td>-1.66</td>\n",
       "      <td>0.80</td>\n",
       "      <td>0.19</td>\n",
       "      <td>2.23</td>\n",
       "      <td>0.00</td>\n",
       "      <td>-0.68</td>\n",
       "      <td>0.49</td>\n",
       "      <td>1.02</td>\n",
       "    </tr>\n",
       "    <tr>\n",
       "      <th>age_cat[T.65-74]</th>\n",
       "      <td>-1.84</td>\n",
       "      <td>0.16</td>\n",
       "      <td>1.07</td>\n",
       "      <td>-3.94</td>\n",
       "      <td>0.25</td>\n",
       "      <td>0.02</td>\n",
       "      <td>1.29</td>\n",
       "      <td>0.00</td>\n",
       "      <td>-1.72</td>\n",
       "      <td>0.08</td>\n",
       "      <td>3.56</td>\n",
       "    </tr>\n",
       "    <tr>\n",
       "      <th>age_cat[T.75+]</th>\n",
       "      <td>-0.43</td>\n",
       "      <td>0.65</td>\n",
       "      <td>0.63</td>\n",
       "      <td>-1.66</td>\n",
       "      <td>0.80</td>\n",
       "      <td>0.19</td>\n",
       "      <td>2.23</td>\n",
       "      <td>0.00</td>\n",
       "      <td>-0.68</td>\n",
       "      <td>0.49</td>\n",
       "      <td>1.02</td>\n",
       "    </tr>\n",
       "    <tr>\n",
       "      <th>sex[T.M]</th>\n",
       "      <td>0.15</td>\n",
       "      <td>1.16</td>\n",
       "      <td>0.33</td>\n",
       "      <td>-0.50</td>\n",
       "      <td>0.81</td>\n",
       "      <td>0.60</td>\n",
       "      <td>2.24</td>\n",
       "      <td>0.00</td>\n",
       "      <td>0.45</td>\n",
       "      <td>0.65</td>\n",
       "      <td>0.62</td>\n",
       "    </tr>\n",
       "  </tbody>\n",
       "</table><br><div>\n",
       "<style scoped>\n",
       "    .dataframe tbody tr th:only-of-type {\n",
       "        vertical-align: middle;\n",
       "    }\n",
       "\n",
       "    .dataframe tbody tr th {\n",
       "        vertical-align: top;\n",
       "    }\n",
       "\n",
       "    .dataframe thead th {\n",
       "        text-align: right;\n",
       "    }\n",
       "</style>\n",
       "<table border=\"1\" class=\"dataframe\">\n",
       "  <tbody>\n",
       "    <tr>\n",
       "      <th>Concordance</th>\n",
       "      <td>0.66</td>\n",
       "    </tr>\n",
       "    <tr>\n",
       "      <th>Partial AIC</th>\n",
       "      <td>626.79</td>\n",
       "    </tr>\n",
       "    <tr>\n",
       "      <th>log-likelihood ratio test</th>\n",
       "      <td>12.02 on 13 df</td>\n",
       "    </tr>\n",
       "    <tr>\n",
       "      <th>-log2(p) of ll-ratio test</th>\n",
       "      <td>0.93</td>\n",
       "    </tr>\n",
       "  </tbody>\n",
       "</table>\n",
       "</div>"
      ],
      "text/latex": [
       "\\begin{tabular}{lrrrrrrrrrrr}\n",
       "\\toprule\n",
       "{} &  coef &  exp(coef) &  se(coef) &  coef lower 95\\% &  coef upper 95\\% &  exp(coef) lower 95\\% &  exp(coef) upper 95\\% &  cmp to &     z &    p &  -log2(p) \\\\\n",
       "covariate            &       &            &           &                 &                 &                      &                      &         &       &      &           \\\\\n",
       "\\midrule\n",
       "CCI\\_cat[T.Low]       & -0.57 &       0.57 &      0.57 &           -1.68 &            0.55 &                 0.19 &                 1.74 &    0.00 & -0.99 & 0.32 &      1.64 \\\\\n",
       "CCI\\_cat[T.Moderate]  & -0.46 &       0.63 &      0.56 &           -1.56 &            0.63 &                 0.21 &                 1.88 &    0.00 & -0.83 & 0.41 &      1.30 \\\\\n",
       "CCI\\_cat[T.High]      & -0.40 &       0.67 &      0.56 &           -1.49 &            0.70 &                 0.22 &                 2.01 &    0.00 & -0.71 & 0.48 &      1.07 \\\\\n",
       "CCI\\_cat[T.Very high] & -0.70 &       0.49 &      0.63 &           -1.94 &            0.54 &                 0.14 &                 1.71 &    0.00 & -1.11 & 0.27 &      1.91 \\\\\n",
       "age\\_cat[T.15-24]     & -0.65 &       0.52 &      0.69 &           -2.01 &            0.70 &                 0.13 &                 2.02 &    0.00 & -0.94 & 0.34 &      1.54 \\\\\n",
       "age\\_cat[T.25-34]     & -0.21 &       0.81 &      0.59 &           -1.36 &            0.94 &                 0.26 &                 2.56 &    0.00 & -0.36 & 0.72 &      0.47 \\\\\n",
       "age\\_cat[T.35-44]     & -0.43 &       0.65 &      0.63 &           -1.66 &            0.80 &                 0.19 &                 2.23 &    0.00 & -0.68 & 0.49 &      1.02 \\\\\n",
       "age\\_cat[T.45-54]     &  0.19 &       1.21 &      0.53 &           -0.86 &            1.24 &                 0.42 &                 3.45 &    0.00 &  0.36 & 0.72 &      0.47 \\\\\n",
       "age\\_cat[T.5-14]      & -1.81 &       0.16 &      1.07 &           -3.90 &            0.29 &                 0.02 &                 1.33 &    0.00 & -1.69 & 0.09 &      3.46 \\\\\n",
       "age\\_cat[T.55-64]     & -0.43 &       0.65 &      0.63 &           -1.66 &            0.80 &                 0.19 &                 2.23 &    0.00 & -0.68 & 0.49 &      1.02 \\\\\n",
       "age\\_cat[T.65-74]     & -1.84 &       0.16 &      1.07 &           -3.94 &            0.25 &                 0.02 &                 1.29 &    0.00 & -1.72 & 0.08 &      3.56 \\\\\n",
       "age\\_cat[T.75+]       & -0.43 &       0.65 &      0.63 &           -1.66 &            0.80 &                 0.19 &                 2.23 &    0.00 & -0.68 & 0.49 &      1.02 \\\\\n",
       "sex[T.M]             &  0.15 &       1.16 &      0.33 &           -0.50 &            0.81 &                 0.60 &                 2.24 &    0.00 &  0.45 & 0.65 &      0.62 \\\\\n",
       "\\bottomrule\n",
       "\\end{tabular}\n"
      ],
      "text/plain": [
       "<lifelines.CoxPHFitter: fitted with 4988 total observations, 4952 right-censored observations>\n",
       "             duration col = 'duration_urti_admitted'\n",
       "                event col = 'event_urti_admitted'\n",
       "      baseline estimation = breslow\n",
       "   number of observations = 4988\n",
       "number of events observed = 36\n",
       "   partial log-likelihood = -300.39\n",
       "         time fit was run = 2022-04-13 17:43:07 UTC\n",
       "\n",
       "---\n",
       "                       coef  exp(coef)   se(coef)   coef lower 95%   coef upper 95%  exp(coef) lower 95%  exp(coef) upper 95%\n",
       "covariate                                                                                                                    \n",
       "CCI_cat[T.Low]        -0.57       0.57       0.57            -1.68             0.55                 0.19                 1.74\n",
       "CCI_cat[T.Moderate]   -0.46       0.63       0.56            -1.56             0.63                 0.21                 1.88\n",
       "CCI_cat[T.High]       -0.40       0.67       0.56            -1.49             0.70                 0.22                 2.01\n",
       "CCI_cat[T.Very high]  -0.70       0.49       0.63            -1.94             0.54                 0.14                 1.71\n",
       "age_cat[T.15-24]      -0.65       0.52       0.69            -2.01             0.70                 0.13                 2.02\n",
       "age_cat[T.25-34]      -0.21       0.81       0.59            -1.36             0.94                 0.26                 2.56\n",
       "age_cat[T.35-44]      -0.43       0.65       0.63            -1.66             0.80                 0.19                 2.23\n",
       "age_cat[T.45-54]       0.19       1.21       0.53            -0.86             1.24                 0.42                 3.45\n",
       "age_cat[T.5-14]       -1.81       0.16       1.07            -3.90             0.29                 0.02                 1.33\n",
       "age_cat[T.55-64]      -0.43       0.65       0.63            -1.66             0.80                 0.19                 2.23\n",
       "age_cat[T.65-74]      -1.84       0.16       1.07            -3.94             0.25                 0.02                 1.29\n",
       "age_cat[T.75+]        -0.43       0.65       0.63            -1.66             0.80                 0.19                 2.23\n",
       "sex[T.M]               0.15       1.16       0.33            -0.50             0.81                 0.60                 2.24\n",
       "\n",
       "                       cmp to     z    p   -log2(p)\n",
       "covariate                                          \n",
       "CCI_cat[T.Low]           0.00 -0.99 0.32       1.64\n",
       "CCI_cat[T.Moderate]      0.00 -0.83 0.41       1.30\n",
       "CCI_cat[T.High]          0.00 -0.71 0.48       1.07\n",
       "CCI_cat[T.Very high]     0.00 -1.11 0.27       1.91\n",
       "age_cat[T.15-24]         0.00 -0.94 0.34       1.54\n",
       "age_cat[T.25-34]         0.00 -0.36 0.72       0.47\n",
       "age_cat[T.35-44]         0.00 -0.68 0.49       1.02\n",
       "age_cat[T.45-54]         0.00  0.36 0.72       0.47\n",
       "age_cat[T.5-14]          0.00 -1.69 0.09       3.46\n",
       "age_cat[T.55-64]         0.00 -0.68 0.49       1.02\n",
       "age_cat[T.65-74]         0.00 -1.72 0.08       3.56\n",
       "age_cat[T.75+]           0.00 -0.68 0.49       1.02\n",
       "sex[T.M]                 0.00  0.45 0.65       0.62\n",
       "---\n",
       "Concordance = 0.66\n",
       "Partial AIC = 626.79\n",
       "log-likelihood ratio test = 12.02 on 13 df\n",
       "-log2(p) of ll-ratio test = 0.93"
      ]
     },
     "metadata": {},
     "output_type": "display_data"
    }
   ],
   "source": [
    "# cph_urti_no_abs_incdt = CoxPHFitter(penalizer=0.2)\n",
    "# cph_urti_no_abs_incdt.fit(data_urti_no_abs_incdt_train,\n",
    "#         duration_col='duration_urti_admitted',\n",
    "#         event_col='event_urti_admitted',\n",
    "#         formula=\"age_cat + sex + CCI_cat\"# + bmi_imp + gp_count_imp + flu_vaccine + region + antibacterial_brit_imp + imd_imp + ethnicity_imp + smoking_status_imp + meds_nonabs\" # + season\n",
    "#         )\n",
    "# cph_urti_no_abs_incdt.print_summary()\n",
    "# # cph_urti_no_abs_incdt_summary = cph_urti_no_abs_incdt.print_summary(style=\"html\")\n",
    "# # cph_urti_no_abs_incdt.print_summary(columns=[\"coef\", \"se(coef)\", \"p\"])\n",
    "\n",
    "\n",
    "cph_urti_no_abs_incdt = CoxPHFitter()\n",
    "cph_urti_no_abs_incdt.fit(data_urti_no_abs_incdt,\n",
    "        duration_col='duration_urti_admitted',\n",
    "        event_col='event_urti_admitted',\n",
    "        formula=\"age_cat + sex + CCI_cat\"# + bmi_imp + gp_count_imp + flu_vaccine + region + antibacterial_brit_imp + imd_imp + ethnicity_imp + smoking_status_imp + meds_nonabs\" # + season\n",
    "        )\n",
    "cph_urti_no_abs_incdt.print_summary()"
   ]
  },
  {
   "cell_type": "code",
   "execution_count": 94,
   "metadata": {},
   "outputs": [
    {
     "name": "stdout",
     "output_type": "stream",
     "text": [
      "5851\n"
     ]
    }
   ],
   "source": [
    "output = GetPrintSummary(cph_urti_no_abs_incdt)\n",
    "\n",
    "with open('../output/hospitalisation_prediction_urti/cph_urti_no_abs_incdt_summary.html', \"w\") as fo:\n",
    "    print(fo.write(output))\n",
    "    fo.close()"
   ]
  },
  {
   "cell_type": "code",
   "execution_count": 86,
   "metadata": {},
   "outputs": [],
   "source": [
    "a = cph_urti_no_abs_incdt.baseline_hazard_\n",
    "# cph_urti_no_abs_incdt.baseline_survival_\n",
    "# cph_urti_no_abs_incdt.predict_cumulative_hazard(data_urti_no_abs_incdt, data_urti_no_abs_incdt['duration_urti_admitted']<=30)\n",
    "# cph_urti_no_abs_incdt.predict_survival_function(data_urti_no_abs_incdt)\n",
    "\n",
    "# save \n",
    "np.savetxt('../output/hospitalisation_prediction_urti/sum_betas_urti_no_abs_incdt.txt', a, delimiter=',')"
   ]
  },
  {
   "cell_type": "code",
   "execution_count": 95,
   "metadata": {},
   "outputs": [
    {
     "data": {
      "image/png": "[encoded data removed]",
      "text/plain": [
       "<Figure size 360x648 with 1 Axes>"
      ]
     },
     "metadata": {
      "needs_background": "light"
     },
     "output_type": "display_data"
    }
   ],
   "source": [
    "fig, ax = plt.subplots(figsize=(5, 9)\n",
    "                        )\n",
    "cph_urti_no_abs_incdt.plot()\n",
    "plt.suptitle('Coefficients of CPH model for incident hospital admission \\n related to URTI with no antibiotics', fontsize=16)\n",
    "#_ = ax.set_yticklabels(['Age', 'BMI', 'GP consultations', 'CCI', 'IMD', 'Flu vaccine', 'Antibacterial prescriptions'], \n",
    "#                        rotation=45, fontsize=12, ha='right')\n",
    "plt.savefig('../output/hospitalisation_prediction_urti/coefficients_cph_urti_no_abs_incdt.jpg', bbox_inches='tight')\n",
    "plt.show()"
   ]
  },
  {
   "cell_type": "code",
   "execution_count": 88,
   "metadata": {},
   "outputs": [],
   "source": [
    "# # concordance index of cph model with testing data\n",
    "# concord_index_urti_no_abs_incdt_test = concordance_index(data_urti_no_abs_incdt_test['event_urti_admitted'], -cph_urti_no_abs_incdt.predict_partial_hazard(data_urti_no_abs_incdt_test), data_urti_no_abs_incdt_test['duration_urti_admitted'])\n",
    "# print(f'Concordance index for urti_no_abs_incdt with testing data: {concord_index_urti_no_abs_incdt_test}')\n",
    "# # print(concordance_index(data_urti_no_abs_incdt_test['event_urti_admitted'], -cph_urti_no_abs_incdt.predict_partial_hazard(data_urti_no_abs_incdt_test), data_urti_no_abs_incdt_test['duration_urti_admitted']))"
   ]
  },
  {
   "cell_type": "code",
   "execution_count": 89,
   "metadata": {},
   "outputs": [],
   "source": [
    "# a = [concord_index_urti_no_abs_incdt_test]\n",
    "# np.savetxt('../output/hospitalisation_prediction_urti/concord_index_urti_no_abs_incdt_test.txt', a, delimiter=',')"
   ]
  },
  {
   "cell_type": "code",
   "execution_count": null,
   "metadata": {},
   "outputs": [],
   "source": [
    "# fig, ax = plt.subplots(figsize=(8, 5)\n",
    "#                         )\n",
    "# survival_probability_calibration(cph_urti_no_abs_incdt, data_urti_no_abs_incdt_train, t0=30)\n",
    "# # plt.suptitle('Calibration of CPH model for incident hospital admission related to urti with no antibiotics', fontsize=16)\n",
    "# plt.savefig('../output/hospitalisation_prediction_urti/calibration_cph_urti_no_abs_incdt_train.jpg', bbox_inches='tight')\n",
    "# plt.show()\n",
    "\n",
    "# # t0 (float) – the time to evaluate the probability of event occurring prior at.\n",
    "# # ICI – mean absolute difference between predicted and observed\n",
    "# # E50 – median absolute difference between predicted and observed"
   ]
  },
  {
   "cell_type": "code",
   "execution_count": 90,
   "metadata": {},
   "outputs": [],
   "source": [
    "# fig, ax = plt.subplots(figsize=(8, 5)\n",
    "#                         )\n",
    "# survival_probability_calibration(cph_urti_no_abs_incdt, data_urti_no_abs_incdt_test, t0=30)\n",
    "# # plt.suptitle('Calibration of CPH model for incident hospital admission related to URTI with no antibiotics', fontsize=16)\n",
    "# plt.savefig('../output/hospitalisation_prediction_urti/calibration_cph_urti_no_abs_incdt_test.jpg', bbox_inches='tight')\n",
    "# plt.show()"
   ]
  },
  {
   "cell_type": "code",
   "execution_count": 174,
   "metadata": {},
   "outputs": [],
   "source": [
    "# print(cph_urti_no_abs_incdt.score(data_urti_no_abs_incdt_1_test))\n",
    "# print(cph_urti_no_abs_incdt.concordance_index_)\n",
    "# print(cph_urti_no_abs_incdt.AIC_partial_)\n",
    "# print(cph_urti_no_abs_incdt.concordance_index_)"
   ]
  },
  {
   "cell_type": "markdown",
   "metadata": {},
   "source": [
    "#### 4-1-2- Incident hospital admission related to URTI with antibiotics"
   ]
  },
  {
   "cell_type": "code",
   "execution_count": 95,
   "metadata": {},
   "outputs": [],
   "source": [
    "# data_urti_abs_incdt.columns"
   ]
  },
  {
   "cell_type": "code",
   "execution_count": 96,
   "metadata": {},
   "outputs": [],
   "source": [
    "# data_urti_abs_incdt.shape"
   ]
  },
  {
   "cell_type": "code",
   "execution_count": 97,
   "metadata": {},
   "outputs": [],
   "source": [
    "# #keep relevant variables\n",
    "# data_urti_abs_incdt = data_urti_abs_incdt[['age', 'bmi_imp', 'gp_count_imp', 'flu_vaccine', 'sex', 'region', #'season', \n",
    "#                                          'imd_imp', 'antibacterial_brit_imp', 'ethnicity_imp', 'smoking_status_imp',\n",
    "#                                          'meds_nonabs',\n",
    "#                                          'event_urti_admitted', 'duration_urti_admitted']]"
   ]
  },
  {
   "cell_type": "code",
   "execution_count": 98,
   "metadata": {},
   "outputs": [],
   "source": [
    "# # printing number of missing values in each variable \n",
    "# data_urti_abs_incdt.isnull().sum()"
   ]
  },
  {
   "cell_type": "code",
   "execution_count": 91,
   "metadata": {},
   "outputs": [],
   "source": [
    "# #drop ros with missing values\n",
    "# data_urti_abs_incdt = data_urti_abs_incdt.dropna(axis='rows')\n",
    "# #data_urti_abs_incdt = data_urti_abs_incdt.drop(columns=['smoking_status'])\n",
    "# data_urti_abs_incdt.isnull().sum()"
   ]
  },
  {
   "cell_type": "code",
   "execution_count": 100,
   "metadata": {},
   "outputs": [],
   "source": [
    "# fold_thre = len(data_urti_abs_incdt)-round(len(data_urti_abs_incdt)/4)\n",
    "# data_urti_abs_incdt_train = data_urti_abs_incdt.iloc[:fold_thre]\n",
    "# data_urti_abs_incdt_test = data_urti_abs_incdt.iloc[fold_thre:]\n",
    "\n",
    "# print(f'shape of data_urti_abs_incdt for training: {data_urti_abs_incdt_train.shape}')\n",
    "# print(f'shape of data_urti_abs_incdt for testing: {data_urti_abs_incdt_test.shape}')"
   ]
  },
  {
   "cell_type": "code",
   "execution_count": 101,
   "metadata": {},
   "outputs": [],
   "source": [
    "# cph_urti_abs_incdt = CoxPHFitter().fit(data_urti_abs_incdt_train,\n",
    "#         duration_col='duration_urti_admitted',\n",
    "#         event_col='event_urti_admitted',\n",
    "#         formula=\"age + sex + bmi_imp + gp_count_imp + flu_vaccine + region + antibacterial_brit_imp + imd_imp + ethnicity_imp + smoking_status_imp + meds_nonabs\" # season +\n",
    "#         )\n",
    "# cph_urti_abs_incdt.print_summary()"
   ]
  },
  {
   "cell_type": "code",
   "execution_count": 102,
   "metadata": {},
   "outputs": [],
   "source": [
    "# output = GetPrintSummary(cph_urti_abs_incdt)\n",
    "\n",
    "# with open('../output/hospitalisation_prediction_urti/cph_urti_abs_incdt_summary.html', \"w\") as fo:\n",
    "#     print(fo.write(output))\n",
    "#     fo.close()"
   ]
  },
  {
   "cell_type": "code",
   "execution_count": 103,
   "metadata": {},
   "outputs": [],
   "source": [
    "# a = cph_urti_abs_incdt.baseline_hazard_\n",
    "# # cph_urti_abs_incdt.baseline_survival_\n",
    "# # cph_urti_abs_incdt.predict_cumulative_hazard(data_urti_abs_incdt, data_urti_abs_incdt['duration_urti_admitted']<=30)\n",
    "# # cph_urti_abs_incdt.predict_survival_function(data_urti_abs_incdt)\n",
    "\n",
    "# # save \n",
    "# np.savetxt('../output/hospitalisation_prediction_urti/sum_betas_urti_abs_incdt.txt', a, delimiter=',')"
   ]
  },
  {
   "cell_type": "code",
   "execution_count": 104,
   "metadata": {},
   "outputs": [],
   "source": [
    "# fig, ax = plt.subplots(figsize=(5, 9)\n",
    "#                         )\n",
    "# cph_urti_abs_incdt.plot()\n",
    "# plt.suptitle('Coefficients of CPH model for incident hospital admission \\n related to URTI with antibiotics', fontsize=16)\n",
    "# #_ = ax.set_yticklabels(['Age', 'BMI', 'GP consultations', 'CCI', 'IMD', 'Flu vaccine', 'Antibacterial prescriptions'], \n",
    "# #                        rotation=45, fontsize=12, ha='right')\n",
    "# plt.savefig('../output/hospitalisation_prediction_urti/coefficients_cph_urti_abs_incdt.jpg', bbox_inches='tight')\n",
    "# plt.show()"
   ]
  },
  {
   "cell_type": "code",
   "execution_count": 105,
   "metadata": {},
   "outputs": [],
   "source": [
    "# # concordance index of cph model with testing data\n",
    "# concord_index_urti_abs_incdt_test = concordance_index(data_urti_abs_incdt_test['event_urti_admitted'], -cph_urti_abs_incdt.predict_partial_hazard(data_urti_abs_incdt_test), data_urti_abs_incdt_test['duration_urti_admitted'])\n",
    "# print(f'Concordance index for urti_abs_incdt with testing data: {concord_index_urti_abs_incdt_test}')"
   ]
  },
  {
   "cell_type": "code",
   "execution_count": 106,
   "metadata": {},
   "outputs": [],
   "source": [
    "# a = [concord_index_urti_abs_incdt_test]\n",
    "# np.savetxt('../output/hospitalisation_prediction_urti/concord_index_urti_abs_incdt_test.txt', a, delimiter=',')"
   ]
  },
  {
   "cell_type": "code",
   "execution_count": 107,
   "metadata": {},
   "outputs": [],
   "source": [
    "# fig, ax = plt.subplots(figsize=(8, 5)\n",
    "#                         )\n",
    "# survival_probability_calibration(cph_urti_abs_incdt, data_urti_abs_incdt_train, t0=30)\n",
    "# # plt.suptitle('Calibration of CPH model for incident hospital admission related to URTI with antibiotics', fontsize=16)\n",
    "# plt.savefig('../output/hospitalisation_prediction_urti/calibration_cph_urti_abs_incdt_train.jpg', bbox_inches='tight')\n",
    "# plt.show()"
   ]
  },
  {
   "cell_type": "code",
   "execution_count": 108,
   "metadata": {},
   "outputs": [],
   "source": [
    "# fig, ax = plt.subplots(figsize=(8, 5)\n",
    "#                         )\n",
    "# survival_probability_calibration(cph_urti_abs_incdt, data_urti_abs_incdt_test, t0=30)\n",
    "# # plt.suptitle('Calibration of CPH model for incident hospital admission related to urti with antibiotics', fontsize=16)\n",
    "# plt.savefig('../output/hospitalisation_prediction_urti/calibration_cph_urti_abs_incdt_test.jpg', bbox_inches='tight')\n",
    "# plt.show()"
   ]
  },
  {
   "cell_type": "markdown",
   "metadata": {},
   "source": [
    "#### 4-1-3- Prevalent hospital admission related to URTI with no antibiotics"
   ]
  },
  {
   "cell_type": "code",
   "execution_count": 109,
   "metadata": {},
   "outputs": [],
   "source": [
    "# data_urti_no_abs_prevl.columns"
   ]
  },
  {
   "cell_type": "code",
   "execution_count": 111,
   "metadata": {},
   "outputs": [],
   "source": [
    "# data_urti_no_abs_prevl.shape"
   ]
  },
  {
   "cell_type": "code",
   "execution_count": 112,
   "metadata": {},
   "outputs": [],
   "source": [
    "# #keep relevant variables\n",
    "# data_urti_no_abs_prevl = data_urti_no_abs_prevl[['age', 'bmi_imp', 'gp_count_imp', 'flu_vaccine', 'sex', 'region', #'season', \n",
    "#                                                 'imd_imp', 'antibacterial_brit_imp', 'ethnicity_imp', 'smoking_status_imp',\n",
    "#                                                 'meds_nonabs',\n",
    "#                                                 'event_urti_admitted', 'duration_urti_admitted']]"
   ]
  },
  {
   "cell_type": "code",
   "execution_count": 113,
   "metadata": {},
   "outputs": [],
   "source": [
    "# # printing number of missing values in each variable \n",
    "# data_urti_no_abs_prevl.isnull().sum()"
   ]
  },
  {
   "cell_type": "code",
   "execution_count": 98,
   "metadata": {},
   "outputs": [],
   "source": [
    "# #drop rows with missing values\n",
    "# data_urti_no_abs_prevl = data_urti_no_abs_prevl.dropna(axis='rows')\n",
    "# #data_urti_no_abs_prevl = data_urti_no_abs_prevl.drop(columns=['smoking_status'])\n",
    "# data_urti_no_abs_prevl.isnull().sum()"
   ]
  },
  {
   "cell_type": "code",
   "execution_count": 114,
   "metadata": {},
   "outputs": [],
   "source": [
    "# data_urti_no_abs_prevl.shape"
   ]
  },
  {
   "cell_type": "code",
   "execution_count": 115,
   "metadata": {},
   "outputs": [],
   "source": [
    "# fold_thre = len(data_urti_no_abs_prevl)-round(len(data_urti_no_abs_prevl)/4)\n",
    "# data_urti_no_abs_prevl_train = data_urti_no_abs_prevl.iloc[:fold_thre]\n",
    "# data_urti_no_abs_prevl_test = data_urti_no_abs_prevl.iloc[fold_thre:]\n",
    "\n",
    "# print(f'shape of data_urti_no_abs_prevl for training: {data_urti_no_abs_prevl_train.shape}')\n",
    "# print(f'shape of data_urti_no_abs_prevl for testing: {data_urti_no_abs_prevl_test.shape}')"
   ]
  },
  {
   "cell_type": "code",
   "execution_count": 116,
   "metadata": {},
   "outputs": [],
   "source": [
    "# cph_urti_no_abs_prevl = CoxPHFitter().fit(data_urti_no_abs_prevl_train,\n",
    "#         duration_col='duration_urti_admitted',\n",
    "#         event_col='event_urti_admitted',\n",
    "#         formula=\"age + sex + bmi_imp + gp_count_imp + flu_vaccine + region + antibacterial_brit_imp + imd_imp + ethnicity_imp + smoking_status_imp + meds_nonabs\" # season +\n",
    "#         )\n",
    "# cph_urti_no_abs_prevl.print_summary()"
   ]
  },
  {
   "cell_type": "code",
   "execution_count": 117,
   "metadata": {},
   "outputs": [],
   "source": [
    "# output = GetPrintSummary(cph_urti_no_abs_prevl)\n",
    "\n",
    "# with open('../output/hospitalisation_prediction_urti/cph_urti_no_abs_prevl_summary.html', \"w\") as fo:\n",
    "#     print(fo.write(output))\n",
    "#     fo.close()"
   ]
  },
  {
   "cell_type": "code",
   "execution_count": 118,
   "metadata": {},
   "outputs": [],
   "source": [
    "# a = cph_urti_no_abs_prevl.baseline_hazard_\n",
    "# # cph_urti_no_abs_prevl.baseline_survival_\n",
    "# # cph_urti_no_abs_prevl.predict_cumulative_hazard(data_urti_no_abs_prevl, data_urti_no_abs_prevl['duration_urti_admitted']<=30)\n",
    "# # cph_urti_no_abs_prevl.predict_survival_function(data_urti_no_abs_prevl)\n",
    "\n",
    "# # save \n",
    "# np.savetxt('../output/hospitalisation_prediction_urti/sum_betas_urti_no_abs_prevl.txt', a, delimiter=',')"
   ]
  },
  {
   "cell_type": "code",
   "execution_count": 119,
   "metadata": {},
   "outputs": [],
   "source": [
    "# fig, ax = plt.subplots(figsize=(5, 9)\n",
    "#                         )\n",
    "# cph_urti_no_abs_prevl.plot()\n",
    "# plt.suptitle('Coefficients of CPH model for prevalent hospital admission \\n related to URTI with no antibiotics', fontsize=16)\n",
    "# #_ = ax.set_yticklabels(['Age', 'BMI', 'GP consultations', 'CCI', 'IMD', 'Flu vaccine', 'Antibacterial prescriptions'], \n",
    "# #                        rotation=45, fontsize=12, ha='right')\n",
    "# plt.savefig('../output/hospitalisation_prediction_urti/coefficients_cph_urti_no_abs_prevl.jpg', bbox_inches='tight')\n",
    "# plt.show()"
   ]
  },
  {
   "cell_type": "code",
   "execution_count": 120,
   "metadata": {},
   "outputs": [],
   "source": [
    "# data_urti_no_abs_prevl_test.columns"
   ]
  },
  {
   "cell_type": "code",
   "execution_count": 122,
   "metadata": {},
   "outputs": [],
   "source": [
    "# # concordance index of cph model with testing data\n",
    "# concord_index_urti_no_abs_prevl_test = concordance_index(data_urti_no_abs_prevl_test['event_urti_admitted'], -cph_urti_no_abs_prevl.predict_partial_hazard(data_urti_no_abs_prevl_test), data_urti_no_abs_prevl_test['duration_urti_admitted'])\n",
    "# print(f'Concordance index for cph_urti_no_abs_prevl with testing data: {concord_index_urti_no_abs_prevl_test}')"
   ]
  },
  {
   "cell_type": "code",
   "execution_count": 121,
   "metadata": {},
   "outputs": [],
   "source": [
    "# a = [concord_index_urti_no_abs_prevl_test]\n",
    "# np.savetxt('../output/hospitalisation_prediction_urti/concord_index_urti_no_abs_prevl_test.txt', a, delimiter=',')"
   ]
  },
  {
   "cell_type": "code",
   "execution_count": 123,
   "metadata": {},
   "outputs": [],
   "source": [
    "# fig, ax = plt.subplots(figsize=(8, 5)\n",
    "#                         )\n",
    "# survival_probability_calibration(cph_urti_no_abs_prevl, data_urti_no_abs_prevl_train, t0=30)\n",
    "# plt.suptitle('Calibration of CPH model for prevalent hospital admission related to URTI with no antibiotics', fontsize=16)\n",
    "# plt.savefig('../output/hospitalisation_prediction_urti/calibration_cph_urti_no_abs_prevl_train.jpg', bbox_inches='tight')\n",
    "# plt.show()"
   ]
  },
  {
   "cell_type": "code",
   "execution_count": 124,
   "metadata": {},
   "outputs": [],
   "source": [
    "# fig, ax = plt.subplots(figsize=(8, 5)\n",
    "#                         )\n",
    "# survival_probability_calibration(cph_urti_no_abs_prevl, data_urti_no_abs_prevl_test, t0=30)\n",
    "# plt.suptitle('Calibration of CPH model for prevalent hospital admission related to URTI with no antibiotics', fontsize=16)\n",
    "# plt.savefig('../output/hospitalisation_prediction_urti/calibration_cph_urti_no_abs_prevl_test.jpg', bbox_inches='tight')\n",
    "# plt.show()"
   ]
  },
  {
   "cell_type": "markdown",
   "metadata": {},
   "source": [
    "#### 4-1-4- Prevalent hospital admission related to URTI with antibiotics"
   ]
  },
  {
   "cell_type": "code",
   "execution_count": 385,
   "metadata": {},
   "outputs": [],
   "source": [
    "# data_urti_abs_prevl.columns"
   ]
  },
  {
   "cell_type": "code",
   "execution_count": 386,
   "metadata": {},
   "outputs": [],
   "source": [
    "# #keep relevant variables\n",
    "# data_urti_abs_prevl = data_urti_abs_prevl[['age', 'age_cat', 'sex', 'bmi', 'BMI_cat', 'gp_count', 'flu_vaccine',\n",
    "#                                         'region', 'antibacterial_brit', 'imd', 'ethnicity', 'CCI_cat', 'CCI',\n",
    "#                                         'event_urti_admitted', 'duration_urti_admitted']]"
   ]
  },
  {
   "cell_type": "code",
   "execution_count": 387,
   "metadata": {},
   "outputs": [],
   "source": [
    "# # print number of missing values in each variable \n",
    "# data_urti_abs_prevl.isnull().sum()"
   ]
  },
  {
   "cell_type": "code",
   "execution_count": 388,
   "metadata": {},
   "outputs": [],
   "source": [
    "# #drop ros with missing values\n",
    "# data_urti_abs_prevl = data_urti_abs_prevl.dropna(axis='rows')\n",
    "# #data_urti_abs_prevl = data_urti_abs_prevl.drop(columns=['smoking_status'])\n",
    "# data_urti_abs_prevl.isnull().sum()"
   ]
  },
  {
   "cell_type": "code",
   "execution_count": 389,
   "metadata": {},
   "outputs": [],
   "source": [
    "# cph_urti_abs_prevl = CoxPHFitter(penalizer=0.1)\n",
    "# cph_urti_abs_prevl.fit(data_urti_abs_prevl, \n",
    "#         duration_col='duration_urti_admitted',\n",
    "#         event_col='event_urti_admitted',\n",
    "#         formula=\"age_cat + sex + gp_count + flu_vaccine + region + antibacterial_brit + imd + ethnicity\"\n",
    "#         )\n",
    "# cph_urti_abs_prevl.print_summary()"
   ]
  },
  {
   "cell_type": "code",
   "execution_count": 390,
   "metadata": {},
   "outputs": [],
   "source": [
    "# fig, ax = plt.subplots(figsize=(5, 9)\n",
    "#                         )\n",
    "# cph_urti_abs_prevl.plot()\n",
    "# plt.suptitle('Coefficients of CPH model for prevalent hospital admission related to URTI with antibiotics', fontsize=16)\n",
    "# #_ = ax.set_yticklabels(['Age', 'BMI', 'GP consultations', 'CCI', 'IMD', 'Flu vaccine', 'Antibacterial prescriptions'], \n",
    "# #                        rotation=45, fontsize=12, ha='right')\n",
    "# #plt.savefig('output/repeat_ABs_outputs/coefficients_cph_urti_abs_prevl.jpg', bbox_inches='tight')\n",
    "# plt.show()"
   ]
  },
  {
   "cell_type": "code",
   "execution_count": 129,
   "metadata": {},
   "outputs": [],
   "source": [
    "##save cph model with pickle package\n",
    "\n",
    "# current_working_dir = os.getcwd()\n",
    "# print(current_working_dir)\n",
    "\n",
    "# with open('output/hospitalisation_prediction_urti/cph_urti_abs_prevl.pickle', 'wb') as f:\n",
    "#     pickle.dump(cph_urti_abs_prevl, f)\n",
    "\n",
    "# with open('output/hospitalisation_prediction_urti/cph_urti_abs_prevl.pickle', 'rb') as f:\n",
    "#     cph_urti_abs_prevl = pickle.load(f)\n",
    "\n",
    "# cph_urti_abs_prevl.summary"
   ]
  },
  {
   "cell_type": "code",
   "execution_count": 147,
   "metadata": {},
   "outputs": [],
   "source": [
    "# hosp history, ab type history, "
   ]
  }
 ],
 "metadata": {
  "interpreter": {
   "hash": "7a2d6c6560a78692f44e6c684bf0cb5541339d681bcf02c80a9e36dbc5e3249d"
  },
  "kernelspec": {
   "display_name": "Python 3.9.6 64-bit",
   "name": "python3"
  },
  "language_info": {
   "codemirror_mode": {
    "name": "ipython",
    "version": 3
   },
   "file_extension": ".py",
   "mimetype": "text/x-python",
   "name": "python",
   "nbconvert_exporter": "python",
   "pygments_lexer": "ipython3",
   "version": "3.10.4"
  },
  "orig_nbformat": 4
 },
 "nbformat": 4,
 "nbformat_minor": 2
}
