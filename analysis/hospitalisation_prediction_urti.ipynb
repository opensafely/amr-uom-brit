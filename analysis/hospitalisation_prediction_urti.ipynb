{
 "cells": [
  {
   "cell_type": "markdown",
   "metadata": {},
   "source": [
    "# Predcition of Hospital Admission Related to Infections\n",
    "\n",
    "In this notebook, we develop a Cox proportional hazard regression model to predict the risk of hospital admission for common infections including urinary tract infection (urti), upper respiratory tract infection (URTI), lower respiratory tract infection (LRTI), sinusitis, otitis media or middle ear infection (ot media), and ear infection or otitis externa (ot externa)."
   ]
  },
  {
   "cell_type": "code",
   "execution_count": 5,
   "metadata": {},
   "outputs": [],
   "source": [
    "import pandas as pd\n",
    "from matplotlib import pyplot\n",
    "import matplotlib.pyplot as plt\n",
    "import seaborn as sns\n",
    "import math\n",
    "import numpy as np\n",
    "import os\n",
    "import glob\n",
    "import gzip\n",
    "from matplotlib.ticker import PercentFormatter\n",
    "from patsy import dmatrices\n",
    "from lifelines import CoxPHFitter\n",
    "import statsmodels.api as sm\n",
    "import statsmodels.formula.api as smf\n",
    "# import sklearn\n",
    "# from sklearn.model_selection import train_test_split\n",
    "from sklearn.impute import SimpleImputer\n",
    "from sklearn.experimental import enable_iterative_imputer\n",
    "from sklearn.impute import IterativeImputer\n",
    "from sklearn.impute import KNNImputer\n",
    "import pickle\n",
    "from sklearn.preprocessing import PolynomialFeatures\n",
    "from lifelines.utils import k_fold_cross_validation\n",
    "from lifelines.utils import concordance_index\n",
    "from lifelines.calibration import survival_probability_calibration\n",
    "import io\n",
    "import sys\n",
    "from contextlib import redirect_stdout\n",
    "# import pyreadr\n",
    "# import miceforest as mf\n",
    "%matplotlib inline"
   ]
  },
  {
   "cell_type": "code",
   "execution_count": 6,
   "metadata": {},
   "outputs": [],
   "source": [
    "def create_histplot(title, df, ax):\n",
    "    ax.hist(df, color = 'purple', edgecolor = 'black', bins=20)\n",
    "    ax.set_title(title)\n",
    "    ax.set_ylabel('Frequency')\n",
    "    ax.xaxis.set_tick_params(which='both', labelbottom=True, labeltop=False, rotation=0)"
   ]
  },
  {
   "cell_type": "code",
   "execution_count": 7,
   "metadata": {},
   "outputs": [],
   "source": [
    "def create_lineplot(data, var, title, legend_title, ax1):\n",
    "    a = data.groupby(['date', var]).size().reset_index()\n",
    "    a.columns = ['date', var, 'Freq']\n",
    "    sns.lineplot(x='date', y='Freq', \n",
    "            hue=var, \n",
    "            data=a,\n",
    "            ax=ax1)\n",
    "    ax1.set_title(title)\n",
    "    ax1.set_ylabel('Frequency')\n",
    "    ax1.xaxis.set_tick_params(which='both', labelbottom=True, labeltop=False, rotation=90)\n",
    "    ax1.legend(title=legend_title)\n",
    "#     ax1.axvline(x=\"2020-01\", color='black', ls='--', lw=1.5)\n",
    "#     ax1.axvline(x=\"2020-04\", color='black', ls='--', lw=1.5)\n",
    "#     ax1.axvline(x=\"2021-04\", color='black', ls='--', lw=1.5)"
   ]
  },
  {
   "cell_type": "code",
   "execution_count": 8,
   "metadata": {},
   "outputs": [],
   "source": [
    "# function to transform cph model summary and save it as html\n",
    "def GetPrintSummary(model):\n",
    "    output = \"\"\n",
    "    with io.StringIO() as buf, redirect_stdout(buf):\n",
    "        model.print_summary(style=\"html\")\n",
    "        output = buf.getvalue()\n",
    "    return output"
   ]
  },
  {
   "cell_type": "code",
   "execution_count": 9,
   "metadata": {},
   "outputs": [],
   "source": [
    "# data2019_month = {}\n",
    "# data2019 = []\n",
    "\n",
    "# i=1\n",
    "# while  i < 13:\n",
    "#     # data of 2019\n",
    "#     # if (i<4):\n",
    "#     data2019_month[\"%s\" %i] = pd.read_csv(f'../output/hospitalisation_data/input_hospitalisation_2019-'+str(i).zfill(2)+'-01.csv.gz')\n",
    "#     data2019_month[\"%s\" %i]['date'] = \"2019-\"+str(i).zfill(2)\n",
    "#     # if (i>3) and (i<7):\n",
    "#     #     data2019_month[\"%s\" %i] = pd.read_csv(f'output/hospitalisation_data/input_hospitalisatio2019-'+str(i).zfill(2)+'-01.csv.gz')\n",
    "#     #     data2019_month[\"%s\" %i]['date'] = \"2019-\"+str(i).zfill(2)\n",
    "#     if (i<3) or (i>11):\n",
    "#         data2019_month[\"%s\" %i]['season'] = \"Winter\"\n",
    "#     elif (i>2) and (i<6):\n",
    "#         data2019_month[\"%s\" %i]['season'] = \"Spring\"\n",
    "#     elif (i>5) and (i<9):\n",
    "#         data2019_month[\"%s\" %i]['season'] = \"Summer\"\n",
    "#     elif (i>8) and (i<12):\n",
    "#         data2019_month[\"%s\" %i]['season'] = \"Autumn\"\n",
    "\n",
    "#     data2019.append(data2019_month[\"%s\" %i])\n",
    "#     i=i+1\n",
    "    \n",
    "# data2019 = pd.concat(data2019_month, axis=0, ignore_index=True)\n",
    "\n",
    "# data = data2019"
   ]
  },
  {
   "cell_type": "code",
   "execution_count": 10,
   "metadata": {},
   "outputs": [],
   "source": [
    "# data201901 = pd.read_csv(f'../output/hospitalisation_data/input_hospitalisation_2019-01-01.csv.gz')\n",
    "# data201902 = pd.read_csv(f'../output/hospitalisation_data/input_hospitalisation_2019-02-01.csv.gz')\n",
    "# data201903 = pd.read_csv(f'../output/hospitalisation_data/input_hospitalisation_2019-03-01.csv.gz')\n",
    "# data201904 = pd.read_csv(f'../output/hospitalisation_data/input_hospitalisation_2019-04-01.csv.gz')\n",
    "# data201905 = pd.read_csv(f'../output/hospitalisation_data/input_hospitalisation_2019-05-01.csv.gz')\n",
    "# data201906 = pd.read_csv(f'../output/hospitalisation_data/input_hospitalisation_2019-06-01.csv.gz')\n",
    "# data201907 = pd.read_csv(f'../output/hospitalisation_data/input_hospitalisation_2019-07-01.csv.gz')\n",
    "# data201908 = pd.read_csv(f'../output/hospitalisation_data/input_hospitalisation_2019-08-01.csv.gz')\n",
    "# data201909 = pd.read_csv(f'../output/hospitalisation_data/input_hospitalisation_2019-09-01.csv.gz')\n",
    "# data201910 = pd.read_csv(f'../output/hospitalisation_data/input_hospitalisation_2019-10-01.csv.gz')\n",
    "# data201911 = pd.read_csv(f'../output/hospitalisation_data/input_hospitalisation_2019-11-01.csv.gz')\n",
    "# data201912 = pd.read_csv(f'../output/hospitalisation_data/input_hospitalisation_2019-12-01.csv.gz')\n",
    "\n",
    "# data = pd.concat([data201901, data201902, data201903, data201904, data201905, data201906, data201907, data201908, data201909, data201910, data201911, data201912], axis=0)\n",
    "# # data.shape"
   ]
  },
  {
   "cell_type": "code",
   "execution_count": 11,
   "metadata": {},
   "outputs": [],
   "source": [
    "# data201901 = pd.read_csv(f'../output/hospitalisation_data/input_hospitalisation_2019-01-01.csv.gz')\n",
    "# data201901['season'] = \"Winter\"\n",
    "# data201902 = pd.read_csv(f'../output/hospitalisation_data/input_hospitalisation_2019-02-01.csv.gz')\n",
    "# data201902['season'] = \"Winter\"\n",
    "# data201903 = pd.read_csv(f'../output/hospitalisation_data/input_hospitalisation_2019-03-01.csv.gz')\n",
    "# data201903['season'] = \"Spring\"\n",
    "# data201904 = pd.read_csv(f'../output/hospitalisation_data/input_hospitalisation_2019-04-01.csv.gz')\n",
    "# data201904['season'] = \"Spring\"\n",
    "# data201905 = pd.read_csv(f'../output/hospitalisation_data/input_hospitalisation_2019-05-01.csv.gz')\n",
    "# data201905['season'] = \"Spring\"\n",
    "# data201906 = pd.read_csv(f'../output/hospitalisation_data/input_hospitalisation_2019-06-01.csv.gz')\n",
    "# data201906['season'] = \"Summer\"\n",
    "# data201907 = pd.read_csv(f'../output/hospitalisation_data/input_hospitalisation_2019-07-01.csv.gz')\n",
    "# data201907['season'] = \"Summer\"\n",
    "# data201908 = pd.read_csv(f'../output/hospitalisation_data/input_hospitalisation_2019-08-01.csv.gz')\n",
    "# data201908['season'] = \"Summer\"\n",
    "# data201909 = pd.read_csv(f'../output/hospitalisation_data/input_hospitalisation_2019-09-01.csv.gz')\n",
    "# data201909['season'] = \"Autumn\"\n",
    "# data201910 = pd.read_csv(f'../output/hospitalisation_data/input_hospitalisation_2019-10-01.csv.gz')\n",
    "# data201910['season'] = \"Autumn\"\n",
    "# data201911 = pd.read_csv(f'../output/hospitalisation_data/input_hospitalisation_2019-11-01.csv.gz')\n",
    "# data201911['season'] = \"Autumn\"\n",
    "# data201912 = pd.read_csv(f'../output/hospitalisation_data/input_hospitalisation_2019-12-01.csv.gz')\n",
    "# data201912['season'] = \"Winter\""
   ]
  },
  {
   "cell_type": "code",
   "execution_count": 12,
   "metadata": {},
   "outputs": [],
   "source": [
    "# data = pd.concat([data201901, data201902, data201903, data201904, data201905, data201906, data201907, data201908, data201909, data201910, data201911, data201912], axis=0)\n",
    "# data#.shape"
   ]
  },
  {
   "cell_type": "code",
   "execution_count": 13,
   "metadata": {},
   "outputs": [],
   "source": [
    "# data = pyreadr.read_r(f'../output/hospitalisation_data/dat2019-12-01.rds')"
   ]
  },
  {
   "cell_type": "code",
   "execution_count": 19,
   "metadata": {},
   "outputs": [],
   "source": [
    "# data = pd.read_csv(f'../output/hospitalisation_data/data2019.csv.gz')"
   ]
  },
  {
   "cell_type": "code",
   "execution_count": null,
   "metadata": {},
   "outputs": [],
   "source": [
    "data201901 = pd.read_csv(f'../output/hospitalisation_data/input_hospitalisation_2019-01-01.csv.gz')\n",
    "data201901['season'] = \"Winter\"\n",
    "data201902 = pd.read_csv(f'../output/hospitalisation_data/input_hospitalisation_2019-02-01.csv.gz')\n",
    "data201902['season'] = \"Winter\"\n",
    "data201903 = pd.read_csv(f'../output/hospitalisation_data/input_hospitalisation_2019-03-01.csv.gz')\n",
    "data201903['season'] = \"Spring\"\n",
    "data201904 = pd.read_csv(f'../output/hospitalisation_data/input_hospitalisation_2019-04-01.csv.gz')\n",
    "data201904['season'] = \"Spring\"\n",
    "data201905 = pd.read_csv(f'../output/hospitalisation_data/input_hospitalisation_2019-05-01.csv.gz')\n",
    "data201905['season'] = \"Spring\"\n",
    "data201906 = pd.read_csv(f'../output/hospitalisation_data/input_hospitalisation_2019-06-01.csv.gz')\n",
    "data201906['season'] = \"Summer\""
   ]
  }
 ],
 "metadata": {
  "interpreter": {
   "hash": "7a2d6c6560a78692f44e6c684bf0cb5541339d681bcf02c80a9e36dbc5e3249d"
  },
  "kernelspec": {
   "display_name": "Python 3.9.6 64-bit",
   "name": "python3"
  },
  "language_info": {
   "codemirror_mode": {
    "name": "ipython",
    "version": 3
   },
   "file_extension": ".py",
   "mimetype": "text/x-python",
   "name": "python",
   "nbconvert_exporter": "python",
   "pygments_lexer": "ipython3",
   "version": "3.10.4"
  },
  "orig_nbformat": 4
 },
 "nbformat": 4,
 "nbformat_minor": 2
}
