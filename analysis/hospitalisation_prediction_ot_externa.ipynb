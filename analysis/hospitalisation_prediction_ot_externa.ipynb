{
 "cells": [
  {
   "attachments": {},
   "cell_type": "markdown",
   "metadata": {},
   "source": [
    "# Predcition of Hospital Admission Related to Otitis Externa\n",
    "\n",
    "In this notebook, we develop Cox proportional hazard regression models to predict the risk of hospital admission related to otitis externa (ot_externa)."
   ]
  },
  {
   "cell_type": "code",
   "execution_count": 21,
   "metadata": {},
   "outputs": [],
   "source": [
    "import pandas as pd\n",
    "import matplotlib\n",
    "from matplotlib import pyplot\n",
    "import matplotlib.pyplot as plt\n",
    "import matplotlib.lines as mlines\n",
    "import seaborn as sns\n",
    "import numpy as np\n",
    "from lifelines import CoxPHFitter\n",
    "from lifelines.utils import concordance_index\n",
    "from sklearn.ensemble import RandomForestClassifier\n",
    "from sklearn.model_selection import GridSearchCV\n",
    "import sklearn\n",
    "from sklearn.model_selection import train_test_split\n",
    "from sklearn.ensemble import RandomForestClassifier\n",
    "from sklearn.preprocessing import OneHotEncoder\n",
    "from sklearn.metrics import roc_curve, roc_auc_score\n",
    "import statsmodels.api as sm\n",
    "from scipy import stats\n",
    "from statsmodels.formula.api import logit\n",
    "from datetime import date\n",
    "from operator import attrgetter\n",
    "import io\n",
    "from contextlib import redirect_stdout\n",
    "import warnings\n",
    "warnings.filterwarnings('ignore')\n",
    "warnings.warn('DelftStack')\n",
    "warnings.warn('Do not show this message')"
   ]
  },
  {
   "attachments": {},
   "cell_type": "markdown",
   "metadata": {},
   "source": [
    "## 0- functions"
   ]
  },
  {
   "cell_type": "code",
   "execution_count": 22,
   "metadata": {},
   "outputs": [],
   "source": [
    "#function to transform cph model summary and save it as html\n",
    "def GetPrintSummary(model):\n",
    "    output = \"\"\n",
    "    with io.StringIO() as buf, redirect_stdout(buf):\n",
    "        model.print_summary(style=\"html\")\n",
    "        output = buf.getvalue()\n",
    "    return output"
   ]
  },
  {
   "cell_type": "code",
   "execution_count": 23,
   "metadata": {},
   "outputs": [],
   "source": [
    "#round counts in a way that the last digit become 0 or 5\n",
    "def round_five_mul(x, base=5):\n",
    "    return base * round(x/base)"
   ]
  },
  {
   "cell_type": "code",
   "execution_count": 24,
   "metadata": {},
   "outputs": [],
   "source": [
    "#function to process infection data \n",
    "def proc_infec_data(data, i):\n",
    "    datum = data\n",
    "    datum = datum[['age', 'age_cat', 'sex', 'flu_vaccine', 'smoking', 'bmi', 'imd', 'ethnicity', \n",
    "                   'region', 'CCI', 'died_date', 'deregistered_date', 'practice', \n",
    "                   'antibacterial_brit_'+str(i), 'ot_externa_date_'+str(i), 'ot_externa_ab_date_'+str(i), 'ot_externa_ab_type_'+str(i),\n",
    "                   'incdt_ot_externa_date_'+str(i), 'admitted_ot_externa_date_'+str(i), 'sgss_gp_cov_ot_externa_date_'+str(i)]]\n",
    "    \n",
    "    #drop rows with no ot_externa reord\n",
    "    datum = datum[datum['ot_externa_date_'+str(i)].notnull()]\n",
    "    #exclusion of covid positive 90 days before and 30 days after dx with ot_externa_i\n",
    "    datum = datum[datum['sgss_gp_cov_ot_externa_date_'+str(i)] == 0]\n",
    "    #rename variables with i\n",
    "    datum.rename(columns={'ot_externa_date_'+str(i): 'ot_externa_date', 'ot_externa_ab_date_'+str(i): 'ot_externa_ab_date', \n",
    "                           'ot_externa_ab_type_'+str(i): 'ab_type', 'antibacterial_brit_'+str(i): 'antibacterial_brit',\n",
    "                           'incdt_ot_externa_date_'+str(i): 'incdt_ot_externa_date', 'incdt_ot_externa_type_'+str(i): 'incdt_ot_externa_type',\n",
    "                           'admitted_ot_externa_date_'+str(i): 'admitted_ot_externa_date',\n",
    "                           'sgss_gp_cov_ot_externa_date_'+str(i): 'sgss_gp_cov_ot_externa_date'},\n",
    "                inplace=True)\n",
    "    \n",
    "    return datum"
   ]
  },
  {
   "cell_type": "code",
   "execution_count": 25,
   "metadata": {},
   "outputs": [],
   "source": [
    "#preparation of data for cox models\n",
    "def cox_data_prep(data, vars, vars_countinuous, vars_output):\n",
    "    data_req = data[vars+vars_countinuous+vars_output]\n",
    "    #encoding categorical data for cox models\n",
    "    data_enc = data_req[vars+vars_countinuous].reset_index()\n",
    "    #creating instance of one-hot-encoder\n",
    "    enc = OneHotEncoder()\n",
    "    data_req_enc = pd.DataFrame(enc.fit_transform(data_enc[vars]).toarray())\n",
    "    data_req_enc.columns = enc.get_feature_names(data_enc[vars].columns)\n",
    "    data_req_enc = data_enc[vars_countinuous].join(data_req_enc) \n",
    "\n",
    "    return data_req, data_req_enc"
   ]
  },
  {
   "cell_type": "code",
   "execution_count": 26,
   "metadata": {},
   "outputs": [],
   "source": [
    "#summary table of observation counts\n",
    "def make_summary_table(infection, infection_type, data):\n",
    "    summary_table = data.sum(axis=0).reset_index()\n",
    "    summary_table.columns = ['variable', 'count']\n",
    "    #round count to make last digit either 0 or 5\n",
    "    summary_table['mean'] = data.mean(axis=0).reset_index()[0]\n",
    "    summary_table['count'] = round_five_mul(summary_table['count'], base=5)\n",
    "    summary_table['std'] = data.std(axis=0).reset_index()[0]\n",
    "    #replace small counts (<=5) with 'SM'\n",
    "    summary_table.loc[(summary_table['count'] <= 5), 'count'] = 'SM'\n",
    "\n",
    "    # save table\n",
    "    summary_table.to_csv('../output/hospitalisation_prediction_'+infection+'/summary_table_'+infection+'_'+infection_type+'.csv', index=False)"
   ]
  },
  {
   "cell_type": "code",
   "execution_count": 27,
   "metadata": {},
   "outputs": [],
   "source": [
    "#summary table of cases with antibiotic prescription\n",
    "def make_summary_table_cases(infection, infection_type, data):\n",
    "    #keep hospitalised cses (events=1)\n",
    "    data_hosped = data[data[infection+'_ab_date'] == 1]\n",
    "\n",
    "    #encoding categorical hosped data\n",
    "    data_hosped = data_hosped[['age_cat', 'sex', 'CCI_cat', 'flu_vaccine', 'bmi_cat', 'region', 'imd', 'ethnicity', 'smoking', 'season', 'period', 'antibacterial_brit']].reset_index()\n",
    "\n",
    "    #creating instance of one-hot-encoder\n",
    "    enc = OneHotEncoder()\n",
    "    data_hosped_enc = pd.DataFrame(enc.fit_transform(data_hosped[['age_cat', 'sex', 'CCI_cat', 'flu_vaccine', 'bmi_cat', 'region', 'imd', 'ethnicity', 'smoking', 'season', 'period']]).toarray())\n",
    "    data_hosped_enc.columns = enc.get_feature_names(data_hosped[['age_cat', 'sex', 'CCI_cat', 'flu_vaccine', 'bmi_cat', 'region', 'imd', 'ethnicity', 'smoking', 'season', 'period']].columns)\n",
    "    data_hosped_enc = data_hosped[['antibacterial_brit']].join(data_hosped_enc)\n",
    "\n",
    "    #summary table for hosped cases\n",
    "    summary_table_hosped = data_hosped_enc.sum(axis=0).reset_index()\n",
    "    summary_table_hosped.columns = ['variable', 'count']\n",
    "    summary_table_hosped['mean'] = data_hosped_enc.mean(axis=0).reset_index()[0]\n",
    "    #round count to make last digit either 0 or 5\n",
    "    summary_table_hosped['count'] = round_five_mul(summary_table_hosped['count'], base=5)\n",
    "    summary_table_hosped['std'] = data_hosped_enc.std(axis=0).reset_index()[0]\n",
    "    #replace small counts (<=5) with 'SM'\n",
    "    summary_table_hosped.loc[(summary_table_hosped['count'] <= 5), 'count'] = 'SM'\n",
    "\n",
    "    #save table\n",
    "    summary_table_hosped.to_csv('../output/hospitalisation_prediction_'+infection+'/summary_table_'+infection+'_'+infection_type+'_cases.csv', index=False)"
   ]
  },
  {
   "cell_type": "code",
   "execution_count": 28,
   "metadata": {},
   "outputs": [],
   "source": [
    "#build cox models\n",
    "def cox_model_build(infection, infection_type, data): \n",
    "    #randomly splitting data into training (%75) and testing (%25)\n",
    "    data_train, data_test = train_test_split(data, test_size=0.25, random_state=42)\n",
    "\n",
    "    cph = CoxPHFitter()\n",
    "    cph.fit(data_train,\n",
    "            duration_col='duration_'+infection+'_admitted',\n",
    "            event_col='event_'+infection+'_admitted',\n",
    "            formula=\"age_cat + sex + CCI_cat + flu_vaccine + region + imd + ethnicity + smoking + season + bmi_cat + antibacterial_brit\")\n",
    "    cph.print_summary()\n",
    "\n",
    "    #save model output\n",
    "    output = GetPrintSummary(cph)\n",
    "    with open('../output/hospitalisation_prediction_'+infection+'/cph_'+infection+'_'+infection_type+'_summary.html', \"w\") as fo:\n",
    "        print(fo.write(output))\n",
    "        fo.close()\n",
    "\n",
    "    #calculate and save ci\n",
    "    ci = cph.concordance_index_\n",
    "    a = open('../output/hospitalisation_prediction_'+infection+'/'+infection+'_'+infection_type+'_ci.txt', \"w\")\n",
    "    a.write(\"\")\n",
    "    a.writelines(['Concordance index for '+infection+'_'+infection_type+' with development data: %.4f' % (ci)])\n",
    "\n",
    "    return cph, data_train, data_test"
   ]
  },
  {
   "cell_type": "code",
   "execution_count": 29,
   "metadata": {},
   "outputs": [],
   "source": [
    "#save coefficients (betas) and calculate sum of betas\n",
    "def cox_betas_sumbetas_calculate(cph, directory, betas_name, data_infection_enc, data_infection, sum_betas_name):\n",
    "    # cleaning up covariates to make them compatible with the encoded data\n",
    "    covariates = cph.params_.reset_index()#.hazard_ratios_\n",
    "    covariates.covariate = covariates.covariate.str.replace(\"[\",\"\")\n",
    "    covariates.covariate = covariates.covariate.str.replace(\"]\",\"\")\n",
    "    covariates.covariate = covariates.covariate.str.replace(\"T.\",\"_\")\n",
    "    #save coefficients\n",
    "    covariates.to_csv(directory+betas_name, index=False)\n",
    "\n",
    "    #save hazard ratios\n",
    "    covariates_betas = cph.hazard_ratios_.reset_index()\n",
    "    confidence_intervals = cph.confidence_intervals_.reset_index()\n",
    "    hrs = covariates_betas.merge(confidence_intervals, on='covariate', how='left')\n",
    "    hrs['95% lower-bound'] = np.exp(hrs['95% lower-bound'])\n",
    "    hrs['95% upper-bound'] = np.exp(hrs['95% upper-bound'])\n",
    "    hrs.covariate = hrs.covariate.str.replace(\"[\",\"\")\n",
    "    hrs.covariate = hrs.covariate.str.replace(\"]\",\"\")\n",
    "    hrs.covariate = hrs.covariate.str.replace(\"T.\",\"_\")\n",
    "    hrs.to_csv(directory+'hazard_ratios_'+betas_name, index=False)\n",
    "\n",
    "    #transpose and sort covariates and coefficients\n",
    "    covariatesT = covariates.T\n",
    "    header = covariatesT.iloc[0]\n",
    "    covariatesT = covariatesT[1:]\n",
    "    covariatesT.columns = header\n",
    "    covariatesT = covariatesT.sort_index(axis = 1) #sort covariates to match data\n",
    "\n",
    "    #further cleaning up covariates to make them compatible with the encoded data\n",
    "    covariates_list = [\"'\" + item + \"'\" for item in covariates.covariate] #adds single quotation mark\n",
    "    covariates_list = [value.replace(\"'\", \"\") for value in covariates_list] #removes double quotation mark \n",
    "\n",
    "    #match covariates_list (covariates of cox model) with encoded data\n",
    "    data = data_infection_enc[data_infection_enc.columns.intersection(covariates_list)] \n",
    "    data = data.sort_index(axis = 1) #sort \n",
    "\n",
    "    #multiply betas and encoded data\n",
    "    betas = data.multiply(np.array(covariatesT), axis='columns')\n",
    "\n",
    "    #sum up betas of each row to calculate sum of betas \n",
    "    sum_betas = betas.sum(axis=1)\n",
    "    \n",
    "    #predict cumulative hazard values at day 30 and match them with sum of betas\n",
    "    sum_betas_hazard = cph.predict_cumulative_hazard(data_infection).loc[[30]].T.reset_index(drop=True)\n",
    "    sum_betas_hazard['sum_betas'] = sum_betas\n",
    "\n",
    "    #drop rows with predicted risks greater than 99th percentile of all risks\n",
    "    sum_betas_hazard = sum_betas_hazard[sum_betas_hazard[30] <= sum_betas_hazard[30].quantile(0.99)]  \n",
    "\n",
    "    #sort values of sum of betas\n",
    "    sum_betas_hazard = sum_betas_hazard.sort_values(by=['sum_betas'])\n",
    "\n",
    "    # binning sum of betas into 100 bins\n",
    "    sum_betas_hazard['bins'] = pd.cut(sum_betas_hazard['sum_betas'], 100) #100 intervals between min and max of sum_betas\n",
    "\n",
    "    #calculate mean of cumulative hazar at day 30 by groupby \n",
    "    sum_betas_hazard_groupby = sum_betas_hazard.groupby(['bins'])[30.0].describe().reset_index()\n",
    "\n",
    "    #calculate interpolation of missing mean values \n",
    "    sum_betas_hazard_groupby['mean_interpolate'] = sum_betas_hazard_groupby['mean'].interpolate(method='linear')\n",
    "\n",
    "    #separate upper and lower boundries of bins\n",
    "    sum_betas_hazard_groupby['bin_lower'] = sum_betas_hazard_groupby['bins'].map(attrgetter('left'))\n",
    "    sum_betas_hazard_groupby['bin_upper'] = sum_betas_hazard_groupby['bins'].map(attrgetter('right'))\n",
    "\n",
    "    #select relevant columns including mean of cumulative hazard for each bin and the interpolation of means of cumulative hazard\n",
    "    sum_betas = sum_betas_hazard_groupby[['bin_lower', 'bin_upper', 'mean_interpolate']]\n",
    "\n",
    "    #save relevant columns of sum_betas\n",
    "    sum_betas.to_csv(directory+sum_betas_name, index=False)"
   ]
  },
  {
   "cell_type": "code",
   "execution_count": 30,
   "metadata": {},
   "outputs": [],
   "source": [
    "def cox_roc_curve(cph, event_col_name, data_train, data_test, directory, roc_name):\n",
    "    #analysis of discrimination (training) by calculating cumulative hazard at day 30 and comparing it with variable event  \n",
    "    cph_train_cumulative_hazard = cph.predict_cumulative_hazard(data_train)\n",
    "    cph_train_cumulative_hazard = cph_train_cumulative_hazard.loc[[30]].T\n",
    "    cph_train_cumulative_hazard[event_col_name] = data_train[event_col_name]\n",
    "    cph_train_cumulative_hazard = cph_train_cumulative_hazard.rename(columns={30: 'cumulative_hazard'}, inplace=False)\n",
    "\n",
    "    #analysis of discrimination (testing) by calculating cumulative hazard at day 30 and comparing it with variable event  \n",
    "    cph_test_cumulative_hazard = cph.predict_cumulative_hazard(data_test)\n",
    "    cph_test_cumulative_hazard = cph_test_cumulative_hazard.loc[[30]].T\n",
    "    cph_test_cumulative_hazard[event_col_name] = data_test[event_col_name]\n",
    "    cph_test_cumulative_hazard = cph_test_cumulative_hazard.rename(columns={30: 'cumulative_hazard'}, inplace=False)\n",
    "\n",
    "    #plot roc curves\n",
    "    r_fpr1, r_tpr1, _ = roc_curve(cph_train_cumulative_hazard[event_col_name], cph_train_cumulative_hazard.cumulative_hazard)\n",
    "    r_fpr2, r_tpr2, _ = roc_curve(cph_test_cumulative_hazard[event_col_name], cph_test_cumulative_hazard.cumulative_hazard)\n",
    "\n",
    "    fig, ax1 = pyplot.subplots(figsize=(7, 7))\n",
    "    line1, = plt.plot(r_fpr1, r_tpr1, linestyle='-', marker='o', markersize=6, markevery=0.1, color='black', label='Cox with development data')\n",
    "    line2, = plt.plot(r_fpr2, r_tpr2, linestyle='--', marker='v', markersize=6, markevery=0.1, color='red', label='Cox with validation data')\n",
    "\n",
    "    squares = [0,1.01]\n",
    "    plt.plot(squares,linewidth=1, color='grey')\n",
    "    plt.ylim(0,1.01)\n",
    "    plt.xlim(0,1)\n",
    "    plt.xlabel('Specificity', fontsize=14)\n",
    "    plt.ylabel('Sensitivity', fontsize=14)\n",
    "\n",
    "    #reversing xticks\n",
    "    xticks = [1.0, 0.8, 0.6, 0.4, 0.2, 0.0]\n",
    "    x = np.arange(len(xticks))\n",
    "    ax1.set(xticklabels=xticks)\n",
    "    ax1.legend(fontsize=14)\n",
    "    plt.xticks(fontsize=12)\n",
    "    plt.yticks(fontsize=12, rotation=0)\n",
    "    plt.savefig(directory+'/'+roc_name, bbox_inches='tight')\n",
    "    plt.show()"
   ]
  },
  {
   "cell_type": "code",
   "execution_count": 31,
   "metadata": {},
   "outputs": [],
   "source": [
    "#calculate and plot calibrations of cox models\n",
    "def cox_calibration(cph, data_train, event_name, data_test, directory, calib_name):\n",
    "    #predict cumulative hazard in day 30\n",
    "    prob_pred_true_train = cph.predict_cumulative_hazard(data_train).loc[[30]].T\n",
    "    prob_pred_true_train.columns = ['pred']\n",
    "\n",
    "    #group cumulative hazard into 10 bins with equal frequency of observations in each bin\n",
    "    prob_pred_true_train['bins'] = pd.qcut(prob_pred_true_train['pred'], 10)\n",
    "\n",
    "    #merge cumulative hazards with their actual events (0, 1)\n",
    "    prob_pred_true_train = pd.merge(prob_pred_true_train, data_train[event_name], left_index=True, right_index=True)\n",
    "\n",
    "    #groupby bins to find mean predicted probability for each bin (pred_mean), count of events in each bin (event_sum) and count of samples in each bin (event_count)\n",
    "    prob_pred_true_train_groupby_bin = prob_pred_true_train.groupby('bins')[['pred', event_name]].agg(['mean', 'sum', 'count']).reset_index()\n",
    "    prob_pred_true_train_groupby_bin.columns = ['bins', 'pred_mean', 'pred_sum', 'pred_count', 'event_mean', 'event_sum', 'event_count']\n",
    "\n",
    "    #calculate proportion of events in each bin\n",
    "    prob_pred_true_train_groupby_bin['event_proportion'] = prob_pred_true_train_groupby_bin['event_sum']/prob_pred_true_train_groupby_bin['event_count']\n",
    "\n",
    "    #predict cumulative hazard in day 30\n",
    "    prob_pred_true_test = cph.predict_cumulative_hazard(data_test).loc[[30]].T \n",
    "    prob_pred_true_test.columns = ['pred']\n",
    "\n",
    "    #group cumulative hazard into 10 bins with equal frequency of observations in each bin\n",
    "    prob_pred_true_test['bins'] = pd.qcut(prob_pred_true_test['pred'], 10)\n",
    "\n",
    "    #merge cumulative hazards with their actual events (0, 1)\n",
    "    prob_pred_true_test = pd.merge(prob_pred_true_test, data_test[event_name], left_index=True, right_index=True)\n",
    "\n",
    "    #groupby bins to find mean predicted probability for each bin (pred_mean), count of events in each bin (event_sum) and count of samples in each bin (event_count)\n",
    "    prob_pred_true_test_groupby_bin = prob_pred_true_test.groupby('bins')[['pred', event_name]].agg(['mean', 'sum', 'count']).reset_index()\n",
    "    prob_pred_true_test_groupby_bin.columns = ['bins', 'pred_mean', 'pred_sum', 'pred_count', 'event_mean', 'event_sum', 'event_count']\n",
    "\n",
    "    #calculate proportion of events in each bin\n",
    "    prob_pred_true_test_groupby_bin['event_proportion'] = prob_pred_true_test_groupby_bin['event_sum']/prob_pred_true_test_groupby_bin['event_count']\n",
    "\n",
    "    fig, ax1 = plt.subplots(figsize=(7, 7))\n",
    "    plt.plot(prob_pred_true_train_groupby_bin.pred_mean, prob_pred_true_train_groupby_bin.event_proportion, color='#6ce0c9', linestyle='solid', marker='o', alpha=0.9)#, marker='o', facecolors='none', edgecolors='g', alpha=0.6)\n",
    "    plt.plot(prob_pred_true_test_groupby_bin.pred_mean, prob_pred_true_test_groupby_bin.event_proportion, color='#eb91b7', linestyle='dashed', marker='v', alpha=0.9)\n",
    "    plt.xlabel('Mean predicted probabilities', fontsize=14)\n",
    "    plt.ylabel('Proportion of observed values', fontsize=14)\n",
    "    plt.xticks(fontsize=12)\n",
    "    plt.yticks(fontsize=12, rotation=0)\n",
    "    plt.xlim(0, max(prob_pred_true_train_groupby_bin.pred_mean.max(), prob_pred_true_train_groupby_bin.event_proportion.max(), max(prob_pred_true_test_groupby_bin.pred_mean.max(), prob_pred_true_test_groupby_bin.event_proportion.max()).round(decimals = 2) + (max(prob_pred_true_train_groupby_bin.pred_mean.max(), prob_pred_true_train_groupby_bin.event_proportion.max(), max(prob_pred_true_test_groupby_bin.pred_mean.max(), prob_pred_true_test_groupby_bin.event_proportion.max())).round(decimals = 2)/3)))\n",
    "    plt.ylim(0, max(prob_pred_true_train_groupby_bin.pred_mean.max(), prob_pred_true_train_groupby_bin.event_proportion.max(), max(prob_pred_true_test_groupby_bin.pred_mean.max(), prob_pred_true_test_groupby_bin.event_proportion.max()).round(decimals = 2) + (max(prob_pred_true_train_groupby_bin.pred_mean.max(), prob_pred_true_train_groupby_bin.event_proportion.max(), max(prob_pred_true_test_groupby_bin.pred_mean.max(), prob_pred_true_test_groupby_bin.event_proportion.max())).round(decimals = 2)/3)))\n",
    "    plt.plot([0, 1], [0, 1], linewidth=1, linestyle='-', color='grey')\n",
    "    legend_dev = mlines.Line2D([], [], color='#6ce0c9', linestyle='-', marker='o', markersize=10, label='Development data', alpha=.9)\n",
    "    legend_val = mlines.Line2D([], [], color='#eb91b7', linestyle='--', marker='v', markersize=10, label='Validation data', alpha=.9)\n",
    "    plt.legend(handles=[legend_dev, legend_val])#, title=\"infection\")\n",
    "    plt.savefig(directory+calib_name, bbox_inches='tight')\n",
    "    plt.show()"
   ]
  },
  {
   "cell_type": "code",
   "execution_count": 32,
   "metadata": {},
   "outputs": [],
   "source": [
    "#print outputs of cox models\n",
    "def cox_output(cph, infection, infection_type, data_train, data_test, event_name, duration_name, directory):\n",
    "    #calculate concordance index\n",
    "    concord_index_train = concordance_index(data_train[duration_name], -cph.predict_partial_hazard(data_train), data_train[event_name])\n",
    "    concord_index_test = concordance_index(data_test[duration_name], -cph.predict_partial_hazard(data_test), data_test[event_name])\n",
    "    \n",
    "    #save model outputs\n",
    "    a = open(directory+'cph_'+infection+'_'+infection_type+'_output.txt', \"w\")\n",
    "    a.write(\"\")\n",
    "    a.writelines(['Concordance index for '+infection+'_'+infection_type+' with development data: %.4f' % (concord_index_train), \n",
    "                '\\nConcordance index for '+infection+'_'+infection_type+' with validation data: %.4f' % (concord_index_test)])"
   ]
  },
  {
   "cell_type": "code",
   "execution_count": 33,
   "metadata": {},
   "outputs": [],
   "source": [
    "#build cox model with an additional binary variable for antibiotics\n",
    "def cox_model_abs_build(infection, infection_type, data):\n",
    "    #randomly splitting data into training (%75) and testing (%25)\n",
    "    data_train, data_test = train_test_split(data, test_size=0.25, random_state=42)\n",
    "\n",
    "    cph = CoxPHFitter()\n",
    "    cph.fit(data_train,\n",
    "            duration_col='duration_'+infection+'_admitted',\n",
    "            event_col='event_'+infection+'_admitted',\n",
    "            formula=\"age_cat + sex + CCI_cat + flu_vaccine + region + imd + ethnicity + smoking + season + bmi_cat + antibacterial_brit + ot_externa_ab_date\")\n",
    "    cph.print_summary()\n",
    "\n",
    "    #save model output\n",
    "    output = GetPrintSummary(cph)\n",
    "    with open('../output/hospitalisation_prediction_'+infection+'/cph_'+infection+'_'+infection_type+'_summary.html', \"w\") as fo:\n",
    "        print(fo.write(output))\n",
    "        fo.close()\n",
    "\n",
    "    #save hazard ratios\n",
    "    covariates_betas = cph.hazard_ratios_.reset_index()\n",
    "    confidence_intervals = cph.confidence_intervals_.reset_index()\n",
    "    hrs = covariates_betas.merge(confidence_intervals, on='covariate', how='left')\n",
    "    hrs['95% lower-bound'] = np.exp(hrs['95% lower-bound'])\n",
    "    hrs['95% upper-bound'] = np.exp(hrs['95% upper-bound'])\n",
    "    hrs.covariate = hrs.covariate.str.replace(\"[\",\"\")\n",
    "    hrs.covariate = hrs.covariate.str.replace(\"]\",\"\")\n",
    "    hrs.covariate = hrs.covariate.str.replace(\"T.\",\"_\")\n",
    "    hrs.to_csv('../output/hospitalisation_prediction_'+infection+'/cph_'+infection+'_'+infection_type+'_hrs.csv', index=False)\n",
    "\n",
    "    ##add deciles of predicted risks and probability of prescribed antibiotics \n",
    "    #predict cumulative hazard in day 30 in train dataset\n",
    "    prob_pred_train = cph.predict_cumulative_hazard(data_train).loc[[30]].T\n",
    "    prob_pred_train.columns = ['pred']\n",
    "    #group cumulative hazard into 10 bins with equal frequency of observations in each bin\n",
    "    prob_pred_train['bins'] = pd.qcut(prob_pred_train['pred'], 10)\n",
    "    #add a column for prescribed antibiotics\n",
    "    prob_pred_train = pd.merge(prob_pred_train, data_train[infection+'_ab_date'], left_index=True, right_index=True)\n",
    "    #groupby bins to find mean predicted probability for each bin (pred_mean) and mean probability of being prescribed antibiotics (ab_prob_mean)\n",
    "    prob_pred_groupby_bin_train = prob_pred_train.groupby('bins')[['pred', infection+'_ab_date']].agg(['mean', 'sum', 'count']).reset_index()\n",
    "    prob_pred_groupby_bin_train.columns = ['bins', 'pred_mean_train', 'pred_sum', 'pred_count', 'ab_prob_mean_train', 'ab_prob_sum', 'ab_prob_count']\n",
    "    prob_pred_groupby_bin = prob_pred_groupby_bin_train[['pred_mean_train', 'ab_prob_mean_train']]\n",
    "\n",
    "    #predict cumulative hazard in day 30 in test dataset\n",
    "    prob_pred_test = cph.predict_cumulative_hazard(data_test).loc[[30]].T\n",
    "    prob_pred_test.columns = ['pred']\n",
    "    #group cumulative hazard into 10 bins with equal frequency of observations in each bin\n",
    "    prob_pred_test['bins'] = pd.qcut(prob_pred_test['pred'], 10)\n",
    "    #add a column for prescribed antibiotics\n",
    "    prob_pred_test = pd.merge(prob_pred_test, data_test[infection+'_ab_date'], left_index=True, right_index=True)\n",
    "    #groupby bins to find mean predicted probability for each bin (pred_mean) and mean probability of being prescribed antibiotics (ab_prob_mean)\n",
    "    prob_pred_groupby_bin_test = prob_pred_test.groupby('bins')[['pred', infection+'_ab_date']].agg(['mean', 'sum', 'count']).reset_index()\n",
    "    prob_pred_groupby_bin_test.columns = ['bins', 'pred_mean_test', 'pred_sum', 'pred_count', 'ab_prob_mean_test', 'ab_prob_sum', 'ab_prob_count']\n",
    "    prob_pred_groupby_bin[['pred_mean_test', 'ab_prob_mean_test']] = prob_pred_groupby_bin_test[['pred_mean_test', 'ab_prob_mean_test']]\n",
    "\n",
    "    #save binned prob_pred, train and test combined\n",
    "    prob_pred_groupby_bin.to_csv('../output/hospitalisation_prediction_'+infection+'/prob_pred_groupby_bin_'+infection+'_'+infection_type+'.csv', index=False)\n",
    "\n",
    "    return cph, data_train, data_test"
   ]
  },
  {
   "cell_type": "code",
   "execution_count": 34,
   "metadata": {},
   "outputs": [],
   "source": [
    "#build cox model with an additional categorical variable for antibiotics\n",
    "def cox_model_ab_type_build(infection, infection_type, data): \n",
    "    #randomly splitting data into training (%75) and testing (%25)\n",
    "    data_train, data_test = train_test_split(data, test_size=0.25, random_state=42)\n",
    "\n",
    "    cph = CoxPHFitter()\n",
    "    cph.fit(data_train,\n",
    "            duration_col='duration_'+infection+'_admitted',\n",
    "            event_col='event_'+infection+'_admitted',\n",
    "            formula=\"age_cat + sex + CCI_cat + flu_vaccine + region + imd + ethnicity + smoking + season + bmi_cat + antibacterial_brit + ab_type_cat\")\n",
    "    cph.print_summary()\n",
    "\n",
    "    #save model output\n",
    "    output = GetPrintSummary(cph)\n",
    "    with open('../output/hospitalisation_prediction_'+infection+'/cph_'+infection+'_'+infection_type+'_summary.html', \"w\") as fo:\n",
    "        print(fo.write(output))\n",
    "        fo.close()\n",
    "\n",
    "    #save hazard ratios\n",
    "    covariates_betas = cph.hazard_ratios_.reset_index()\n",
    "    confidence_intervals = cph.confidence_intervals_.reset_index()\n",
    "    hrs = covariates_betas.merge(confidence_intervals, on='covariate', how='left')\n",
    "    hrs['95% lower-bound'] = np.exp(hrs['95% lower-bound'])\n",
    "    hrs['95% upper-bound'] = np.exp(hrs['95% upper-bound'])\n",
    "    hrs.covariate = hrs.covariate.str.replace(\"[\",\"\")\n",
    "    hrs.covariate = hrs.covariate.str.replace(\"]\",\"\")\n",
    "    hrs.covariate = hrs.covariate.str.replace(\"T.\",\"_\")\n",
    "    hrs.to_csv('../output/hospitalisation_prediction_'+infection+'/cph_'+infection+'_'+infection_type+'_hrs.csv', index=False)\n",
    "\n",
    "    return cph, data_train, data_test"
   ]
  },
  {
   "cell_type": "code",
   "execution_count": 35,
   "metadata": {},
   "outputs": [],
   "source": [
    "#build cox models stratified with sex categories \n",
    "def cox_model_strat_sex_build(infection, infection_type, data): \n",
    "    #randomly splitting data into training (%75) and testing (%25)\n",
    "    data_train, data_test = train_test_split(data, test_size=0.25, random_state=42)\n",
    "\n",
    "    cph = CoxPHFitter()\n",
    "    cph.fit(data_train,\n",
    "            duration_col='duration_'+infection+'_admitted',\n",
    "            event_col='event_'+infection+'_admitted',\n",
    "            formula=\"age_cat + CCI_cat + flu_vaccine + region + imd + ethnicity + smoking + season + bmi_cat + antibacterial_brit + ot_externa_ab_date\")\n",
    "    cph.print_summary()\n",
    "\n",
    "    #save model output\n",
    "    output = GetPrintSummary(cph)\n",
    "    with open('../output/hospitalisation_prediction_'+infection+'/cph_'+infection+'_'+infection_type+'_summary.html', \"w\") as fo:\n",
    "        print(fo.write(output))\n",
    "        fo.close()\n",
    "\n",
    "    #save hazard ratios\n",
    "    covariates_betas = cph.hazard_ratios_.reset_index()\n",
    "    confidence_intervals = cph.confidence_intervals_.reset_index()\n",
    "    hrs = covariates_betas.merge(confidence_intervals, on='covariate', how='left')\n",
    "    hrs['95% lower-bound'] = np.exp(hrs['95% lower-bound'])\n",
    "    hrs['95% upper-bound'] = np.exp(hrs['95% upper-bound'])\n",
    "    hrs.covariate = hrs.covariate.str.replace(\"[\",\"\")\n",
    "    hrs.covariate = hrs.covariate.str.replace(\"]\",\"\")\n",
    "    hrs.covariate = hrs.covariate.str.replace(\"T.\",\"_\")\n",
    "    hrs.to_csv('../output/hospitalisation_prediction_'+infection+'/cph_'+infection+'_'+infection_type+'_hrs.csv', index=False)\n",
    "\n",
    "    return cph, data_train, data_test"
   ]
  },
  {
   "cell_type": "code",
   "execution_count": 36,
   "metadata": {},
   "outputs": [],
   "source": [
    "#build cox models stratified with age categories\n",
    "def cox_model_strat_age_build(infection, infection_type, data): \n",
    "    #randomly splitting data into training (%75) and testing (%25)\n",
    "    data_train, data_test = train_test_split(data, test_size=0.25, random_state=42)\n",
    "\n",
    "    cph = CoxPHFitter()\n",
    "    cph.fit(data_train,\n",
    "            duration_col='duration_'+infection+'_admitted',\n",
    "            event_col='event_'+infection+'_admitted',\n",
    "            formula=\"sex + CCI_cat + flu_vaccine + region + imd + ethnicity + smoking + season + bmi_cat + antibacterial_brit + ot_externa_ab_date\")\n",
    "    cph.print_summary()\n",
    "\n",
    "    #save model output\n",
    "    output = GetPrintSummary(cph)\n",
    "    with open('../output/hospitalisation_prediction_'+infection+'/cph_'+infection+'_'+infection_type+'_summary.html', \"w\") as fo:\n",
    "        print(fo.write(output))\n",
    "        fo.close()\n",
    "\n",
    "    #save hazard ratios\n",
    "    covariates_betas = cph.hazard_ratios_.reset_index()\n",
    "    confidence_intervals = cph.confidence_intervals_.reset_index()\n",
    "    hrs = covariates_betas.merge(confidence_intervals, on='covariate', how='left')\n",
    "    hrs['95% lower-bound'] = np.exp(hrs['95% lower-bound'])\n",
    "    hrs['95% upper-bound'] = np.exp(hrs['95% upper-bound'])\n",
    "    hrs.covariate = hrs.covariate.str.replace(\"[\",\"\")\n",
    "    hrs.covariate = hrs.covariate.str.replace(\"]\",\"\")\n",
    "    hrs.covariate = hrs.covariate.str.replace(\"T.\",\"_\")\n",
    "    hrs.to_csv('../output/hospitalisation_prediction_'+infection+'/cph_'+infection+'_'+infection_type+'_hrs.csv', index=False)\n",
    "\n",
    "    return cph, data_train, data_test"
   ]
  },
  {
   "cell_type": "code",
   "execution_count": 37,
   "metadata": {},
   "outputs": [],
   "source": [
    "#build cox models stratified with time period categories \n",
    "def cox_model_strat_period_build(infection, infection_type, data):\n",
    "    #randomly splitting data into training (%75) and testing (%25)\n",
    "    data_train, data_test = train_test_split(data, test_size=0.25, random_state=42)\n",
    "\n",
    "    cph = CoxPHFitter()\n",
    "    cph.fit(data_train,\n",
    "            duration_col='duration_'+infection+'_admitted',\n",
    "            event_col='event_'+infection+'_admitted',\n",
    "            formula=\"age_cat + sex + CCI_cat + flu_vaccine + region + imd + ethnicity + smoking + season + bmi_cat + antibacterial_brit + ot_externa_ab_date\")\n",
    "    cph.print_summary()\n",
    "\n",
    "    #save model output\n",
    "    output = GetPrintSummary(cph)\n",
    "    with open('../output/hospitalisation_prediction_'+infection+'/cph_'+infection+'_'+infection_type+'_summary.html', \"w\") as fo:\n",
    "        print(fo.write(output))\n",
    "        fo.close()\n",
    "\n",
    "    #save hazard ratios\n",
    "    covariates_betas = cph.hazard_ratios_.reset_index()\n",
    "    confidence_intervals = cph.confidence_intervals_.reset_index()\n",
    "    hrs = covariates_betas.merge(confidence_intervals, on='covariate', how='left')\n",
    "    hrs['95% lower-bound'] = np.exp(hrs['95% lower-bound'])\n",
    "    hrs['95% upper-bound'] = np.exp(hrs['95% upper-bound'])\n",
    "    hrs.covariate = hrs.covariate.str.replace(\"[\",\"\")\n",
    "    hrs.covariate = hrs.covariate.str.replace(\"]\",\"\")\n",
    "    hrs.covariate = hrs.covariate.str.replace(\"T.\",\"_\")\n",
    "    hrs.to_csv('../output/hospitalisation_prediction_'+infection+'/cph_'+infection+'_'+infection_type+'_hrs.csv', index=False)\n",
    "\n",
    "    return cph, data_train, data_test"
   ]
  },
  {
   "attachments": {},
   "cell_type": "markdown",
   "metadata": {},
   "source": [
    "## 1- data preparation"
   ]
  },
  {
   "cell_type": "code",
   "execution_count": 38,
   "metadata": {},
   "outputs": [],
   "source": [
    "#read data\n",
    "data = pd.read_csv(f'../output/hospitalisation_data/input_hospitalisation_ot_externa.csv.gz')"
   ]
  },
  {
   "cell_type": "code",
   "execution_count": 39,
   "metadata": {},
   "outputs": [],
   "source": [
    "#calculate Chalrson comorbidity index (CCI)\n",
    "data['CCI'] = np.nan\n",
    "\n",
    "for idx, x in enumerate(data['CCI']):\n",
    "    n=0\n",
    "    if data.iat[idx, data.columns.get_loc('mi_comor')] == 1: \n",
    "        n=n+1\n",
    "    if data.iat[idx, data.columns.get_loc('cardiovascular_comor')] == 1: \n",
    "        n=n+1 \n",
    "    if data.iat[idx, data.columns.get_loc('peripheral_vascular_comor')] == 1: \n",
    "        n=n+1 \n",
    "    if data.iat[idx, data.columns.get_loc('chronic_obstructive_pulmonary_comor')] == 1: \n",
    "        n=n+1\n",
    "    if data.iat[idx, data.columns.get_loc('diabetes_comor')] == 1: \n",
    "        n=n+1\n",
    "    if data.iat[idx, data.columns.get_loc('dementia_comor')] == 1: \n",
    "        n=n+1\n",
    "    if data.iat[idx, data.columns.get_loc('peptic_ulcer_comor')] == 1:\n",
    "        n=n+1\n",
    "    if data.iat[idx, data.columns.get_loc('connective_tissue_comor')] == 1:\n",
    "        n=n+1\n",
    "    if data.iat[idx, data.columns.get_loc('mild_liver_comor')] == 1: \n",
    "        n=n+1\n",
    "    if data.iat[idx, data.columns.get_loc('heart_failure_comor')] == 1: \n",
    "        n=n+1\n",
    "    if data.iat[idx, data.columns.get_loc('hemiplegia_comor')] == 1: \n",
    "        n=n+2\n",
    "    if data.iat[idx, data.columns.get_loc('mod_severe_renal_comor')] == 1:\n",
    "        n=n+2\n",
    "    if data.iat[idx, data.columns.get_loc('diabetes_complications_comor')] == 1:\n",
    "        n=n+2\n",
    "    if data.iat[idx, data.columns.get_loc('cancer_comor')] == 1:\n",
    "        n=n+2\n",
    "    if data.iat[idx, data.columns.get_loc('mod_severe_liver_comor')] == 1:\n",
    "        n=n+3\n",
    "    if data.iat[idx, data.columns.get_loc('metastatic_cancer_comor')] == 1:\n",
    "        n=n+6\n",
    "    if data.iat[idx, data.columns.get_loc('hiv_comor')] == 1:\n",
    "        n=n+6\n",
    "    \n",
    "    data.iat[idx, data.columns.get_loc('CCI')]=n"
   ]
  },
  {
   "attachments": {},
   "cell_type": "markdown",
   "metadata": {},
   "source": [
    "## 2- data preparation\n",
    "\n",
    "### 2-1- gathering data"
   ]
  },
  {
   "cell_type": "code",
   "execution_count": 40,
   "metadata": {},
   "outputs": [],
   "source": [
    "#process 20 ot_externas and concatenate them \n",
    "data_ot_externa_1 = proc_infec_data(data,1)\n",
    "data_ot_externa_2 = proc_infec_data(data,2)\n",
    "data_ot_externa_3 = proc_infec_data(data,3)\n",
    "data_ot_externa_4 = proc_infec_data(data,4)\n",
    "data_ot_externa_5 = proc_infec_data(data,5)\n",
    "data_ot_externa_6 = proc_infec_data(data,6)\n",
    "data_ot_externa_7 = proc_infec_data(data,7)\n",
    "data_ot_externa_8 = proc_infec_data(data,8)\n",
    "data_ot_externa_9 = proc_infec_data(data,9)\n",
    "data_ot_externa_10 = proc_infec_data(data,10)\n",
    "data_ot_externa_11 = proc_infec_data(data,11)\n",
    "data_ot_externa_12 = proc_infec_data(data,12)\n",
    "data_ot_externa_13 = proc_infec_data(data,13)\n",
    "data_ot_externa_14 = proc_infec_data(data,14)\n",
    "data_ot_externa_15 = proc_infec_data(data,15)\n",
    "data_ot_externa_16 = proc_infec_data(data,16)\n",
    "data_ot_externa_17 = proc_infec_data(data,17)\n",
    "data_ot_externa_18 = proc_infec_data(data,18)\n",
    "data_ot_externa_19 = proc_infec_data(data,19)\n",
    "data_ot_externa_20 = proc_infec_data(data,20)\n",
    "\n",
    "data_ot_externa = pd.concat([data_ot_externa_1, data_ot_externa_2, data_ot_externa_3, data_ot_externa_4, data_ot_externa_5, data_ot_externa_6, data_ot_externa_7, data_ot_externa_8, data_ot_externa_9, data_ot_externa_10, data_ot_externa_11, data_ot_externa_12, data_ot_externa_13, data_ot_externa_14, data_ot_externa_15, data_ot_externa_16, data_ot_externa_17, data_ot_externa_18, data_ot_externa_19, data_ot_externa_20])\n",
    "data_ot_externa.reset_index(inplace=True, drop=True)"
   ]
  },
  {
   "attachments": {},
   "cell_type": "markdown",
   "metadata": {},
   "source": [
    "### 2-2- add season, event, and duration variables"
   ]
  },
  {
   "cell_type": "code",
   "execution_count": 41,
   "metadata": {},
   "outputs": [],
   "source": [
    "##add variable season\n",
    "#convert data types\n",
    "data_ot_externa['ot_externa_date'] = data_ot_externa['ot_externa_date'].astype('datetime64[ns]')\n",
    "data_ot_externa['admitted_ot_externa_date'] = data_ot_externa['admitted_ot_externa_date'].astype('datetime64[ns]')\n",
    "data_ot_externa.died_date = data_ot_externa.died_date.astype('datetime64[ns]')\n",
    "data_ot_externa.deregistered_date = data_ot_externa.deregistered_date.astype('datetime64[ns]')\n",
    "\n",
    "#add a variable called date using gp consultation dates\n",
    "data_ot_externa['date'] = data_ot_externa['ot_externa_date'] \n",
    "data_ot_externa['date'] = data_ot_externa['date'].dt.strftime('%Y-%m')\n",
    "\n",
    "#get today's date in year and month\n",
    "today_date_y_m = date.today()\n",
    "today_date_y_m = today_date_y_m.strftime('%Y-%m')\n",
    "\n",
    "#drop any records of data_ot_externa with today's date in year and month\n",
    "data_ot_externa = data_ot_externa[data_ot_externa['date'] != today_date_y_m]\n",
    "\n",
    "#get two months before today's date in year and month \n",
    "last_1_month_date_y_m = date.today() - pd.DateOffset(months=1)\n",
    "last_1_month_date_y_m = last_1_month_date_y_m.strftime('%Y-%m')\n",
    "last_2_month_date_y_m = date.today() - pd.DateOffset(months=2)\n",
    "last_2_month_date_y_m = last_2_month_date_y_m.strftime('%Y-%m')\n",
    "#drop any record of data with two month before today's date in year and month\n",
    "data_ot_externa = data_ot_externa[data_ot_externa['date'] != last_1_month_date_y_m]\n",
    "data_ot_externa = data_ot_externa[data_ot_externa['date'] != last_2_month_date_y_m]\n",
    "\n",
    "#add a variable called season based on the month of ot_externa records\n",
    "data_ot_externa['season'] = np.nan\n",
    "data_ot_externa['date_month'] = pd.DatetimeIndex(data_ot_externa['date']).month\n",
    "\n",
    "conditions = [\n",
    "    (data_ot_externa['date_month'] >= 3) & (data_ot_externa['date_month'] <= 5),\n",
    "    (data_ot_externa['date_month'] >= 6) & (data_ot_externa['date_month'] <= 8),\n",
    "    (data_ot_externa['date_month'] >= 9) & (data_ot_externa['date_month'] <= 11),]\n",
    "choices = ['spring', 'summer', 'autumn']\n",
    "data_ot_externa['season'] = np.select(conditions, choices, default='winter')"
   ]
  },
  {
   "cell_type": "code",
   "execution_count": 42,
   "metadata": {},
   "outputs": [],
   "source": [
    "#add variable time period\n",
    "data_ot_externa.loc[(data_ot_externa['date'] <= '2019-12'), 'period'] = 'prepandemic'\n",
    "data_ot_externa.loc[((data_ot_externa['date'] >= '2020-01') & (data_ot_externa['date'] <= '2021-03')), 'period'] = 'during_pandemic'\n",
    "data_ot_externa.loc[(data_ot_externa['date'] >= '2021-04'), 'period'] = 'post_2nd_lockdown'"
   ]
  },
  {
   "cell_type": "code",
   "execution_count": 43,
   "metadata": {},
   "outputs": [
    {
     "data": {
      "text/plain": [
       "'2023-02'"
      ]
     },
     "execution_count": 43,
     "metadata": {},
     "output_type": "execute_result"
    }
   ],
   "source": [
    "data_ot_externa['date'].max()"
   ]
  },
  {
   "attachments": {},
   "cell_type": "markdown",
   "metadata": {},
   "source": [
    "#### event and duration"
   ]
  },
  {
   "cell_type": "code",
   "execution_count": 44,
   "metadata": {},
   "outputs": [],
   "source": [
    "#scenario 1\n",
    "#not hosped (nothing happened)\n",
    "data_ot_externa.loc[data_ot_externa['admitted_ot_externa_date'].isnull(), 'event_ot_externa_admitted'] = 0"
   ]
  },
  {
   "cell_type": "code",
   "execution_count": 45,
   "metadata": {},
   "outputs": [],
   "source": [
    "#scenario 2 \n",
    "#become a case (uncensoring)\n",
    "#calculating days between infection gp consultation and hosp\n",
    "data_ot_externa['delta_ot_externa_admitted'] = (data_ot_externa['admitted_ot_externa_date'] - data_ot_externa['ot_externa_date']).dt.days\n",
    "data_ot_externa.loc[((data_ot_externa['delta_ot_externa_admitted'] >= 0) & (data_ot_externa['delta_ot_externa_admitted'] <= 30)), 'event_ot_externa_admitted'] = 1\n",
    "\n",
    "#scenario 2\n",
    "#drop whoever was admitted before ot_externa consultation, i.e. negative value for delta_ot_externa_admitted\n",
    "data_ot_externa = data_ot_externa[~(data_ot_externa['delta_ot_externa_admitted'] < 0)]"
   ]
  },
  {
   "cell_type": "code",
   "execution_count": 46,
   "metadata": {},
   "outputs": [],
   "source": [
    "#scenario 3\n",
    "#censor died patients\n",
    "data_ot_externa['delta_admitted_died'] = (data_ot_externa['died_date'] - data_ot_externa['admitted_ot_externa_date']).dt.days\n",
    "data_ot_externa.loc[data_ot_externa['delta_admitted_died'] < 0, 'delta_admitted_died'] = np.NaN\n",
    "data_ot_externa.loc[((data_ot_externa['delta_admitted_died'] >= 0) & (data_ot_externa['delta_admitted_died'] <= 30)), 'event_ot_externa_admitted'] = 0\n",
    "\n",
    "#scenario 3\n",
    "#censor deregistered patients\n",
    "data_ot_externa['delta_admitted_deregistered'] = (data_ot_externa['deregistered_date'] - data_ot_externa['admitted_ot_externa_date']).dt.days\n",
    "data_ot_externa.loc[data_ot_externa['delta_admitted_deregistered'] < 0, 'delta_admitted_deregistered'] = np.NaN\n",
    "data_ot_externa.loc[((data_ot_externa['delta_admitted_deregistered'] > 0) & (data_ot_externa['delta_admitted_deregistered'] <= 30)), 'event_ot_externa_admitted'] = 0\n",
    "\n",
    "#agg scenario 3s\n",
    "data_ot_externa['delta_admitted_died_deregistered'] = data_ot_externa['delta_admitted_deregistered'].combine_first(data_ot_externa['delta_admitted_died'])\n",
    "data_ot_externa.loc[data_ot_externa['delta_admitted_died_deregistered'] < 0, 'delta_admitted_died_deregistered'] = np.NaN"
   ]
  },
  {
   "cell_type": "code",
   "execution_count": 47,
   "metadata": {},
   "outputs": [],
   "source": [
    "#scenario 1\n",
    "#any other patients (nothing happened)\n",
    "data_ot_externa['event_ot_externa_admitted'] = data_ot_externa['event_ot_externa_admitted'].replace(np.NaN, 0)\n",
    "\n",
    "#assign values for duration column\n",
    "data_ot_externa['duration_ot_externa_admitted'] = data_ot_externa['delta_ot_externa_admitted'].combine_first(data_ot_externa['delta_admitted_died_deregistered'])\n",
    "data_ot_externa['duration_ot_externa_admitted'] = data_ot_externa['duration_ot_externa_admitted'].replace(np.NaN, 30)\n",
    "data_ot_externa.loc[(data_ot_externa['duration_ot_externa_admitted'] > 30), 'duration_ot_externa_admitted'] = 30\n",
    "\n",
    "#give value 1 to event_ot_externa_admitted if duration_ot_externa_admitted is greater or equal to 0 and less than 30\n",
    "data_ot_externa.loc[((data_ot_externa['duration_ot_externa_admitted'] >= 0) & (data_ot_externa['duration_ot_externa_admitted'] < 30)), 'event_ot_externa_admitted'] = 1\n",
    "\n",
    "#drop any rows with value 0 in duration column\n",
    "data_ot_externa = data_ot_externa[~(data_ot_externa['duration_ot_externa_admitted'] == 0)]"
   ]
  },
  {
   "cell_type": "code",
   "execution_count": 48,
   "metadata": {},
   "outputs": [],
   "source": [
    "#scenario2 (uncensoring) again to prevent conflict with other scenarios\n",
    "data_ot_externa.loc[((data_ot_externa['delta_ot_externa_admitted'] > 0) & (data_ot_externa['delta_ot_externa_admitted'] < 30)), 'event_ot_externa_admitted'] = 1"
   ]
  },
  {
   "attachments": {},
   "cell_type": "markdown",
   "metadata": {},
   "source": [
    "### 2-3- dealing with uninteresting and missing values"
   ]
  },
  {
   "cell_type": "code",
   "execution_count": 49,
   "metadata": {},
   "outputs": [],
   "source": [
    "#drop anybody with age less than 18 or 0!\n",
    "data_ot_externa = data_ot_externa[~(data_ot_externa['age'] < 18)] \n",
    "data_ot_externa['age'][data_ot_externa['age'] < 0] = np.nan\n",
    "#drop age_cat 0-4 and 5-14\n",
    "data_ot_externa = data_ot_externa[data_ot_externa['age_cat'] != '0-4']\n",
    "data_ot_externa = data_ot_externa[data_ot_externa['age_cat'] != '5-14'] \n",
    "#assign 0 (missingness) to all bmi values less than 10\n",
    "data_ot_externa['bmi'][data_ot_externa['bmi'] < 10] = 0\n",
    "#replace 0s in bmi with nans\n",
    "data_ot_externa['bmi'] = data_ot_externa['bmi'].replace({0:np.nan})\n",
    "#replace negatives in antibacterial_brit with nans\n",
    "data_ot_externa['antibacterial_brit'][data_ot_externa['antibacterial_brit'] < 0] = np.nan"
   ]
  },
  {
   "cell_type": "code",
   "execution_count": 50,
   "metadata": {},
   "outputs": [],
   "source": [
    "#replace strings with numerics\n",
    "dict_sex = {'F': 0, 'M': 1}\n",
    "dict_smoking = {'S': 1, 'E': 2, 'N':3, 'M':np.nan}\n",
    "\n",
    "data_ot_externa = data_ot_externa.replace({\"sex\": dict_sex})\n",
    "data_ot_externa = data_ot_externa.replace({\"smoking\": dict_smoking})"
   ]
  },
  {
   "cell_type": "code",
   "execution_count": 51,
   "metadata": {},
   "outputs": [],
   "source": [
    "#drop rows with missing region\n",
    "if ('region' in data_ot_externa.columns) and (data_ot_externa['region'].isnull().sum() > 0):\n",
    "   data_ot_externa = data_ot_externa[data_ot_externa['region'].notna()]\n",
    "\n",
    "#replace rows with missing antibiotics with 0\n",
    "if ('antibacterial_brit' in data_ot_externa.columns) and (data_ot_externa['antibacterial_brit'].isnull().sum() > 0):\n",
    "    data_ot_externa['antibacterial_brit'] = data_ot_externa['antibacterial_brit'].fillna(0)\n",
    "\n",
    "#replace rows with missing ethnicity with 0\n",
    "if ('ethnicity' in data_ot_externa.columns) and (data_ot_externa['ethnicity'].isnull().sum() > 0):\n",
    "    data_ot_externa['ethnicity'] = data_ot_externa['ethnicity'].fillna(0)\n",
    "\n",
    "#replace rows with missing smoking with 0\n",
    "if ('smoking' in data_ot_externa.columns) and (data_ot_externa['smoking'].isnull().sum() > 0):\n",
    "    data_ot_externa['smoking'] = data_ot_externa['smoking'].fillna(0)\n",
    "\n",
    "#replace rows with missing imd with 0\n",
    "if ('imd' in data_ot_externa.columns) and (data_ot_externa['imd'].isnull().sum() > 0):\n",
    "    data_ot_externa['imd'] = data_ot_externa['imd'].fillna(0)"
   ]
  },
  {
   "cell_type": "code",
   "execution_count": 52,
   "metadata": {},
   "outputs": [],
   "source": [
    "#missing values of bmi assign 5 and 0; categorise bmi\n",
    "data_ot_externa['bmi_cat'] = 5\n",
    "\n",
    "for idx, x in enumerate(data_ot_externa['bmi_cat']):\n",
    "    if data_ot_externa.iat[idx, data_ot_externa.columns.get_loc('bmi')] >= 30:\n",
    "        data_ot_externa.iat[idx, data_ot_externa.columns.get_loc('bmi_cat')] = 1 #'Obese'\n",
    "    if (data_ot_externa.iat[idx, data_ot_externa.columns.get_loc('bmi')] >= 25) and (data_ot_externa.iat[idx, data_ot_externa.columns.get_loc('bmi')] < 30):\n",
    "        data_ot_externa.iat[idx, data_ot_externa.columns.get_loc('bmi_cat')] = 2 #'Overweight'\n",
    "    if (data_ot_externa.iat[idx, data_ot_externa.columns.get_loc('bmi')] >= 18.5) and (data_ot_externa.iat[idx, data_ot_externa.columns.get_loc('bmi')] < 25):\n",
    "        data_ot_externa.iat[idx, data_ot_externa.columns.get_loc('bmi_cat')] = 3 #'Healthy weight'\n",
    "    if data_ot_externa.iat[idx, data_ot_externa.columns.get_loc('bmi')] < 18.5:\n",
    "        data_ot_externa.iat[idx, data_ot_externa.columns.get_loc('bmi_cat')] = 4 #'Underweight'\n",
    "\n",
    "if ('bmi_cat' in data_ot_externa.columns) and (data_ot_externa['bmi_cat'].isnull().sum() > 0):\n",
    "    data_ot_externa['bmi_cat'] = data_ot_externa['bmi_cat'].fillna(0)"
   ]
  },
  {
   "cell_type": "code",
   "execution_count": 53,
   "metadata": {},
   "outputs": [],
   "source": [
    "##add variable ab_type_cat and assign 0 to its missings\n",
    "#find ab types\n",
    "ab_series = pd.value_counts(data_ot_externa.ab_type)\n",
    "#take percentages of ab categories\n",
    "ab_category_perc = ab_series/ab_series.sum() * 100\n",
    "#take first 2 categories of abs\n",
    "mask = (ab_category_perc).lt(ab_category_perc[1])\n",
    "#replace category other with categories with 4th percentage or more (less frequent abs)\n",
    "data_ot_externa['ab_type_cat'] = np.where(data_ot_externa['ab_type'].isin(ab_series[mask].index),'other',data_ot_externa['ab_type'])\n",
    "#assign no to non ab users\n",
    "data_ot_externa.loc[data_ot_externa['ot_externa_ab_date'].isnull(), 'ab_type_cat'] = 'no'\n",
    "#fill nas with 0 and then assign other to 0s\n",
    "data_ot_externa['ab_type_cat'] = data_ot_externa['ab_type_cat'].fillna(0)"
   ]
  },
  {
   "attachments": {},
   "cell_type": "markdown",
   "metadata": {},
   "source": [
    "### 2-4- translate values of categorical variables"
   ]
  },
  {
   "cell_type": "code",
   "execution_count": 54,
   "metadata": {},
   "outputs": [],
   "source": [
    "#define dictionaries\n",
    "dict_sex = {0: 'female', 1: 'male'}\n",
    "dict_ethnicity = {1.0: 'white', 2.0: 'mixed', 3.0: 'asian', 4.0: 'black', 5.0: 'other', 0: 'unknown'}\n",
    "dict_smoking = {1.0:'smoker', 2.0:'ex_smoker', 3.0:'never_smoked', 0: 'unknown'}\n",
    "dict_imd = {1:'very_affluent', 2:'affluent', 3:'medium', 4:'unaffluent', 5:'very_unaffluent', 0:'unknown'}\n",
    "dict_bmi = {1:'obese', 2:'overweight', 3:'healthy_weight', 4:'underweight', 5:'unknown', 0:'unknown'}\n",
    "dict_flu = {0: 'no', 1: 'yes'}\n",
    "dict_region = {'London': 'london', 'North East': 'north_east', 'North West': 'north_west', 'East': 'east', 'West Midlands': 'west_midlands', 'Yorkshire and The Humber': 'yorkshire', 'South East': 'south_east', 'East Midlands': 'east_midlands', 'South West': 'south_west'}\n",
    "dict_age = {'0-4':'0_4', '5-14':'5_14', '15-24':'15_24', '25-34':'25_34', '35-44':'35_44', '45-54':'45_54', '55-64':'55_64', '65-74':'65_74', '75+':'75_more'}\n",
    "dict_ab_type = {0:'other'}\n",
    "\n",
    "#reoplace values of dictionaries with existing ones\n",
    "data_ot_externa = data_ot_externa.replace({\"sex\": dict_sex})\n",
    "data_ot_externa = data_ot_externa.replace({\"ethnicity\": dict_ethnicity})\n",
    "data_ot_externa = data_ot_externa.replace({\"smoking\": dict_smoking})\n",
    "data_ot_externa = data_ot_externa.replace({\"imd\": dict_imd})\n",
    "data_ot_externa = data_ot_externa.replace({\"bmi_cat\": dict_bmi})\n",
    "data_ot_externa = data_ot_externa.replace({\"flu_vaccine\": dict_flu})\n",
    "data_ot_externa = data_ot_externa.replace({\"region\": dict_region})\n",
    "data_ot_externa = data_ot_externa.replace({\"age_cat\": dict_age})\n",
    "data_ot_externa = data_ot_externa.replace({\"ab_type_cat\": dict_ab_type})"
   ]
  },
  {
   "cell_type": "code",
   "execution_count": 55,
   "metadata": {},
   "outputs": [
    {
     "data": {
      "text/plain": [
       "white      0.599140\n",
       "unknown    0.248455\n",
       "other      0.076901\n",
       "asian      0.075504\n",
       "Name: ethnicity, dtype: float64"
      ]
     },
     "execution_count": 55,
     "metadata": {},
     "output_type": "execute_result"
    }
   ],
   "source": [
    "data_ot_externa.ethnicity.value_counts('NA')"
   ]
  },
  {
   "cell_type": "code",
   "execution_count": 56,
   "metadata": {},
   "outputs": [
    {
     "data": {
      "text/plain": [
       "unknown         0.413998\n",
       "smoker          0.391445\n",
       "never_smoked    0.130637\n",
       "ex_smoker       0.063919\n",
       "Name: smoking, dtype: float64"
      ]
     },
     "execution_count": 56,
     "metadata": {},
     "output_type": "execute_result"
    }
   ],
   "source": [
    "data_ot_externa.smoking.value_counts('NA')"
   ]
  },
  {
   "cell_type": "code",
   "execution_count": 57,
   "metadata": {},
   "outputs": [
    {
     "data": {
      "text/plain": [
       "obese             0.519278\n",
       "unknown           0.255992\n",
       "overweight        0.112373\n",
       "healthy_weight    0.080736\n",
       "underweight       0.031620\n",
       "Name: bmi_cat, dtype: float64"
      ]
     },
     "execution_count": 57,
     "metadata": {},
     "output_type": "execute_result"
    }
   ],
   "source": [
    "data_ot_externa.bmi_cat.value_counts('NA')"
   ]
  },
  {
   "attachments": {},
   "cell_type": "markdown",
   "metadata": {},
   "source": [
    "### 2-5- categorising and assigning max value for continuous variables"
   ]
  },
  {
   "cell_type": "code",
   "execution_count": 58,
   "metadata": {},
   "outputs": [],
   "source": [
    "#categorise CCI\n",
    "data_ot_externa['CCI_cat'] = pd.cut(data_ot_externa['CCI'], right=False, bins=[0,1,3,5,7,35], labels=['very_low', 'low', 'medium', 'high', 'very_high'])\n",
    "\n",
    "#assign max value to outliers (beyond 95 percentile)\n",
    "data_ot_externa['antibacterial_brit'].clip(0, data_ot_externa['antibacterial_brit'].quantile(0.95), inplace=True)"
   ]
  },
  {
   "attachments": {},
   "cell_type": "markdown",
   "metadata": {},
   "source": [
    "## 3- plots"
   ]
  },
  {
   "cell_type": "code",
   "execution_count": 59,
   "metadata": {},
   "outputs": [
    {
     "data": {
      "image/png": "[encoded data removed]",
      "text/plain": [
       "<Figure size 504x360 with 2 Axes>"
      ]
     },
     "metadata": {
      "needs_background": "light"
     },
     "output_type": "display_data"
    }
   ],
   "source": [
    "fig, ax = plt.subplots(figsize=(7, 5))\n",
    "sns.heatmap(data_ot_externa[['age', 'bmi', 'CCI', 'antibacterial_brit']].corr(), \n",
    "            annot=True, fmt=\".2f\", annot_kws={\"size\":12},\n",
    "            vmin=-1.0, vmax=1.0)\n",
    "\n",
    "ax.set_xticklabels(['Age', 'BMI', 'CCI', 'Antibacterial prescriptions'], rotation=90, fontsize=9)\n",
    "ax.set_yticklabels(['Age', 'BMI', 'CCI', 'Antibacterial prescriptions',], rotation=0, fontsize=9)                        \n",
    "plt.tight_layout()\n",
    "plt.savefig('../output/hospitalisation_prediction_ot_externa/corr_ot_externa.jpg')\n",
    "plt.show()"
   ]
  },
  {
   "attachments": {},
   "cell_type": "markdown",
   "metadata": {},
   "source": [
    "## 4- separate data of incident/prevalent and with/without antibiotics and stratified sub-datasets"
   ]
  },
  {
   "cell_type": "code",
   "execution_count": 60,
   "metadata": {},
   "outputs": [],
   "source": [
    "data_ot_externa = data_ot_externa[['age_cat', 'sex', 'CCI_cat', 'flu_vaccine', 'bmi_cat', 'region', 'imd', 'ethnicity', 'smoking', 'season', \n",
    "                                   'antibacterial_brit', 'ot_externa_ab_date', 'ab_type_cat', 'incdt_ot_externa_date', 'date', 'period',\n",
    "                                   'event_ot_externa_admitted', 'duration_ot_externa_admitted'\n",
    "                                    ]]"
   ]
  },
  {
   "cell_type": "code",
   "execution_count": 61,
   "metadata": {},
   "outputs": [],
   "source": [
    "#incident and prevalent infection \n",
    "data_ot_externa_incdt = data_ot_externa[data_ot_externa['incdt_ot_externa_date'] == 0]\n",
    "data_ot_externa_prevl = data_ot_externa[data_ot_externa['incdt_ot_externa_date'] == 1]\n",
    "#switch variable ot_externa_ab_date into a binary variable\n",
    "data_ot_externa_incdt[['ot_externa_ab_date']] = data_ot_externa_incdt[['ot_externa_ab_date']].where(data_ot_externa_incdt[['ot_externa_ab_date']].isnull(), 1).fillna(0).astype(int)\n",
    "data_ot_externa_prevl[['ot_externa_ab_date']] = data_ot_externa_prevl[['ot_externa_ab_date']].where(data_ot_externa_prevl[['ot_externa_ab_date']].isnull(), 1).fillna(0).astype(int)\n",
    "\n",
    "# #incident and prevalent infection stratified by sex categories\n",
    "# data_ot_externa_incdt_males = data_ot_externa_incdt[data_ot_externa_incdt['sex'] == 'male']\n",
    "# data_ot_externa_incdt_females = data_ot_externa_incdt[data_ot_externa_incdt['sex'] == 'female']\n",
    "# data_ot_externa_prevl_males = data_ot_externa_prevl[data_ot_externa_prevl['sex'] == 'male']\n",
    "# data_ot_externa_prevl_females = data_ot_externa_prevl[data_ot_externa_prevl['sex'] == 'female']\n",
    "\n",
    "# #incident and prevalent infection stratified by age categories\n",
    "# data_ot_externa_incdt_15_24 = data_ot_externa_incdt[data_ot_externa_incdt['age_cat'] == '15_24']\n",
    "# data_ot_externa_incdt_25_34 = data_ot_externa_incdt[data_ot_externa_incdt['age_cat'] == '25_34']\n",
    "# data_ot_externa_incdt_35_44 = data_ot_externa_incdt[data_ot_externa_incdt['age_cat'] == '35_44']\n",
    "# data_ot_externa_incdt_45_54 = data_ot_externa_incdt[data_ot_externa_incdt['age_cat'] == '45_54']\n",
    "# data_ot_externa_incdt_55_64 = data_ot_externa_incdt[data_ot_externa_incdt['age_cat'] == '55_64']\n",
    "# data_ot_externa_incdt_65_74 = data_ot_externa_incdt[data_ot_externa_incdt['age_cat'] == '65_74']\n",
    "# data_ot_externa_incdt_75_more = data_ot_externa_incdt[data_ot_externa_incdt['age_cat'] == '75_more']\n",
    "# data_ot_externa_prevl_15_24 = data_ot_externa_prevl[data_ot_externa_prevl['age_cat'] == '15_24']\n",
    "# data_ot_externa_prevl_25_34 = data_ot_externa_prevl[data_ot_externa_prevl['age_cat'] == '25_34']\n",
    "# data_ot_externa_prevl_35_44 = data_ot_externa_prevl[data_ot_externa_prevl['age_cat'] == '35_44']\n",
    "# data_ot_externa_prevl_45_54 = data_ot_externa_prevl[data_ot_externa_prevl['age_cat'] == '45_54']\n",
    "# data_ot_externa_prevl_55_64 = data_ot_externa_prevl[data_ot_externa_prevl['age_cat'] == '55_64']\n",
    "# data_ot_externa_prevl_65_74 = data_ot_externa_prevl[data_ot_externa_prevl['age_cat'] == '65_74']\n",
    "# data_ot_externa_prevl_75_more = data_ot_externa_prevl[data_ot_externa_prevl['age_cat'] == '75_more']\n",
    "\n",
    "# #incident and prevalent infection stratified by time period categories\n",
    "# data_ot_externa_incdt_prepandemic = data_ot_externa_incdt[data_ot_externa_incdt['date'] <= '2019-12']\n",
    "# data_ot_externa_incdt_during_pandemic = data_ot_externa_incdt[(data_ot_externa_incdt['date'] >= '2020-03') & (data_ot_externa_incdt['date']<= '2021-03')]\n",
    "# data_ot_externa_incdt_post_2nd_lockdown = data_ot_externa_incdt[data_ot_externa_incdt['date'] <= '2021-04']\n",
    "# data_ot_externa_prevl_prepandemic = data_ot_externa_prevl[data_ot_externa_prevl['date'] <= '2019-12']\n",
    "# data_ot_externa_prevl_during_pandemic = data_ot_externa_prevl[(data_ot_externa_prevl['date'] >= '2020-03') & (data_ot_externa_prevl['date']<= '2021-03')]\n",
    "# data_ot_externa_prevl_post_2nd_lockdown = data_ot_externa_prevl[data_ot_externa_prevl['date'] <= '2021-04']\n",
    "\n",
    "# # no antibiotics and incident hospital admission\n",
    "# data_ot_externa_no_abs_incdt = data_ot_externa[data_ot_externa['ot_externa_ab_date'].isnull()]\n",
    "# data_ot_externa_no_abs_incdt = data_ot_externa_no_abs_incdt[data_ot_externa_no_abs_incdt['incdt_ot_externa_date'] == 0]\n",
    "\n",
    "# # with antibiotics and incident hospital admission\n",
    "# data_ot_externa_abs_incdt = data_ot_externa[data_ot_externa['ot_externa_ab_date'].notnull()]\n",
    "# data_ot_externa_abs_incdt = data_ot_externa_abs_incdt[data_ot_externa_abs_incdt['incdt_ot_externa_date'] == 0]\n",
    "\n",
    "# # no antibiotics and prevalent hospital admission\n",
    "# data_ot_externa_no_abs_prevl = data_ot_externa[data_ot_externa['ot_externa_ab_date'].isnull()]\n",
    "# data_ot_externa_no_abs_prevl = data_ot_externa_no_abs_prevl[data_ot_externa_no_abs_prevl['incdt_ot_externa_date'] == 1]\n",
    "\n",
    "# # with antibiotics and prevalent hospital admission\n",
    "# data_ot_externa_abs_prevl = data_ot_externa[data_ot_externa['ot_externa_ab_date'].notnull()]\n",
    "# data_ot_externa_abs_prevl = data_ot_externa_abs_prevl[data_ot_externa_abs_prevl['incdt_ot_externa_date'] == 1]"
   ]
  },
  {
   "cell_type": "code",
   "execution_count": 62,
   "metadata": {},
   "outputs": [
    {
     "name": "stdout",
     "output_type": "stream",
     "text": [
      "Stored 'data_ot_externa' (DataFrame)\n"
     ]
    }
   ],
   "source": [
    "#store data for plotting hosp admission counts and percentages\n",
    "%store data_ot_externa\n",
    "# save data\n",
    "data_ot_externa.to_csv('../output/hospitalisation_prediction_ot_externa/data_ot_externa.csv')"
   ]
  },
  {
   "attachments": {},
   "cell_type": "markdown",
   "metadata": {},
   "source": [
    "## 5- cox modelling for hospital admissions"
   ]
  },
  {
   "cell_type": "code",
   "execution_count": 63,
   "metadata": {},
   "outputs": [],
   "source": [
    "#build cox models\n",
    "def rf_lr_model_build(infection, infection_type, data):\n",
    "\n",
    "    ##data prep\n",
    "    #keep relevant columns for encoder\n",
    "    data_req = data[['age_cat', 'sex', 'CCI_cat', 'flu_vaccine', 'region', 'imd', 'ethnicity', 'smoking', 'season', 'bmi_cat', 'antibacterial_brit', infection+'_ab_date']]\n",
    "    data_req_df = pd.DataFrame(data_req) \n",
    "    #creating instance of one-hot-encoder\n",
    "    enc = OneHotEncoder()\n",
    "    data_req_enc = pd.DataFrame(enc.fit_transform(data_req_df[['age_cat', 'sex', 'CCI_cat', 'flu_vaccine', 'region', 'imd', 'ethnicity', 'smoking', 'season', 'bmi_cat']]).toarray())\n",
    "    data_req_enc.columns = enc.get_feature_names(data_req_df[['age_cat', 'sex', 'CCI_cat', 'flu_vaccine', 'region', 'imd', 'ethnicity', 'smoking', 'season', 'bmi_cat']].columns)\n",
    "    #concat binarised and already binary columns\n",
    "    data_req_df_cont = data_req_df[['antibacterial_brit', infection+'_ab_date']].reset_index(drop=True)\n",
    "    data_final = pd.concat([data_req_enc, data_req_df_cont], axis=1)\n",
    "\n",
    "    #make summary table\n",
    "    make_summary_table(infection, infection_type, data_final)\n",
    "\n",
    "    #make summary table of hosped\n",
    "    make_summary_table_cases(infection, infection_type, data)\n",
    "                        \n",
    "    #keep needed columns, drop ref categories\n",
    "    data_col =['age_cat_25_34', 'age_cat_35_44', 'age_cat_45_54', 'age_cat_55_64', 'age_cat_65_74', 'age_cat_75_more', #'age_cat_15_24', \n",
    "               'sex_female', #'sex_male', \n",
    "               'CCI_cat_high', 'CCI_cat_low', 'CCI_cat_medium', 'CCI_cat_very_high', #'CCI_cat_very_low', \n",
    "               'flu_vaccine_yes', #'flu_vaccine_no', \n",
    "               'region_east', 'region_east_midlands', 'region_london', 'region_north_east', 'region_north_west', 'region_south_east', 'region_south_west', 'region_west_midlands', #'region_yorkshire', \n",
    "               'imd_affluent', 'imd_unaffluent', 'imd_unknown', 'imd_very_affluent', 'imd_very_unaffluent', #'imd_medium',\n",
    "               'ethnicity_mixed', 'ethnicity_asian', 'ethnicity_black', 'ethnicity_other', 'ethnicity_unknown', #'ethnicity_white', \n",
    "               'smoking_ex_smoker', 'smoking_smoker', 'smoking_unknown', #'smoking_never_smoked',\n",
    "               'season_autumn', 'season_summer', 'season_winter', #'season_spring',\n",
    "               'bmi_cat_obese', 'bmi_cat_overweight', 'bmi_cat_underweight', 'bmi_cat_unknown', #'bmi_cat_healthy_weight',\n",
    "               'antibacterial_brit'\n",
    "               ]\n",
    "    \n",
    "    #randomly splitting data into training (%75) and testing (%25)\n",
    "    data_dev, data_val = train_test_split(data_final, test_size=0.25, random_state=42)\n",
    "    data_dev_y = data_dev[infection+'_ab_date']\n",
    "    data_dev_x = data_dev[data_col]\n",
    "    data_val_y = data_val[infection+'_ab_date']\n",
    "    data_val_x = data_val[data_col]\n",
    "\n",
    "    # #grid search for rf modelling\n",
    "    # parameters = {'n_estimators': (150,200,250,300,350),\n",
    "    #               'criterion': ('gini', 'entropy'),\n",
    "    #               'max_depth': (10,15,20,25,30),\n",
    "    #               'max_features': ('auto', 'sqrt'),\n",
    "    #               'max_leaf_nodes': (25,30,35,40,45),\n",
    "    #               'min_samples_split': (2,4,6)\n",
    "    #               }\n",
    "    # rf_grid = GridSearchCV(RandomForestClassifier(n_jobs = -1, oob_score=False), param_grid=parameters, cv=3, verbose=True)\n",
    "    # rf_grid_fit = rf_grid.fit(data_dev_x, data_dev_y)\n",
    "    # #build rf model with best parameters found by grid search\n",
    "    # rf = rf_grid_fit.best_estimator_\n",
    "    # print(\"RF parameters after grid search:\", rf)\n",
    "\n",
    "    # ##building rf model\n",
    "    # # rf = RandomForestClassifier(n_estimators=500, max_leaf_nodes=50, max_depth=25)\n",
    "    # rf.fit(data_dev_x, data_dev_y)\n",
    "    # #predict probabilities to rf model\n",
    "    # rf_pred_dev = rf.predict_proba(data_dev_x)[:,1]\n",
    "    # rf_pred_val = rf.predict_proba(data_val_x)[:,1]\n",
    "\n",
    "    ##building lr model\n",
    "    lr = sm.Logit(endog=data_dev_y, exog=data_dev_x)\n",
    "    lr = lr.fit(disp=0)\n",
    "    #predict probabilities of lr model\n",
    "    lr_pred_dev = lr.predict(data_dev_x)\n",
    "    lr_pred_val = lr.predict(data_val_x)\n",
    "\n",
    "    #print aurocs\n",
    "    # auroc_rf_dev = roc_auc_score(data_dev_y, rf_pred_dev)\n",
    "    # auroc_rf_val = roc_auc_score(data_val_y, rf_pred_val)\n",
    "    auroc_lr_dev = sklearn.metrics.roc_auc_score(data_dev_y, lr_pred_dev)\n",
    "    auroc_lr_val = sklearn.metrics.roc_auc_score(data_val_y, lr_pred_val)\n",
    "    # print('RF AUROC with development and validation data: %.2f'%(auroc_rf_dev), 'and %.2f' % (auroc_rf_val))\n",
    "    print('LR AUROC with development and validation data: %.2f'%(auroc_lr_dev), 'and %.2f' % (auroc_lr_val))\n",
    "    \n",
    "    #plot roc curves\n",
    "    # r_fpr_rf_dev, r_tpr_rf_dev, _ = roc_curve(data_dev_y, rf_pred_dev)\n",
    "    # r_fpr_rf_val, r_tpr_rf_val, _ = roc_curve(data_val_y, rf_pred_val)\n",
    "    r_fpr_lr_dev, r_tpr_lr_dev, _ = roc_curve(data_dev_y, lr_pred_dev)\n",
    "    r_fpr_lr_val, r_tpr_lr_val, _ = roc_curve(data_val_y, lr_pred_val)\n",
    "\n",
    "    fig, ax1 = pyplot.subplots(figsize=(7, 7))\n",
    "    # line_rf_dev, = plt.plot(r_fpr_rf_dev, r_tpr_rf_dev, linestyle='-', marker='o', markersize=6, markevery=0.1, color='#8D576D', label='RF with development data')\n",
    "    # line_rf_val, = plt.plot(r_fpr_rf_val, r_tpr_rf_val, linestyle='--', marker='v', markersize=6, markevery=0.1, color='#eb91b7', label='RF with validation data')\n",
    "    line_lr_dev, = plt.plot(r_fpr_lr_dev, r_tpr_lr_dev, linestyle='-', marker='o', markersize=6, markevery=0.1, color='#408678', label='LR with development data')\n",
    "    line_lr_val, = plt.plot(r_fpr_lr_val, r_tpr_lr_val, linestyle='--', marker='v', markersize=6, markevery=0.1, color='#6ce0c9', label='LR with validation data')\n",
    "    \n",
    "    squares = [0,1.01]\n",
    "    plt.plot(squares,linewidth=1, color='grey')\n",
    "    plt.ylim(0,1.01)\n",
    "    plt.xlim(0,1)\n",
    "    plt.xlabel('Specificity', fontsize=14)\n",
    "    plt.ylabel('Sensitivity', fontsize=14)\n",
    "\n",
    "    #reversing xticks\n",
    "    xticks = [1.0, 0.8, 0.6, 0.4, 0.2, 0.0]\n",
    "    x = np.arange(len(xticks))\n",
    "    ax1.set(xticklabels=xticks)\n",
    "    ax1.legend(fontsize=12)\n",
    "    plt.xticks(fontsize=10)\n",
    "    plt.yticks(fontsize=10, rotation=0)\n",
    "    plt.title(\"ROC curve of RF and LR models\", fontsize=14)\n",
    "    plt.savefig('../output/hospitalisation_prediction_'+infection+'/roc_'+infection+'_'+infection_type+'.jpg', bbox_inches='tight')\n",
    "    plt.show()\n",
    "\n",
    "    # ##calibration for RF\n",
    "    # rf_prob_pred_dev = pd.DataFrame(data=rf_pred_dev, columns=['pred'])\n",
    "    # #group cumulative hazard into 10 bins with equal frequency of observations in each bin\n",
    "    # rf_prob_pred_dev['bins'] = pd.qcut(rf_prob_pred_dev['pred'], 10, duplicates=\"drop\")\n",
    "    # #merge cumulative hazards with their actual events (0, 1)\n",
    "    # rf_prob_pred_dev = pd.merge(rf_prob_pred_dev, data_dev[infection+'_ab_date'], left_index=True, right_index=True)\n",
    "    # #groupby bins to find mean predicted probability for each bin (pred_mean), count of events in each bin (event_sum) and count of samples in each bin (event_count)\n",
    "    # rf_prob_pred_dev_groupby_bin = rf_prob_pred_dev.groupby('bins')[['pred', infection+'_ab_date']].agg(['mean', 'sum', 'count']).reset_index()\n",
    "    # rf_prob_pred_dev_groupby_bin.columns = ['bins', 'pred_mean', 'pred_sum', 'pred_count', infection+'_ab_date_mean', infection+'_ab_date_sum', infection+'_ab_date_count']\n",
    "    # #calculate proportion of events in each bin\n",
    "    # rf_prob_pred_dev_groupby_bin[infection+'_ab_date_proportion'] = rf_prob_pred_dev_groupby_bin[infection+'_ab_date_sum']/rf_prob_pred_dev_groupby_bin[infection+'_ab_date_count']\n",
    "    # #\n",
    "    # rf_prob_pred_val = pd.DataFrame(data=rf_pred_val, columns=['pred'])\n",
    "    # #group cumulative hazard into 10 bins with equal frequency of observations in each bin\n",
    "    # rf_prob_pred_val['bins'] = pd.qcut(rf_prob_pred_val['pred'], 10, duplicates=\"drop\")\n",
    "    # #merge cumulative hazards with their actual events (0, 1)\n",
    "    # rf_prob_pred_val = pd.merge(rf_prob_pred_val, data_val[infection+'_ab_date'], left_index=True, right_index=True)\n",
    "    # #groupby bins to find mean predicted probability for each bin (pred_mean), count of events in each bin (event_sum) and count of samples in each bin (event_count)\n",
    "    # rf_prob_pred_val_groupby_bin = rf_prob_pred_val.groupby('bins')[['pred', infection+'_ab_date']].agg(['mean', 'sum', 'count']).reset_index()\n",
    "    # rf_prob_pred_val_groupby_bin.columns = ['bins', 'pred_mean', 'pred_sum', 'pred_count', infection+'_ab_date_mean', infection+'_ab_date_sum', infection+'_ab_date_count']\n",
    "    # #calculate proportion of events in each bin\n",
    "    # rf_prob_pred_val_groupby_bin[infection+'_ab_date_proportion'] = rf_prob_pred_val_groupby_bin[infection+'_ab_date_sum']/rf_prob_pred_val_groupby_bin[infection+'_ab_date_count']\n",
    "    # #plot calibration plot for RF model with development and validation data\n",
    "    # fig, ax1 = plt.subplots(figsize=(7, 7))\n",
    "    # plt.plot(rf_prob_pred_dev_groupby_bin.pred_mean, rf_prob_pred_dev_groupby_bin[infection+'_ab_date_proportion'], color='#8D576D', linestyle='solid', marker='o', alpha=0.9)\n",
    "    # plt.plot(rf_prob_pred_val_groupby_bin.pred_mean, rf_prob_pred_val_groupby_bin[infection+'_ab_date_proportion'], color='#eb91b7', linestyle='dashed', marker='v', alpha=0.9)\n",
    "    # plt.xlabel('Mean predicted probabilities', fontsize=14)\n",
    "    # plt.ylabel('Proportion of observed values', fontsize=14)\n",
    "    # plt.xticks(fontsize=12)\n",
    "    # plt.yticks(fontsize=12, rotation=0)\n",
    "    # plt.xlim(0, max(rf_prob_pred_dev_groupby_bin.pred_mean.max(), rf_prob_pred_dev_groupby_bin[infection+'_ab_date_proportion'].max()).round(decimals = 2) + (max(rf_prob_pred_dev_groupby_bin.pred_mean.max(), rf_prob_pred_dev_groupby_bin[infection+'_ab_date_proportion'].max()).round(decimals = 2)/3))\n",
    "    # plt.ylim(0, max(rf_prob_pred_dev_groupby_bin.pred_mean.max(), rf_prob_pred_dev_groupby_bin[infection+'_ab_date_proportion'].max()).round(decimals = 2) + (max(rf_prob_pred_dev_groupby_bin.pred_mean.max(), rf_prob_pred_dev_groupby_bin[infection+'_ab_date_proportion'].max()).round(decimals = 2)/3))\n",
    "    # plt.plot([0, 1], [0, 1], linewidth=1, linestyle='-', color='grey')\n",
    "    # plt.title(\"Calibration plot of RF model\", fontsize=14)\n",
    "    # legend_dev = mlines.Line2D([], [], color='#8D576D', linestyle='-', marker='o', markersize=10, label='Development data', alpha=.9)\n",
    "    # legend_val = mlines.Line2D([], [], color='#eb91b7', linestyle='--', marker='v', markersize=10, label='Validation data', alpha=.9)\n",
    "    # plt.legend(handles=[legend_dev, legend_val])\n",
    "    # plt.savefig('../output/hospitalisation_prediction_'+infection+'/calib_rf_'+infection+'_'+infection_type+'.jpg', bbox_inches='tight')\n",
    "    # plt.show()\n",
    "    \n",
    "    ##calibration for LR\n",
    "    lr_prob_pred_dev = pd.DataFrame(data=lr_pred_dev, columns=['pred'])\n",
    "    #group cumulative hazard into 10 bins with equal frequency of observations in each bin\n",
    "    lr_prob_pred_dev['bins'] = pd.qcut(lr_prob_pred_dev['pred'], 10, duplicates=\"drop\")\n",
    "    #merge cumulative hazards with their actual events (0, 1)\n",
    "    lr_prob_pred_dev = pd.merge(lr_prob_pred_dev, data_dev[infection+'_ab_date'], left_index=True, right_index=True)\n",
    "    #groupby bins to find mean predicted probability for each bin (pred_mean), count of events in each bin (event_sum) and count of samples in each bin (event_count)\n",
    "    lr_prob_pred_dev_groupby_bin = lr_prob_pred_dev.groupby('bins')[['pred', infection+'_ab_date']].agg(['mean', 'sum', 'count']).reset_index()\n",
    "    lr_prob_pred_dev_groupby_bin.columns = ['bins', 'pred_mean', 'pred_sum', 'pred_count', infection+'_ab_date_mean', infection+'_ab_date_sum', infection+'_ab_date_count']\n",
    "    #calculate proportion of events in each bin\n",
    "    lr_prob_pred_dev_groupby_bin[infection+'_ab_date_proportion'] = lr_prob_pred_dev_groupby_bin[infection+'_ab_date_sum']/lr_prob_pred_dev_groupby_bin[infection+'_ab_date_count']\n",
    "    #\n",
    "    lr_prob_pred_val = pd.DataFrame(data=lr_pred_val, columns=['pred'])\n",
    "    #group cumulative hazard into 10 bins with equal frequency of observations in each bin\n",
    "    lr_prob_pred_val['bins'] = pd.qcut(lr_prob_pred_val['pred'], 10, duplicates=\"drop\")\n",
    "    #merge cumulative hazards with their actual events (0, 1)\n",
    "    lr_prob_pred_val = pd.merge(lr_prob_pred_val, data_val[infection+'_ab_date'], left_index=True, right_index=True)\n",
    "    #groupby bins to find mean predicted probability for each bin (pred_mean), count of events in each bin (event_sum) and count of samples in each bin (event_count)\n",
    "    lr_prob_pred_val_groupby_bin = lr_prob_pred_val.groupby('bins')[['pred', infection+'_ab_date']].agg(['mean', 'sum', 'count']).reset_index()\n",
    "    lr_prob_pred_val_groupby_bin.columns = ['bins', 'pred_mean', 'pred_sum', 'pred_count', infection+'_ab_date_mean', infection+'_ab_date_sum', infection+'_ab_date_count']\n",
    "    #calculate proportion of events in each bin\n",
    "    lr_prob_pred_val_groupby_bin[infection+'_ab_date_proportion'] = lr_prob_pred_val_groupby_bin[infection+'_ab_date_sum']/lr_prob_pred_val_groupby_bin[infection+'_ab_date_count']\n",
    "    #plot calibration plot for RF model with development and validation data\n",
    "    fig, ax1 = plt.subplots(figsize=(7, 7))\n",
    "    plt.plot(lr_prob_pred_dev_groupby_bin.pred_mean, lr_prob_pred_dev_groupby_bin[infection+'_ab_date_proportion'], color='#408678', linestyle='solid', marker='o', alpha=0.9)\n",
    "    plt.plot(lr_prob_pred_val_groupby_bin.pred_mean, lr_prob_pred_val_groupby_bin[infection+'_ab_date_proportion'], color='#6ce0c9', linestyle='dashed', marker='v', alpha=0.6)\n",
    "    plt.xlabel('Mean predicted probabilities', fontsize=14)\n",
    "    plt.ylabel('Proportion of observed values', fontsize=14)\n",
    "    plt.xticks(fontsize=12)\n",
    "    plt.yticks(fontsize=12, rotation=0)\n",
    "    plt.xlim(0, max(lr_prob_pred_dev_groupby_bin.pred_mean.max(), lr_prob_pred_dev_groupby_bin[infection+'_ab_date_proportion'].max()).round(decimals = 2) + (max(lr_prob_pred_dev_groupby_bin.pred_mean.max(), lr_prob_pred_dev_groupby_bin[infection+'_ab_date_proportion'].max()).round(decimals = 2)/3))\n",
    "    plt.ylim(0, max(lr_prob_pred_dev_groupby_bin.pred_mean.max(), lr_prob_pred_dev_groupby_bin[infection+'_ab_date_proportion'].max()).round(decimals = 2) + (max(lr_prob_pred_dev_groupby_bin.pred_mean.max(), lr_prob_pred_dev_groupby_bin[infection+'_ab_date_proportion'].max()).round(decimals = 2)/3))\n",
    "    plt.plot([0, 1], [0, 1], linewidth=1, linestyle='-', color='grey')\n",
    "    plt.title(\"Calibration plot of LR model\", fontsize=14)\n",
    "    legend_dev = mlines.Line2D([], [], color='#408678', linestyle='-', marker='o', markersize=10, label='Development data', alpha=.9)\n",
    "    legend_val = mlines.Line2D([], [], color='#6ce0c9', linestyle='--', marker='v', markersize=10, label='Validation data', alpha=.6)\n",
    "    plt.legend(handles=[legend_dev, legend_val])\n",
    "    plt.savefig('../output/hospitalisation_prediction_'+infection+'/calib_lr_'+infection+'_'+infection_type+'.jpg', bbox_inches='tight')\n",
    "    plt.show()\n",
    "\n",
    "    # #print feature importance of RF model\n",
    "    # rf_coef = pd.DataFrame(data=rf.feature_importances_, index=data_dev_x.columns, columns=['rf_feature_importance'])#.sort_values(by=['feature_importance'], ascending=False)\n",
    "    # rf_coef = rf_coef.sort_values('rf_feature_importance', ascending=False)\n",
    "    # # print(\"\\nRF feature importance:\\n\", rf_coef)\n",
    "\n",
    "    #print summary of LR model\n",
    "    lr_coef = pd.DataFrame(data=lr.params, index=data_dev_x.columns, columns=['lr_coef'])\n",
    "    lr_coef = lr_coef.sort_values('lr_coef', ascending=False)\n",
    "    # print(\"\\nLR fcoefficients:\\n\", lr_coef)\n",
    "\n",
    "    #concat coefs and save \n",
    "    # coefs = pd.concat([rf_coef, lr_coef], axis=1)\n",
    "    coefs = pd.DataFrame(data=lr_coef)\n",
    "    coefs.to_csv('../output/hospitalisation_prediction_'+infection+'/coefs_'+infection+'_'+infection_type+'.csv')"
   ]
  },
  {
   "attachments": {},
   "cell_type": "markdown",
   "metadata": {},
   "source": [
    "### 5-1- incident ot_externa"
   ]
  },
  {
   "cell_type": "code",
   "execution_count": 64,
   "metadata": {},
   "outputs": [
    {
     "name": "stdout",
     "output_type": "stream",
     "text": [
      "LR AUROC with development and validation data: 0.50 and 0.50\n"
     ]
    },
    {
     "data": {
      "image/png": "[encoded data removed]",
      "text/plain": [
       "<Figure size 504x504 with 1 Axes>"
      ]
     },
     "metadata": {
      "needs_background": "light"
     },
     "output_type": "display_data"
    },
    {
     "data": {
      "image/png": "[encoded data removed]",
      "text/plain": [
       "<Figure size 504x504 with 1 Axes>"
      ]
     },
     "metadata": {
      "needs_background": "light"
     },
     "output_type": "display_data"
    }
   ],
   "source": [
    "#build rf and lr models\n",
    "rf_lr_model_build('ot_externa', 'incdt', data_ot_externa_incdt)"
   ]
  },
  {
   "attachments": {},
   "cell_type": "markdown",
   "metadata": {},
   "source": [
    "### 5-2- prevalent ot_externa"
   ]
  },
  {
   "cell_type": "code",
   "execution_count": 65,
   "metadata": {},
   "outputs": [
    {
     "name": "stdout",
     "output_type": "stream",
     "text": [
      "LR AUROC with development and validation data: 0.50 and 0.50\n"
     ]
    },
    {
     "data": {
      "image/png": "[encoded data removed]",
      "text/plain": [
       "<Figure size 504x504 with 1 Axes>"
      ]
     },
     "metadata": {
      "needs_background": "light"
     },
     "output_type": "display_data"
    },
    {
     "data": {
      "image/png": "[encoded data removed]",
      "text/plain": [
       "<Figure size 504x504 with 1 Axes>"
      ]
     },
     "metadata": {
      "needs_background": "light"
     },
     "output_type": "display_data"
    }
   ],
   "source": [
    "#build rf and lr models\n",
    "rf_lr_model_build('ot_externa', 'prevl', data_ot_externa_prevl)"
   ]
  }
 ],
 "metadata": {
  "kernelspec": {
   "display_name": "base",
   "language": "python",
   "name": "python3"
  },
  "language_info": {
   "codemirror_mode": {
    "name": "ipython",
    "version": 3
   },
   "file_extension": ".py",
   "mimetype": "text/x-python",
   "name": "python",
   "nbconvert_exporter": "python",
   "pygments_lexer": "ipython3",
   "version": "3.10.4"
  },
  "orig_nbformat": 4,
  "vscode": {
   "interpreter": {
    "hash": "aab3e9328fa5f6e836343e29403fbe12ff1c7623340021c445797f56a1eab521"
   }
  }
 },
 "nbformat": 4,
 "nbformat_minor": 2
}
