{
 "cells": [
  {
   "attachments": {},
   "cell_type": "markdown",
   "metadata": {},
   "source": [
    "# Aggregate probability of antibiotic prescribing stratified by predicted risk level"
   ]
  },
  {
   "cell_type": "code",
   "execution_count": 1,
   "metadata": {},
   "outputs": [],
   "source": [
    "import pandas as pd\n",
    "import matplotlib.pyplot as plt\n",
    "import seaborn as sns\n",
    "import numpy as np\n",
    "import warnings\n",
    "warnings.filterwarnings('ignore')\n",
    "warnings.warn('DelftStack')\n",
    "warnings.warn('Do not show this message')"
   ]
  },
  {
   "attachments": {},
   "cell_type": "markdown",
   "metadata": {},
   "source": [
    "## 1- Function"
   ]
  },
  {
   "cell_type": "code",
   "execution_count": 2,
   "metadata": {},
   "outputs": [],
   "source": [
    "def read_process_ab_probs(infection, infection_type):\n",
    "    #read csv file\n",
    "    data = pd.read_csv(f'../output/hospitalisation_prediction_'+infection+'/prob_pred_bin_'+infection+'_'+infection_type+'.csv')\n",
    "    #add a column of infection type \n",
    "    data['infection'] = infection+'_'+infection_type\n",
    "    #add a column of deciles\n",
    "    data['decile'] = data.index + 1\n",
    "    #keep 3 digits in pred_mean and ab_prob_mean\n",
    "    data[['pred_mean', 'ab_prob_mean']] = np.round(data[['pred_mean', 'ab_prob_mean']], decimals=3)\n",
    "    #keep required columns\n",
    "    data_req = data[['infection', 'bins', 'decile', 'pred_mean', 'ab_prob_mean']]\n",
    "\n",
    "    return data_req"
   ]
  },
  {
   "attachments": {},
   "cell_type": "markdown",
   "metadata": {},
   "source": [
    "## 2- Read and process data\n",
    "### 2-1- all"
   ]
  },
  {
   "cell_type": "code",
   "execution_count": 1,
   "metadata": {},
   "outputs": [],
   "source": [
    "#read and process probs\n",
    "data_lrti_incdt = read_process_ab_probs('lrti', 'incdt')\n",
    "data_lrti_prevl = read_process_ab_probs('lrti', 'prevl')\n",
    "data_urti_combined_incdt = read_process_ab_probs('urti_combined', 'incdt')\n",
    "data_urti_combined_prevl = read_process_ab_probs('urti_combined', 'prevl')\n",
    "data_uti_incdt = read_process_ab_probs('uti', 'incdt')\n",
    "data_uti_prevl = read_process_ab_probs('uti', 'prevl')\n",
    "data_sinusitis_incdt = read_process_ab_probs('sinusitis', 'incdt')\n",
    "# data_sinusitis_prevl = read_process_ab_probs('sinusitis', 'prevl')\n",
    "data_ot_externa_incdt = read_process_ab_probs('ot_externa', 'incdt')\n",
    "data_ot_externa_prevl = read_process_ab_probs('ot_externa', 'prevl')\n",
    "data_otmedia_incdt = read_process_ab_probs('otmedia', 'incdt')\n",
    "data_otmedia_prevl = read_process_ab_probs('otmedia', 'prevl')\n",
    "data_urti_incdt = read_process_ab_probs('urti', 'incdt')\n",
    "data_urti_prevl = read_process_ab_probs('urti', 'prevl')\n",
    "data_cough_incdt = read_process_ab_probs('cough', 'incdt')\n",
    "data_cough_prevl = read_process_ab_probs('cough', 'prevl')\n",
    "data_cough_cold_incdt = read_process_ab_probs('cough_cold', 'incdt')\n",
    "data_cough_cold_prevl = read_process_ab_probs('cough_cold', 'prevl')\n",
    "data_throat_incdt = read_process_ab_probs('throat', 'incdt')\n",
    "data_throat_prevl = read_process_ab_probs('throat', 'prevl')\n",
    "\n",
    "#append probs of all infections\n",
    "data = data_lrti_incdt.append([data_lrti_prevl, data_urti_combined_incdt, data_urti_combined_prevl, data_uti_incdt, data_uti_prevl, data_sinusitis_incdt, data_otmedia_incdt, data_otmedia_prevl, data_ot_externa_incdt, data_ot_externa_prevl, data_urti_incdt, data_urti_prevl, data_cough_incdt, data_cough_prevl, data_cough_cold_incdt, data_cough_cold_prevl, data_throat_incdt, data_throat_prevl], ignore_index=True)\n",
    "#save\n",
    "data.to_csv('../output/aggregate_ab_prob/aggregate_ab_prob_plots_all.csv', index=False)"
   ]
  },
  {
   "attachments": {},
   "cell_type": "markdown",
   "metadata": {},
   "source": [
    "### 2-2- Pre-pandemic"
   ]
  },
  {
   "cell_type": "code",
   "execution_count": 2,
   "metadata": {},
   "outputs": [],
   "source": [
    "#read and process probs\n",
    "data_lrti_incdt_prepandemic = read_process_ab_probs('lrti', 'incdt_prepandemic')\n",
    "data_lrti_prevl_prepandemic = read_process_ab_probs('lrti', 'prevl_prepandemic')\n",
    "data_urti_combined_incdt_prepandemic = read_process_ab_probs('urti_combined', 'incdt_prepandemic')\n",
    "data_urti_combined_prevl_prepandemic = read_process_ab_probs('urti_combined', 'prevl_prepandemic')\n",
    "data_uti_incdt_prepandemic = read_process_ab_probs('uti', 'incdt_prepandemic')\n",
    "data_uti_prevl_prepandemic = read_process_ab_probs('uti', 'prevl_prepandemic')\n",
    "data_sinusitis_incdt_prepandemic = read_process_ab_probs('sinusitis', 'incdt_prepandemic')\n",
    "# data_sinusitis_prevl_prepandemic = read_process_ab_probs('sinusitis', 'prevl_prepandemic')\n",
    "data_ot_externa_incdt_prepandemic = read_process_ab_probs('ot_externa', 'incdt_prepandemic')\n",
    "data_ot_externa_prevl_prepandemic = read_process_ab_probs('ot_externa', 'prevl_prepandemic')\n",
    "data_otmedia_incdt_prepandemic = read_process_ab_probs('otmedia', 'incdt_prepandemic')\n",
    "data_otmedia_prevl_prepandemic = read_process_ab_probs('otmedia', 'prevl_prepandemic')\n",
    "data_urti_incdt_prepandemic = read_process_ab_probs('urti', 'incdt_prepandemic')\n",
    "data_urti_prevl_prepandemic = read_process_ab_probs('urti', 'prevl_prepandemic')\n",
    "data_cough_incdt_prepandemic = read_process_ab_probs('cough', 'incdt_prepandemic')\n",
    "data_cough_prevl_prepandemic = read_process_ab_probs('cough', 'prevl_prepandemic')\n",
    "data_cough_cold_incdt_prepandemic = read_process_ab_probs('cough_cold', 'incdt_prepandemic')\n",
    "data_cough_cold_prevl_prepandemic = read_process_ab_probs('cough_cold', 'prevl_prepandemic')\n",
    "data_throat_incdt_prepandemic = read_process_ab_probs('throat', 'incdt_prepandemic')\n",
    "data_throat_prevl_prepandemic = read_process_ab_probs('throat', 'prevl_prepandemic')\n",
    "\n",
    "#append probs of all infections\n",
    "data_prepandemic = data_lrti_incdt_prepandemic.append([data_lrti_prevl_prepandemic, data_urti_combined_incdt_prepandemic, data_urti_combined_prevl_prepandemic, data_uti_incdt_prepandemic, data_uti_prevl_prepandemic, data_sinusitis_incdt_prepandemic, data_otmedia_incdt_prepandemic, data_otmedia_prevl_prepandemic, data_ot_externa_incdt_prepandemic, data_ot_externa_prevl_prepandemic, data_urti_incdt_prepandemic, data_urti_prevl_prepandemic, data_cough_incdt_prepandemic, data_cough_prevl_prepandemic, data_cough_cold_incdt_prepandemic, data_cough_cold_prevl_prepandemic, data_throat_incdt_prepandemic, data_throat_prevl_prepandemic], ignore_index=True)\n",
    "#save\n",
    "data_prepandemic.to_csv('../output/aggregate_ab_prob/aggregate_ab_prob_plots_prepandemic.csv', index=False)"
   ]
  },
  {
   "attachments": {},
   "cell_type": "markdown",
   "metadata": {},
   "source": [
    "### 2-3- During pandemic"
   ]
  },
  {
   "cell_type": "code",
   "execution_count": 3,
   "metadata": {},
   "outputs": [],
   "source": [
    "#read and process probs\n",
    "data_lrti_incdt_during_pandemic = read_process_ab_probs('lrti', 'incdt_during_pandemic')\n",
    "data_lrti_prevl_during_pandemic = read_process_ab_probs('lrti', 'prevl_during_pandemic')\n",
    "data_urti_combined_incdt_during_pandemic = read_process_ab_probs('urti_combined', 'incdt_during_pandemic')\n",
    "data_urti_combined_prevl_during_pandemic = read_process_ab_probs('urti_combined', 'prevl_during_pandemic')\n",
    "data_uti_incdt_during_pandemic = read_process_ab_probs('uti', 'incdt_during_pandemic')\n",
    "data_uti_prevl_during_pandemic = read_process_ab_probs('uti', 'prevl_during_pandemic')\n",
    "data_sinusitis_incdt_during_pandemic = read_process_ab_probs('sinusitis', 'incdt_during_pandemic')\n",
    "# data_sinusitis_prevl_during_pandemic = read_process_ab_probs('sinusitis', 'prevl_during_pandemic')\n",
    "data_ot_externa_incdt_during_pandemic = read_process_ab_probs('ot_externa', 'incdt_during_pandemic')\n",
    "data_ot_externa_prevl_during_pandemic = read_process_ab_probs('ot_externa', 'prevl_during_pandemic')\n",
    "data_otmedia_incdt_during_pandemic = read_process_ab_probs('otmedia', 'incdt_during_pandemic')\n",
    "# data_otmedia_prevl_during_pandemic = read_process_ab_probs('otmedia', 'prevl_during_pandemic')\n",
    "# data_urti_incdt_during_pandemic = read_process_ab_probs('urti', 'incdt_during_pandemic')\n",
    "# data_urti_prevl_during_pandemic = read_process_ab_probs('urti', 'prevl_during_pandemic')\n",
    "data_cough_incdt_during_pandemic = read_process_ab_probs('cough', 'incdt_during_pandemic')\n",
    "data_cough_prevl_during_pandemic = read_process_ab_probs('cough', 'prevl_during_pandemic')\n",
    "data_cough_cold_incdt_during_pandemic = read_process_ab_probs('cough_cold', 'incdt_during_pandemic')\n",
    "data_cough_cold_prevl_during_pandemic = read_process_ab_probs('cough_cold', 'prevl_during_pandemic')\n",
    "data_throat_incdt_during_pandemic = read_process_ab_probs('throat', 'incdt_during_pandemic')\n",
    "data_throat_prevl_during_pandemic = read_process_ab_probs('throat', 'prevl_during_pandemic')\n",
    "\n",
    "#append probs of all infections\n",
    "data_during_pandemic = data_lrti_incdt_during_pandemic.append([data_lrti_prevl_during_pandemic, data_urti_combined_incdt_during_pandemic, data_urti_combined_prevl_during_pandemic, data_uti_incdt_during_pandemic, data_uti_prevl_during_pandemic, data_sinusitis_incdt_during_pandemic, data_otmedia_incdt_during_pandemic, data_ot_externa_incdt_during_pandemic, data_ot_externa_prevl_during_pandemic, data_cough_incdt_during_pandemic, data_cough_prevl_during_pandemic, data_cough_cold_incdt_during_pandemic, data_cough_cold_prevl_during_pandemic, data_throat_incdt_during_pandemic, data_throat_prevl_during_pandemic], ignore_index=True)\n",
    "#save\n",
    "data_during_pandemic.to_csv('../output/aggregate_ab_prob/aggregate_ab_prob_plots_during_pandemic.csv', index=False)"
   ]
  },
  {
   "attachments": {},
   "cell_type": "markdown",
   "metadata": {},
   "source": [
    "### 2-4- After 2nd lockdown"
   ]
  },
  {
   "cell_type": "code",
   "execution_count": 4,
   "metadata": {},
   "outputs": [],
   "source": [
    "#read and process probs\n",
    "data_lrti_incdt_post_2nd_lockdown = read_process_ab_probs('lrti', 'incdt_post_2nd_lockdown')\n",
    "data_lrti_prevl_post_2nd_lockdown = read_process_ab_probs('lrti', 'prevl_post_2nd_lockdown')\n",
    "data_urti_combined_incdt_post_2nd_lockdown = read_process_ab_probs('urti_combined', 'incdt_post_2nd_lockdown')\n",
    "data_urti_combined_prevl_post_2nd_lockdown = read_process_ab_probs('urti_combined', 'prevl_post_2nd_lockdown')\n",
    "data_uti_incdt_post_2nd_lockdown = read_process_ab_probs('uti', 'incdt_post_2nd_lockdown')\n",
    "data_uti_prevl_post_2nd_lockdown = read_process_ab_probs('uti', 'prevl_post_2nd_lockdown')\n",
    "# data_sinusitis_incdt_post_2nd_lockdown = read_process_ab_probs('sinusitis', 'incdt_post_2nd_lockdown')\n",
    "# data_sinusitis_prevl_post_2nd_lockdown = read_process_ab_probs('sinusitis', 'prevl_post_2nd_lockdown')\n",
    "data_ot_externa_incdt_post_2nd_lockdown = read_process_ab_probs('ot_externa', 'incdt_post_2nd_lockdown')\n",
    "data_ot_externa_prevl_post_2nd_lockdown = read_process_ab_probs('ot_externa', 'prevl_post_2nd_lockdown')\n",
    "data_otmedia_incdt_post_2nd_lockdown = read_process_ab_probs('otmedia', 'incdt_post_2nd_lockdown')\n",
    "data_otmedia_prevl_post_2nd_lockdown = read_process_ab_probs('otmedia', 'prevl_post_2nd_lockdown')\n",
    "data_urti_incdt_post_2nd_lockdown = read_process_ab_probs('urti', 'incdt_post_2nd_lockdown')\n",
    "data_urti_prevl_post_2nd_lockdown = read_process_ab_probs('urti', 'prevl_post_2nd_lockdown')\n",
    "data_cough_incdt_post_2nd_lockdown = read_process_ab_probs('cough', 'incdt_post_2nd_lockdown')\n",
    "data_cough_prevl_post_2nd_lockdown = read_process_ab_probs('cough', 'prevl_post_2nd_lockdown')\n",
    "data_cough_cold_incdt_post_2nd_lockdown = read_process_ab_probs('cough_cold', 'incdt_post_2nd_lockdown')\n",
    "data_cough_cold_prevl_post_2nd_lockdown = read_process_ab_probs('cough_cold', 'prevl_post_2nd_lockdown')\n",
    "data_throat_incdt_post_2nd_lockdown = read_process_ab_probs('throat', 'incdt_post_2nd_lockdown')\n",
    "data_throat_prevl_post_2nd_lockdown = read_process_ab_probs('throat', 'prevl_post_2nd_lockdown')\n",
    "\n",
    "#append probs of all infections\n",
    "data_post_2nd_lockdown = data_lrti_incdt_post_2nd_lockdown.append([data_lrti_prevl_post_2nd_lockdown, data_urti_combined_incdt_post_2nd_lockdown, data_urti_combined_prevl_post_2nd_lockdown, data_uti_incdt_post_2nd_lockdown, data_uti_prevl_post_2nd_lockdown, data_otmedia_incdt_post_2nd_lockdown, data_otmedia_prevl_post_2nd_lockdown, data_ot_externa_incdt_post_2nd_lockdown, data_ot_externa_prevl_post_2nd_lockdown, data_urti_incdt_post_2nd_lockdown, data_urti_prevl_post_2nd_lockdown, data_cough_incdt_post_2nd_lockdown, data_cough_prevl_post_2nd_lockdown, data_cough_cold_incdt_post_2nd_lockdown, data_cough_cold_prevl_post_2nd_lockdown, data_throat_incdt_post_2nd_lockdown, data_throat_prevl_post_2nd_lockdown], ignore_index=True)\n",
    "#save\n",
    "data_post_2nd_lockdown.to_csv('../output/aggregate_ab_prob/aggregate_ab_prob_plots_post_2nd_lockdown.csv', index=False)"
   ]
  }
 ],
 "metadata": {
  "kernelspec": {
   "display_name": "Python 3.10.4 64-bit",
   "language": "python",
   "name": "python3"
  },
  "language_info": {
   "codemirror_mode": {
    "name": "ipython",
    "version": 3
   },
   "file_extension": ".py",
   "mimetype": "text/x-python",
   "name": "python",
   "nbconvert_exporter": "python",
   "pygments_lexer": "ipython3",
   "version": "3.10.4"
  },
  "orig_nbformat": 4,
  "vscode": {
   "interpreter": {
    "hash": "8140142ad7e60c7088d03dcc357baafe7a3ba3d7bdbd31e400f1a9fa984efcb5"
   }
  }
 },
 "nbformat": 4,
 "nbformat_minor": 2
}
